{
 "cells": [
  {
   "cell_type": "code",
   "execution_count": 13,
   "metadata": {},
   "outputs": [],
   "source": [
    "alphas = [0.3, 0.5, 0.7]\n",
    "styles = [\"r-\", \"g--\", \"b:\"]"
   ]
  },
  {
   "cell_type": "markdown",
   "metadata": {},
   "source": [
    "# zip object"
   ]
  },
  {
   "cell_type": "code",
   "execution_count": 14,
   "metadata": {},
   "outputs": [
    {
     "name": "stdout",
     "output_type": "stream",
     "text": [
      "<zip object at 0x7f80e0583370>\n"
     ]
    }
   ],
   "source": [
    "a = zip(alphas, styles)\n",
    "print(a)"
   ]
  },
  {
   "cell_type": "markdown",
   "metadata": {},
   "source": [
    "# list, tuple, dict, set from zip object"
   ]
  },
  {
   "cell_type": "code",
   "execution_count": 15,
   "metadata": {},
   "outputs": [
    {
     "name": "stdout",
     "output_type": "stream",
     "text": [
      "[(0.3, 'r-'), (0.5, 'g--'), (0.7, 'b:')]\n"
     ]
    }
   ],
   "source": [
    "a = list(zip(alphas, styles))\n",
    "print(a)"
   ]
  },
  {
   "cell_type": "code",
   "execution_count": 16,
   "metadata": {},
   "outputs": [
    {
     "name": "stdout",
     "output_type": "stream",
     "text": [
      "((0.3, 'r-'), (0.5, 'g--'), (0.7, 'b:'))\n"
     ]
    }
   ],
   "source": [
    "a = tuple(zip(alphas, styles))\n",
    "print(a)"
   ]
  },
  {
   "cell_type": "code",
   "execution_count": 17,
   "metadata": {},
   "outputs": [
    {
     "name": "stdout",
     "output_type": "stream",
     "text": [
      "{0.3: 'r-', 0.5: 'g--', 0.7: 'b:'}\n"
     ]
    }
   ],
   "source": [
    "a = dict(zip(alphas, styles))\n",
    "print(a)"
   ]
  },
  {
   "cell_type": "code",
   "execution_count": 18,
   "metadata": {},
   "outputs": [
    {
     "name": "stdout",
     "output_type": "stream",
     "text": [
      "{(0.3, 'r-'), (0.5, 'g--'), (0.7, 'b:')}\n"
     ]
    }
   ],
   "source": [
    "a = set(zip(alphas, styles))\n",
    "print(a)"
   ]
  },
  {
   "cell_type": "markdown",
   "metadata": {},
   "source": [
    "# zip used in for loop"
   ]
  },
  {
   "cell_type": "code",
   "execution_count": 19,
   "metadata": {},
   "outputs": [
    {
     "name": "stdout",
     "output_type": "stream",
     "text": [
      "(0.3, 'r-')\n",
      "(0.5, 'g--')\n",
      "(0.7, 'b:')\n"
     ]
    }
   ],
   "source": [
    "for i in zip(alphas, styles):\n",
    "    print(i)"
   ]
  },
  {
   "cell_type": "code",
   "execution_count": 20,
   "metadata": {},
   "outputs": [
    {
     "name": "stdout",
     "output_type": "stream",
     "text": [
      "0.3 r-\n",
      "0.5 g--\n",
      "0.7 b:\n"
     ]
    }
   ],
   "source": [
    "for alpha, style in zip(alphas, styles):\n",
    "    print(alpha, style)"
   ]
  },
  {
   "cell_type": "markdown",
   "metadata": {},
   "source": [
    "# example"
   ]
  },
  {
   "cell_type": "code",
   "execution_count": 21,
   "metadata": {},
   "outputs": [],
   "source": [
    "import numpy as np; np.random.seed(0)\n",
    "x = np.linspace(-3,3)\n",
    "y0 = 1 + np.random.normal(size=x.shape)*0.2\n",
    "y1 = 1 + x + np.random.normal(size=x.shape)*0.2\n",
    "y2 = 1 + x + x**2 + np.random.normal(size=x.shape)*0.2"
   ]
  },
  {
   "cell_type": "code",
   "execution_count": 22,
   "metadata": {},
   "outputs": [
    {
     "data": {
      "image/png": "[encoded data removed]",
      "text/plain": [
       "<Figure size 432x288 with 1 Axes>"
      ]
     },
     "metadata": {
      "needs_background": "light"
     },
     "output_type": "display_data"
    }
   ],
   "source": [
    "%matplotlib inline\n",
    "import matplotlib.pyplot as plt\n",
    "for i, (alpha, style) in enumerate(zip(alphas, styles)):\n",
    "    if i==0: \n",
    "        y = y0\n",
    "    elif i==1: \n",
    "        y = y1\n",
    "    elif i==2: \n",
    "        y = y2\n",
    "    plt.plot(x, y, style, alpha=alpha)\n",
    "plt.axis('off')\n",
    "plt.show()"
   ]
  },
  {
   "cell_type": "markdown",
   "metadata": {},
   "source": [
    "# what happens if three items are zipped"
   ]
  },
  {
   "cell_type": "code",
   "execution_count": 23,
   "metadata": {},
   "outputs": [],
   "source": [
    "alphas = (0.3, 0.5, 0.7)\n",
    "styles = (\"r-\", \"g--\", \"b:\")\n",
    "degrees = [0, 1, 2]"
   ]
  },
  {
   "cell_type": "code",
   "execution_count": 24,
   "metadata": {},
   "outputs": [
    {
     "name": "stdout",
     "output_type": "stream",
     "text": [
      "<zip object at 0x7f80c03e0960>\n"
     ]
    }
   ],
   "source": [
    "a = zip(alphas, styles, degrees)\n",
    "print(a)"
   ]
  },
  {
   "cell_type": "code",
   "execution_count": 25,
   "metadata": {},
   "outputs": [
    {
     "name": "stdout",
     "output_type": "stream",
     "text": [
      "[(0.3, 'r-', 0), (0.5, 'g--', 1), (0.7, 'b:', 2)]\n"
     ]
    }
   ],
   "source": [
    "a = list(zip(alphas, styles, degrees))\n",
    "print(a)"
   ]
  },
  {
   "cell_type": "code",
   "execution_count": 26,
   "metadata": {},
   "outputs": [
    {
     "name": "stdout",
     "output_type": "stream",
     "text": [
      "((0.3, 'r-', 0), (0.5, 'g--', 1), (0.7, 'b:', 2))\n"
     ]
    }
   ],
   "source": [
    "a = tuple(zip(alphas, styles, degrees))\n",
    "print(a)"
   ]
  },
  {
   "cell_type": "code",
   "execution_count": 27,
   "metadata": {},
   "outputs": [
    {
     "ename": "ValueError",
     "evalue": "dictionary update sequence element #0 has length 3; 2 is required",
     "output_type": "error",
     "traceback": [
      "\u001b[0;31m---------------------------------------------------------------------------\u001b[0m",
      "\u001b[0;31mValueError\u001b[0m                                Traceback (most recent call last)",
      "\u001b[0;32m<ipython-input-27-7119db1062bb>\u001b[0m in \u001b[0;36m<module>\u001b[0;34m\u001b[0m\n\u001b[0;32m----> 1\u001b[0;31m \u001b[0ma\u001b[0m \u001b[0;34m=\u001b[0m \u001b[0mdict\u001b[0m\u001b[0;34m(\u001b[0m\u001b[0mzip\u001b[0m\u001b[0;34m(\u001b[0m\u001b[0malphas\u001b[0m\u001b[0;34m,\u001b[0m \u001b[0mstyles\u001b[0m\u001b[0;34m,\u001b[0m \u001b[0mdegrees\u001b[0m\u001b[0;34m)\u001b[0m\u001b[0;34m)\u001b[0m\u001b[0;34m\u001b[0m\u001b[0;34m\u001b[0m\u001b[0m\n\u001b[0m\u001b[1;32m      2\u001b[0m \u001b[0mprint\u001b[0m\u001b[0;34m(\u001b[0m\u001b[0ma\u001b[0m\u001b[0;34m)\u001b[0m\u001b[0;34m\u001b[0m\u001b[0;34m\u001b[0m\u001b[0m\n",
      "\u001b[0;31mValueError\u001b[0m: dictionary update sequence element #0 has length 3; 2 is required"
     ]
    }
   ],
   "source": [
    "a = dict(zip(alphas, styles, degrees))\n",
    "print(a)"
   ]
  },
  {
   "cell_type": "code",
   "execution_count": 28,
   "metadata": {},
   "outputs": [
    {
     "name": "stdout",
     "output_type": "stream",
     "text": [
      "{(0.5, 'g--', 1), (0.3, 'r-', 0), (0.7, 'b:', 2)}\n"
     ]
    }
   ],
   "source": [
    "a = set(zip(alphas, styles, degrees))\n",
    "print(a)"
   ]
  },
  {
   "cell_type": "code",
   "execution_count": 29,
   "metadata": {},
   "outputs": [
    {
     "name": "stdout",
     "output_type": "stream",
     "text": [
      "(0.3, 'r-', 0)\n",
      "(0.5, 'g--', 1)\n",
      "(0.7, 'b:', 2)\n"
     ]
    }
   ],
   "source": [
    "for i in zip(alphas, styles, degrees):\n",
    "    print(i)"
   ]
  },
  {
   "cell_type": "code",
   "execution_count": 30,
   "metadata": {},
   "outputs": [
    {
     "name": "stdout",
     "output_type": "stream",
     "text": [
      "0.3 r- 0\n",
      "0.5 g-- 1\n",
      "0.7 b: 2\n"
     ]
    }
   ],
   "source": [
    "for alpha, style, degree in zip(alphas, styles, degrees):\n",
    "    print(alpha, style, degree)"
   ]
  },
  {
   "cell_type": "markdown",
   "metadata": {},
   "source": [
    "# Reference\n",
    "\n",
    "[Ryan Noonan](https://www.youtube.com/watch?v=VbBozykILZ0)"
   ]
  }
 ],
 "metadata": {
  "kernelspec": {
   "display_name": "Python 3",
   "language": "python",
   "name": "python3"
  },
  "language_info": {
   "codemirror_mode": {
    "name": "ipython",
    "version": 3
   },
   "file_extension": ".py",
   "mimetype": "text/x-python",
   "name": "python",
   "nbconvert_exporter": "python",
   "pygments_lexer": "ipython3",
   "version": "3.7.7"
  }
 },
 "nbformat": 4,
 "nbformat_minor": 4
}
