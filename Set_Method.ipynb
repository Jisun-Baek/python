{
 "cells": [
  {
   "cell_type": "markdown",
   "metadata": {},
   "source": [
    "# Set Method"
   ]
  },
  {
   "cell_type": "markdown",
   "metadata": {},
   "source": [
    "Corey_Schafer [youtube](https://www.youtube.com/watch?v=r3R3h5ly_8g&list=PL-osiE80TeTt2d9bfVyTiXJA-UTHn6WwU&index=72) [github](https://github.com/CoreyMSchafer/code_snippets/tree/master/Python/Python-Sets)\n",
    "Joe_James \n",
    "[youtube](https://www.youtube.com/watch?v=R-HLU9Fl5ug&index=9&list=PLj8W7XIvO93qsmdxbaDpIvM1KCyNO1K_c) \n",
    "[github](https://github.com/joeyajames/Python)"
   ]
  },
  {
   "cell_type": "markdown",
   "metadata": {},
   "source": [
    "<div align=\"center\"><img src=\"img/Screen Shot 2018-08-06 at 12.27.34 AM.png\" width=\"70%\"></div>\n",
    "\n",
    "Joe_James \n",
    "[youtube](https://www.youtube.com/watch?v=R-HLU9Fl5ug&index=9&list=PLj8W7XIvO93qsmdxbaDpIvM1KCyNO1K_c) \n",
    "[github](https://github.com/joeyajames/Python)"
   ]
  },
  {
   "cell_type": "code",
   "execution_count": 1,
   "metadata": {},
   "outputs": [
    {
     "name": "stdout",
     "output_type": "stream",
     "text": [
      "['__and__', '__class__', '__contains__', '__delattr__', '__dir__', '__doc__', '__eq__', '__format__', '__ge__', '__getattribute__', '__gt__', '__hash__', '__iand__', '__init__', '__ior__', '__isub__', '__iter__', '__ixor__', '__le__', '__len__', '__lt__', '__ne__', '__new__', '__or__', '__rand__', '__reduce__', '__reduce_ex__', '__repr__', '__ror__', '__rsub__', '__rxor__', '__setattr__', '__sizeof__', '__str__', '__sub__', '__subclasshook__', '__xor__', 'add', 'clear', 'copy', 'difference', 'difference_update', 'discard', 'intersection', 'intersection_update', 'isdisjoint', 'issubset', 'issuperset', 'pop', 'remove', 'symmetric_difference', 'symmetric_difference_update', 'union', 'update']\n"
     ]
    }
   ],
   "source": [
    "print(dir(set))"
   ]
  },
  {
   "cell_type": "markdown",
   "metadata": {},
   "source": [
    "# add, update"
   ]
  },
  {
   "cell_type": "markdown",
   "metadata": {},
   "source": [
    "> add - add one item\n",
    "\n",
    "> update - add items in a list or set"
   ]
  },
  {
   "cell_type": "code",
   "execution_count": 10,
   "metadata": {},
   "outputs": [
    {
     "name": "stdout",
     "output_type": "stream",
     "text": [
      "{3, 5}\n",
      "<class 'set'>\n",
      "2\n",
      "\n",
      "{3, 5, 6}\n",
      "<class 'set'>\n",
      "3\n"
     ]
    }
   ],
   "source": [
    "s = {3,5,3,5,3,5}\n",
    "print(s)\n",
    "print(type(s))\n",
    "print(len(s))\n",
    "print()\n",
    "\n",
    "s.add(6)\n",
    "print(s)\n",
    "print(type(s))\n",
    "print(len(s))"
   ]
  },
  {
   "cell_type": "code",
   "execution_count": 11,
   "metadata": {},
   "outputs": [
    {
     "name": "stdout",
     "output_type": "stream",
     "text": [
      "{3, 5}\n",
      "<class 'set'>\n",
      "2\n",
      "\n",
      "{3, 5, 7, 8, 9, 10}\n",
      "<class 'set'>\n",
      "6\n"
     ]
    }
   ],
   "source": [
    "s = {3,5,3,5,3,5}\n",
    "print(s)\n",
    "print(type(s))\n",
    "print(len(s))\n",
    "print()\n",
    "\n",
    "s.update([7,8,9,10])\n",
    "print(s)\n",
    "print(type(s))\n",
    "print(len(s))"
   ]
  },
  {
   "cell_type": "code",
   "execution_count": 12,
   "metadata": {},
   "outputs": [
    {
     "name": "stdout",
     "output_type": "stream",
     "text": [
      "{3, 5}\n",
      "<class 'set'>\n",
      "2\n",
      "\n",
      "{3, 5, 7, 8, 9, 10}\n",
      "<class 'set'>\n",
      "6\n"
     ]
    }
   ],
   "source": [
    "s = {3,5,3,5,3,5}\n",
    "print(s)\n",
    "print(type(s))\n",
    "print(len(s))\n",
    "print()\n",
    "\n",
    "s.update({7,8,9,10})\n",
    "print(s)\n",
    "print(type(s))\n",
    "print(len(s))"
   ]
  },
  {
   "cell_type": "code",
   "execution_count": 14,
   "metadata": {},
   "outputs": [
    {
     "name": "stdout",
     "output_type": "stream",
     "text": [
      "{3, 5}\n",
      "<class 'set'>\n",
      "2\n",
      "\n",
      "unhashable type: 'list'\n"
     ]
    }
   ],
   "source": [
    "s = {3,5,3,5,3,5}\n",
    "print(s)\n",
    "print(type(s))\n",
    "print(len(s))\n",
    "print()\n",
    "\n",
    "try:\n",
    "    s.add([7,8,9,10])\n",
    "    print(s)\n",
    "    print(type(s))\n",
    "    print(len(s))\n",
    "except Exception as e:\n",
    "    print(e)"
   ]
  },
  {
   "cell_type": "code",
   "execution_count": 15,
   "metadata": {},
   "outputs": [
    {
     "name": "stdout",
     "output_type": "stream",
     "text": [
      "{3, 5}\n",
      "<class 'set'>\n",
      "2\n",
      "\n",
      "unhashable type: 'set'\n"
     ]
    }
   ],
   "source": [
    "s = {3,5,3,5,3,5}\n",
    "print(s)\n",
    "print(type(s))\n",
    "print(len(s))\n",
    "print()\n",
    "\n",
    "try:\n",
    "    s.add({7,8,9,10})\n",
    "    print(s)\n",
    "    print(type(s))\n",
    "    print(len(s))\n",
    "except Exception as e:\n",
    "    print(e)"
   ]
  },
  {
   "cell_type": "markdown",
   "metadata": {},
   "source": [
    "# remove, discard"
   ]
  },
  {
   "cell_type": "markdown",
   "metadata": {},
   "source": [
    "> remove/discard - remove one item if exist\n",
    "\n",
    "> remove - Error if not exist\n",
    "\n",
    "> discard - No error even if not exist"
   ]
  },
  {
   "cell_type": "code",
   "execution_count": 16,
   "metadata": {},
   "outputs": [
    {
     "name": "stdout",
     "output_type": "stream",
     "text": [
      "{1, 2, 3, 4, 5}\n",
      "<class 'set'>\n",
      "5\n",
      "\n",
      "{1, 2, 3, 4}\n",
      "<class 'set'>\n",
      "4\n"
     ]
    }
   ],
   "source": [
    "s = {1,2,3,4,5}\n",
    "print(s)\n",
    "print(type(s))\n",
    "print(len(s))\n",
    "print()\n",
    "\n",
    "s.remove(5)\n",
    "print(s)\n",
    "print(type(s))\n",
    "print(len(s))"
   ]
  },
  {
   "cell_type": "code",
   "execution_count": 17,
   "metadata": {},
   "outputs": [
    {
     "name": "stdout",
     "output_type": "stream",
     "text": [
      "{1, 2, 3, 4, 5}\n",
      "<class 'set'>\n",
      "5\n",
      "\n",
      "{1, 2, 3, 4}\n",
      "<class 'set'>\n",
      "4\n"
     ]
    }
   ],
   "source": [
    "s = {1,2,3,4,5}\n",
    "print(s)\n",
    "print(type(s))\n",
    "print(len(s))\n",
    "print()\n",
    "\n",
    "s.discard(5)\n",
    "print(s)\n",
    "print(type(s))\n",
    "print(len(s))"
   ]
  },
  {
   "cell_type": "code",
   "execution_count": 18,
   "metadata": {},
   "outputs": [
    {
     "name": "stdout",
     "output_type": "stream",
     "text": [
      "{1, 2, 3, 4, 5}\n",
      "<class 'set'>\n",
      "5\n",
      "\n",
      "5000\n"
     ]
    }
   ],
   "source": [
    "try:\n",
    "    s = {1,2,3,4,5}\n",
    "    print(s)\n",
    "    print(type(s))\n",
    "    print(len(s))\n",
    "    print()\n",
    "\n",
    "    s.remove(5000)\n",
    "    print(s)\n",
    "    print(type(s))\n",
    "    print(len(s))\n",
    "except Exception as e:\n",
    "    print(e)"
   ]
  },
  {
   "cell_type": "code",
   "execution_count": 19,
   "metadata": {},
   "outputs": [
    {
     "name": "stdout",
     "output_type": "stream",
     "text": [
      "{1, 2, 3, 4, 5}\n",
      "<class 'set'>\n",
      "5\n",
      "\n",
      "{1, 2, 3, 4, 5}\n",
      "<class 'set'>\n",
      "5\n"
     ]
    }
   ],
   "source": [
    "s = {1,2,3,4,5}\n",
    "print(s)\n",
    "print(type(s))\n",
    "print(len(s))\n",
    "print()\n",
    "\n",
    "s.discard(5000)\n",
    "print(s)\n",
    "print(type(s))\n",
    "print(len(s))"
   ]
  },
  {
   "cell_type": "code",
   "execution_count": null,
   "metadata": {},
   "outputs": [],
   "source": []
  }
 ],
 "metadata": {
  "kernelspec": {
   "display_name": "Python 3",
   "language": "python",
   "name": "python3"
  },
  "language_info": {
   "codemirror_mode": {
    "name": "ipython",
    "version": 3
   },
   "file_extension": ".py",
   "mimetype": "text/x-python",
   "name": "python",
   "nbconvert_exporter": "python",
   "pygments_lexer": "ipython3",
   "version": "3.5.0"
  }
 },
 "nbformat": 4,
 "nbformat_minor": 2
}
