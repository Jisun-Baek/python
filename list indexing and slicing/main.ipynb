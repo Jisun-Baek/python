{
 "cells": [
  {
   "cell_type": "markdown",
   "metadata": {},
   "source": [
    "# indexing"
   ]
  },
  {
   "cell_type": "code",
   "execution_count": 4,
   "metadata": {},
   "outputs": [
    {
     "name": "stdout",
     "output_type": "stream",
     "text": [
      "3.0\n"
     ]
    }
   ],
   "source": [
    "x = ['zero', '하나', 2, 3.]\n",
    "#        0       1  2  3\n",
    "#       -4      -3 -2 -1\n",
    "\n",
    "print(x[-3])"
   ]
  },
  {
   "cell_type": "markdown",
   "metadata": {},
   "source": [
    "# slicing"
   ]
  },
  {
   "cell_type": "code",
   "execution_count": 13,
   "metadata": {},
   "outputs": [
    {
     "name": "stdout",
     "output_type": "stream",
     "text": [
      "[1, 2, 3]\n",
      "[0, 1, 2, 3]\n",
      "[4, 5, 6, 7, 8, 9, 10]\n",
      "[2, 4, 6]\n",
      "[]\n",
      "[8, 7, 6, 5, 4, 3]\n",
      "[10, 9, 8, 7, 6, 5, 4, 3, 2, 1, 0]\n"
     ]
    }
   ],
   "source": [
    "x = [0,1,2,3,4,5,6,7,8,9,10]\n",
    "print(x[1:4]) # 시작점 포함, 끝점 미포함 [1,2,3]\n",
    "print(x[:4]) # 처음부터 [0,1,2,3]\n",
    "print(x[4:]) # 시작점 포함, 끝까지 [4,5,6,7,8,9,10]\n",
    "print(x[2:8:2]) # 두칸씩 띠고 [2,4,6]\n",
    "print(x[2:8:-1]) # 꺼꾸로 []\n",
    "print(x[8:2:-1]) # 꺼꾸로 [8, 7, 6, 5, 4, 3]\n",
    "print(x[::-1]) # 꺼꾸로 [10, 9, 8, 7, 6, 5, 4, 3, 2, 1, 0]"
   ]
  },
  {
   "cell_type": "code",
   "execution_count": 15,
   "metadata": {},
   "outputs": [
    {
     "name": "stdout",
     "output_type": "stream",
     "text": [
      "7\n",
      "[7]\n",
      "7\n"
     ]
    }
   ],
   "source": [
    "x = [0,1,2,3,4,5,6,7,8,9,10]\n",
    "print(x[7]) # indexing\n",
    "print(x[7:8]) # slicing\n",
    "print(x[7:8][0]) # slicing + indexing"
   ]
  },
  {
   "cell_type": "code",
   "execution_count": null,
   "metadata": {},
   "outputs": [],
   "source": []
  }
 ],
 "metadata": {
  "kernelspec": {
   "display_name": "Python 3",
   "language": "python",
   "name": "python3"
  },
  "language_info": {
   "codemirror_mode": {
    "name": "ipython",
    "version": 3
   },
   "file_extension": ".py",
   "mimetype": "text/x-python",
   "name": "python",
   "nbconvert_exporter": "python",
   "pygments_lexer": "ipython3",
   "version": "3.7.7"
  }
 },
 "nbformat": 4,
 "nbformat_minor": 4
}
