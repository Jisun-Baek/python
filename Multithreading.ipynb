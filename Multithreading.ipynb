{
 "cells": [
  {
   "cell_type": "markdown",
   "metadata": {},
   "source": [
    "# Multithreading - Introduction"
   ]
  },
  {
   "cell_type": "markdown",
   "metadata": {},
   "source": [
    "codebasics [youtube](https://www.youtube.com/watch?v=PJ4t2U15ACo)"
   ]
  },
  {
   "cell_type": "markdown",
   "metadata": {},
   "source": [
    "# Without Multithreading"
   ]
  },
  {
   "cell_type": "markdown",
   "metadata": {},
   "source": [
    "리스트 [1, 2, 3, 4, 5]에 들어있는 각각의 숫자를 제곱하는 작업과 세제곱하는 작업을 수행하자."
   ]
  },
  {
   "cell_type": "code",
   "execution_count": 7,
   "metadata": {},
   "outputs": [
    {
     "name": "stdout",
     "output_type": "stream",
     "text": [
      "Start: Calculate square numbers\n",
      "square: 1\n",
      "square: 4\n",
      "square: 9\n",
      "square: 16\n",
      "square: 25\n",
      "Done: Calculate square numbers\n",
      "Start: Calculate cube of numbers\n",
      "cube: 1\n",
      "cube: 8\n",
      "cube: 27\n",
      "cube: 64\n",
      "cube: 125\n",
      "Done: Calculate cube of numbers\n",
      "Computation Time: 2.0295698642730713 seconds\n"
     ]
    }
   ],
   "source": [
    "import time\n",
    "\n",
    "def calc_square(numbers):\n",
    "    print(\"Start: Calculate square numbers\")\n",
    "    for n in numbers:\n",
    "        time.sleep(0.2)\n",
    "        print('square:', n**2)\n",
    "    print(\"Done: Calculate square numbers\")\n",
    "\n",
    "def calc_cube(numbers):\n",
    "    print(\"Start: Calculate cube of numbers\")\n",
    "    for n in numbers:\n",
    "        time.sleep(0.2)\n",
    "        print('cube:', n**3)\n",
    "    print(\"Done: Calculate cube of numbers\")\n",
    "\n",
    "x = [1, 2, 3, 4, 5]\n",
    "\n",
    "tic = time.time()\n",
    "calc_square(x)\n",
    "calc_cube(x)\n",
    "toc = time.time()\n",
    "\n",
    "print(\"Computation Time: {} seconds\".format(toc-tic))"
   ]
  },
  {
   "cell_type": "markdown",
   "metadata": {},
   "source": [
    "# With Multithreading"
   ]
  },
  {
   "cell_type": "markdown",
   "metadata": {},
   "source": [
    "Threads in python are useful when the tasks that you are trying to perform have IOs(input output operations such as waiting for receiving response from another service or hardware). 어떤 작업중 CPU가 놀고있다면, 이 때 CPU를 사용하자는 것이 Multithreading이다.\n",
    "Multithreading을 하려면, threading 모듈을 이용한다. "
   ]
  },
  {
   "cell_type": "code",
   "execution_count": 8,
   "metadata": {},
   "outputs": [
    {
     "name": "stdout",
     "output_type": "stream",
     "text": [
      "Start: Calculate square numbers\n",
      "Start: Calculate cube of numbers\n",
      "square: 1\n",
      "cube: 1\n",
      "cube: 8\n",
      "square: 4\n",
      "cube:square: 9\n",
      " 27\n",
      "square: 16\n",
      "cube: 64\n",
      "cube:square: 25\n",
      "Done: Calculate square numbers\n",
      " 125\n",
      "Done: Calculate cube of numbers\n",
      "Computation Time: 1.0156378746032715 seconds\n"
     ]
    }
   ],
   "source": [
    "import time\n",
    "import threading # Multithreading을 하려면, threading 모듈을 이용한다. \n",
    "\n",
    "def calc_square(numbers):\n",
    "    print(\"Start: Calculate square numbers\")\n",
    "    for n in numbers:\n",
    "        time.sleep(0.2)\n",
    "        print('square:', n**2)\n",
    "    print(\"Done: Calculate square numbers\")\n",
    "\n",
    "def calc_cube(numbers):\n",
    "    print(\"Start: Calculate cube of numbers\")\n",
    "    for n in numbers:\n",
    "        time.sleep(0.2)\n",
    "        print('cube:', n**3)\n",
    "    print(\"Done: Calculate cube of numbers\")\n",
    "\n",
    "x = [1, 2, 3, 4, 5]\n",
    "\n",
    "tic = time.time()\n",
    "\n",
    "# create threads \n",
    "task_1 = threading.Thread(target=calc_square, args=(x,)) # 첫번째 작업 지시\n",
    "task_2 = threading.Thread(target=calc_cube, args=(x,))   # 두번째 작업 지시\n",
    "\n",
    "# start\n",
    "task_1.start() # 첫번째 작업 시작\n",
    "task_2.start() # 두번째 작업 시작\n",
    "\n",
    "# join\n",
    "task_1.join() # 첫번째 작업 종료후 복귀\n",
    "task_2.join() # 두번째 작업 종료후 복귀\n",
    "\n",
    "toc = time.time()\n",
    "\n",
    "print(\"Computation Time: {} seconds\".format(toc-tic))"
   ]
  },
  {
   "cell_type": "code",
   "execution_count": 9,
   "metadata": {},
   "outputs": [
    {
     "name": "stdout",
     "output_type": "stream",
     "text": [
      "Start: Calculate square numbers\n",
      "Start: Calculate cube of numbers\n",
      "square: 1\n",
      "cube: 1\n",
      "cube: 8\n",
      "square: 4\n",
      "cube: 27\n",
      "square: 9\n",
      "cube:square: 16 64\n",
      "\n",
      "cube: 125\n",
      "Done: Calculate cube of numbers\n",
      "square: 25\n",
      "Done: Calculate square numbers\n",
      "[1, 4, 9, 16, 25]\n",
      "[1, 8, 27, 64, 125]\n",
      "Computation Time: 1.022878885269165 seconds\n"
     ]
    }
   ],
   "source": [
    "import time\n",
    "import threading # Multithreading을 하려면, threading 모듈을 이용한다. \n",
    "\n",
    "square_list = []\n",
    "def calc_square(numbers):\n",
    "    print(\"Start: Calculate square numbers\")\n",
    "    for n in numbers:\n",
    "        time.sleep(0.2)\n",
    "        print('square:', n**2)\n",
    "        square_list.append(n**2)\n",
    "    print(\"Done: Calculate square numbers\")\n",
    "\n",
    "cube_list = []\n",
    "def calc_cube(numbers):\n",
    "    print(\"Start: Calculate cube of numbers\")\n",
    "    for n in numbers:\n",
    "        time.sleep(0.2)\n",
    "        print('cube:', n**3)\n",
    "        cube_list.append(n**3)\n",
    "    print(\"Done: Calculate cube of numbers\")\n",
    "\n",
    "x = [1, 2, 3, 4, 5]\n",
    "\n",
    "tic = time.time()\n",
    "\n",
    "# create threads \n",
    "task_1 = threading.Thread(target=calc_square, args=(x,)) # 첫번째 작업 지시\n",
    "task_2 = threading.Thread(target=calc_cube, args=(x,))   # 두번째 작업 지시\n",
    "\n",
    "# start\n",
    "task_1.start() # 첫번째 작업 시작\n",
    "task_2.start() # 두번째 작업 시작\n",
    "\n",
    "# join\n",
    "task_1.join() # 첫번째 작업 종료후 복귀\n",
    "task_2.join() # 두번째 작업 종료후 복귀\n",
    "\n",
    "toc = time.time()\n",
    "\n",
    "print(square_list)\n",
    "print(cube_list)\n",
    "\n",
    "print(\"Computation Time: {} seconds\".format(toc-tic))"
   ]
  },
  {
   "cell_type": "code",
   "execution_count": null,
   "metadata": {},
   "outputs": [],
   "source": []
  }
 ],
 "metadata": {
  "kernelspec": {
   "display_name": "Python 3",
   "language": "python",
   "name": "python3"
  },
  "language_info": {
   "codemirror_mode": {
    "name": "ipython",
    "version": 3
   },
   "file_extension": ".py",
   "mimetype": "text/x-python",
   "name": "python",
   "nbconvert_exporter": "python",
   "pygments_lexer": "ipython3",
   "version": "3.5.0"
  }
 },
 "nbformat": 4,
 "nbformat_minor": 2
}
