{
 "cells": [
  {
   "cell_type": "markdown",
   "metadata": {},
   "source": [
    "# Fill Up First"
   ]
  },
  {
   "cell_type": "markdown",
   "metadata": {},
   "source": [
    "$$\\begin{array}{ccccccccccc}\n",
    "&&f&(&a,&b,&c,&d&)\\\\\n",
    "&&&&\\uparrow&\\uparrow&&&\\\\\n",
    "&&&&a_0&b_0&&&\\\\\n",
    "\\\\\n",
    "g(c,d)&=&f&(&a_0,&b_0,&c,&d&)\\\\\n",
    "\\end{array}$$"
   ]
  },
  {
   "cell_type": "code",
   "execution_count": 1,
   "metadata": {},
   "outputs": [
    {
     "name": "stdout",
     "output_type": "stream",
     "text": [
      "3145\n",
      "3145\n"
     ]
    }
   ],
   "source": [
    "from functools import partial \n",
    "  \n",
    "def f(a, b, c, d): \n",
    "    return a*1000 + b*100 + c*10 + d \n",
    "  \n",
    "# a partial function that calls f with \n",
    "# a as 3, b as 1, and c as 4.\n",
    "g = partial(f, 3, 1, 4) \n",
    "\n",
    "print(g(5))\n",
    "print(f(3, 1, 4, 5))"
   ]
  },
  {
   "cell_type": "code",
   "execution_count": 2,
   "metadata": {},
   "outputs": [
    {
     "name": "stdout",
     "output_type": "stream",
     "text": [
      "3145\n",
      "3145\n"
     ]
    }
   ],
   "source": [
    "from functools import partial \n",
    "  \n",
    "def f(a, b, c, d): \n",
    "    return a*1000 + b*100 + c*10 + d \n",
    "  \n",
    "# a partial function that calls f with \n",
    "# a as 3, b as 1.\n",
    "g = partial(f, 3, 1) \n",
    "\n",
    "print(g(4, 5))\n",
    "print(f(3, 1, 4, 5))"
   ]
  },
  {
   "cell_type": "markdown",
   "metadata": {},
   "source": [
    "# Fill Up Last"
   ]
  },
  {
   "cell_type": "markdown",
   "metadata": {},
   "source": [
    "$$\\begin{array}{ccccccccccc}\n",
    "&&f&(&a,&b,&c,&d&)\\\\\n",
    "&&&&&&\\uparrow&\\uparrow&&&\\\\\n",
    "&&&&&&c_0&d_0&&&\\\\\n",
    "\\\\\n",
    "g(a,b)&=&f&(&a,&b,&c_0,&d_0&)\\\\\n",
    "\\end{array}$$"
   ]
  },
  {
   "cell_type": "code",
   "execution_count": 3,
   "metadata": {},
   "outputs": [
    {
     "name": "stdout",
     "output_type": "stream",
     "text": [
      "3145\n",
      "3145\n"
     ]
    }
   ],
   "source": [
    "from functools import partial \n",
    "  \n",
    "def f(a, b, c, d): \n",
    "    return a*1000 + b*100 + c*10 + d \n",
    "  \n",
    "# a partial function that calls f with \n",
    "# b=1, c=4, and d=5. \n",
    "g = partial(f, b=1, c=4, d=5) \n",
    "\n",
    "print(g(3))\n",
    "print(f(3, 1, 4, 5))"
   ]
  },
  {
   "cell_type": "code",
   "execution_count": 4,
   "metadata": {},
   "outputs": [
    {
     "name": "stdout",
     "output_type": "stream",
     "text": [
      "3145\n",
      "3145\n"
     ]
    }
   ],
   "source": [
    "from functools import partial \n",
    "  \n",
    "def f(a, b, c, d): \n",
    "    return a*1000 + b*100 + c*10 + d \n",
    "  \n",
    "# a partial function that calls f with \n",
    "# b=1, c=4, and d=5. \n",
    "g = partial(f, c=4, d=5) \n",
    "\n",
    "print(g(3, 1))\n",
    "print(f(3, 1, 4, 5))"
   ]
  },
  {
   "cell_type": "markdown",
   "metadata": {},
   "source": [
    "# Override"
   ]
  },
  {
   "cell_type": "markdown",
   "metadata": {},
   "source": [
    "$$\\begin{array}{ccccccccccc}\n",
    "&&f&(&a,&b,&c,&d&)\\\\\n",
    "&&&&&&\\uparrow&\\uparrow&&&\\\\\n",
    "&&&&&&c_0&d_0&&&\\\\\n",
    "\\\\\n",
    "g(a,b)&=&f&(&a,&b,&c_0,&d_0&)\\\\\n",
    "g(a,b,d=d_1)&=&f&(&a,&b,&c_0,&d_1&)\\\\\n",
    "\\end{array}$$"
   ]
  },
  {
   "cell_type": "code",
   "execution_count": 5,
   "metadata": {},
   "outputs": [
    {
     "name": "stdout",
     "output_type": "stream",
     "text": [
      "3147\n",
      "3147\n"
     ]
    }
   ],
   "source": [
    "from functools import partial \n",
    "  \n",
    "def f(a, b, c, d): \n",
    "    return a*1000 + b*100 + c*10 + d \n",
    "  \n",
    "# a partial function that calls f with \n",
    "# b=1, c=4, and d=5. \n",
    "g = partial(f, c=4, d=5) \n",
    "\n",
    "print(g(3, 1, d=7))\n",
    "print(f(3, 1, 4, 7))"
   ]
  },
  {
   "cell_type": "markdown",
   "metadata": {},
   "source": [
    "# Example from Autoencoder"
   ]
  },
  {
   "cell_type": "code",
   "execution_count": null,
   "metadata": {},
   "outputs": [],
   "source": [
    "import tensorflow as tf\n",
    "import numpy as np\n",
    "from functools import partial\n",
    "\n",
    "seed = 0\n",
    "tf.reset_default_graph()\n",
    "tf.set_random_seed(seed)\n",
    "np.random.seed(seed)\n",
    "\n",
    "n_inputs = 784\n",
    "n_hidden1 = 300\n",
    "n_hidden2 = 150  # latent space dim\n",
    "n_hidden3 = n_hidden1\n",
    "n_outputs = n_inputs\n",
    "\n",
    "lr = 0.01\n",
    "l2_reg = 0.0001\n",
    "\n",
    "x = tf.placeholder(tf.float32, shape=[None, n_inputs])\n",
    "\n",
    "init = tf.keras.initializers.he_normal()\n",
    "reg = tf.contrib.layers.l2_regularizer(l2_reg)\n",
    "my_dense_layer = partial(tf.layers.dense,\n",
    "                         activation=tf.nn.elu,\n",
    "                         kernel_initializer=init,\n",
    "                         kernel_regularizer=reg)\n",
    "\n",
    "hidden1 = my_dense_layer(x, n_hidden1)\n",
    "hidden2 = my_dense_layer(hidden1, n_hidden2)\n",
    "hidden3 = my_dense_layer(hidden2, n_hidden3)\n",
    "outputs = my_dense_layer(hidden3, n_outputs, activation=None)\n",
    "\n",
    "reconstruction_loss = tf.reduce_mean(tf.square(outputs - x))\n",
    "\n",
    "reg_losses = tf.get_collection(tf.GraphKeys.REGULARIZATION_LOSSES)\n",
    "loss = tf.add_n([reconstruction_loss] + reg_losses)\n",
    "\n",
    "optimizer = tf.train.AdamOptimizer(lr)\n",
    "train = optimizer.minimize(loss)\n",
    "\n",
    "saver = tf.train.Saver() "
   ]
  }
 ],
 "metadata": {
  "kernelspec": {
   "display_name": "Python 3",
   "language": "python",
   "name": "python3"
  },
  "language_info": {
   "codemirror_mode": {
    "name": "ipython",
    "version": 3
   },
   "file_extension": ".py",
   "mimetype": "text/x-python",
   "name": "python",
   "nbconvert_exporter": "python",
   "pygments_lexer": "ipython3",
   "version": "3.6.9"
  }
 },
 "nbformat": 4,
 "nbformat_minor": 2
}
