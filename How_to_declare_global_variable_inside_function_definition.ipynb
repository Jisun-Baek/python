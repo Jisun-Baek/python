{
 "cells": [
  {
   "cell_type": "markdown",
   "metadata": {},
   "source": [
    "# How_to_declare_global_variable_inside_function_definition"
   ]
  },
  {
   "cell_type": "markdown",
   "metadata": {},
   "source": [
    "박연오 [blog](https://python.bakyeono.net/chapter-3-4.html)"
   ]
  },
  {
   "cell_type": "markdown",
   "metadata": {},
   "source": [
    "우리는 프로그램을 작성하면서 여러 가지 데이터에 여러 가지 이름을 붙인다. 그런데 이름이란 문맥에 따라서 가리키는 대상이 다르기 마련이다. 예를 들어, ‘key’라는 이름은 키보드의 입력을 제어하는 함수에서는 입력된 키를 가리키겠지만, 암호를 푸는 함수에서는 비밀번호를 가리킬 것이다. 이 두 함수를 모두 사용하는 프로그램을 만들려면, ‘key’라는 이름이 문맥에 따라 다른 데이터를 가리킬 수 있어야 한다.\n",
    "\n",
    "프로그래밍에서는 ‘이름공간(namespace)’이라는 개념을 이용해서 이름의 문맥을 구별한다. 이름공간은 변수의 이름을 정의해 둔 공간이다. 이름공간은 프로그램 전체 범위의 이름을 담는 전역 이름공간과 한정적인 문맥의 이름을 담는 지역 이름공간으로 구별된다.\n",
    "\n",
    "전역 이름공간에 정의되어, 프로그램 어디서든 부를 수 있는 이름을 전역변수(global variable)라고 한다. 함수 밖에서 변수를 정의하면 전역변수가 된다. 반면에 지역 이름공간에 정의되어, 그 문맥 속에서만 부를 수 있는 이름을 지역변수(local variable)라고 한다. 모든 함수는 자신만의 지역 이름공간을 가지며, 함수 속에서 작성한 변수는 그 함수의 지역변수가 된다.\n",
    "\n",
    "https://python.bakyeono.net/chapter-3-4.html"
   ]
  },
  {
   "cell_type": "code",
   "execution_count": 2,
   "metadata": {},
   "outputs": [
    {
     "name": "stdout",
     "output_type": "stream",
     "text": [
      "x inside : 2\n",
      "x outside: 2\n"
     ]
    }
   ],
   "source": [
    "x = 2\n",
    "\n",
    "def f():\n",
    "    print(\"x inside :\", x)\n",
    "\n",
    "f()\n",
    "print(\"x outside:\", x)"
   ]
  },
  {
   "cell_type": "markdown",
   "metadata": {},
   "source": [
    "# What is global"
   ]
  },
  {
   "cell_type": "code",
   "execution_count": 4,
   "metadata": {},
   "outputs": [
    {
     "name": "stdout",
     "output_type": "stream",
     "text": [
      "x inside : 3\n",
      "x outside: 3\n"
     ]
    }
   ],
   "source": [
    "x = 2\n",
    "\n",
    "if 0:\n",
    "    def f():\n",
    "        x = x + 1 # UnboundLocalError: local variable 'x' referenced before assignment\n",
    "        # https://python.bakyeono.net/chapter-3-4.html\n",
    "        # 오류가 발생한 과정을 생각해 보자. \n",
    "        # x = 값을 대입할 때, 함수 안에서는 x라는 새로운 지역변수가 생성된다. \n",
    "        # 그런데 x에 대입할 값이 공교롭게도 x + 1이다. \n",
    "        # 아직 만들어지지 않은 지역변수를 읽으려 한 것이다.\n",
    "        print(\"x inside :\", x)\n",
    "elif 0:\n",
    "    def f():\n",
    "        y = x + 1 \n",
    "        print(\"x inside :\", x)\n",
    "        print(\"y inside :\", y)\n",
    "elif 1:\n",
    "    def f():\n",
    "        global x\n",
    "        # https://python.bakyeono.net/chapter-3-4.html\n",
    "        # global 문을 사용하면 함수 안에서도 전역변수의 값을 수정할 수 있다. \n",
    "        # 함수 안에서 global 변수이름 명령을 실행하면 그 이름이 전역변수임을 분명히 밝히게 되며, 그리고 전역변수의 값을 수정하는 것도 가능해진다.\n",
    "        \n",
    "        # https://python.bakyeono.net/chapter-3-4.html\n",
    "        # C, C++ global은 변수 선언부에서 global변수를 선언하면 함수에서 읽고, 수정이 가능한 반면\n",
    "        # 파이썬은 함수안에 global표기하여 '전역변수를 읽고, 수정하고 있음'을 나타내는 방식이군요.\n",
    "        # 가장 큰 차이인 것 같습니다~!\n",
    "        # Donghun Park \n",
    "        \n",
    "        x = x + 1\n",
    "        print(\"x inside :\", x)\n",
    "\n",
    "f()\n",
    "print(\"x outside:\", x)"
   ]
  },
  {
   "cell_type": "markdown",
   "metadata": {},
   "source": [
    "# Don't use global if you cant"
   ]
  },
  {
   "cell_type": "code",
   "execution_count": 4,
   "metadata": {},
   "outputs": [
    {
     "name": "stdout",
     "output_type": "stream",
     "text": [
      "2\n",
      "3\n"
     ]
    }
   ],
   "source": [
    "x = 2\n",
    "\n",
    "def f(x):\n",
    "    return x + 1\n",
    "\n",
    "print(x)\n",
    "x = f(x)\n",
    "print(x)"
   ]
  }
 ],
 "metadata": {
  "kernelspec": {
   "display_name": "Python 3",
   "language": "python",
   "name": "python3"
  },
  "language_info": {
   "codemirror_mode": {
    "name": "ipython",
    "version": 3
   },
   "file_extension": ".py",
   "mimetype": "text/x-python",
   "name": "python",
   "nbconvert_exporter": "python",
   "pygments_lexer": "ipython3",
   "version": "3.5.0"
  }
 },
 "nbformat": 4,
 "nbformat_minor": 2
}
