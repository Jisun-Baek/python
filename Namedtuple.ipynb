{
 "cells": [
  {
   "cell_type": "markdown",
   "metadata": {},
   "source": [
    "# namedtuple"
   ]
  },
  {
   "cell_type": "markdown",
   "metadata": {},
   "source": [
    "Corey Schafer [youtube](https://www.youtube.com/watch?v=GfxJYp9_nJA&index=31&list=PL-osiE80TeTt2d9bfVyTiXJA-UTHn6WwU)"
   ]
  },
  {
   "cell_type": "markdown",
   "metadata": {},
   "source": [
    "<a href=\"#네임드투플은-한줄짜리-클래스\">네임드투플은 한줄짜리 클래스</a>\n",
    "\n",
    "<a href=\"#네임드투플의-장점-against-투플\">네임드투플의 장점 against 투플</a>\n",
    "\n",
    "<a href=\"#네임드투플의-장점-against-딕션너리\">네임드투플의 장점 against 딕션너리</a>"
   ]
  },
  {
   "cell_type": "markdown",
   "metadata": {},
   "source": [
    "여러 칼라의 rgb 값을 데이타로 저장는 작업을 생각하자.\n",
    "rgb 값을 저장하는데 투플, 딕션너리, 네임드투플 이 세가지 저장방법을 고려하여,\n",
    "네임드투플의 장점을 알아보려 한다."
   ]
  },
  {
   "cell_type": "markdown",
   "metadata": {},
   "source": [
    "# 네임드투플은 한줄짜리 클래스"
   ]
  },
  {
   "cell_type": "code",
   "execution_count": 7,
   "metadata": {},
   "outputs": [
    {
     "name": "stdout",
     "output_type": "stream",
     "text": [
      "55\n"
     ]
    }
   ],
   "source": [
    "class Color:\n",
    "    def __init__(self, red, green, blue):\n",
    "        self.red = red\n",
    "        self.green = green\n",
    "        self.blue = blue\n",
    "\n",
    "color_1 = Color(51, 155, 255) \n",
    "color_2 = Color(52, 155, 255) \n",
    "color_3 = Color(53, 155, 255) \n",
    "color_4 = Color(54, 155, 255) \n",
    "color_4 = Color(55, 155, 255) \n",
    "color_6 = Color(56, 155, 255) \n",
    "color_7 = Color(57, 155, 255) \n",
    "color_8 = Color(58, 155, 255) \n",
    "color_9 = Color(59, 155, 255)\n",
    "\n",
    "print(color_4.red)"
   ]
  },
  {
   "cell_type": "code",
   "execution_count": 8,
   "metadata": {},
   "outputs": [
    {
     "name": "stdout",
     "output_type": "stream",
     "text": [
      "55\n",
      "55\n"
     ]
    }
   ],
   "source": [
    "from collections import namedtuple\n",
    "\n",
    "Color = namedtuple('Color', ['red', 'green', 'blue'])\n",
    "\n",
    "color_1 = Color(51, 155, 255) \n",
    "color_2 = Color(52, 155, 255) \n",
    "color_3 = Color(53, 155, 255) \n",
    "color_4 = Color(54, 155, 255) \n",
    "color_4 = Color(55, 155, 255) \n",
    "color_6 = Color(56, 155, 255) \n",
    "color_7 = Color(57, 155, 255) \n",
    "color_8 = Color(58, 155, 255) \n",
    "color_9 = Color(59, 155, 255)\n",
    "\n",
    "print(color_4[0])  # 네임드투플은 투플처럼 사용할 수 있다.\n",
    "print(color_4.red) # 네임드투플은 클래스처럼 사용할 수 있다."
   ]
  },
  {
   "cell_type": "markdown",
   "metadata": {},
   "source": [
    "[<a href=\"#namedtuple\">Back to top</a>]"
   ]
  },
  {
   "cell_type": "markdown",
   "metadata": {},
   "source": [
    "# 네임드투플의 장점 against 투플"
   ]
  },
  {
   "cell_type": "code",
   "execution_count": 9,
   "metadata": {},
   "outputs": [
    {
     "name": "stdout",
     "output_type": "stream",
     "text": [
      "55\n"
     ]
    }
   ],
   "source": [
    "color_4 = (55, 155, 255) \n",
    "\n",
    "print(color_4[0])"
   ]
  },
  {
   "cell_type": "code",
   "execution_count": 10,
   "metadata": {},
   "outputs": [
    {
     "name": "stdout",
     "output_type": "stream",
     "text": [
      "55\n",
      "55\n"
     ]
    }
   ],
   "source": [
    "from collections import namedtuple\n",
    "\n",
    "Color = namedtuple('Color', ['red', 'green', 'blue'])\n",
    "\n",
    "if 1:\n",
    "    color_4 = Color(55, 155, 255)\n",
    "elif 1:\n",
    "    color_4 = Color(red=55, green=155, blue=255)\n",
    "\n",
    "print(color_4[0])  # 네임드투플은 투플처럼 사용할 수 있다.\n",
    "print(color_4.red) # 네임드투플이 투플에 비하여 가독성이 뛰어나다."
   ]
  },
  {
   "cell_type": "markdown",
   "metadata": {},
   "source": [
    "[<a href=\"#namedtuple\">Back to top</a>]"
   ]
  },
  {
   "cell_type": "markdown",
   "metadata": {},
   "source": [
    "# 네임드투플의 장점 against 딕션너리"
   ]
  },
  {
   "cell_type": "code",
   "execution_count": 11,
   "metadata": {},
   "outputs": [
    {
     "name": "stdout",
     "output_type": "stream",
     "text": [
      "55\n"
     ]
    }
   ],
   "source": [
    "color_1 = {'red': 51, 'green': 155, 'blue': 255} \n",
    "color_2 = {'red': 52, 'green': 155, 'blue': 255} \n",
    "color_3 = {'red': 53, 'green': 155, 'blue': 255} \n",
    "color_4 = {'red': 54, 'green': 155, 'blue': 255} \n",
    "color_4 = {'red': 55, 'green': 155, 'blue': 255} \n",
    "color_6 = {'red': 56, 'green': 155, 'blue': 255} \n",
    "color_7 = {'red': 57, 'green': 155, 'blue': 255} \n",
    "color_8 = {'red': 58, 'green': 155, 'blue': 255} \n",
    "color_9 = {'red': 59, 'green': 155, 'blue': 255} \n",
    "\n",
    "print(color_4['red'])"
   ]
  },
  {
   "cell_type": "code",
   "execution_count": 6,
   "metadata": {},
   "outputs": [
    {
     "name": "stdout",
     "output_type": "stream",
     "text": [
      "55\n",
      "55\n"
     ]
    }
   ],
   "source": [
    "from collections import namedtuple\n",
    "\n",
    "Color = namedtuple('Color', ['red', 'green', 'blue'])\n",
    "\n",
    "color_1 = Color(51, 155, 255) # 딕션너리 대신 네임드 투플을 쓰면, 타이핑이 줄어든다. \n",
    "color_2 = Color(52, 155, 255) # 딕션너리 대신 네임드 투플을 쓰면, 타이핑이 줄어든다. \n",
    "color_3 = Color(53, 155, 255) # 딕션너리 대신 네임드 투플을 쓰면, 타이핑이 줄어든다. \n",
    "color_4 = Color(54, 155, 255) # 딕션너리 대신 네임드 투플을 쓰면, 타이핑이 줄어든다. \n",
    "color_4 = Color(55, 155, 255) # 딕션너리 대신 네임드 투플을 쓰면, 타이핑이 줄어든다. \n",
    "color_6 = Color(56, 155, 255) # 딕션너리 대신 네임드 투플을 쓰면, 타이핑이 줄어든다. \n",
    "color_7 = Color(57, 155, 255) # 딕션너리 대신 네임드 투플을 쓰면, 타이핑이 줄어든다. \n",
    "color_8 = Color(58, 155, 255) # 딕션너리 대신 네임드 투플을 쓰면, 타이핑이 줄어든다. \n",
    "color_9 = Color(59, 155, 255) # 딕션너리 대신 네임드 투플을 쓰면, 타이핑이 줄어든다.\n",
    "\n",
    "print(color_4[0])\n",
    "print(color_4.red)"
   ]
  },
  {
   "cell_type": "markdown",
   "metadata": {},
   "source": [
    "[<a href=\"#namedtuple\">Back to top</a>]"
   ]
  }
 ],
 "metadata": {
  "kernelspec": {
   "display_name": "Python 3",
   "language": "python",
   "name": "python3"
  },
  "language_info": {
   "codemirror_mode": {
    "name": "ipython",
    "version": 3
   },
   "file_extension": ".py",
   "mimetype": "text/x-python",
   "name": "python",
   "nbconvert_exporter": "python",
   "pygments_lexer": "ipython3",
   "version": "3.5.0"
  }
 },
 "nbformat": 4,
 "nbformat_minor": 2
}
