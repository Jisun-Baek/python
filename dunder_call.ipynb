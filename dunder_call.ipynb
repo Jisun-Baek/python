{
 "cells": [
  {
   "cell_type": "markdown",
   "metadata": {},
   "source": [
    "# dunder call"
   ]
  },
  {
   "cell_type": "markdown",
   "metadata": {},
   "source": [
    "python-course [blog](https://www.python-course.eu/python3_magic_methods.php)"
   ]
  },
  {
   "cell_type": "markdown",
   "metadata": {},
   "source": [
    "Nearly at the end of this chapter of our tutorial we will introduce the __call__ method. It is overlooked by many beginners and even advanced programmers of Python. It is a functionality which many programming languages do not have, so programmers are generally not looking for. The __call__ method enables Python programmers to write classes where the instances behave like functions. Both functions and the instances of such classes are called callables.\n",
    "\n",
    "https://www.python-course.eu/python3_magic_methods.php\n",
    "\n",
    "The __call__ method can be used to turn the instances of the class into callables. Functions are callable objects. A callable object is an object which can be used and behaves like a function but might not be a function. By using the __call__ method it is possible to define classes in a way that the instances will be callable objects. The __call__ method is called, if the instance is called \"like a function\", i.e. using brackets. The following example defines a class with which we can create abitrary polynomial functions:\n",
    "\n",
    "https://www.python-course.eu/python3_magic_methods.php"
   ]
  },
  {
   "cell_type": "code",
   "execution_count": 3,
   "metadata": {},
   "outputs": [
    {
     "data": {
      "image/png": "[encoded data removed]",
      "text/plain": [
       "<Figure size 432x288 with 1 Axes>"
      ]
     },
     "metadata": {
      "needs_background": "light"
     },
     "output_type": "display_data"
    }
   ],
   "source": [
    "import numpy as np\n",
    "import matplotlib.pyplot as plt\n",
    "\n",
    "\n",
    "class Polynomial:\n",
    "    \n",
    "    def __init__(self, *coefficients):\n",
    "        self.coefficients = coefficients\n",
    "        \n",
    "    def __call__(self, x):\n",
    "        res = 0\n",
    "        for index, coeff in enumerate(self.coefficients):\n",
    "            res += coeff * x ** index\n",
    "        return res\n",
    "\n",
    "    \n",
    "# a constant function\n",
    "p0 = Polynomial(0.75)\n",
    "\n",
    "# a straight Line\n",
    "p1 = Polynomial(0.75, 2.)\n",
    "\n",
    "# a 2nd degree Polynomial\n",
    "p2 = Polynomial(0.75, 2., 1.)\n",
    "\n",
    "# a third degree Polynomial\n",
    "p3 = Polynomial(0.75, 2., 1., 0.25)\n",
    "\n",
    "x = np.linspace(-3., 3., 10)\n",
    "y = p2(x)\n",
    "y2 = 0.75 + 2. * x + 1. * x**2 \n",
    "\n",
    "plt.plot(x, y, alpha=0.5)\n",
    "plt.plot(x, y2, 'or')\n",
    "plt.show()"
   ]
  },
  {
   "cell_type": "code",
   "execution_count": 4,
   "metadata": {},
   "outputs": [
    {
     "data": {
      "image/png": "[encoded data removed]",
      "text/plain": [
       "<Figure size 432x288 with 1 Axes>"
      ]
     },
     "metadata": {},
     "output_type": "display_data"
    }
   ],
   "source": [
    "import numpy as np\n",
    "import matplotlib.pyplot as plt\n",
    "\n",
    "\n",
    "class Polynomial:\n",
    "    \n",
    "    def __init__(self, *coefficients):\n",
    "        self.coefficients = coefficients\n",
    "        \n",
    "    def __call__(self, x):\n",
    "        res = 0\n",
    "        for index, coeff in enumerate(self.coefficients):\n",
    "            res += coeff * x** index\n",
    "        return res\n",
    "\n",
    "    \n",
    "# a constant function\n",
    "p0 = Polynomial(0.75)\n",
    "\n",
    "# a straight Line\n",
    "p1 = Polynomial(0.75, 2.)\n",
    "\n",
    "# a 2nd degree Polynomial\n",
    "p2 = Polynomial(0.75, 2., 1.)\n",
    "\n",
    "# a third degree Polynomial\n",
    "p3 = Polynomial(0.75, 2., 1., 0.25)\n",
    "\n",
    "x = np.linspace(-3., 3., 10)\n",
    "y = p3(x)\n",
    "y2 = 0.75 + 2. * x + 1. * x**2 + 0.25 * x**3 \n",
    "\n",
    "plt.plot(x,y,alpha=0.5)\n",
    "plt.plot(x,y2,'or')\n",
    "plt.show()"
   ]
  },
  {
   "cell_type": "code",
   "execution_count": null,
   "metadata": {},
   "outputs": [],
   "source": []
  }
 ],
 "metadata": {
  "kernelspec": {
   "display_name": "Python 3",
   "language": "python",
   "name": "python3"
  },
  "language_info": {
   "codemirror_mode": {
    "name": "ipython",
    "version": 3
   },
   "file_extension": ".py",
   "mimetype": "text/x-python",
   "name": "python",
   "nbconvert_exporter": "python",
   "pygments_lexer": "ipython3",
   "version": "3.5.0"
  }
 },
 "nbformat": 4,
 "nbformat_minor": 2
}
