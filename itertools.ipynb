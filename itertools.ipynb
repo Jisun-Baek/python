{
 "cells": [
  {
   "cell_type": "markdown",
   "metadata": {},
   "source": [
    "# itertools"
   ]
  },
  {
   "cell_type": "markdown",
   "metadata": {},
   "source": [
    "<a href=\"#it.product\">it.product</a>\n",
    "\n",
    "<a href=\"#it.combinations\">it.combinations</a>\n",
    "\n",
    "<a href=\"#it.combinations_with_replacement\">it.combinations_with_replacement</a>"
   ]
  },
  {
   "cell_type": "markdown",
   "metadata": {},
   "source": [
    "# it.product"
   ]
  },
  {
   "cell_type": "markdown",
   "metadata": {},
   "source": [
    "##### 동전과 주사위 던지기"
   ]
  },
  {
   "cell_type": "code",
   "execution_count": 2,
   "metadata": {},
   "outputs": [
    {
     "name": "stdout",
     "output_type": "stream",
     "text": [
      "<itertools.product object at 0x110750cf0>\n",
      "<class 'itertools.product'>\n",
      "\n",
      "[('H', 1), ('H', 2), ('H', 3), ('H', 4), ('H', 5), ('H', 6), ('T', 1), ('T', 2), ('T', 3), ('T', 4), ('T', 5), ('T', 6)]\n",
      "<class 'list'>\n",
      "\n",
      "('H', 1)\n",
      "('H', 2)\n",
      "('H', 3)\n",
      "('H', 4)\n",
      "('H', 5)\n",
      "('H', 6)\n",
      "('T', 1)\n",
      "('T', 2)\n",
      "('T', 3)\n",
      "('T', 4)\n",
      "('T', 5)\n",
      "('T', 6)\n",
      "H 1\n",
      "H 2\n",
      "H 3\n",
      "H 4\n",
      "H 5\n",
      "H 6\n",
      "T 1\n",
      "T 2\n",
      "T 3\n",
      "T 4\n",
      "T 5\n",
      "T 6\n"
     ]
    }
   ],
   "source": [
    "import itertools as it\n",
    "\n",
    "# it.product\n",
    "a = it.product(['H', 'T'], [1, 2, 3, 4, 5, 6])\n",
    "print(a)\n",
    "print(type(a))\n",
    "print()\n",
    "\n",
    "# list comprehension\n",
    "b = [x for x in a]\n",
    "print(b)\n",
    "print(type(b))\n",
    "print()\n",
    "\n",
    "# it.product usuage \n",
    "for i in it.product(['H', 'T'], [1, 2, 3, 4, 5, 6]):\n",
    "    print(i)\n",
    "    \n",
    "# it.product usuage \n",
    "for coin_flip, numb in it.product(['H', 'T'], [1, 2, 3, 4, 5, 6]):\n",
    "    print(coin_flip, numb)"
   ]
  },
  {
   "cell_type": "markdown",
   "metadata": {},
   "source": [
    "##### 동전 세번 던지기"
   ]
  },
  {
   "cell_type": "code",
   "execution_count": 3,
   "metadata": {},
   "outputs": [
    {
     "name": "stdout",
     "output_type": "stream",
     "text": [
      "<itertools.product object at 0x110750d38>\n",
      "<class 'itertools.product'>\n",
      "\n",
      "[('H', 'H', 'H'), ('H', 'H', 'T'), ('H', 'T', 'H'), ('H', 'T', 'T'), ('T', 'H', 'H'), ('T', 'H', 'T'), ('T', 'T', 'H'), ('T', 'T', 'T')]\n",
      "<class 'list'>\n",
      "\n",
      "('H', 'H', 'H')\n",
      "('H', 'H', 'T')\n",
      "('H', 'T', 'H')\n",
      "('H', 'T', 'T')\n",
      "('T', 'H', 'H')\n",
      "('T', 'H', 'T')\n",
      "('T', 'T', 'H')\n",
      "('T', 'T', 'T')\n"
     ]
    }
   ],
   "source": [
    "import itertools as it\n",
    "\n",
    "# it.product\n",
    "a = it.product(['H', 'T'], repeat=3)\n",
    "print(a)\n",
    "print(type(a))\n",
    "print()\n",
    "\n",
    "# list comprehension\n",
    "b = [x for x in a]\n",
    "print(b)\n",
    "print(type(b))\n",
    "print()\n",
    "\n",
    "# it.product usuage \n",
    "for i in it.product(['H', 'T'], repeat=3):\n",
    "    print(i)"
   ]
  },
  {
   "cell_type": "markdown",
   "metadata": {},
   "source": [
    "##### 주사위 2번 던지기"
   ]
  },
  {
   "cell_type": "code",
   "execution_count": 4,
   "metadata": {},
   "outputs": [
    {
     "name": "stdout",
     "output_type": "stream",
     "text": [
      "<itertools.product object at 0x112e0ca68>\n",
      "<class 'itertools.product'>\n",
      "\n",
      "[(1, 1), (1, 2), (1, 3), (1, 4), (1, 5), (1, 6), (2, 1), (2, 2), (2, 3), (2, 4), (2, 5), (2, 6), (3, 1), (3, 2), (3, 3), (3, 4), (3, 5), (3, 6), (4, 1), (4, 2), (4, 3), (4, 4), (4, 5), (4, 6), (5, 1), (5, 2), (5, 3), (5, 4), (5, 5), (5, 6), (6, 1), (6, 2), (6, 3), (6, 4), (6, 5), (6, 6)]\n",
      "<class 'list'>\n",
      "\n",
      "(1, 1)\n",
      "(1, 2)\n",
      "(1, 3)\n",
      "(1, 4)\n",
      "(1, 5)\n",
      "(1, 6)\n",
      "(2, 1)\n",
      "(2, 2)\n",
      "(2, 3)\n",
      "(2, 4)\n",
      "(2, 5)\n",
      "(2, 6)\n",
      "(3, 1)\n",
      "(3, 2)\n",
      "(3, 3)\n",
      "(3, 4)\n",
      "(3, 5)\n",
      "(3, 6)\n",
      "(4, 1)\n",
      "(4, 2)\n",
      "(4, 3)\n",
      "(4, 4)\n",
      "(4, 5)\n",
      "(4, 6)\n",
      "(5, 1)\n",
      "(5, 2)\n",
      "(5, 3)\n",
      "(5, 4)\n",
      "(5, 5)\n",
      "(5, 6)\n",
      "(6, 1)\n",
      "(6, 2)\n",
      "(6, 3)\n",
      "(6, 4)\n",
      "(6, 5)\n",
      "(6, 6)\n",
      "\n",
      "(1, 1)\n",
      "(1, 2)\n",
      "(1, 3)\n",
      "(1, 4)\n",
      "(1, 5)\n",
      "(1, 6)\n",
      "(2, 1)\n",
      "(2, 2)\n",
      "(2, 3)\n",
      "(2, 4)\n",
      "(2, 5)\n",
      "(2, 6)\n",
      "(3, 1)\n",
      "(3, 2)\n",
      "(3, 3)\n",
      "(3, 4)\n",
      "(3, 5)\n",
      "(3, 6)\n",
      "(4, 1)\n",
      "(4, 2)\n",
      "(4, 3)\n",
      "(4, 4)\n",
      "(4, 5)\n",
      "(4, 6)\n",
      "(5, 1)\n",
      "(5, 2)\n",
      "(5, 3)\n",
      "(5, 4)\n",
      "(5, 5)\n",
      "(5, 6)\n",
      "(6, 1)\n",
      "(6, 2)\n",
      "(6, 3)\n",
      "(6, 4)\n",
      "(6, 5)\n",
      "(6, 6)\n"
     ]
    }
   ],
   "source": [
    "import numpy as np\n",
    "import itertools as it\n",
    "\n",
    "# it.product\n",
    "a = it.product(np.arange(1,7), repeat=2)\n",
    "print(a)\n",
    "print(type(a))\n",
    "print()\n",
    "\n",
    "# list comprehension\n",
    "b = [x for x in a]\n",
    "print(b)\n",
    "print(type(b))\n",
    "print()\n",
    "\n",
    "# it.product usuage\n",
    "for i in it.product(np.arange(1,7), repeat=2):\n",
    "    print(i)"
   ]
  },
  {
   "cell_type": "markdown",
   "metadata": {},
   "source": [
    "[<a href=\"#itertools\">Back to top</a>]"
   ]
  },
  {
   "cell_type": "markdown",
   "metadata": {},
   "source": [
    "# it.combinations"
   ]
  },
  {
   "cell_type": "markdown",
   "metadata": {},
   "source": [
    "##### 빨강, 초록, 파랑색 공중 두개의 공 뽑기"
   ]
  },
  {
   "cell_type": "code",
   "execution_count": 5,
   "metadata": {},
   "outputs": [
    {
     "name": "stdout",
     "output_type": "stream",
     "text": [
      "('red', 'green')\n",
      "('red', 'blue')\n",
      "('green', 'blue')\n"
     ]
    }
   ],
   "source": [
    "import itertools as it\n",
    "\n",
    "for i in it.combinations(['red','green','blue'], 2):\n",
    "    print(i)"
   ]
  },
  {
   "cell_type": "markdown",
   "metadata": {},
   "source": [
    "[<a href=\"#itertools\">Back to top</a>]"
   ]
  },
  {
   "cell_type": "markdown",
   "metadata": {},
   "source": [
    "# it.combinations_with_replacement "
   ]
  },
  {
   "cell_type": "markdown",
   "metadata": {},
   "source": [
    "##### 빨강, 초록, 파랑색 공중 두개의 공 뽑기 - with replacement"
   ]
  },
  {
   "cell_type": "code",
   "execution_count": 6,
   "metadata": {},
   "outputs": [
    {
     "name": "stdout",
     "output_type": "stream",
     "text": [
      "('red', 'red')\n",
      "('red', 'green')\n",
      "('red', 'blue')\n",
      "('green', 'green')\n",
      "('green', 'blue')\n",
      "('blue', 'blue')\n"
     ]
    }
   ],
   "source": [
    "import itertools as it\n",
    "\n",
    "for i in it.combinations_with_replacement(['red','green','blue'], 2):\n",
    "    print(i)"
   ]
  },
  {
   "cell_type": "markdown",
   "metadata": {
    "collapsed": true
   },
   "source": [
    "[<a href=\"#itertools\">Back to top</a>]"
   ]
  }
 ],
 "metadata": {
  "kernelspec": {
   "display_name": "Python 3",
   "language": "python",
   "name": "python3"
  },
  "language_info": {
   "codemirror_mode": {
    "name": "ipython",
    "version": 3
   },
   "file_extension": ".py",
   "mimetype": "text/x-python",
   "name": "python",
   "nbconvert_exporter": "python",
   "pygments_lexer": "ipython3",
   "version": "3.5.0"
  }
 },
 "nbformat": 4,
 "nbformat_minor": 2
}
