{
 "cells": [
  {
   "cell_type": "markdown",
   "metadata": {},
   "source": [
    "# eval"
   ]
  },
  {
   "cell_type": "code",
   "execution_count": 15,
   "metadata": {},
   "outputs": [
    {
     "name": "stdout",
     "output_type": "stream",
     "text": [
      "팀 이름 : A\n",
      "A의 승률 : 0.5769230769230769\n"
     ]
    }
   ],
   "source": [
    "A = {'승': 45, '패':33, '무승부':0}\n",
    "B = {'승': 44, '패':29, '무승부':5}\n",
    "C = {'승': 41, '패':32, '무승부':5}\n",
    "\n",
    "# https://www.w3schools.com/python/ref_func_eval.asp\n",
    "# The eval() function evaluates the specified expression, \n",
    "# if the expression is a legal Python statement, it will be executed.\n",
    "x = input('팀 이름 : ')\n",
    "x_variable = eval(x)\n",
    "\n",
    "print('{}의 승률 : {}'.format(x, x_variable['승']/(x_variable['승']+x_variable['패'])))"
   ]
  },
  {
   "cell_type": "code",
   "execution_count": 14,
   "metadata": {},
   "outputs": [
    {
     "name": "stdout",
     "output_type": "stream",
     "text": [
      "55\n"
     ]
    }
   ],
   "source": [
    "# https://www.w3schools.com/python/ref_func_eval.asp\n",
    "\n",
    "x = 'print(55)'\n",
    "eval(x)"
   ]
  },
  {
   "cell_type": "code",
   "execution_count": null,
   "metadata": {},
   "outputs": [],
   "source": []
  }
 ],
 "metadata": {
  "kernelspec": {
   "display_name": "Python 3",
   "language": "python",
   "name": "python3"
  },
  "language_info": {
   "codemirror_mode": {
    "name": "ipython",
    "version": 3
   },
   "file_extension": ".py",
   "mimetype": "text/x-python",
   "name": "python",
   "nbconvert_exporter": "python",
   "pygments_lexer": "ipython3",
   "version": "3.5.0"
  }
 },
 "nbformat": 4,
 "nbformat_minor": 2
}
