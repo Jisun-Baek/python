{
 "cells": [
  {
   "cell_type": "markdown",
   "metadata": {},
   "source": [
    "# Generators "
   ]
  },
  {
   "cell_type": "markdown",
   "metadata": {},
   "source": [
    "Corey_Schafer [youtube](https://www.youtube.com/watch?v=bD05uGo_sVI&list=PL-osiE80TeTt2d9bfVyTiXJA-UTHn6WwU&index=28) [github](https://github.com/CoreyMSchafer/code_snippets/tree/master/Generators)"
   ]
  },
  {
   "cell_type": "markdown",
   "metadata": {},
   "source": [
    "Generators are used when playing with data volumes that don't fit in memory. No one cares about execution time when using generators. It's about memory.\n",
    "\n",
    "https://www.youtube.com/watch?v=bD05uGo_sVI&list=PL-osiE80TeTt2d9bfVyTiXJA-UTHn6WwU&index=28"
   ]
  },
  {
   "cell_type": "markdown",
   "metadata": {},
   "source": [
    "<a href=\"#제너레이터\">제너레이터</a>\n",
    "\n",
    "<a href=\"#제너레이터는-한번에-하나씩-제너레이트한다\">제너레이터는 한번에 하나씩 제너레이트한다</a>\n",
    "\n",
    "<a href=\"#리스트-컴프리헨션과-제너레이터-컴프리헨션\">리스트 컴프리헨션과 제너레이터 컴프리헨션</a>\n",
    "\n",
    "<a href=\"#제너레이터를-리스트로-변환하기\">제너레이터를 리스트로 변환하기</a>\n",
    "\n",
    "<a href=\"#제너레이터는-메모리를-적게-사용한다\">제너레이터는 메모리를 적게 사용한다</a>\n",
    "\n",
    "<a href=\"#range-is-an-iterator\">range is an iterator</a>"
   ]
  },
  {
   "cell_type": "markdown",
   "metadata": {},
   "source": [
    "# 제너레이터"
   ]
  },
  {
   "cell_type": "markdown",
   "metadata": {},
   "source": [
    "다음 코드는 리스트 [1, 2, 3, 4, 5]을 받아 각각의 컴포넌트를 제곱하여 새로운 리스트를 만는다."
   ]
  },
  {
   "cell_type": "code",
   "execution_count": 1,
   "metadata": {},
   "outputs": [
    {
     "name": "stdout",
     "output_type": "stream",
     "text": [
      "[1, 4, 9, 16, 25]\n",
      "<class 'list'>\n",
      "\n",
      "1\n",
      "4\n",
      "9\n",
      "16\n",
      "25\n"
     ]
    }
   ],
   "source": [
    "def square_numbers(nums):\n",
    "    result = []\n",
    "    for i in nums:\n",
    "        result.append(i*i)\n",
    "    return result\n",
    "\n",
    "my_nums = square_numbers([1,2,3,4,5])\n",
    "print(my_nums)\n",
    "print(type(my_nums))\n",
    "print()\n",
    "\n",
    "for i in my_nums:\n",
    "    print(i)"
   ]
  },
  {
   "cell_type": "markdown",
   "metadata": {},
   "source": [
    "이 코드를 제너레이터를 만드는 코드로 수정해 보자."
   ]
  },
  {
   "cell_type": "code",
   "execution_count": 2,
   "metadata": {},
   "outputs": [
    {
     "name": "stdout",
     "output_type": "stream",
     "text": [
      "<generator object square_numbers at 0x10fc5eca8>\n",
      "<class 'generator'>\n",
      "\n",
      "1\n",
      "4\n",
      "9\n",
      "16\n",
      "25\n"
     ]
    }
   ],
   "source": [
    "def square_numbers(nums):\n",
    "    for i in nums:\n",
    "        yield i*i\n",
    "        \n",
    "my_nums = square_numbers([1,2,3,4,5])\n",
    "print(my_nums)\n",
    "print(type(my_nums))\n",
    "print()\n",
    "\n",
    "for i in my_nums:\n",
    "    print(i)"
   ]
  },
  {
   "cell_type": "markdown",
   "metadata": {},
   "source": [
    "[<a href=\"#Generators\">Back to top</a>]"
   ]
  },
  {
   "cell_type": "markdown",
   "metadata": {},
   "source": [
    "# 제너레이터는 한번에 하나씩 제너레이트한다"
   ]
  },
  {
   "cell_type": "markdown",
   "metadata": {},
   "source": [
    "리스트를 이용한 계산에서는 요구하는 계산을 다 해서 메모리에 저장한다.\n",
    "이에 반해\n",
    "제너레이터는 \n",
    "코드가 요구할 때마다 요구하는 계산을 해서 쏘아준다.\n",
    "요구하는 계산을 다 해서 한꺼번에 몽땅 메모리에 저장하지 않는다."
   ]
  },
  {
   "cell_type": "markdown",
   "metadata": {},
   "source": [
    "next함수를 이용하면 다음 항목을 제너레이트하도록 요구할 수 있다."
   ]
  },
  {
   "cell_type": "code",
   "execution_count": 3,
   "metadata": {},
   "outputs": [
    {
     "name": "stdout",
     "output_type": "stream",
     "text": [
      "<generator object square_numbers at 0x10fc5edb0>\n",
      "<class 'generator'>\n",
      "\n",
      "1\n",
      "4\n",
      "9\n",
      "16\n",
      "25\n",
      "\n"
     ]
    }
   ],
   "source": [
    "def square_numbers(nums):\n",
    "    for i in nums:\n",
    "        yield i*i\n",
    "        \n",
    "my_nums = square_numbers([1,2,3,4,5])\n",
    "print(my_nums)\n",
    "print(type(my_nums))\n",
    "print()\n",
    "\n",
    "print(next(my_nums)) # 1\n",
    "print(next(my_nums)) # 4 \n",
    "print(next(my_nums)) # 9\n",
    "print(next(my_nums)) # 16\n",
    "print(next(my_nums)) # 25\n",
    "try:\n",
    "    print(next(my_nums))\n",
    "except Exception as e:\n",
    "    print(e)"
   ]
  },
  {
   "cell_type": "markdown",
   "metadata": {},
   "source": [
    "요구한 항목들을 차례대로 다 제너레이트한 후에,\n",
    "next함수가 또 새로운 항목을 요구하면 StopIteration 에러를 발생시킨다. "
   ]
  },
  {
   "cell_type": "markdown",
   "metadata": {},
   "source": [
    "[<a href=\"#Generators\">Back to top</a>]"
   ]
  },
  {
   "cell_type": "markdown",
   "metadata": {},
   "source": [
    "# 리스트 컴프리헨션과 제너레이터 컴프리헨션"
   ]
  },
  {
   "cell_type": "markdown",
   "metadata": {},
   "source": [
    "리스트 컴프리헨션을 보자.\n",
    "다음 코드는 리스트 [1, 2, 3, 4, 5]을 받아 각각의 컴포넌트를 제곱하여 새로운 리스트를 만는다."
   ]
  },
  {
   "cell_type": "code",
   "execution_count": 4,
   "metadata": {},
   "outputs": [
    {
     "name": "stdout",
     "output_type": "stream",
     "text": [
      "[1, 4, 9, 16, 25]\n",
      "<class 'list'>\n",
      "\n",
      "1\n",
      "4\n",
      "9\n",
      "16\n",
      "25\n"
     ]
    }
   ],
   "source": [
    "x = [i*i for i in [1,2,3,4,5]]\n",
    "print(x)\n",
    "print(type(x))\n",
    "print()\n",
    "\n",
    "for i in x:\n",
    "    print(i)"
   ]
  },
  {
   "cell_type": "markdown",
   "metadata": {},
   "source": [
    "이 코드를 제너레이터를 만드는 코드로 수정해 보자."
   ]
  },
  {
   "cell_type": "code",
   "execution_count": 5,
   "metadata": {},
   "outputs": [
    {
     "name": "stdout",
     "output_type": "stream",
     "text": [
      "<generator object <genexpr> at 0x10fc85200>\n",
      "<class 'generator'>\n",
      "\n",
      "1\n",
      "4\n",
      "9\n",
      "16\n",
      "25\n"
     ]
    }
   ],
   "source": [
    "x = (i*i for i in [1,2,3,4,5])\n",
    "print(x)\n",
    "print(type(x))\n",
    "print()\n",
    "\n",
    "for i in x:\n",
    "    print(i)"
   ]
  },
  {
   "cell_type": "markdown",
   "metadata": {},
   "source": [
    "[<a href=\"#Generators\">Back to top</a>]"
   ]
  },
  {
   "cell_type": "markdown",
   "metadata": {},
   "source": [
    "# 제너레이터를 리스트로 변환하기"
   ]
  },
  {
   "cell_type": "markdown",
   "metadata": {},
   "source": [
    "제너레이터를 리스트로 다음과 같이 변환할 수 있다.\n",
    "하지만 이렀게 하면\n",
    "제너레이터가 가져오는 코드의 성능향상을 포기하는 것이다."
   ]
  },
  {
   "cell_type": "code",
   "execution_count": 13,
   "metadata": {},
   "outputs": [
    {
     "name": "stdout",
     "output_type": "stream",
     "text": [
      "[1, 4, 9, 16, 25]\n",
      "<class 'list'>\n"
     ]
    }
   ],
   "source": [
    "x = list((i*i for i in [1,2,3,4,5]))\n",
    "print(x)\n",
    "print(type(x))"
   ]
  },
  {
   "cell_type": "markdown",
   "metadata": {},
   "source": [
    "[<a href=\"#Generators\">Back to top</a>]"
   ]
  },
  {
   "cell_type": "markdown",
   "metadata": {},
   "source": [
    "# 제너레이터는 메모리를 절약한다"
   ]
  },
  {
   "cell_type": "markdown",
   "metadata": {},
   "source": [
    "데이타가 작으면 두 방법의 차이를 느끼지 못하지만,\n",
    "데이타가 큰 경우 제너레이터를 사용하면 메모리와 컴퓨팅시간을 절약할 수 있다."
   ]
  },
  {
   "cell_type": "markdown",
   "metadata": {},
   "source": [
    "먼저 메모리를 측정하는 모듈을 인스톨하자.\n",
    "\n",
    "```\n",
    "$ pip install memory_profiler\n",
    "$ pip install memory_profiler --upgrade\n",
    "```\n",
    "\n",
    "or\n",
    "\n",
    "```\n",
    "$ easy_install -U memory_profiler # pip install -U memory_profiler\n",
    "```\n",
    "\n",
    "https://github.com/fabianp/memory_profiler#ipython-integration"
   ]
  },
  {
   "cell_type": "markdown",
   "metadata": {},
   "source": [
    "### 많은 양의 데이타를 생성하는 함수를 만드는데, 하나는 리스트로 다른 하나는 제너레이터로 만들었다."
   ]
  },
  {
   "cell_type": "code",
   "execution_count": 15,
   "metadata": {},
   "outputs": [
    {
     "name": "stdout",
     "output_type": "stream",
     "text": [
      "[{'name': 'John', 'id': 0, 'major': 'Math'}, {'name': 'Rick', 'id': 1, 'major': 'Engineering'}, {'name': 'John', 'id': 2, 'major': 'Math'}, {'name': 'Thomas', 'id': 3, 'major': 'Business'}, {'name': 'Corey', 'id': 4, 'major': 'Math'}]\n",
      "\n",
      "The memory_profiler extension is already loaded. To reload it, use:\n",
      "  %reload_ext memory_profiler\n",
      "peak memory: 587.85 MiB, increment: 472.02 MiB\n",
      "9.27 s ± 119 ms per loop (mean ± std. dev. of 7 runs, 1 loop each)\n"
     ]
    }
   ],
   "source": [
    "import numpy as np\n",
    "\n",
    "names = ['John', 'Corey', 'Adam', 'Steve', 'Rick', 'Thomas']\n",
    "majors = ['Math', 'Engineering', 'CompSci', 'Arts', 'Business']\n",
    "\n",
    "def people_list(num_people):\n",
    "    result = []\n",
    "    for i in range(num_people):\n",
    "        person = {\n",
    "                    'id'   : i,\n",
    "                    'name' : np.random.choice(names),\n",
    "                    'major': np.random.choice(majors)\n",
    "                }\n",
    "        result.append(person)\n",
    "    return result\n",
    "\n",
    "x = people_list(5)\n",
    "print(x)\n",
    "print()\n",
    "\n",
    "%load_ext memory_profiler       \n",
    "%memit people_list(1000000)\n",
    "%timeit people_list(1000000)"
   ]
  },
  {
   "cell_type": "code",
   "execution_count": 16,
   "metadata": {},
   "outputs": [
    {
     "name": "stdout",
     "output_type": "stream",
     "text": [
      "<generator object people_generator at 0x11f68b9e8>\n",
      "{'name': 'Thomas', 'id': 0, 'major': 'Arts'}\n",
      "{'name': 'John', 'id': 1, 'major': 'Math'}\n",
      "{'name': 'Rick', 'id': 2, 'major': 'CompSci'}\n",
      "{'name': 'Adam', 'id': 3, 'major': 'Math'}\n",
      "{'name': 'John', 'id': 4, 'major': 'CompSci'}\n",
      "\n",
      "<generator object people_generator at 0x13e7584c0>\n",
      "{'name': 'Adam', 'id': 0, 'major': 'Engineering'}\n",
      "{'name': 'Steve', 'id': 1, 'major': 'CompSci'}\n",
      "{'name': 'Thomas', 'id': 2, 'major': 'Business'}\n",
      "{'name': 'Adam', 'id': 3, 'major': 'Arts'}\n",
      "{'name': 'Corey', 'id': 4, 'major': 'Math'}\n",
      "\n",
      "peak memory: 92.51 MiB, increment: 0.00 MiB\n",
      "199 ns ± 2.52 ns per loop (mean ± std. dev. of 7 runs, 10000000 loops each)\n"
     ]
    }
   ],
   "source": [
    "import numpy as np\n",
    "\n",
    "names = ['John', 'Corey', 'Adam', 'Steve', 'Rick', 'Thomas']\n",
    "majors = ['Math', 'Engineering', 'CompSci', 'Arts', 'Business']\n",
    "\n",
    "def people_generator(num_people):\n",
    "    for i in range(num_people):\n",
    "        person = {\n",
    "                    'id'   : i,\n",
    "                    'name' : np.random.choice(names),\n",
    "                    'major': np.random.choice(majors)\n",
    "                }\n",
    "        yield person\n",
    "        \n",
    "x = people_generator(5)        \n",
    "print(x)\n",
    "print(next(x))\n",
    "print(next(x))\n",
    "print(next(x))\n",
    "print(next(x))\n",
    "print(next(x))\n",
    "print()\n",
    "\n",
    "x = people_generator(5)        \n",
    "print(x)\n",
    "print(next(x))\n",
    "print(next(x))\n",
    "print(next(x))\n",
    "print(next(x))\n",
    "print(next(x))\n",
    "print()\n",
    "\n",
    "%reload_ext memory_profiler       \n",
    "%memit people_generator(1000000)\n",
    "%timeit people_generator(1000000)"
   ]
  },
  {
   "cell_type": "markdown",
   "metadata": {},
   "source": [
    "The mebibyte is a multiple of the unit byte for digital information.[1] The binary prefix mebi means 220; therefore one mebibyte is equal to 1048576bytes = 1024 kibibytes. The unit symbol for the mebibyte is MiB. Technically a megabyte (MB) is a power of ten, while a mebibyte (MiB) is a power of two, appropriate for binary machines.\n",
    "\n",
    "https://en.wikipedia.org/wiki/Mebibyte"
   ]
  },
  {
   "cell_type": "markdown",
   "metadata": {},
   "source": [
    "### 숫자들이 주어졌을때, 이들 숫자중 3의 배수가 몇개 있는가를 세는 문제를 생각하자."
   ]
  },
  {
   "cell_type": "code",
   "execution_count": 19,
   "metadata": {},
   "outputs": [
    {
     "name": "stdout",
     "output_type": "stream",
     "text": [
      "4\n",
      "4\n",
      "\n",
      "peak memory: 196.85 MiB, increment: 104.40 MiB\n",
      "923 ms ± 23.3 ms per loop (mean ± std. dev. of 7 runs, 1 loop each)\n",
      "3333334\n"
     ]
    }
   ],
   "source": [
    "def divisible_by_three_list(numbers):\n",
    "    filtered = [n for n in numbers if n % 3 == 0]\n",
    "    return len(filtered)\n",
    "\n",
    "print(divisible_by_three_list([0,1,2,3,4,5,6,7,8,9]))\n",
    "print(divisible_by_three_list(range(10)))\n",
    "print()\n",
    "\n",
    "%reload_ext memory_profiler       \n",
    "%memit divisible_by_three_list(range(10000000))\n",
    "%timeit divisible_by_three_list(range(10000000))\n",
    "print(divisible_by_three_list(range(10000000)))"
   ]
  },
  {
   "cell_type": "code",
   "execution_count": 20,
   "metadata": {},
   "outputs": [
    {
     "name": "stdout",
     "output_type": "stream",
     "text": [
      "4\n",
      "4\n",
      "\n",
      "peak memory: 117.53 MiB, increment: 0.00 MiB\n",
      "967 ms ± 27.8 ms per loop (mean ± std. dev. of 7 runs, 1 loop each)\n",
      "3333334\n"
     ]
    }
   ],
   "source": [
    "def divisible_by_three_iterator(numbers):\n",
    "    filtered = (1 for n in numbers if n % 3 == 0)\n",
    "    return sum(filtered)\n",
    "\n",
    "print(divisible_by_three_iterator([0,1,2,3,4,5,6,7,8,9]))\n",
    "print(divisible_by_three_iterator(range(10)))\n",
    "print()\n",
    "\n",
    "%reload_ext memory_profiler       \n",
    "%memit divisible_by_three_iterator(range(10000000))\n",
    "%timeit divisible_by_three_iterator(range(10000000))\n",
    "print(divisible_by_three_iterator(range(10000000)))"
   ]
  },
  {
   "cell_type": "markdown",
   "metadata": {},
   "source": [
    "[<a href=\"#Generators\">Back to top</a>]"
   ]
  },
  {
   "cell_type": "markdown",
   "metadata": {},
   "source": [
    "# range is an iterator"
   ]
  },
  {
   "cell_type": "code",
   "execution_count": 21,
   "metadata": {},
   "outputs": [
    {
     "name": "stdout",
     "output_type": "stream",
     "text": [
      "<generator object my_range at 0x13eb00d58>\n",
      "<class 'generator'>\n",
      "\n",
      "0\n",
      "1\n",
      "2\n",
      "3\n",
      "4\n",
      "5\n",
      "6\n",
      "7\n",
      "8\n",
      "9\n"
     ]
    }
   ],
   "source": [
    "def my_range(start, stop, step=1):\n",
    "    while start < stop:\n",
    "        yield start\n",
    "        start += step\n",
    "        \n",
    "print(my_range(0,10))\n",
    "print(type(my_range(0,10)))\n",
    "print()\n",
    "\n",
    "for i in my_range(0,10):\n",
    "    print(i)"
   ]
  },
  {
   "cell_type": "code",
   "execution_count": 12,
   "metadata": {},
   "outputs": [
    {
     "name": "stdout",
     "output_type": "stream",
     "text": [
      "range(0, 10)\n",
      "<class 'range'>\n",
      "\n",
      "0\n",
      "1\n",
      "2\n",
      "3\n",
      "4\n",
      "5\n",
      "6\n",
      "7\n",
      "8\n",
      "9\n"
     ]
    }
   ],
   "source": [
    "print(range(10))\n",
    "print(type(range(10)))\n",
    "print()\n",
    "\n",
    "for i in range(10):\n",
    "    print(i)"
   ]
  },
  {
   "cell_type": "markdown",
   "metadata": {},
   "source": [
    "[<a href=\"#Generators\">Back to top</a>]"
   ]
  }
 ],
 "metadata": {
  "kernelspec": {
   "display_name": "Python 3",
   "language": "python",
   "name": "python3"
  },
  "language_info": {
   "codemirror_mode": {
    "name": "ipython",
    "version": 3
   },
   "file_extension": ".py",
   "mimetype": "text/x-python",
   "name": "python",
   "nbconvert_exporter": "python",
   "pygments_lexer": "ipython3",
   "version": "3.5.0"
  }
 },
 "nbformat": 4,
 "nbformat_minor": 2
}
