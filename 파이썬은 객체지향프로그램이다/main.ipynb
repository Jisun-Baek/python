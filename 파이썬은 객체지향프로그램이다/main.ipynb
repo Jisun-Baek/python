{
 "cells": [
  {
   "cell_type": "code",
   "execution_count": 6,
   "metadata": {},
   "outputs": [
    {
     "name": "stdout",
     "output_type": "stream",
     "text": [
      "1 <class 'str'>\n"
     ]
    }
   ],
   "source": [
    "a = 1\n",
    "a = 1.\n",
    "a = 1. + 2.J\n",
    "a = '1'\n",
    "print(a, type(a))"
   ]
  },
  {
   "cell_type": "code",
   "execution_count": 22,
   "metadata": {},
   "outputs": [
    {
     "name": "stdout",
     "output_type": "stream",
     "text": [
      "[1 2 3] <class 'numpy.ndarray'>\n"
     ]
    }
   ],
   "source": [
    "import numpy as np\n",
    "a = [1,2,3]\n",
    "a = (1,2,3)\n",
    "a = {1,2,3}\n",
    "a = {1:1,2:2,3:3}\n",
    "a = np.array([1,2,3])\n",
    "print(a, type(a))"
   ]
  },
  {
   "cell_type": "code",
   "execution_count": 11,
   "metadata": {},
   "outputs": [
    {
     "name": "stdout",
     "output_type": "stream",
     "text": [
      "<__main__.One_Plus_One object at 0x7f94f84327b8> <class '__main__.One_Plus_One'>\n"
     ]
    }
   ],
   "source": [
    "class One_Plus_One:\n",
    "    \n",
    "    def __init__(self, string):\n",
    "        self.string = string\n",
    "        \n",
    "    def __add__(self, other):\n",
    "        if (self.string=='1') and (other.string=='1'):\n",
    "            return '일더하기 일은 귀요미'\n",
    "        \n",
    "        \n",
    "a = One_Plus_One('1')\n",
    "print(a, type(a))"
   ]
  },
  {
   "cell_type": "code",
   "execution_count": 20,
   "metadata": {},
   "outputs": [
    {
     "name": "stdout",
     "output_type": "stream",
     "text": [
      "HelloWorld <class 'str'>\n"
     ]
    }
   ],
   "source": [
    "a = 1 + 1\n",
    "a = 1. + 1.\n",
    "a = 1.J + 1.J\n",
    "a = 1 + 1. # broadcasting\n",
    "a = 1 + 1.J # broadcasting\n",
    "a = 1. + 1.J # broadcasting\n",
    "a = '1' + '1'\n",
    "print(a, type(a))"
   ]
  },
  {
   "cell_type": "code",
   "execution_count": 29,
   "metadata": {},
   "outputs": [
    {
     "name": "stdout",
     "output_type": "stream",
     "text": [
      "[5 7 9] <class 'numpy.ndarray'>\n"
     ]
    }
   ],
   "source": [
    "import numpy as np\n",
    "a = [1,2,3] + [4,5,6]\n",
    "a = (1,2,3) + (4,5,6)\n",
    "# a = {1,2,3} + {4,5,6} # TypeError: unsupported operand type(s) for +: 'set' and 'set'\n",
    "# a = {1:1,2:2,3:3} + {'four':4,'five':5,'six':6} # TypeError: unsupported operand type(s) for +: 'dict' and 'dict'\n",
    "a = np.array([1,2,3]) + np.array([4,5,6])\n",
    "print(a, type(a))"
   ]
  },
  {
   "cell_type": "code",
   "execution_count": 32,
   "metadata": {},
   "outputs": [
    {
     "name": "stdout",
     "output_type": "stream",
     "text": [
      "<__main__.One_Plus_One object at 0x7f94f8484b70> <class '__main__.One_Plus_One'>\n",
      "<__main__.One_Plus_One object at 0x7f94f8484b38> <class '__main__.One_Plus_One'>\n",
      "일더하기 일은 귀요미 <class 'str'>\n"
     ]
    }
   ],
   "source": [
    "class One_Plus_One:\n",
    "    \n",
    "    def __init__(self, string):\n",
    "        self.string = string\n",
    "        \n",
    "    def __add__(self, other):\n",
    "        if (self.string=='1') and (other.string=='1'):\n",
    "            return '일더하기 일은 귀요미'\n",
    "\n",
    "        \n",
    "a1 = One_Plus_One('1')\n",
    "a2 = One_Plus_One('1')\n",
    "print(a1, type(a1))\n",
    "print(a2, type(a2))\n",
    "\n",
    "a = a1 + a2\n",
    "print(a, type(a))"
   ]
  },
  {
   "cell_type": "code",
   "execution_count": null,
   "metadata": {},
   "outputs": [],
   "source": []
  }
 ],
 "metadata": {
  "kernelspec": {
   "display_name": "Python 3",
   "language": "python",
   "name": "python3"
  },
  "language_info": {
   "codemirror_mode": {
    "name": "ipython",
    "version": 3
   },
   "file_extension": ".py",
   "mimetype": "text/x-python",
   "name": "python",
   "nbconvert_exporter": "python",
   "pygments_lexer": "ipython3",
   "version": "3.7.3"
  }
 },
 "nbformat": 4,
 "nbformat_minor": 2
}
