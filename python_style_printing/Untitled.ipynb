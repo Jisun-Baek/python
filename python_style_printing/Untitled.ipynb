{
 "cells": [
  {
   "cell_type": "markdown",
   "metadata": {},
   "source": [
    "# My name is Ariel and I am 26 years old."
   ]
  },
  {
   "cell_type": "code",
   "execution_count": 1,
   "metadata": {},
   "outputs": [
    {
     "name": "stdout",
     "output_type": "stream",
     "text": [
      "My name is Ariel and I am 26 years old.\n",
      "My name is Ariel and I am 26 years old.\n",
      "My name is Ariel and I am 26 years old.\n"
     ]
    }
   ],
   "source": [
    "name = 'Ariel'\n",
    "age = 26\n",
    "print(\"My name is {} and I am {} years old.\".format(name, age)) \n",
    "print(\"My name is {0} and I am {1} years old.\".format(name, age))\n",
    "print(\"My name is {1} and I am {0} years old.\".format(age, name))"
   ]
  },
  {
   "cell_type": "markdown",
   "metadata": {},
   "source": [
    "# use list"
   ]
  },
  {
   "cell_type": "code",
   "execution_count": 2,
   "metadata": {},
   "outputs": [
    {
     "name": "stdout",
     "output_type": "stream",
     "text": [
      "My name is Ariel and I am 26 years old.\n"
     ]
    }
   ],
   "source": [
    "info_list = ['Ariel', 26]\n",
    "print(\"My name is {0[0]} and I am {0[1]} years old.\".format(info_list)) "
   ]
  },
  {
   "cell_type": "markdown",
   "metadata": {},
   "source": [
    "# use dict"
   ]
  },
  {
   "cell_type": "code",
   "execution_count": 14,
   "metadata": {},
   "outputs": [
    {
     "name": "stdout",
     "output_type": "stream",
     "text": [
      "My name is Ariel and I am 26 years old.\n",
      "My name is Ariel and I am 26 years old.\n",
      "My name is Ariel and I am 26 years old.\n"
     ]
    }
   ],
   "source": [
    "info_dict = {'name': 'Ariel', 'age': 26}\n",
    "print(\"My name is {0[name]} and I am {0[age]} years old.\".format(info_dict)) \n",
    "print(\"My name is {name} and I am {age} years old.\".format(**info_dict))\n",
    "print(\"My name is {name} and I am {age} years old.\".format(name='Ariel', age='26')) "
   ]
  },
  {
   "cell_type": "markdown",
   "metadata": {},
   "source": [
    "# use class"
   ]
  },
  {
   "cell_type": "code",
   "execution_count": 4,
   "metadata": {},
   "outputs": [
    {
     "name": "stdout",
     "output_type": "stream",
     "text": [
      "My name is Ariel and I am 26 years old.\n"
     ]
    }
   ],
   "source": [
    "class Person():\n",
    "    def __init__(self, name, age):\n",
    "        self.name = name\n",
    "        self.age = age       \n",
    "info_class = Person('Ariel', 26)\n",
    "print('My name is {0.name} and I am {0.age} years old.'.format(info_class))"
   ]
  },
  {
   "cell_type": "markdown",
   "metadata": {},
   "source": [
    "# Yearly Return: 3.14%"
   ]
  },
  {
   "cell_type": "code",
   "execution_count": 5,
   "metadata": {},
   "outputs": [
    {
     "name": "stdout",
     "output_type": "stream",
     "text": [
      "Yearly Return: 3.14%\n"
     ]
    }
   ],
   "source": [
    "yearly_return = 0.0314\n",
    "print('Yearly Return: {:.2%}'.format(yearly_return))"
   ]
  },
  {
   "cell_type": "markdown",
   "metadata": {},
   "source": [
    "# 1 MB is equal to 1,000,000.00 bytes"
   ]
  },
  {
   "cell_type": "code",
   "execution_count": 6,
   "metadata": {},
   "outputs": [
    {
     "name": "stdout",
     "output_type": "stream",
     "text": [
      "1 MB is equal to 1000000 bytes.\n",
      "1 MB is equal to 1,000,000 bytes.\n",
      "1 MB is equal to 1,000,000.00 bytes.\n"
     ]
    }
   ],
   "source": [
    "print('1 MB is equal to {} bytes.'.format(1000**2))\n",
    "print('1 MB is equal to {:,} bytes.'.format(1000**2))\n",
    "print('1 MB is equal to {:,.2f} bytes.'.format(1000**2))"
   ]
  },
  {
   "cell_type": "markdown",
   "metadata": {},
   "source": [
    "# 2019-12-11 21:20:35"
   ]
  },
  {
   "cell_type": "code",
   "execution_count": 7,
   "metadata": {},
   "outputs": [
    {
     "name": "stdout",
     "output_type": "stream",
     "text": [
      "2019-12-11 21:20:35\n"
     ]
    }
   ],
   "source": [
    "import datetime\n",
    "my_date = datetime.datetime(2019, 12, 11, 21, 20, 35)\n",
    "print(my_date)"
   ]
  },
  {
   "cell_type": "code",
   "execution_count": 8,
   "metadata": {},
   "outputs": [
    {
     "name": "stdout",
     "output_type": "stream",
     "text": [
      "December 11, 2019\n",
      "December 11, 2019\n"
     ]
    }
   ],
   "source": [
    "import datetime\n",
    "my_date = datetime.datetime(2019, 12, 11, 21, 20, 35)\n",
    "print('{:%B %d, %Y}'.format(my_date))\n",
    "print('{0:%B %d, %Y}'.format(my_date))"
   ]
  },
  {
   "cell_type": "code",
   "execution_count": 13,
   "metadata": {},
   "outputs": [
    {
     "name": "stdout",
     "output_type": "stream",
     "text": [
      "December 11, 2019 was Wednesday and the 345 day of the year.\n"
     ]
    }
   ],
   "source": [
    "import datetime\n",
    "my_date = datetime.datetime(2019, 12, 11, 21, 20, 35)\n",
    "# msg = '{:%B %d, %Y} was {:%A} and the {:%j} day of the year.' # error\n",
    "msg = '{0:%B %d, %Y} was {0:%A} and the {0:%j} day of the year.'\n",
    "print(msg.format(my_date))"
   ]
  },
  {
   "cell_type": "code",
   "execution_count": null,
   "metadata": {},
   "outputs": [],
   "source": []
  }
 ],
 "metadata": {
  "kernelspec": {
   "display_name": "Python 3",
   "language": "python",
   "name": "python3"
  },
  "language_info": {
   "codemirror_mode": {
    "name": "ipython",
    "version": 3
   },
   "file_extension": ".py",
   "mimetype": "text/x-python",
   "name": "python",
   "nbconvert_exporter": "python",
   "pygments_lexer": "ipython3",
   "version": "3.6.9"
  }
 },
 "nbformat": 4,
 "nbformat_minor": 2
}
