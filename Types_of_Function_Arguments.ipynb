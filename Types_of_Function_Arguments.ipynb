{
 "cells": [
  {
   "cell_type": "markdown",
   "metadata": {},
   "source": [
    "# Types of Function Arguments"
   ]
  },
  {
   "cell_type": "markdown",
   "metadata": {},
   "source": [
    "Telusko [youtube](https://www.youtube.com/watch?v=eci9iU_s6Ag)"
   ]
  },
  {
   "cell_type": "markdown",
   "metadata": {},
   "source": [
    "<a href=\"#Positional-Arguments\">Positional Arguments</a>\n",
    "\n",
    "<a href=\"#Keyward-Arguments\">Keyward Arguments</a>\n",
    "\n",
    "<a href=\"#Default-Arguments\">Default Arguments</a>\n",
    "\n",
    "<a href=\"#Variable-Length-Arguments\">Variable Length Arguments</a>"
   ]
  },
  {
   "cell_type": "markdown",
   "metadata": {},
   "source": [
    "# Positional Arguments"
   ]
  },
  {
   "cell_type": "code",
   "execution_count": 1,
   "metadata": {},
   "outputs": [
    {
     "name": "stdout",
     "output_type": "stream",
     "text": [
      "<function f at 0x10f681268>\n",
      "\n",
      "5\n",
      "\n",
      "7\n",
      "\n",
      "f() missing 1 required positional argument: 'c'\n"
     ]
    }
   ],
   "source": [
    "def f(a, b, c): # a, b, c - Positional Arguments \n",
    "    return a * b + c\n",
    "\n",
    "# 괄호가 없이 함수를 부르면 함수 자체를 부르게 된다.\n",
    "print(f)\n",
    "print()\n",
    "\n",
    "print(f(1, 2, 3))\n",
    "print()\n",
    "\n",
    "# 이 함수의 경우 인풋의 순서가 중요한다. \n",
    "# 이러한 인풋을 positional argument라고 한다.\n",
    "print(f(3, 2, 1))\n",
    "print()\n",
    "\n",
    "# 인풋 갯수가 맞지 않으면 에러가 발생한다.\n",
    "try:\n",
    "    print(f(3, 2))\n",
    "except Exception as e:\n",
    "    print(e)"
   ]
  },
  {
   "cell_type": "markdown",
   "metadata": {},
   "source": [
    "[<a href=\"#Types-of-Function-Arguments\">Back to top</a>]"
   ]
  },
  {
   "cell_type": "markdown",
   "metadata": {},
   "source": [
    "# Keyward Arguments"
   ]
  },
  {
   "cell_type": "code",
   "execution_count": 2,
   "metadata": {},
   "outputs": [
    {
     "name": "stdout",
     "output_type": "stream",
     "text": [
      "<function j at 0x10f6811e0>\n",
      "3.5\n",
      "\n",
      "3.5\n"
     ]
    }
   ],
   "source": [
    "def j(a, b, c, rate=1.1, pay=2): # rate, pay - Keyward Arguments \n",
    "    return (a * b + c)*rate - pay  \n",
    "\n",
    "print(j)\n",
    "print(j(1, 2, 3))\n",
    "print()\n",
    "\n",
    "a = 1\n",
    "b = 2\n",
    "c = 3\n",
    "rate = 1.1\n",
    "pay = 2\n",
    "print((a * b + c)*rate - pay)"
   ]
  },
  {
   "cell_type": "markdown",
   "metadata": {},
   "source": [
    "[<a href=\"#Types-of-Function-Arguments\">Back to top</a>]"
   ]
  },
  {
   "cell_type": "markdown",
   "metadata": {},
   "source": [
    "# Default Arguments"
   ]
  },
  {
   "cell_type": "code",
   "execution_count": 3,
   "metadata": {},
   "outputs": [
    {
     "name": "stdout",
     "output_type": "stream",
     "text": [
      "<function j at 0x10f6817b8>\n",
      "3.5\n",
      "\n",
      "3.5\n"
     ]
    }
   ],
   "source": [
    "def j(a, b, c, rate=1.1, pay=2): # rate=1.1, pay=2 - Keyward=Default\n",
    "    return (a * b + c)*rate - pay  \n",
    "\n",
    "print(j)\n",
    "print(j(1, 2, 3))\n",
    "print()\n",
    "\n",
    "a = 1\n",
    "b = 2\n",
    "c = 3\n",
    "rate = 1.1\n",
    "pay = 2\n",
    "print((a * b + c)*rate - pay)"
   ]
  },
  {
   "cell_type": "code",
   "execution_count": 7,
   "metadata": {},
   "outputs": [
    {
     "name": "stdout",
     "output_type": "stream",
     "text": [
      "<function j at 0x10f681620>\n",
      "-1.5\n",
      "\n",
      "-1.5\n"
     ]
    }
   ],
   "source": [
    "def j(a, b, c, rate=1.1, pay=2): # rate=1.1, pay=2 - Keyward=Default\n",
    "    return (a * b + c)*rate - pay  \n",
    "\n",
    "print(j)\n",
    "print(j(1, 2, 3, pay=7))\n",
    "print()\n",
    "\n",
    "a = 1\n",
    "b = 2\n",
    "c = 3\n",
    "rate = 1.1\n",
    "pay = 7\n",
    "print((a * b + c)*rate - pay)"
   ]
  },
  {
   "cell_type": "code",
   "execution_count": 5,
   "metadata": {},
   "outputs": [
    {
     "name": "stdout",
     "output_type": "stream",
     "text": [
      "<function j at 0x10f6817b8>\n",
      "0.5\n",
      "\n",
      "0.5\n"
     ]
    }
   ],
   "source": [
    "def j(a, b, c, rate=1.1, pay=2): # rate=1.1, pay=2 - Keyward=Default\n",
    "    return (a * b + c)*rate - pay  \n",
    "\n",
    "print(j)\n",
    "print(j(1, 2, 3, rate=1.5, pay=7))\n",
    "print()\n",
    "\n",
    "a = 1\n",
    "b = 2\n",
    "c = 3\n",
    "rate = 1.5\n",
    "pay = 7\n",
    "print((a * b + c)*rate - pay)"
   ]
  },
  {
   "cell_type": "code",
   "execution_count": 6,
   "metadata": {},
   "outputs": [
    {
     "name": "stdout",
     "output_type": "stream",
     "text": [
      "<function j at 0x10f6819d8>\n",
      "0.5\n",
      "\n",
      "0.5\n"
     ]
    }
   ],
   "source": [
    "def j(a, b, c, rate=1.1, pay=2): # rate=1.1, pay=2 - Keyward=Default\n",
    "    return (a * b + c)*rate - pay  \n",
    "\n",
    "print(j)\n",
    "print(j(1, 2, 3, pay=7, rate=1.5))\n",
    "print()\n",
    "\n",
    "a = 1\n",
    "b = 2\n",
    "c = 3\n",
    "rate = 1.5\n",
    "pay = 7\n",
    "print((a * b + c)*rate - pay)"
   ]
  },
  {
   "cell_type": "markdown",
   "metadata": {},
   "source": [
    "[<a href=\"#Types-of-Function-Arguments\">Back to top</a>]"
   ]
  },
  {
   "cell_type": "markdown",
   "metadata": {},
   "source": [
    "# Variable Length Arguments"
   ]
  },
  {
   "cell_type": "markdown",
   "metadata": {},
   "source": [
    "> *args: tuple or list\n",
    "\n",
    "> **kwargs: dictionary"
   ]
  },
  {
   "cell_type": "code",
   "execution_count": 8,
   "metadata": {},
   "outputs": [
    {
     "name": "stdout",
     "output_type": "stream",
     "text": [
      "2.1500000000000004\n",
      "\n",
      "2.1500000000000004\n"
     ]
    }
   ],
   "source": [
    "def j(a, b, c, rate=1.1, pay=2):\n",
    "    return (a * b + c)*rate - pay \n",
    "\n",
    "print(j(1, 2, 3, rate=1.03, pay=3))\n",
    "print()\n",
    "\n",
    "args = (1, 2, 3)\n",
    "kwargs = {\"rate\": 1.03, \"pay\": 3}\n",
    "print(j(*args, **kwargs))"
   ]
  },
  {
   "cell_type": "markdown",
   "metadata": {},
   "source": [
    "[<a href=\"#Types-of-Function-Arguments\">Back to top</a>]"
   ]
  }
 ],
 "metadata": {
  "kernelspec": {
   "display_name": "Python 3",
   "language": "python",
   "name": "python3"
  },
  "language_info": {
   "codemirror_mode": {
    "name": "ipython",
    "version": 3
   },
   "file_extension": ".py",
   "mimetype": "text/x-python",
   "name": "python",
   "nbconvert_exporter": "python",
   "pygments_lexer": "ipython3",
   "version": "3.5.0"
  }
 },
 "nbformat": 4,
 "nbformat_minor": 2
}
