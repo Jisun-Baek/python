{
 "cells": [
  {
   "cell_type": "markdown",
   "metadata": {},
   "source": [
    "[programiz](https://www.programiz.com/python-programming/namespace)"
   ]
  },
  {
   "cell_type": "markdown",
   "metadata": {},
   "source": [
    "***Namespaces are one honking great idea -- let's do more of those!*** from The Zen of Python"
   ]
  },
  {
   "cell_type": "code",
   "execution_count": 1,
   "metadata": {},
   "outputs": [
    {
     "name": "stdout",
     "output_type": "stream",
     "text": [
      "The Zen of Python, by Tim Peters\n",
      "\n",
      "Beautiful is better than ugly.\n",
      "Explicit is better than implicit.\n",
      "Simple is better than complex.\n",
      "Complex is better than complicated.\n",
      "Flat is better than nested.\n",
      "Sparse is better than dense.\n",
      "Readability counts.\n",
      "Special cases aren't special enough to break the rules.\n",
      "Although practicality beats purity.\n",
      "Errors should never pass silently.\n",
      "Unless explicitly silenced.\n",
      "In the face of ambiguity, refuse the temptation to guess.\n",
      "There should be one-- and preferably only one --obvious way to do it.\n",
      "Although that way may not be obvious at first unless you're Dutch.\n",
      "Now is better than never.\n",
      "Although never is often better than *right* now.\n",
      "If the implementation is hard to explain, it's a bad idea.\n",
      "If the implementation is easy to explain, it may be a good idea.\n",
      "Namespaces are one honking great idea -- let's do more of those!\n"
     ]
    }
   ],
   "source": [
    "import this"
   ]
  },
  {
   "cell_type": "markdown",
   "metadata": {},
   "source": [
    "# Namespace\n",
    "\n",
    "우리는 프로그램을 작성하면서 여러 가지 데이터에 여러 가지 이름을 붙인다. 그런데 이름이란 문맥에 따라서 가리키는 대상이 다르기 마련이다. 예를 들어, ‘key’라는 이름은 키보드의 입력을 제어하는 함수에서는 입력된 키를 가리키겠지만, 암호를 푸는 함수에서는 비밀번호를 가리킬 것이다. 이 두 함수를 모두 사용하는 프로그램을 만들려면, ‘key’라는 이름이 문맥에 따라 다른 데이터를 가리킬 수 있어야 한다.\n",
    "\n",
    "프로그래밍에서는 ‘이름공간(namespace)’이라는 개념을 이용해서 이름의 문맥을 구별한다. 이름공간은 변수의 이름을 정의해 둔 공간이다. 이름공간은 프로그램 전체 범위의 이름을 담는 전역 이름공간과 한정적인 문맥의 이름을 담는 지역 이름공간으로 구별된다.\n",
    "\n",
    "전역 이름공간에 정의되어, 프로그램 어디서든 부를 수 있는 이름을 전역변수(global variable)라고 한다. 함수 밖에서 변수를 정의하면 전역변수가 된다. 반면에 지역 이름공간에 정의되어, 그 문맥 속에서만 부를 수 있는 이름을 지역변수(local variable)라고 한다. 모든 함수는 자신만의 지역 이름공간을 가지며, 함수 속에서 작성한 변수는 그 함수의 지역변수가 된다.\n",
    "\n",
    "[박연오](https://python.bakyeono.net/chapter-3-4.html)"
   ]
  },
  {
   "cell_type": "code",
   "execution_count": 2,
   "metadata": {},
   "outputs": [
    {
     "name": "stdout",
     "output_type": "stream",
     "text": [
      "a = 2\n",
      "id(a) = 4469814720\n",
      "id(2) = 4469814720\n"
     ]
    }
   ],
   "source": [
    "a = 2\n",
    "print('a = 2')\n",
    "print('id(a) =', id(a))\n",
    "print('id(2) =', id(2))"
   ]
  },
  {
   "cell_type": "code",
   "execution_count": 3,
   "metadata": {},
   "outputs": [
    {
     "name": "stdout",
     "output_type": "stream",
     "text": [
      "a = a + 1\n",
      "id(a) = 4469814752\n",
      "id(2) = 4469814720\n",
      "id(3) = 4469814752\n"
     ]
    }
   ],
   "source": [
    "a = a + 1\n",
    "print('a = a + 1')\n",
    "print('id(a) =', id(a))\n",
    "print('id(2) =', id(2))\n",
    "print('id(3) =', id(3))"
   ]
  },
  {
   "cell_type": "code",
   "execution_count": 4,
   "metadata": {},
   "outputs": [
    {
     "name": "stdout",
     "output_type": "stream",
     "text": [
      "b = 2\n",
      "id(a) = 4469814752\n",
      "id(b) = 4469814720\n",
      "id(2) = 4469814720\n",
      "id(3) = 4469814752\n"
     ]
    }
   ],
   "source": [
    "b = 2\n",
    "print('b = 2')\n",
    "print('id(a) =', id(a))\n",
    "print('id(b) =', id(b))\n",
    "print('id(2) =', id(2))\n",
    "print('id(3) =', id(3))"
   ]
  },
  {
   "cell_type": "code",
   "execution_count": 5,
   "metadata": {},
   "outputs": [
    {
     "name": "stdout",
     "output_type": "stream",
     "text": [
      "id(2) = 4469814720\n",
      "id(2) = 4469814720\n",
      "id(2) = 4469814720\n",
      "id(2) = 4469814720\n",
      "id(2) = 4469814720\n",
      "id(2) = 4469814720\n"
     ]
    }
   ],
   "source": [
    "print('id(2) =', id(2))\n",
    "print('id(2) =', id(2))\n",
    "print('id(2) =', id(2))\n",
    "print('id(2) =', id(2))\n",
    "print('id(2) =', id(2))\n",
    "print('id(2) =', id(2))"
   ]
  },
  {
   "cell_type": "code",
   "execution_count": 6,
   "metadata": {},
   "outputs": [
    {
     "name": "stdout",
     "output_type": "stream",
     "text": [
      "id([1,2,3]) = 140201032996744\n",
      "id([1,2,3]) = 140201298377992\n",
      "id([1,2,3]) = 140201032996744\n",
      "id([1,2,3]) = 140201298377992\n",
      "id([1,2,3]) = 140201032996744\n",
      "id([1,2,3]) = 140201298377992\n"
     ]
    }
   ],
   "source": [
    "print('id([1,2,3]) =', id([1,2,3]))\n",
    "print('id([1,2,3]) =', id([1,2,3]))\n",
    "print('id([1,2,3]) =', id([1,2,3]))\n",
    "print('id([1,2,3]) =', id([1,2,3]))\n",
    "print('id([1,2,3]) =', id([1,2,3]))\n",
    "print('id([1,2,3]) =', id([1,2,3]))"
   ]
  },
  {
   "cell_type": "code",
   "execution_count": 7,
   "metadata": {},
   "outputs": [
    {
     "name": "stdout",
     "output_type": "stream",
     "text": [
      "id('Hello World!') = 140201298520688\n",
      "id('Hello World!') = 140201298378672\n",
      "id('Hello World!') = 140201298378224\n",
      "id('Hello World!') = 140201298377776\n",
      "id('Hello World!') = 140201298378544\n",
      "id('Hello World!') = 140201298377264\n"
     ]
    }
   ],
   "source": [
    "print(\"id('Hello World!') =\", id('Hello World!'))\n",
    "print(\"id('Hello World!') =\", id('Hello World!'))\n",
    "print(\"id('Hello World!') =\", id('Hello World!'))\n",
    "print(\"id('Hello World!') =\", id('Hello World!'))\n",
    "print(\"id('Hello World!') =\", id('Hello World!'))\n",
    "print(\"id('Hello World!') =\", id('Hello World!'))"
   ]
  },
  {
   "cell_type": "code",
   "execution_count": 8,
   "metadata": {},
   "outputs": [
    {
     "name": "stdout",
     "output_type": "stream",
     "text": [
      "id((1,2,3)) = 140200488080008\n",
      "id((1,2,3)) = 140201298418280\n",
      "id((1,2,3)) = 140200488080008\n",
      "id((1,2,3)) = 140201298418280\n",
      "id((1,2,3)) = 140200488080008\n",
      "id((1,2,3)) = 140201298418280\n"
     ]
    }
   ],
   "source": [
    "print('id((1,2,3)) =', id((1,2,3)))\n",
    "print('id((1,2,3)) =', id((1,2,3)))\n",
    "print('id((1,2,3)) =', id((1,2,3)))\n",
    "print('id((1,2,3)) =', id((1,2,3)))\n",
    "print('id((1,2,3)) =', id((1,2,3)))\n",
    "print('id((1,2,3)) =', id((1,2,3)))"
   ]
  },
  {
   "cell_type": "markdown",
   "metadata": {},
   "source": [
    "# Variable Scope\n",
    "\n",
    "Scope is the portion of the program from where a namespace can be accessed directly without any prefix.\n",
    "\n",
    "At any given moment, there are at least three nested scopes.\n",
    "\n",
    "    1. Scope of the current function which has local names\n",
    "    2. Scope of the module which has global names\n",
    "    3. Outermost scope which has built-in names\n",
    "    \n",
    "[programiz](https://www.programiz.com/python-programming/namespace)"
   ]
  },
  {
   "cell_type": "code",
   "execution_count": 11,
   "metadata": {},
   "outputs": [
    {
     "name": "stdout",
     "output_type": "stream",
     "text": [
      "a = 10\n",
      "a = 10\n",
      "a = 10\n"
     ]
    }
   ],
   "source": [
    "def outer_function():\n",
    "    #a = 20\n",
    "    \n",
    "    def inner_function():\n",
    "        #a = 30\n",
    "        print('a =', a)\n",
    "\n",
    "    inner_function()\n",
    "    print('a =', a)\n",
    "     \n",
    "a = 10\n",
    "outer_function()\n",
    "print('a =', a)"
   ]
  },
  {
   "cell_type": "code",
   "execution_count": null,
   "metadata": {},
   "outputs": [],
   "source": []
  }
 ],
 "metadata": {
  "kernelspec": {
   "display_name": "Python 3",
   "language": "python",
   "name": "python3"
  },
  "language_info": {
   "codemirror_mode": {
    "name": "ipython",
    "version": 3
   },
   "file_extension": ".py",
   "mimetype": "text/x-python",
   "name": "python",
   "nbconvert_exporter": "python",
   "pygments_lexer": "ipython3",
   "version": "3.7.3"
  }
 },
 "nbformat": 4,
 "nbformat_minor": 2
}
