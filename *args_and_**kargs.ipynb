{
 "cells": [
  {
   "cell_type": "markdown",
   "metadata": {},
   "source": [
    "# \\*args and \\**kwargs"
   ]
  },
  {
   "cell_type": "markdown",
   "metadata": {},
   "source": [
    "Telusko [youtube](https://www.youtube.com/watch?v=kB829ciAXo4)"
   ]
  },
  {
   "cell_type": "markdown",
   "metadata": {},
   "source": [
    "# *args"
   ]
  },
  {
   "cell_type": "code",
   "execution_count": 1,
   "metadata": {},
   "outputs": [
    {
     "name": "stdout",
     "output_type": "stream",
     "text": [
      "Sung\n",
      "('Python', 'Math')\n",
      "None\n"
     ]
    }
   ],
   "source": [
    "def person(name, *args):\n",
    "    print(name)\n",
    "    print(args)\n",
    "        \n",
    "print(person('Sung', 'Python', 'Math'))"
   ]
  },
  {
   "cell_type": "code",
   "execution_count": 2,
   "metadata": {},
   "outputs": [
    {
     "name": "stdout",
     "output_type": "stream",
     "text": [
      "Sung\n",
      "Python\n",
      "Math\n",
      "None\n"
     ]
    }
   ],
   "source": [
    "def person(name, *args):\n",
    "    print(name)\n",
    "    for i in args:\n",
    "        print(i)\n",
    "        \n",
    "print(person('Sung', 'Python', 'Math'))"
   ]
  },
  {
   "cell_type": "code",
   "execution_count": 2,
   "metadata": {},
   "outputs": [
    {
     "name": "stdout",
     "output_type": "stream",
     "text": [
      "(3, 5, 7)\n",
      "Sum:  15\n"
     ]
    }
   ],
   "source": [
    "# https://www.programiz.com/python-programming/args-and-kwargs\n",
    "\n",
    "def adder(*args):\n",
    "    print(args)\n",
    "    \n",
    "    temp = 0\n",
    "    for i in args:\n",
    "        temp += i\n",
    "    print(\"Sum: \", temp)\n",
    "\n",
    "adder(3,5,7)"
   ]
  },
  {
   "cell_type": "markdown",
   "metadata": {},
   "source": [
    "# **kwagrs"
   ]
  },
  {
   "cell_type": "code",
   "execution_count": 4,
   "metadata": {},
   "outputs": [
    {
     "name": "stdout",
     "output_type": "stream",
     "text": [
      "Sung\n",
      "{'age': 20, 'phone': '01022223333', 'city': 'Seoul'}\n",
      "None\n"
     ]
    }
   ],
   "source": [
    "def person(name, **kwargs):\n",
    "    print(name)\n",
    "    print(kwargs)\n",
    "        \n",
    "print(person('Sung', age=20, city='Seoul', phone='01022223333'))"
   ]
  },
  {
   "cell_type": "code",
   "execution_count": 5,
   "metadata": {},
   "outputs": [
    {
     "name": "stdout",
     "output_type": "stream",
     "text": [
      "Sung\n",
      "age 20\n",
      "phone 01022223333\n",
      "city Seoul\n",
      "None\n"
     ]
    }
   ],
   "source": [
    "def person(name, **kwargs):\n",
    "    print(name)\n",
    "    for key, value in kwargs.items():\n",
    "        print(key, value)\n",
    "        \n",
    "print(person('Sung', age=20, city='Seoul', phone='01022223333'))"
   ]
  },
  {
   "cell_type": "code",
   "execution_count": 6,
   "metadata": {},
   "outputs": [
    {
     "name": "stdout",
     "output_type": "stream",
     "text": [
      "Age: 22\n",
      "Phone: 1234567890\n",
      "Firstname: Sita\n",
      "Lastname: Sharma\n",
      "\n",
      "Age: 25\n",
      "Phone: 9876543210\n",
      "Firstname: John\n",
      "Lastname: Wood\n"
     ]
    }
   ],
   "source": [
    "# https://www.programiz.com/python-programming/args-and-kwargs\n",
    "\n",
    "def intro(**kwargs):\n",
    "    for key, value in kwargs.items():\n",
    "        print(\"{}: {}\".format(key,value))\n",
    "\n",
    "intro(Firstname=\"Sita\", Lastname=\"Sharma\", Age=22, Phone=1234567890)\n",
    "print()\n",
    "\n",
    "intro(Firstname=\"John\", Lastname=\"Wood\", Age=25, Phone=9876543210)"
   ]
  },
  {
   "cell_type": "markdown",
   "metadata": {},
   "source": [
    "# \\*args and **kwargs"
   ]
  },
  {
   "cell_type": "code",
   "execution_count": 7,
   "metadata": {},
   "outputs": [
    {
     "name": "stdout",
     "output_type": "stream",
     "text": [
      "Sung\n",
      "('Python', 'Math')\n",
      "{'age': 20, 'phone': '01022223333', 'city': 'Seoul'}\n",
      "None\n"
     ]
    }
   ],
   "source": [
    "def person(name, *args, **kwargs):\n",
    "    print(name)\n",
    "    print(args)\n",
    "    print(kwargs)\n",
    "        \n",
    "print(person('Sung', 'Python', 'Math', age=20, city='Seoul', phone='01022223333'))"
   ]
  },
  {
   "cell_type": "code",
   "execution_count": 1,
   "metadata": {},
   "outputs": [
    {
     "name": "stdout",
     "output_type": "stream",
     "text": [
      "Sung\n",
      "('Python', 'Math')\n",
      "{'phone': '01022223333', 'age': 20, 'city': 'Seoul'}\n",
      "None\n"
     ]
    }
   ],
   "source": [
    "def person(name, *args, **kwargs):\n",
    "    print(name)\n",
    "    print(args)\n",
    "    print(kwargs)\n",
    "\n",
    "args = ('Python', 'Math')\n",
    "kwargs = {'age': 20, 'phone': '01022223333', 'city': 'Seoul'} \n",
    "print(person('Sung', *args,**kwargs))"
   ]
  }
 ],
 "metadata": {
  "kernelspec": {
   "display_name": "Python 3",
   "language": "python",
   "name": "python3"
  },
  "language_info": {
   "codemirror_mode": {
    "name": "ipython",
    "version": 3
   },
   "file_extension": ".py",
   "mimetype": "text/x-python",
   "name": "python",
   "nbconvert_exporter": "python",
   "pygments_lexer": "ipython3",
   "version": "3.5.0"
  }
 },
 "nbformat": 4,
 "nbformat_minor": 2
}
