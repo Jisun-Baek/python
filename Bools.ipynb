{
 "cells": [
  {
   "cell_type": "markdown",
   "metadata": {},
   "source": [
    "# Bools"
   ]
  },
  {
   "cell_type": "markdown",
   "metadata": {},
   "source": [
    "CS_Dojo [youtube](https://www.youtube.com/watch?v=r526yum0EYQ&index=11&list=PLBZBJbE_rGRWeh5mIBhD-hhDwSEDxogDg) [code](https://www.csdojo.io/python11)"
   ]
  },
  {
   "cell_type": "markdown",
   "metadata": {},
   "source": [
    "<a href=\"#Logical-Operations\">Logical Operations</a>"
   ]
  },
  {
   "cell_type": "markdown",
   "metadata": {},
   "source": [
    "# Booleans"
   ]
  },
  {
   "cell_type": "code",
   "execution_count": 1,
   "metadata": {},
   "outputs": [
    {
     "name": "stdout",
     "output_type": "stream",
     "text": [
      "True\n",
      "<class 'bool'>\n"
     ]
    }
   ],
   "source": [
    "a = True\n",
    "\n",
    "print(a)\n",
    "print(type(a))"
   ]
  },
  {
   "cell_type": "markdown",
   "metadata": {},
   "source": [
    "# Methods on Bools"
   ]
  },
  {
   "cell_type": "code",
   "execution_count": 2,
   "metadata": {},
   "outputs": [
    {
     "name": "stdout",
     "output_type": "stream",
     "text": [
      "['__abs__', '__add__', '__and__', '__bool__', '__ceil__', '__class__', '__delattr__', '__dir__', '__divmod__', '__doc__', '__eq__', '__float__', '__floor__', '__floordiv__', '__format__', '__ge__', '__getattribute__', '__getnewargs__', '__gt__', '__hash__', '__index__', '__init__', '__int__', '__invert__', '__le__', '__lshift__', '__lt__', '__mod__', '__mul__', '__ne__', '__neg__', '__new__', '__or__', '__pos__', '__pow__', '__radd__', '__rand__', '__rdivmod__', '__reduce__', '__reduce_ex__', '__repr__', '__rfloordiv__', '__rlshift__', '__rmod__', '__rmul__', '__ror__', '__round__', '__rpow__', '__rrshift__', '__rshift__', '__rsub__', '__rtruediv__', '__rxor__', '__setattr__', '__sizeof__', '__str__', '__sub__', '__subclasshook__', '__truediv__', '__trunc__', '__xor__', 'bit_length', 'conjugate', 'denominator', 'from_bytes', 'imag', 'numerator', 'real', 'to_bytes']\n"
     ]
    }
   ],
   "source": [
    "print(dir(bool))"
   ]
  },
  {
   "cell_type": "markdown",
   "metadata": {},
   "source": [
    "# Logical Operations"
   ]
  },
  {
   "cell_type": "markdown",
   "metadata": {},
   "source": [
    "- and\n",
    "\n",
    "- or\n",
    "\n",
    "- xor\n",
    "\n",
    "- not\n",
    "\n",
    "- in\n",
    "\n",
    "- not in"
   ]
  },
  {
   "cell_type": "code",
   "execution_count": 3,
   "metadata": {},
   "outputs": [
    {
     "name": "stdout",
     "output_type": "stream",
     "text": [
      "True\n",
      "False\n",
      "False\n",
      "False\n"
     ]
    }
   ],
   "source": [
    "# and\n",
    "\n",
    "print(True and True)\n",
    "print(True and False)\n",
    "print(False and True)\n",
    "print(False and False)"
   ]
  },
  {
   "cell_type": "code",
   "execution_count": 4,
   "metadata": {},
   "outputs": [
    {
     "name": "stdout",
     "output_type": "stream",
     "text": [
      "True\n",
      "True\n",
      "True\n",
      "False\n"
     ]
    }
   ],
   "source": [
    "# or\n",
    "\n",
    "print(True or True)\n",
    "print(True or False)\n",
    "print(False or True)\n",
    "print(False or False)"
   ]
  },
  {
   "cell_type": "code",
   "execution_count": 5,
   "metadata": {},
   "outputs": [
    {
     "name": "stdout",
     "output_type": "stream",
     "text": [
      "False\n",
      "True\n",
      "True\n",
      "False\n"
     ]
    }
   ],
   "source": [
    "# xor\n",
    "\n",
    "print(True != True)\n",
    "print(True != False)\n",
    "print(False != True)\n",
    "print(False != False)"
   ]
  },
  {
   "cell_type": "code",
   "execution_count": 6,
   "metadata": {},
   "outputs": [
    {
     "name": "stdout",
     "output_type": "stream",
     "text": [
      "False\n",
      "True\n"
     ]
    }
   ],
   "source": [
    "# not\n",
    "\n",
    "print(not True)\n",
    "print(not False)"
   ]
  },
  {
   "cell_type": "code",
   "execution_count": 7,
   "metadata": {},
   "outputs": [
    {
     "name": "stdout",
     "output_type": "stream",
     "text": [
      "False\n",
      "True\n"
     ]
    }
   ],
   "source": [
    "# in\n",
    "\n",
    "print(5 in [1,2,3,4])\n",
    "print(5 in [1,2,3,4,5])"
   ]
  },
  {
   "cell_type": "code",
   "execution_count": 8,
   "metadata": {},
   "outputs": [
    {
     "name": "stdout",
     "output_type": "stream",
     "text": [
      "True\n",
      "False\n"
     ]
    }
   ],
   "source": [
    "# not in\n",
    "\n",
    "print(5 not in [1,2,3,4])\n",
    "print(5 not in [1,2,3,4,5])"
   ]
  },
  {
   "cell_type": "markdown",
   "metadata": {},
   "source": [
    "[<a href=\"#Bools\">Back to top</a>]"
   ]
  },
  {
   "cell_type": "markdown",
   "metadata": {},
   "source": [
    "연습문제.\n",
    "짝수면 True, 홀수면 False를 리턴하는 다음 함수를 완성하시오.\n",
    "\n",
    "```\n",
    "def even(integer):\n",
    "    ### put your code below\n",
    "    if ### put your code here\n",
    "    ### put your code above\n",
    "        return True\n",
    "    else:\n",
    "        return False\n",
    "\n",
    "print(even(2))\n",
    "```"
   ]
  },
  {
   "cell_type": "code",
   "execution_count": 9,
   "metadata": {},
   "outputs": [
    {
     "name": "stdout",
     "output_type": "stream",
     "text": [
      "True\n"
     ]
    }
   ],
   "source": [
    "def even(integer):\n",
    "    ### put your code below\n",
    "    if integer % 2 == 0:\n",
    "    ### put your code above\n",
    "        return True\n",
    "    else:\n",
    "        return False\n",
    "\n",
    "print(even(10))"
   ]
  },
  {
   "cell_type": "markdown",
   "metadata": {},
   "source": [
    "Exercise. Find all primes up to $n$ when $n$ is given."
   ]
  },
  {
   "cell_type": "code",
   "execution_count": 10,
   "metadata": {},
   "outputs": [
    {
     "name": "stdout",
     "output_type": "stream",
     "text": [
      "Find primes up to what number? : 15\n",
      "[2, 3, 5, 7, 11, 13]\n"
     ]
    }
   ],
   "source": [
    "# https://github.com/joeyajames/Python/blob/master/Primes.py\n",
    "# prime number calculator: find all primes up to n\n",
    "\n",
    "max = int(input(\"Find primes up to what number? : \"))\n",
    "primeList = []\n",
    "\n",
    "for x in range(2, max + 1):\n",
    "    isPrime = True\n",
    "    index = 0\n",
    "    root = int(x ** 0.5) + 1\n",
    "    \n",
    "    while index < len(primeList) and primeList[index] <= root:\n",
    "        if x % primeList[index] == 0:\n",
    "            isPrime = False\n",
    "            break\n",
    "        index += 1\n",
    "            \n",
    "    if isPrime:\n",
    "        primeList.append(x)\n",
    "        \n",
    "print(primeList)"
   ]
  },
  {
   "cell_type": "code",
   "execution_count": 11,
   "metadata": {},
   "outputs": [
    {
     "name": "stdout",
     "output_type": "stream",
     "text": [
      "Find primes up to what number? : 15\n",
      "[2, 3, 5, 7, 11, 13]\n"
     ]
    }
   ],
   "source": [
    "# https://github.com/joeyajames/Python/blob/master/Primes.py\n",
    "# modified from original code\n",
    "# max is a reserved word\n",
    "# original variable name : max\n",
    "# modified variable name : max_bound\n",
    "\n",
    "# prime number calculator: find all primes up to n\n",
    "\n",
    "max_bound = int(input(\"Find primes up to what number? : \"))\n",
    "primeList = []\n",
    "\n",
    "for x in range(2, max_bound + 1):\n",
    "    isPrime = True\n",
    "    index = 0\n",
    "    root = int(x ** 0.5) + 1\n",
    "    \n",
    "    while index < len(primeList) and primeList[index] <= root:\n",
    "        if x % primeList[index] == 0:\n",
    "            isPrime = False\n",
    "            break\n",
    "        index += 1\n",
    "            \n",
    "    if isPrime:\n",
    "        primeList.append(x)\n",
    "        \n",
    "print(primeList)"
   ]
  }
 ],
 "metadata": {
  "kernelspec": {
   "display_name": "Python 3",
   "language": "python",
   "name": "python3"
  },
  "language_info": {
   "codemirror_mode": {
    "name": "ipython",
    "version": 3
   },
   "file_extension": ".py",
   "mimetype": "text/x-python",
   "name": "python",
   "nbconvert_exporter": "python",
   "pygments_lexer": "ipython3",
   "version": "3.5.0"
  }
 },
 "nbformat": 4,
 "nbformat_minor": 2
}
