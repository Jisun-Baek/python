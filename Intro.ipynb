{
 "cells": [
  {
   "cell_type": "markdown",
   "metadata": {},
   "source": [
    "# Intro"
   ]
  },
  {
   "cell_type": "markdown",
   "metadata": {},
   "source": [
    "Clever_Programmer [youtube](https://www.youtube.com/watch?v=f3EbDbm8XqY)\n",
    "Joe_James \n",
    "[youtube](https://www.youtube.com/watch?v=5CZvkggt7C4) \n",
    "[github](https://github.com/joeyajames/Python)\n",
    "codebasics\n",
    "[youtube](https://www.youtube.com/watch?v=eykoKxsYtow)"
   ]
  },
  {
   "cell_type": "markdown",
   "metadata": {},
   "source": [
    "# Top 5 Reasons to Learn Python"
   ]
  },
  {
   "cell_type": "markdown",
   "metadata": {},
   "source": [
    "> 5 Dynamically Typed\n",
    "\n",
    "> 4 Simple Syntax\n",
    "\n",
    "> 3 One Liners\n",
    "\n",
    "> 2 English-like Commands\n",
    "\n",
    "> 1 Intuitive Data Structures"
   ]
  }
 ],
 "metadata": {
  "kernelspec": {
   "display_name": "Python 3",
   "language": "python",
   "name": "python3"
  },
  "language_info": {
   "codemirror_mode": {
    "name": "ipython",
    "version": 3
   },
   "file_extension": ".py",
   "mimetype": "text/x-python",
   "name": "python",
   "nbconvert_exporter": "python",
   "pygments_lexer": "ipython3",
   "version": "3.5.0"
  }
 },
 "nbformat": 4,
 "nbformat_minor": 2
}
