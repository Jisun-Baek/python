{
 "cells": [
  {
   "cell_type": "code",
   "execution_count": 30,
   "metadata": {},
   "outputs": [
    {
     "data": {
      "image/png": "[encoded data removed]",
      "text/plain": [
       "<Figure size 432x288 with 1 Axes>"
      ]
     },
     "metadata": {
      "needs_background": "light"
     },
     "output_type": "display_data"
    }
   ],
   "source": [
    "%matplotlib inline\n",
    "import numpy as np\n",
    "import scipy.stats as stats\n",
    "import matplotlib.pyplot as plt\n",
    "\n",
    "n = 10000\n",
    "m = 3\n",
    "\n",
    "if 0:\n",
    "    a = stats.norm()\n",
    "    x = a.rvs(size=(n,), random_state=337)\n",
    "    x_ = np.linspace(-4,4,100)\n",
    "    y_ = a.pdf(x_)\n",
    "elif 0:\n",
    "    la = 2.0\n",
    "    bt = 1 / la\n",
    "    a = stats.expon(scale=bt)\n",
    "    x = a.rvs(size=(n,), random_state=337)\n",
    "    x_ = np.linspace(0,4,100)\n",
    "    y_ = a.pdf(x_)\n",
    "elif 0:\n",
    "    df = 10\n",
    "    a = stats.chi2(df)\n",
    "    x = a.rvs(size=(n,), random_state=337)\n",
    "    x_ = np.linspace(0,40,100)\n",
    "    y_ = a.pdf(x_)\n",
    "elif 1:\n",
    "    n_ = 100 \n",
    "    p_ = 0.6 \n",
    "    a = stats.binom(n_,p_)\n",
    "    x = a.rvs(size=(n,), random_state=337)\n",
    "    x_ = np.arange(101)\n",
    "    y_ = a.pmf(x_) \n",
    "\n",
    "# print(x)\n",
    "# print(type(x))\n",
    "# print(x.shape)\n",
    "# print(x.dtype)\n",
    "\n",
    "plt.plot(x_, y_, color='r')\n",
    "plt.hist(x, density=True, bins=20)\n",
    "plt.show()"
   ]
  },
  {
   "cell_type": "code",
   "execution_count": null,
   "metadata": {},
   "outputs": [],
   "source": []
  }
 ],
 "metadata": {
  "kernelspec": {
   "display_name": "Python 3",
   "language": "python",
   "name": "python3"
  },
  "language_info": {
   "codemirror_mode": {
    "name": "ipython",
    "version": 3
   },
   "file_extension": ".py",
   "mimetype": "text/x-python",
   "name": "python",
   "nbconvert_exporter": "python",
   "pygments_lexer": "ipython3",
   "version": "3.6.9"
  }
 },
 "nbformat": 4,
 "nbformat_minor": 2
}
