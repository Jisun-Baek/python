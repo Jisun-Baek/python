{
 "cells": [
  {
   "cell_type": "markdown",
   "metadata": {},
   "source": [
    "# Functions"
   ]
  },
  {
   "cell_type": "markdown",
   "metadata": {},
   "source": [
    "CS_Dojo [youtube](https://www.youtube.com/watch?v=NSbOtYzIQI0&t=64s) [code](https://www.csdojo.io/python3)\n",
    "Corey_Schafer [youtube](https://www.youtube.com/watch?v=9Os0o3wzS_I&list=PL-osiE80TeTt2d9bfVyTiXJA-UTHn6WwU&index=8)"
   ]
  },
  {
   "cell_type": "markdown",
   "metadata": {},
   "source": [
    "<a href=\"#Function-Object\">Function Object</a>\n",
    "\n",
    "<a href=\"#함수는-보통-인풋을-받아서-아웃풋을-만들어-낸다\">함수는 보통 인풋을 받아서 아웃풋을 만들어 낸다</a>\n",
    "\n",
    "<a href=\"#함수가-아웃풋이-없는-경우도-있다\">함수가 아웃풋이 없는 경우도 있다</a>\n",
    "\n",
    "<a href=\"#함수가-인풋이-없는-경우도-있다\">함수가 인풋이 없는 경우도 있다</a>\n",
    "\n",
    "<a href=\"#out-keyword\">out keyword</a>"
   ]
  },
  {
   "cell_type": "markdown",
   "metadata": {},
   "source": [
    "# Function Object"
   ]
  },
  {
   "cell_type": "code",
   "execution_count": 21,
   "metadata": {},
   "outputs": [
    {
     "name": "stdout",
     "output_type": "stream",
     "text": [
      "<function f at 0x10f67e488>\n",
      "\n",
      "None\n"
     ]
    }
   ],
   "source": [
    "def f():\n",
    "    pass\n",
    "\n",
    "# 괄호가 없이 함수를 부르면 함수 자체를 부르게 된다.\n",
    "print(f)\n",
    "print()\n",
    "\n",
    "# 괄호를 붙여 함수를 부르면 함수가 실행되어 함수의 리턴 값이 리턴된다. \n",
    "# 리턴 값이 없으므로 None이 리턴된다.\n",
    "print(f())"
   ]
  },
  {
   "cell_type": "markdown",
   "metadata": {},
   "source": [
    "[<a href=\"#Functions\">Back to top</a>]"
   ]
  },
  {
   "cell_type": "markdown",
   "metadata": {},
   "source": [
    "# 함수는 보통 인풋을 받아서 아웃풋을 만들어 낸다"
   ]
  },
  {
   "cell_type": "code",
   "execution_count": 23,
   "metadata": {},
   "outputs": [
    {
     "name": "stdout",
     "output_type": "stream",
     "text": [
      "<function f at 0x10f67ebf8>\n",
      "\n",
      "5\n",
      "\n",
      "7\n",
      "\n",
      "f() missing 1 required positional argument: 'c'\n"
     ]
    }
   ],
   "source": [
    "def f(a, b, c):\n",
    "    return a * b + c\n",
    "\n",
    "# 괄호가 없이 함수를 부르면 함수 자체를 부르게 된다.\n",
    "print(f)\n",
    "print()\n",
    "\n",
    "print(f(1, 2, 3))\n",
    "print()\n",
    "\n",
    "# 이 함수의 경우 인풋의 순서가 중요한다. \n",
    "# 이러한 인풋을 positional argument라고 한다.\n",
    "print(f(3, 2, 1))\n",
    "print()\n",
    "\n",
    "# 인풋 갯수가 맞지 않으면 에러가 발생한다.\n",
    "try:\n",
    "    print(f(3, 2))\n",
    "except Exception as e:\n",
    "    print(e)"
   ]
  },
  {
   "cell_type": "markdown",
   "metadata": {},
   "source": [
    "[<a href=\"#Functions\">Back to top</a>]"
   ]
  },
  {
   "cell_type": "markdown",
   "metadata": {},
   "source": [
    "# 함수가 아웃풋이 없는 경우도 있다"
   ]
  },
  {
   "cell_type": "code",
   "execution_count": 3,
   "metadata": {},
   "outputs": [
    {
     "name": "stdout",
     "output_type": "stream",
     "text": [
      "<function f at 0x10f67e488>\n",
      "\n",
      "5\n",
      "None\n"
     ]
    }
   ],
   "source": [
    "def f(a, b, c):\n",
    "    print(a * b + c) \n",
    "    \n",
    "# 괄호가 없이 함수를 부르면 함수 자체를 부르게 된다.\n",
    "print(f)\n",
    "print()\n",
    "\n",
    "# 리턴 값이 없으므로 None이 리턴된다.\n",
    "print(f(1, 2, 3))"
   ]
  },
  {
   "cell_type": "markdown",
   "metadata": {},
   "source": [
    "[<a href=\"#Functions\">Back to top</a>]"
   ]
  },
  {
   "cell_type": "markdown",
   "metadata": {},
   "source": [
    "# 함수가 인풋이 없는 경우도 있다"
   ]
  },
  {
   "cell_type": "code",
   "execution_count": 4,
   "metadata": {},
   "outputs": [
    {
     "name": "stdout",
     "output_type": "stream",
     "text": [
      "<function f at 0x10f67e730>\n",
      "5\n",
      "None\n"
     ]
    }
   ],
   "source": [
    "def f():\n",
    "    a = 1\n",
    "    b = 2\n",
    "    c = 3\n",
    "    print(a * b + c) \n",
    "    \n",
    "print(f)\n",
    "print(f())"
   ]
  },
  {
   "cell_type": "code",
   "execution_count": 5,
   "metadata": {},
   "outputs": [
    {
     "name": "stdout",
     "output_type": "stream",
     "text": [
      "<function f at 0x10f67e840>\n",
      "26\n",
      "None\n"
     ]
    }
   ],
   "source": [
    "a = 4\n",
    "b = 5\n",
    "c = 6\n",
    "\n",
    "def f(): \n",
    "    print(a * b + c) \n",
    "    \n",
    "print(f)\n",
    "print(f())"
   ]
  },
  {
   "cell_type": "markdown",
   "metadata": {},
   "source": [
    "LEGB\n",
    "\n",
    "L - Local\n",
    "E - Enclosed\n",
    "G - Global\n",
    "B - Built-in"
   ]
  },
  {
   "cell_type": "markdown",
   "metadata": {},
   "source": [
    "[<a href=\"#Functions\">Back to top</a>]"
   ]
  },
  {
   "cell_type": "markdown",
   "metadata": {},
   "source": [
    "# out keyword"
   ]
  },
  {
   "cell_type": "markdown",
   "metadata": {},
   "source": [
    "For large calculations, it is sometimes useful to be able to specify the array where the result of the calculation will be stored. Rather than creating a temporary array, this can be used to write computation results directly to the memory location where you'd like them to be. For all ufuncs, this can be done using the out argument of the function:\n",
    "\n",
    "Python Data Science Handbook by Jake Vanderplas [github](https://github.com/jakevdp/PythonDataScienceHandbook) "
   ]
  },
  {
   "cell_type": "code",
   "execution_count": 24,
   "metadata": {},
   "outputs": [
    {
     "name": "stdout",
     "output_type": "stream",
     "text": [
      "[ 1.  2.  4.  8. 16.]\n",
      "\n",
      "[ 0. 10. 20. 30. 40.]\n"
     ]
    }
   ],
   "source": [
    "import numpy as np\n",
    "\n",
    "x = np.arange(5) # [0 1 2 3 4]\n",
    "y = np.empty(5)\n",
    "print(y)\n",
    "print()\n",
    "\n",
    "np.multiply(x, 10, out=y)\n",
    "print(y)"
   ]
  },
  {
   "cell_type": "code",
   "execution_count": 31,
   "metadata": {},
   "outputs": [
    {
     "name": "stdout",
     "output_type": "stream",
     "text": [
      "[0. 0. 0. 0. 0. 0. 0. 0. 0. 0.]\n",
      "\n",
      "[ 1.  0.  2.  0.  4.  0.  8.  0. 16.  0.]\n"
     ]
    }
   ],
   "source": [
    "import numpy as np\n",
    "\n",
    "x = np.arange(5) # [0 1 2 3 4]\n",
    "y = np.zeros(10)\n",
    "print(y)\n",
    "print()\n",
    "\n",
    "np.power(2, x, out=y[::2])\n",
    "print(y)"
   ]
  },
  {
   "cell_type": "markdown",
   "metadata": {},
   "source": [
    "[<a href=\"#Functions\">Back to top</a>]"
   ]
  },
  {
   "cell_type": "markdown",
   "metadata": {},
   "source": [
    "### Example"
   ]
  },
  {
   "cell_type": "code",
   "execution_count": 8,
   "metadata": {},
   "outputs": [],
   "source": [
    "def is_leap(year):\n",
    "    \"\"\"Return True for leap years, False for non-leap years.\"\"\"\n",
    "    return year % 4 == 0 and ( year % 100 != 0 or year % 400 == 0)"
   ]
  },
  {
   "cell_type": "code",
   "execution_count": 9,
   "metadata": {},
   "outputs": [
    {
     "data": {
      "text/plain": [
       "False"
      ]
     },
     "execution_count": 9,
     "metadata": {},
     "output_type": "execute_result"
    }
   ],
   "source": [
    "is_leap(2017)"
   ]
  },
  {
   "cell_type": "code",
   "execution_count": 10,
   "metadata": {},
   "outputs": [
    {
     "data": {
      "text/plain": [
       "True"
      ]
     },
     "execution_count": 10,
     "metadata": {},
     "output_type": "execute_result"
    }
   ],
   "source": [
    "is_leap(2020)"
   ]
  },
  {
   "cell_type": "code",
   "execution_count": 11,
   "metadata": {},
   "outputs": [],
   "source": [
    "def days_in_month(year, month):\n",
    "    \"\"\"Return number of days in that month in that year.\"\"\"\n",
    "    \n",
    "    month_days = [0, 31, 28, 31, 30, 31, 30, 31, 31, 30, 31, 30, 31]\n",
    "    \n",
    "    if not 1<= month <= 12:\n",
    "        return 'Invalid Month'\n",
    "    \n",
    "    if month == 2 and is_leap(year):\n",
    "        return 29\n",
    "    else:\n",
    "        return month_days[month] "
   ]
  },
  {
   "cell_type": "code",
   "execution_count": 12,
   "metadata": {},
   "outputs": [
    {
     "data": {
      "text/plain": [
       "28"
      ]
     },
     "execution_count": 12,
     "metadata": {},
     "output_type": "execute_result"
    }
   ],
   "source": [
    "days_in_month(2017, 2)"
   ]
  },
  {
   "cell_type": "code",
   "execution_count": 13,
   "metadata": {},
   "outputs": [
    {
     "data": {
      "text/plain": [
       "31"
      ]
     },
     "execution_count": 13,
     "metadata": {},
     "output_type": "execute_result"
    }
   ],
   "source": [
    "days_in_month(2020, 3)"
   ]
  },
  {
   "cell_type": "markdown",
   "metadata": {},
   "source": [
    "[<a href=\"#Functions\">Back to top</a>]"
   ]
  },
  {
   "cell_type": "markdown",
   "metadata": {},
   "source": [
    "### Exercise"
   ]
  },
  {
   "cell_type": "markdown",
   "metadata": {},
   "source": [
    "Exercise. Find all primes up to $n$ when $n$ is given."
   ]
  },
  {
   "cell_type": "code",
   "execution_count": 14,
   "metadata": {},
   "outputs": [
    {
     "name": "stdout",
     "output_type": "stream",
     "text": [
      "Find primes up to what number? : 10\n",
      "[2, 3, 5, 7]\n"
     ]
    }
   ],
   "source": [
    "# https://github.com/joeyajames/Python/blob/master/Primes.py\n",
    "# prime number calculator: find all primes up to n\n",
    "\n",
    "max = int(input(\"Find primes up to what number? : \"))\n",
    "primeList = []\n",
    "\n",
    "for x in range(2, max + 1):\n",
    "    isPrime = True\n",
    "    index = 0\n",
    "    root = int(x ** 0.5) + 1\n",
    "    \n",
    "    while index < len(primeList) and primeList[index] <= root:\n",
    "        if x % primeList[index] == 0:\n",
    "            isPrime = False\n",
    "            break\n",
    "        index += 1\n",
    "            \n",
    "    if isPrime:\n",
    "        primeList.append(x)\n",
    "        \n",
    "print(primeList)"
   ]
  },
  {
   "cell_type": "code",
   "execution_count": 15,
   "metadata": {},
   "outputs": [
    {
     "name": "stdout",
     "output_type": "stream",
     "text": [
      "Find primes up to what number? : 10\n",
      "[2, 3, 5, 7]\n"
     ]
    }
   ],
   "source": [
    "# https://github.com/joeyajames/Python/blob/master/Primes.py\n",
    "# modified from original code\n",
    "# max is a reserved word\n",
    "# original variable name : max\n",
    "# modified variable name : max_bound\n",
    "\n",
    "# prime number calculator: find all primes up to n\n",
    "\n",
    "max_bound = int(input(\"Find primes up to what number? : \"))\n",
    "primeList = []\n",
    "\n",
    "for x in range(2, max_bound + 1):\n",
    "    isPrime = True\n",
    "    index = 0\n",
    "    root = int(x ** 0.5) + 1\n",
    "    \n",
    "    while index < len(primeList) and primeList[index] <= root:\n",
    "        if x % primeList[index] == 0:\n",
    "            isPrime = False\n",
    "            break\n",
    "        index += 1\n",
    "            \n",
    "    if isPrime:\n",
    "        primeList.append(x)\n",
    "        \n",
    "print(primeList)"
   ]
  },
  {
   "cell_type": "markdown",
   "metadata": {},
   "source": [
    "Exercise. Find the first $n$ primes when $n$ is given."
   ]
  },
  {
   "cell_type": "code",
   "execution_count": 16,
   "metadata": {},
   "outputs": [
    {
     "name": "stdout",
     "output_type": "stream",
     "text": [
      "Find how many primes?: 10\n",
      "[2, 3, 5, 7, 11, 13, 17, 19, 23, 29]\n"
     ]
    }
   ],
   "source": [
    "# https://github.com/joeyajames/Python/blob/master/Primes.py\n",
    "\n",
    "count = int(input(\"Find how many primes?: \"))\n",
    "primeList = []\n",
    "x = 2\n",
    "\n",
    "while len(primeList) < count:\n",
    "    isPrime = True\n",
    "    index = 0\n",
    "    root = int(x ** 0.5) + 1\n",
    "\n",
    "    while index < len(primeList) and primeList[index] <= root:\n",
    "        if x % primeList[index] == 0:\n",
    "            isPrime = False\n",
    "            break\n",
    "        index += 1\n",
    "\n",
    "    if isPrime:\n",
    "        primeList.append(x)\n",
    "\n",
    "    x += 1\n",
    "\n",
    "print(primeList)"
   ]
  },
  {
   "cell_type": "markdown",
   "metadata": {},
   "source": [
    "[<a href=\"#Functions\">Back to top</a>]"
   ]
  },
  {
   "cell_type": "markdown",
   "metadata": {},
   "source": [
    "연습문제.\n",
    "짝수면 True, 홀수면 False를 리턴하는 다음 함수를 완성하시오.\n",
    "\n",
    "```\n",
    "def even(integer):\n",
    "    ### put your code below\n",
    "    if ### put your code here\n",
    "    ### put your code above\n",
    "        return True\n",
    "    else:\n",
    "        return False\n",
    "\n",
    "print(even(2))\n",
    "```"
   ]
  },
  {
   "cell_type": "code",
   "execution_count": 17,
   "metadata": {},
   "outputs": [
    {
     "name": "stdout",
     "output_type": "stream",
     "text": [
      "True\n"
     ]
    }
   ],
   "source": [
    "def even(integer):\n",
    "    ### put your code below\n",
    "    if integer % 2 == 0:\n",
    "    ### put your code above\n",
    "        return True\n",
    "    else:\n",
    "        return False\n",
    "\n",
    "print(even(10))"
   ]
  }
 ],
 "metadata": {
  "kernelspec": {
   "display_name": "Python 3",
   "language": "python",
   "name": "python3"
  },
  "language_info": {
   "codemirror_mode": {
    "name": "ipython",
    "version": 3
   },
   "file_extension": ".py",
   "mimetype": "text/x-python",
   "name": "python",
   "nbconvert_exporter": "python",
   "pygments_lexer": "ipython3",
   "version": "3.5.0"
  }
 },
 "nbformat": 4,
 "nbformat_minor": 2
}
