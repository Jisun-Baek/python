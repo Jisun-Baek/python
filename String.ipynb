{
 "cells": [
  {
   "cell_type": "markdown",
   "metadata": {},
   "source": [
    "# Strings"
   ]
  },
  {
   "cell_type": "markdown",
   "metadata": {},
   "source": [
    "Corey_Schafer [youtube](https://www.youtube.com/watch?v=k9TUPpGqYTo&index=2&list=PL-osiE80TeTt2d9bfVyTiXJA-UTHn6WwU)"
   ]
  },
  {
   "cell_type": "markdown",
   "metadata": {},
   "source": [
    "<a href=\"#How-to-Generate-String\">How to Generate String</a>\n",
    "\n",
    "<a href=\"#How-to-Generate-String-with-Quat\">How to Generate String with Quat</a>\n",
    "\n",
    "<a href=\"#How-to-Generate-Multiline-String\">How to Generate Multiline String</a>\n",
    "\n",
    "<a href=\"#String-Concatanation\">String Concatanation</a>\n",
    "\n",
    "<a href=\"#How-to-Count-Number-of-Characters-in-String\">How to Count Number of Characters in String</a>\n",
    "\n",
    "<a href=\"#Let's-Flip-the-Coin\">Let's Flip the Coin</a>"
   ]
  },
  {
   "cell_type": "markdown",
   "metadata": {},
   "source": [
    "# How to Generate String "
   ]
  },
  {
   "cell_type": "markdown",
   "metadata": {},
   "source": [
    "따옴표를 쓰면 스트링을 생성할 수 있다."
   ]
  },
  {
   "cell_type": "code",
   "execution_count": 1,
   "metadata": {},
   "outputs": [
    {
     "name": "stdout",
     "output_type": "stream",
     "text": [
      "Hello World!\n"
     ]
    }
   ],
   "source": [
    "print('Hello World!')"
   ]
  },
  {
   "cell_type": "markdown",
   "metadata": {},
   "source": [
    "변수에 스트링을 저장 할 수 있다."
   ]
  },
  {
   "cell_type": "code",
   "execution_count": 18,
   "metadata": {},
   "outputs": [
    {
     "name": "stdout",
     "output_type": "stream",
     "text": [
      "<class 'str'>\n",
      "Hello World!\n"
     ]
    }
   ],
   "source": [
    "message = 'Hello World!'\n",
    "print(type(message))\n",
    "print(message)"
   ]
  },
  {
   "cell_type": "markdown",
   "metadata": {},
   "source": [
    "따옴표를 하나를 쓰든 둘을 쓰든 상관없다.\n",
    "처음에 따옴표를 하나를 썼으면 끝에도 하나를 쓰고,\n",
    "처음에 따옴표를 두개를 썼으면 끝에도 두개를 쓰면 된다."
   ]
  },
  {
   "cell_type": "code",
   "execution_count": 3,
   "metadata": {},
   "outputs": [
    {
     "name": "stdout",
     "output_type": "stream",
     "text": [
      "Hello World!\n"
     ]
    }
   ],
   "source": [
    "message = \"Hello World!\"\n",
    "print(message)"
   ]
  },
  {
   "cell_type": "markdown",
   "metadata": {},
   "source": [
    "[<a href=\"#Strings\">Back to top</a>]"
   ]
  },
  {
   "cell_type": "markdown",
   "metadata": {},
   "source": [
    "# How to Generate String with Quat"
   ]
  },
  {
   "cell_type": "code",
   "execution_count": 20,
   "metadata": {},
   "outputs": [],
   "source": [
    "# message = 'Bob's Burgers'\n",
    "# print(message)\n",
    "\n",
    "# SyntaxError: invalid syntax"
   ]
  },
  {
   "cell_type": "code",
   "execution_count": 5,
   "metadata": {},
   "outputs": [
    {
     "name": "stdout",
     "output_type": "stream",
     "text": [
      "Bob's Burgers\n"
     ]
    }
   ],
   "source": [
    "message = 'Bob\\'s Burgers'\n",
    "print(message)"
   ]
  },
  {
   "cell_type": "code",
   "execution_count": 6,
   "metadata": {},
   "outputs": [
    {
     "name": "stdout",
     "output_type": "stream",
     "text": [
      "Bob's Burgers\n"
     ]
    }
   ],
   "source": [
    "message = \"Bob's Burgers\"\n",
    "print(message)"
   ]
  },
  {
   "cell_type": "markdown",
   "metadata": {},
   "source": [
    "[<a href=\"#Strings\">Back to top</a>]"
   ]
  },
  {
   "cell_type": "markdown",
   "metadata": {},
   "source": [
    "# How to Generate Multiline String"
   ]
  },
  {
   "cell_type": "code",
   "execution_count": 7,
   "metadata": {},
   "outputs": [
    {
     "name": "stdout",
     "output_type": "stream",
     "text": [
      "Bob's Burgers is an American animated sitcom created by Loren Bouchard that premiered on Fox on January 9, 2011.\n"
     ]
    }
   ],
   "source": [
    "message = \"\"\"Bob's Burgers is an American animated sitcom created by Loren Bouchard that premiered on Fox on January 9, 2011.\"\"\"\n",
    "print(message)"
   ]
  },
  {
   "cell_type": "code",
   "execution_count": 8,
   "metadata": {},
   "outputs": [
    {
     "name": "stdout",
     "output_type": "stream",
     "text": [
      "Bob's Burgers is an American animated sitcom \n",
      "created by Loren Bouchard \n",
      "that premiered on Fox on January 9, 2011.\n"
     ]
    }
   ],
   "source": [
    "message = \"\"\"Bob's Burgers is an American animated sitcom \n",
    "created by Loren Bouchard \n",
    "that premiered on Fox on January 9, 2011.\"\"\"\n",
    "print(message)"
   ]
  },
  {
   "cell_type": "code",
   "execution_count": 9,
   "metadata": {},
   "outputs": [
    {
     "name": "stdout",
     "output_type": "stream",
     "text": [
      "\n",
      "Bob's Burgers is an American animated sitcom \n",
      "created by Loren Bouchard \n",
      "that premiered on Fox on January 9, 2011.\n",
      "\n"
     ]
    }
   ],
   "source": [
    "message = \"\"\"\n",
    "Bob's Burgers is an American animated sitcom \n",
    "created by Loren Bouchard \n",
    "that premiered on Fox on January 9, 2011.\n",
    "\"\"\"\n",
    "print(message)"
   ]
  },
  {
   "cell_type": "markdown",
   "metadata": {},
   "source": [
    "[<a href=\"#Strings\">Back to top</a>]"
   ]
  },
  {
   "cell_type": "markdown",
   "metadata": {},
   "source": [
    "# String Concatanation"
   ]
  },
  {
   "cell_type": "code",
   "execution_count": 21,
   "metadata": {},
   "outputs": [
    {
     "name": "stdout",
     "output_type": "stream",
     "text": [
      "HelloBob\n"
     ]
    }
   ],
   "source": [
    "greeting = 'Hello' \n",
    "name = 'Bob'\n",
    "\n",
    "message = greeting + name\n",
    "print(message)"
   ]
  },
  {
   "cell_type": "code",
   "execution_count": 23,
   "metadata": {},
   "outputs": [
    {
     "name": "stdout",
     "output_type": "stream",
     "text": [
      "Hello, Bob\n"
     ]
    }
   ],
   "source": [
    "greeting = 'Hello' \n",
    "name = 'Bob'\n",
    "\n",
    "message = greeting + ', ' + name\n",
    "print(message)"
   ]
  },
  {
   "cell_type": "code",
   "execution_count": 24,
   "metadata": {},
   "outputs": [
    {
     "name": "stdout",
     "output_type": "stream",
     "text": [
      "Hello, Bob. Welcome!\n"
     ]
    }
   ],
   "source": [
    "greeting = 'Hello' \n",
    "name = 'Bob'\n",
    "\n",
    "message = greeting + ', ' + name + '. Welcome!'\n",
    "print(message)"
   ]
  },
  {
   "cell_type": "markdown",
   "metadata": {},
   "source": [
    "[<a href=\"#Strings\">Back to top</a>]"
   ]
  },
  {
   "cell_type": "markdown",
   "metadata": {},
   "source": [
    "# How to Count Number of Characters in String"
   ]
  },
  {
   "cell_type": "code",
   "execution_count": 25,
   "metadata": {},
   "outputs": [
    {
     "name": "stdout",
     "output_type": "stream",
     "text": [
      "12\n"
     ]
    }
   ],
   "source": [
    "message = 'Hello World!'\n",
    "print(len(message))"
   ]
  },
  {
   "cell_type": "markdown",
   "metadata": {},
   "source": [
    "[<a href=\"#Strings\">Back to top</a>]"
   ]
  },
  {
   "cell_type": "markdown",
   "metadata": {},
   "source": [
    "# Let's Flip the Coin"
   ]
  },
  {
   "cell_type": "code",
   "execution_count": 29,
   "metadata": {},
   "outputs": [
    {
     "name": "stdout",
     "output_type": "stream",
     "text": [
      "H\n",
      "T\n",
      "H\n",
      "T\n",
      "H\n",
      "T\n",
      "T\n",
      "T\n",
      "T\n",
      "H\n"
     ]
    }
   ],
   "source": [
    "# naive coin flip\n",
    "\n",
    "import numpy as np\n",
    "\n",
    "# fix the seed\n",
    "np.random.seed(337)\n",
    "\n",
    "# probability of head when we flip a coin\n",
    "p = 0.5\n",
    "\n",
    "# number of flips\n",
    "n = 10\n",
    "\n",
    "for _ in range(n):   \n",
    "    if np.random.uniform(0.,1.,(1,)) > 1-p:\n",
    "        print(\"H\")\n",
    "    else:\n",
    "        print(\"T\")"
   ]
  },
  {
   "cell_type": "code",
   "execution_count": 31,
   "metadata": {},
   "outputs": [
    {
     "name": "stdout",
     "output_type": "stream",
     "text": [
      "['H', 'T', 'H', 'T', 'H', 'T', 'T', 'T', 'T', 'H']\n"
     ]
    }
   ],
   "source": [
    "# naive coin flip with list output\n",
    "\n",
    "import numpy as np\n",
    "\n",
    "# fix the seed\n",
    "np.random.seed(337)\n",
    "\n",
    "# probability of head when we flip a coin\n",
    "p = 0.5\n",
    "\n",
    "# number of flips\n",
    "n = 10\n",
    "\n",
    "coin_flip = []\n",
    "for _ in range(n):\n",
    "    if np.random.uniform(0.,1.,(1,)) > 1-p:\n",
    "        coin_flip.append(\"H\")\n",
    "    else:\n",
    "        coin_flip.append(\"T\")\n",
    "        \n",
    "print(coin_flip)"
   ]
  },
  {
   "cell_type": "code",
   "execution_count": 32,
   "metadata": {},
   "outputs": [
    {
     "name": "stdout",
     "output_type": "stream",
     "text": [
      "[1, 0, 1, 0, 1, 0, 0, 0, 0, 1]\n"
     ]
    }
   ],
   "source": [
    "# naive coin flip with list output and 0-1 coding\n",
    "\n",
    "import numpy as np\n",
    "\n",
    "# fix the seed\n",
    "np.random.seed(337)\n",
    "\n",
    "# probability of head when we flip a coin\n",
    "p = 0.5\n",
    "\n",
    "# number of flips\n",
    "n = 10\n",
    "\n",
    "coin_flip = []\n",
    "for _ in range(n):\n",
    "    if np.random.uniform(0.,1.,(1,)) > 1-p:\n",
    "        coin_flip.append(1)\n",
    "    else:\n",
    "        coin_flip.append(0)\n",
    "        \n",
    "print(coin_flip)"
   ]
  },
  {
   "cell_type": "code",
   "execution_count": 46,
   "metadata": {},
   "outputs": [
    {
     "name": "stdout",
     "output_type": "stream",
     "text": [
      "[1 0 1 0 1 0 0 0 0 1]\n"
     ]
    }
   ],
   "source": [
    "# coin flip\n",
    "\n",
    "import numpy as np\n",
    "\n",
    "# fix the seed\n",
    "np.random.seed(337)\n",
    "\n",
    "# probability of head when we flip a coin\n",
    "p = 0.5\n",
    "\n",
    "# number of flips\n",
    "n = 10\n",
    "\n",
    "uniform_flip = np.random.uniform(0.,1.,(n,))\n",
    "coin_flip = np.zeros_like(uniform_flip).astype(np.int32)\n",
    "coin_flip[uniform_flip>1-p] = 1\n",
    "        \n",
    "print(coin_flip)"
   ]
  },
  {
   "cell_type": "markdown",
   "metadata": {},
   "source": [
    "[<a href=\"#Strings\">Back to top</a>]"
   ]
  }
 ],
 "metadata": {
  "kernelspec": {
   "display_name": "Python 3",
   "language": "python",
   "name": "python3"
  },
  "language_info": {
   "codemirror_mode": {
    "name": "ipython",
    "version": 3
   },
   "file_extension": ".py",
   "mimetype": "text/x-python",
   "name": "python",
   "nbconvert_exporter": "python",
   "pygments_lexer": "ipython3",
   "version": "3.5.0"
  }
 },
 "nbformat": 4,
 "nbformat_minor": 2
}
