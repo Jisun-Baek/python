{
 "cells": [
  {
   "cell_type": "markdown",
   "metadata": {},
   "source": [
    "# Sequence"
   ]
  },
  {
   "cell_type": "markdown",
   "metadata": {},
   "source": [
    "Joe_James \n",
    "[youtube](https://www.youtube.com/watch?v=R-HLU9Fl5ug&index=9&list=PLj8W7XIvO93qsmdxbaDpIvM1KCyNO1K_c) \n",
    "[github](https://github.com/joeyajames/Python)"
   ]
  },
  {
   "cell_type": "markdown",
   "metadata": {},
   "source": [
    "<a href=\"#Sequence---String,-List,-Tuple\">Sequence - String, List, Tuple</a>\n",
    "\n",
    "<a href=\"#Index-and-Slice\">Index and Slice</a>\n",
    "\n",
    "<a href=\"#Iteration\">Iteration</a>"
   ]
  },
  {
   "cell_type": "markdown",
   "metadata": {},
   "source": [
    "# Sequence - String, List, Tuple"
   ]
  },
  {
   "cell_type": "markdown",
   "metadata": {},
   "source": [
    "<div align=\"center\"><img src=\"img/Screen Shot 2018-08-05 at 10.41.11 PM.png\" width=\"60%\"></div>\n",
    "\n",
    "Joe_James \n",
    "[youtube](https://www.youtube.com/watch?v=R-HLU9Fl5ug&index=9&list=PLj8W7XIvO93qsmdxbaDpIvM1KCyNO1K_c) \n",
    "[github](https://github.com/joeyajames/Python)"
   ]
  },
  {
   "cell_type": "markdown",
   "metadata": {},
   "source": [
    "[<a href=\"#Sequence\">Back to top</a>]"
   ]
  },
  {
   "cell_type": "markdown",
   "metadata": {},
   "source": [
    "# Index and Slice"
   ]
  },
  {
   "cell_type": "markdown",
   "metadata": {},
   "source": [
    "인덱스를 이용 시이퀀스에 있는 아이템에 접근할 수 있다."
   ]
  },
  {
   "cell_type": "code",
   "execution_count": 14,
   "metadata": {},
   "outputs": [
    {
     "name": "stdout",
     "output_type": "stream",
     "text": [
      "('frog', 'pig', 'cow', 'horse')\n",
      "<class 'tuple'>\n"
     ]
    }
   ],
   "source": [
    "if 0: # string\n",
    "    x = 'computer'\n",
    "elif 0: # list\n",
    "    x = ['frog', 'pig', 'cow', 'horse']\n",
    "elif 1: # tuple\n",
    "    x = ('frog', 'pig', 'cow', 'horse')\n",
    "    \n",
    "print(x)\n",
    "print(type(x))"
   ]
  },
  {
   "cell_type": "markdown",
   "metadata": {},
   "source": [
    "슬라이싱을 이용 시이퀀스에 연속해서 있는 아이템에 접근할 수 있다."
   ]
  },
  {
   "cell_type": "markdown",
   "metadata": {},
   "source": [
    "<div align=\"center\"><img src=\"img/Screen Shot 2018-08-05 at 10.51.26 PM.png\" width=\"70%\"></div>\n",
    "\n",
    "Joe_James \n",
    "[youtube](https://www.youtube.com/watch?v=R-HLU9Fl5ug&index=9&list=PLj8W7XIvO93qsmdxbaDpIvM1KCyNO1K_c) \n",
    "[github](https://github.com/joeyajames/Python)"
   ]
  },
  {
   "cell_type": "code",
   "execution_count": 19,
   "metadata": {},
   "outputs": [
    {
     "name": "stdout",
     "output_type": "stream",
     "text": [
      "frog\n",
      "<class 'tuple'>\n"
     ]
    }
   ],
   "source": [
    "if 0: # string\n",
    "    x = 'computer'\n",
    "elif 0: # list\n",
    "    x = ['frog', 'pig', 'cow', 'horse']\n",
    "elif 1: # tuple\n",
    "    x = ('frog', 'pig', 'cow', 'horse')\n",
    "    \n",
    "print(x[-4])\n",
    "print(type(x))"
   ]
  },
  {
   "cell_type": "code",
   "execution_count": 23,
   "metadata": {},
   "outputs": [
    {
     "name": "stdout",
     "output_type": "stream",
     "text": [
      "('pig', 'cow', 'horse')\n",
      "<class 'tuple'>\n"
     ]
    }
   ],
   "source": [
    "if 0: # string\n",
    "    x = 'computer'\n",
    "elif 0: # list\n",
    "    x = ['frog', 'pig', 'cow', 'horse']\n",
    "elif 1: # tuple\n",
    "    x = ('frog', 'pig', 'cow', 'horse')\n",
    "    \n",
    "print(x[1:4])\n",
    "print(type(x))"
   ]
  },
  {
   "cell_type": "code",
   "execution_count": 24,
   "metadata": {},
   "outputs": [
    {
     "name": "stdout",
     "output_type": "stream",
     "text": [
      "opt\n",
      "<class 'str'>\n"
     ]
    }
   ],
   "source": [
    "if 1: # string\n",
    "    x = 'computer'\n",
    "elif 0: # list\n",
    "    x = ['frog', 'pig', 'cow', 'horse']\n",
    "elif 1: # tuple\n",
    "    x = ('frog', 'pig', 'cow', 'horse')\n",
    "\n",
    "print(x[1:6:2])\n",
    "print(type(x))"
   ]
  },
  {
   "cell_type": "code",
   "execution_count": 25,
   "metadata": {},
   "outputs": [
    {
     "name": "stdout",
     "output_type": "stream",
     "text": [
      "puter\n",
      "<class 'str'>\n"
     ]
    }
   ],
   "source": [
    "if 1: # string\n",
    "    x = 'computer'\n",
    "elif 0: # list\n",
    "    x = ['frog', 'pig', 'cow', 'horse']\n",
    "elif 1: # tuple\n",
    "    x = ('frog', 'pig', 'cow', 'horse')\n",
    "\n",
    "print(x[3:])\n",
    "print(type(x))"
   ]
  },
  {
   "cell_type": "code",
   "execution_count": 26,
   "metadata": {},
   "outputs": [
    {
     "name": "stdout",
     "output_type": "stream",
     "text": [
      "compu\n",
      "<class 'str'>\n"
     ]
    }
   ],
   "source": [
    "if 1: # string\n",
    "    x = 'computer'\n",
    "elif 0: # list\n",
    "    x = ['frog', 'pig', 'cow', 'horse']\n",
    "elif 1: # tuple\n",
    "    x = ('frog', 'pig', 'cow', 'horse')\n",
    "\n",
    "print(x[:5])\n",
    "print(type(x))"
   ]
  },
  {
   "cell_type": "code",
   "execution_count": 27,
   "metadata": {},
   "outputs": [
    {
     "name": "stdout",
     "output_type": "stream",
     "text": [
      "r\n",
      "<class 'str'>\n"
     ]
    }
   ],
   "source": [
    "if 1: # string\n",
    "    x = 'computer'\n",
    "elif 0: # list\n",
    "    x = ['frog', 'pig', 'cow', 'horse']\n",
    "elif 1: # tuple\n",
    "    x = ('frog', 'pig', 'cow', 'horse')\n",
    "    \n",
    "print(x[-1])\n",
    "print(type(x))"
   ]
  },
  {
   "cell_type": "code",
   "execution_count": 28,
   "metadata": {},
   "outputs": [
    {
     "name": "stdout",
     "output_type": "stream",
     "text": [
      "ter\n",
      "<class 'str'>\n"
     ]
    }
   ],
   "source": [
    "if 1: # string\n",
    "    x = 'computer'\n",
    "elif 0: # list\n",
    "    x = ['frog', 'pig', 'cow', 'horse']\n",
    "elif 1: # tuple\n",
    "    x = ('frog', 'pig', 'cow', 'horse')\n",
    "    \n",
    "print(x[-3:])\n",
    "print(type(x))"
   ]
  },
  {
   "cell_type": "code",
   "execution_count": 29,
   "metadata": {},
   "outputs": [
    {
     "name": "stdout",
     "output_type": "stream",
     "text": [
      "er\n",
      "<class 'str'>\n"
     ]
    }
   ],
   "source": [
    "if 1: # string\n",
    "    x = 'computer'\n",
    "elif 0: # list\n",
    "    x = ['frog', 'pig', 'cow', 'horse']\n",
    "elif 1: # tuple\n",
    "    x = ('frog', 'pig', 'cow', 'horse')\n",
    "    \n",
    "print(x[-2:])\n",
    "print(type(x))"
   ]
  },
  {
   "cell_type": "code",
   "execution_count": 30,
   "metadata": {},
   "outputs": [
    {
     "name": "stdout",
     "output_type": "stream",
     "text": [
      "retupmoc\n",
      "<class 'str'>\n"
     ]
    }
   ],
   "source": [
    "if 1: # string\n",
    "    x = 'computer'\n",
    "elif 0: # list\n",
    "    x = ['frog', 'pig', 'cow', 'horse']\n",
    "elif 1: # tuple\n",
    "    x = ('frog', 'pig', 'cow', 'horse')\n",
    "    \n",
    "print(x[::-1])\n",
    "print(type(x))"
   ]
  },
  {
   "cell_type": "markdown",
   "metadata": {},
   "source": [
    "[<a href=\"#Sequence\">Back to top</a>]"
   ]
  },
  {
   "cell_type": "markdown",
   "metadata": {},
   "source": [
    "# Iteration"
   ]
  },
  {
   "cell_type": "code",
   "execution_count": 36,
   "metadata": {},
   "outputs": [
    {
     "name": "stdout",
     "output_type": "stream",
     "text": [
      "c\n",
      "o\n",
      "m\n",
      "p\n",
      "u\n",
      "t\n",
      "e\n",
      "r\n"
     ]
    }
   ],
   "source": [
    "if 1: # string\n",
    "    x = 'computer'\n",
    "elif 1: # list\n",
    "    x = ['frog', 'pig', 'cow', 'horse']\n",
    "elif 1: # tuple\n",
    "    x = ('frog', 'pig', 'cow', 'horse')\n",
    "    \n",
    "for i in x:\n",
    "    print(i)"
   ]
  },
  {
   "cell_type": "code",
   "execution_count": 34,
   "metadata": {},
   "outputs": [
    {
     "name": "stdout",
     "output_type": "stream",
     "text": [
      "frogfrogfrog\n",
      "pigpigpig\n",
      "cowcowcow\n",
      "horsehorsehorse\n"
     ]
    }
   ],
   "source": [
    "if 0: # string\n",
    "    x = 'computer'\n",
    "elif 1: # list\n",
    "    x = ['frog', 'pig', 'cow', 'horse']\n",
    "elif 1: # tuple\n",
    "    x = ('frog', 'pig', 'cow', 'horse')\n",
    "    \n",
    "for i in x:\n",
    "    print(i*3)"
   ]
  },
  {
   "cell_type": "code",
   "execution_count": 35,
   "metadata": {},
   "outputs": [
    {
     "name": "stdout",
     "output_type": "stream",
     "text": [
      "0 c\n",
      "1 o\n",
      "2 m\n",
      "3 p\n",
      "4 u\n",
      "5 t\n",
      "6 e\n",
      "7 r\n"
     ]
    }
   ],
   "source": [
    "if 1: # string\n",
    "    x = 'computer'\n",
    "elif 0: # list\n",
    "    x = ['frog', 'pig', 'cow', 'horse']\n",
    "elif 1: # tuple\n",
    "    x = ('frog', 'pig', 'cow', 'horse')\n",
    "    \n",
    "for index, item in enumerate(x):\n",
    "    print(index, item)"
   ]
  },
  {
   "cell_type": "markdown",
   "metadata": {},
   "source": [
    "[<a href=\"#Sequence\">Back to top</a>]"
   ]
  }
 ],
 "metadata": {
  "anaconda-cloud": {},
  "kernelspec": {
   "display_name": "Python 3",
   "language": "python",
   "name": "python3"
  },
  "language_info": {
   "codemirror_mode": {
    "name": "ipython",
    "version": 3
   },
   "file_extension": ".py",
   "mimetype": "text/x-python",
   "name": "python",
   "nbconvert_exporter": "python",
   "pygments_lexer": "ipython3",
   "version": "3.5.0"
  }
 },
 "nbformat": 4,
 "nbformat_minor": 1
}
