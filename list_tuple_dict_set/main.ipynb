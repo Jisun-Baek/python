{
 "cells": [
  {
   "cell_type": "code",
   "execution_count": 1,
   "metadata": {},
   "outputs": [
    {
     "name": "stdout",
     "output_type": "stream",
     "text": [
      "[]\n",
      "[0]\n",
      "[0, 1]\n",
      "[0, 1, 2]\n",
      "[0, 1, 2, 3]\n",
      "[0, 1, 2, 3, 4]\n"
     ]
    }
   ],
   "source": [
    "a = []\n",
    "print(a)\n",
    "for i in range(5):\n",
    "    a.append(i)\n",
    "    print(a)"
   ]
  },
  {
   "cell_type": "code",
   "execution_count": 7,
   "metadata": {},
   "outputs": [
    {
     "data": {
      "image/png": "[encoded data removed]",
      "text/plain": [
       "<Figure size 432x288 with 1 Axes>"
      ]
     },
     "metadata": {
      "needs_background": "light"
     },
     "output_type": "display_data"
    }
   ],
   "source": [
    "%matplotlib inline\n",
    "import matplotlib.pyplot as plt \n",
    "import time\n",
    "\n",
    "record_time = []\n",
    "temp = []\n",
    "for i in range(100000):\n",
    "    tic = time.time()\n",
    "    temp.append(i)\n",
    "    toc = time.time()\n",
    "    record_time.append(toc-tic)\n",
    "\n",
    "plt.plot(record_time)\n",
    "#plt.ylim([0,2e-6])\n",
    "plt.show()"
   ]
  },
  {
   "cell_type": "code",
   "execution_count": 14,
   "metadata": {},
   "outputs": [
    {
     "name": "stdout",
     "output_type": "stream",
     "text": [
      "[[0 1 2 3]\n",
      " [4 5 6 7]]\n",
      "(2, 4)\n"
     ]
    }
   ],
   "source": [
    "import numpy as np\n",
    "a = np.array([[0,1,2,3],[4,5,6,7]])\n",
    "print(a) # numpy.ndarray\n",
    "print(a.shape) # tuple (2, 4)"
   ]
  },
  {
   "cell_type": "code",
   "execution_count": 15,
   "metadata": {},
   "outputs": [
    {
     "name": "stdout",
     "output_type": "stream",
     "text": [
      "2\n",
      "4\n"
     ]
    }
   ],
   "source": [
    "n, m = a.shape # unpacking\n",
    "print(n) # n <--- 2\n",
    "print(m) # m <--- 4"
   ]
  },
  {
   "cell_type": "code",
   "execution_count": 16,
   "metadata": {},
   "outputs": [
    {
     "name": "stdout",
     "output_type": "stream",
     "text": [
      "(4, 2)\n",
      "<class 'tuple'>\n"
     ]
    }
   ],
   "source": [
    "b = m, n # packing\n",
    "print(b)\n",
    "print(type(b))"
   ]
  },
  {
   "cell_type": "code",
   "execution_count": 17,
   "metadata": {},
   "outputs": [
    {
     "name": "stdout",
     "output_type": "stream",
     "text": [
      "[2.7]\n",
      "3.14\n"
     ]
    }
   ],
   "source": [
    "a = 3.14\n",
    "b = [2.7]\n",
    "temp1 = a\n",
    "temp2 = b\n",
    "a = temp2\n",
    "b = temp1\n",
    "print(a)\n",
    "print(b)"
   ]
  },
  {
   "cell_type": "code",
   "execution_count": 18,
   "metadata": {},
   "outputs": [
    {
     "name": "stdout",
     "output_type": "stream",
     "text": [
      "[2.7]\n",
      "3.14\n"
     ]
    }
   ],
   "source": [
    "a = 3.14\n",
    "b = [2.7]\n",
    "a, b = b, a\n",
    "print(a)\n",
    "print(b)"
   ]
  },
  {
   "cell_type": "code",
   "execution_count": 28,
   "metadata": {},
   "outputs": [
    {
     "name": "stdout",
     "output_type": "stream",
     "text": [
      "<class 'list'>\n"
     ]
    }
   ],
   "source": [
    "a = []\n",
    "for i in range(100):\n",
    "    a.append(i)\n",
    "\n",
    "b = []\n",
    "for i in a:\n",
    "    b.append(i**2) \n",
    "\n",
    "print(type(b))"
   ]
  },
  {
   "cell_type": "code",
   "execution_count": 30,
   "metadata": {},
   "outputs": [
    {
     "name": "stdout",
     "output_type": "stream",
     "text": [
      "<class 'generator'>\n"
     ]
    }
   ],
   "source": [
    "a = []\n",
    "for i in range(100):\n",
    "    a.append(i)\n",
    "    \n",
    "#b = [i**2 for i in a]\n",
    "b = (i**2 for i in a)\n",
    "    \n",
    "print(type(b))"
   ]
  },
  {
   "cell_type": "code",
   "execution_count": 32,
   "metadata": {},
   "outputs": [
    {
     "name": "stdout",
     "output_type": "stream",
     "text": [
      "3.14\n"
     ]
    }
   ],
   "source": [
    "print(3.14)"
   ]
  },
  {
   "cell_type": "code",
   "execution_count": 6,
   "metadata": {},
   "outputs": [
    {
     "name": "stdout",
     "output_type": "stream",
     "text": [
      "{'zero': 2.7, 'one': 'Hello', 'two': [1]}\n",
      "{'zero': 2.7, 'one': 'Hello', 'two': [1], 'three': 3}\n"
     ]
    }
   ],
   "source": [
    "# a = [2.7, 'Hello', [1]]\n",
    "#        0        1    2 <--- natural index\n",
    "# dict - mutable\n",
    "# key - immutable\n",
    "# list - mutable\n",
    "# str - immutable\n",
    "a = {'zero' : 2.7, 'one' : 'Hello', 'two' : [1]}\n",
    "print(a)\n",
    "a['three'] = 3\n",
    "print(a)"
   ]
  },
  {
   "cell_type": "code",
   "execution_count": 8,
   "metadata": {},
   "outputs": [
    {
     "ename": "TypeError",
     "evalue": "'str' object does not support item assignment",
     "output_type": "error",
     "traceback": [
      "\u001b[0;31m---------------------------------------------------------------------------\u001b[0m",
      "\u001b[0;31mTypeError\u001b[0m                                 Traceback (most recent call last)",
      "\u001b[0;32m<ipython-input-8-e782e748d01c>\u001b[0m in \u001b[0;36m<module>\u001b[0;34m\u001b[0m\n\u001b[1;32m      1\u001b[0m \u001b[0ma\u001b[0m \u001b[0;34m=\u001b[0m \u001b[0;34m'Hello'\u001b[0m\u001b[0;34m\u001b[0m\u001b[0;34m\u001b[0m\u001b[0m\n\u001b[0;32m----> 2\u001b[0;31m \u001b[0ma\u001b[0m\u001b[0;34m[\u001b[0m\u001b[0;36m0\u001b[0m\u001b[0;34m]\u001b[0m \u001b[0;34m=\u001b[0m \u001b[0;34m'h'\u001b[0m\u001b[0;34m\u001b[0m\u001b[0;34m\u001b[0m\u001b[0m\n\u001b[0m\u001b[1;32m      3\u001b[0m \u001b[0mprint\u001b[0m\u001b[0;34m(\u001b[0m\u001b[0ma\u001b[0m\u001b[0;34m)\u001b[0m\u001b[0;34m\u001b[0m\u001b[0;34m\u001b[0m\u001b[0m\n",
      "\u001b[0;31mTypeError\u001b[0m: 'str' object does not support item assignment"
     ]
    }
   ],
   "source": [
    "a = 'Hello'\n",
    "a[0] = 'h'\n",
    "print(a)"
   ]
  },
  {
   "cell_type": "code",
   "execution_count": 8,
   "metadata": {},
   "outputs": [
    {
     "name": "stdout",
     "output_type": "stream",
     "text": [
      "# packages in environment at /Users/sungchullee/anaconda3:\r\n",
      "#\r\n",
      "# Name                    Version                   Build  Channel\r\n",
      "_ipyw_jlab_nb_ext_conf    0.1.0                    py36_0  \r\n",
      "absl-py                   0.8.1                    pypi_0    pypi\r\n",
      "alabaster                 0.7.12                   py36_0  \r\n",
      "anaconda                  2019.10                  py36_0  \r\n",
      "anaconda-client           1.7.2                    py36_0  \r\n",
      "anaconda-navigator        1.9.7                    py36_0  \r\n",
      "anaconda-project          0.8.3                      py_0  \r\n",
      "appnope                   0.1.0            py36hf537a9a_0  \r\n",
      "appscript                 1.1.0            py36h1de35cc_0  \r\n",
      "asn1crypto                1.0.1                    py36_0  \r\n",
      "astor                     0.8.0                    pypi_0    pypi\r\n",
      "astroid                   2.3.1                    py36_0  \r\n",
      "astropy                   3.2.2            py36h1de35cc_0  \r\n",
      "atomicwrites              1.3.0                    py36_1  \r\n",
      "attrs                     19.2.0                     py_0  \r\n",
      "babel                     2.7.0                      py_0  \r\n",
      "backcall                  0.1.0                    py36_0  \r\n",
      "backports                 1.0                        py_2  \r\n",
      "backports.functools_lru_cache 1.5                        py_2  \r\n",
      "backports.os              0.1.1                    py36_0  \r\n",
      "backports.shutil_get_terminal_size 1.0.0                    py36_2  \r\n",
      "backports.tempfile        1.0                        py_1  \r\n",
      "backports.weakref         1.0.post1                  py_1  \r\n",
      "beautifulsoup4            4.8.0                    py36_0  \r\n",
      "bitarray                  1.0.1            py36h1de35cc_0  \r\n",
      "bkcharts                  0.2              py36h073222e_0  \r\n",
      "blas                      1.0                         mkl  \r\n",
      "blaze                     0.11.3                   py36_0  \r\n",
      "bleach                    3.1.0                    py36_0  \r\n",
      "blosc                     1.16.3               hd9629dc_0  \r\n",
      "bokeh                     1.3.4                    py36_0  \r\n",
      "boto                      2.49.0                   py36_0  \r\n",
      "bottleneck                1.2.1            py36h1d22016_1  \r\n",
      "bzip2                     1.0.8                h1de35cc_0  \r\n",
      "ca-certificates           2019.8.28                     0  \r\n",
      "certifi                   2019.9.11                py36_0  \r\n",
      "cffi                      1.12.3           py36hb5b8e2f_0  \r\n",
      "chardet                   3.0.4                 py36_1003  \r\n",
      "click                     7.0                      py36_0  \r\n",
      "cloudpickle               1.2.2                      py_0  \r\n",
      "clyent                    1.2.2                    py36_1  \r\n",
      "colorama                  0.4.1                    py36_0  \r\n",
      "conda                     4.7.12                   py36_0  \r\n",
      "conda-build               3.18.10                  py36_3  \r\n",
      "conda-env                 2.6.0                         1  \r\n",
      "conda-package-handling    1.6.0            py36h1de35cc_0  \r\n",
      "conda-verify              3.4.2                      py_1  \r\n",
      "contextlib2               0.6.0                      py_0  \r\n",
      "cryptography              2.7              py36ha12b0ac_0  \r\n",
      "curl                      7.65.3               ha441bb4_0  \r\n",
      "cycler                    0.10.0           py36hfc81398_0  \r\n",
      "cython                    0.29.13          py36h0a44026_0  \r\n",
      "cytoolz                   0.10.0           py36h1de35cc_0  \r\n",
      "dask                      2.5.2                      py_0  \r\n",
      "dask-core                 2.5.2                      py_0  \r\n",
      "datashape                 0.5.4                    py36_1  \r\n",
      "dbus                      1.13.6               h90a0687_0  \r\n",
      "decorator                 4.4.0                    py36_1  \r\n",
      "defusedxml                0.6.0                      py_0  \r\n",
      "distributed               2.5.2                      py_0  \r\n",
      "docutils                  0.15.2                   py36_0  \r\n",
      "entrypoints               0.3                      py36_0  \r\n",
      "et_xmlfile                1.0.1            py36h1315bdc_0  \r\n",
      "expat                     2.2.6                h0a44026_0  \r\n",
      "fastcache                 1.1.0            py36h1de35cc_0  \r\n",
      "ffmpeg                    1.4                      pypi_0    pypi\r\n",
      "filelock                  3.0.12                     py_0  \r\n",
      "flask                     1.1.1                      py_0  \r\n",
      "flask-cors                3.0.8                      py_0  \r\n",
      "freetype                  2.9.1                hb4e5f40_0  \r\n",
      "fsspec                    0.5.2                      py_0  \r\n",
      "future                    0.17.1                   py36_0  \r\n",
      "gast                      0.2.2                    pypi_0    pypi\r\n",
      "get_terminal_size         1.0.0                h7520d66_0  \r\n",
      "gettext                   0.19.8.1             h15daf44_3  \r\n",
      "gevent                    1.4.0            py36h1de35cc_0  \r\n",
      "glib                      2.56.2               hd9629dc_0  \r\n",
      "glob2                     0.7                        py_0  \r\n",
      "gmp                       6.1.2                hb37e062_1  \r\n",
      "gmpy2                     2.0.8            py36h6ef4df4_2  \r\n",
      "google-images-download    2.8.0                    pypi_0    pypi\r\n",
      "google-pasta              0.1.7                    pypi_0    pypi\r\n",
      "greenlet                  0.4.15           py36h1de35cc_0  \r\n",
      "grpcio                    1.24.3                   pypi_0    pypi\r\n",
      "h5py                      2.9.0            py36h3134771_0  \r\n",
      "hdf5                      1.10.4               hfa1e0ec_0  \r\n",
      "heapdict                  1.0.1                      py_0  \r\n",
      "html5lib                  1.0.1                    py36_0  \r\n",
      "icu                       58.2                 h4b95b61_1  \r\n",
      "idna                      2.8                      py36_0  \r\n",
      "imageio                   2.6.0                    py36_0  \r\n",
      "imagesize                 1.1.0                    py36_0  \r\n",
      "importlib_metadata        0.23                     py36_0  \r\n",
      "intel-openmp              2019.4                      233  \r\n",
      "ipykernel                 5.1.2            py36h39e3cac_0  \r\n",
      "ipython                   7.8.0            py36h39e3cac_0  \r\n",
      "ipython_genutils          0.2.0            py36h241746c_0  \r\n",
      "ipywidgets                7.5.1                      py_0  \r\n",
      "isort                     4.3.21                   py36_0  \r\n",
      "itsdangerous              1.1.0                    py36_0  \r\n",
      "jbig                      2.1                  h4d881f8_0  \r\n",
      "jdcal                     1.4.1                      py_0  \r\n",
      "jedi                      0.15.1                   py36_0  \r\n",
      "jinja2                    2.10.3                     py_0  \r\n",
      "joblib                    0.13.2                   py36_0  \r\n",
      "jpeg                      9b                   he5867d9_2  \r\n",
      "json5                     0.8.5                      py_0  \r\n",
      "jsonschema                3.0.2                    py36_0  \r\n",
      "jupyter                   1.0.0                    py36_7  \r\n",
      "jupyter_client            5.3.3                    py36_1  \r\n",
      "jupyter_console           6.0.0                    py36_0  \r\n",
      "jupyter_core              4.5.0                      py_0  \r\n",
      "jupyterlab                1.1.4              pyhf63ae98_0  \r\n",
      "jupyterlab_launcher       0.13.1                   py36_0  \r\n",
      "jupyterlab_server         1.0.6                      py_0  \r\n",
      "keras                     2.3.1                    pypi_0    pypi\r\n",
      "keras-applications        1.0.8                    pypi_0    pypi\r\n",
      "keras-preprocessing       1.1.0                    pypi_0    pypi\r\n",
      "keyring                   18.0.0                   py36_0  \r\n",
      "kiwisolver                1.1.0            py36h0a44026_0  \r\n",
      "krb5                      1.16.1               hddcf347_7  \r\n",
      "lazy-object-proxy         1.4.2            py36h1de35cc_0  \r\n",
      "libarchive                3.3.3                h786848e_5  \r\n",
      "libcurl                   7.65.3               h051b688_0  \r\n",
      "libcxx                    4.0.1                hcfea43d_1  \r\n",
      "libcxxabi                 4.0.1                hcfea43d_1  \r\n",
      "libedit                   3.1.20181209         hb402a30_0  \r\n",
      "libffi                    3.2.1                h475c297_4  \r\n",
      "libgfortran               3.0.1                h93005f0_2  \r\n",
      "libiconv                  1.15                 hdd342a3_7  \r\n",
      "liblief                   0.9.0                h2a1bed3_2  \r\n",
      "libpng                    1.6.37               ha441bb4_0  \r\n",
      "libsodium                 1.0.16               h3efe00b_0  \r\n",
      "libssh2                   1.8.2                ha12b0ac_0  \r\n",
      "libtiff                   4.0.10               hcb84e12_2  \r\n",
      "libxml2                   2.9.9                hf6e021a_1  \r\n",
      "libxslt                   1.1.33               h33a18ac_0  \r\n",
      "llvm-openmp               4.0.1                hcfea43d_1  \r\n",
      "llvmlite                  0.29.0           py36h98b8051_0  \r\n",
      "locket                    0.2.0            py36hca03003_1  \r\n",
      "lxml                      4.4.1            py36hef8c89e_0  \r\n",
      "lz4-c                     1.8.1.2              h1de35cc_0  \r\n",
      "lzo                       2.10                 h362108e_2  \r\n",
      "markdown                  3.1.1                    pypi_0    pypi\r\n",
      "markupsafe                1.1.1            py36h1de35cc_0  \r\n",
      "matplotlib                3.1.1            py36h54f8f79_0  \r\n",
      "mccabe                    0.6.1                    py36_1  \r\n",
      "memory-profiler           0.57.0                   pypi_0    pypi\r\n",
      "mistune                   0.8.4            py36h1de35cc_0  \r\n",
      "mkl                       2019.4                      233  \r\n",
      "mkl-service               2.3.0            py36hfbe908c_0  \r\n",
      "mkl_fft                   1.0.14           py36h5e564d8_0  \r\n",
      "mkl_random                1.1.0            py36ha771720_0  \r\n",
      "mock                      3.0.5                    py36_0  \r\n",
      "more-itertools            7.2.0                    py36_0  \r\n",
      "mpc                       1.1.0                h6ef4df4_1  \r\n",
      "mpfr                      4.0.1                h3018a27_3  \r\n",
      "mpl-finance               0.10.0                   pypi_0    pypi\r\n",
      "mpmath                    1.1.0                    py36_0  \r\n",
      "msgpack-python            0.6.1            py36h04f5b5a_1  \r\n",
      "multipledispatch          0.6.0                    py36_0  \r\n",
      "multitasking              0.0.9                    pypi_0    pypi\r\n",
      "navigator-updater         0.2.1                    py36_0  \r\n",
      "nbconvert                 5.6.0                    py36_1  \r\n",
      "nbformat                  4.4.0            py36h827af21_0  \r\n",
      "ncurses                   6.1                  h0a44026_1  \r\n",
      "networkx                  2.3                        py_0  \r\n",
      "nltk                      3.4.5                    py36_0  \r\n",
      "nose                      1.3.7                    py36_2  \r\n",
      "notebook                  6.0.1                    py36_0  \r\n",
      "numba                     0.45.1           py36h6440ff4_0  \r\n",
      "numexpr                   2.7.0            py36h7413580_0  \r\n",
      "numpy                     1.17.2           py36h99e6662_0  \r\n",
      "numpy-base                1.17.2           py36h6575580_0  \r\n",
      "numpydoc                  0.9.1                      py_0  \r\n",
      "odo                       0.5.1            py36hc1af34a_0  \r\n",
      "olefile                   0.46                     py36_0  \r\n",
      "opencv-python             4.1.2.30                 pypi_0    pypi\r\n",
      "openpyxl                  3.0.0                      py_0  \r\n",
      "openssl                   1.1.1d               h1de35cc_2  \r\n",
      "opt-einsum                3.1.0                    pypi_0    pypi\r\n",
      "packaging                 19.2                       py_0  \r\n",
      "pandas                    0.25.1           py36h0a44026_0  \r\n",
      "pandas-datareader         0.8.1                    pypi_0    pypi\r\n",
      "pandoc                    2.2.3.2                       0  \r\n",
      "pandocfilters             1.4.2                    py36_1  \r\n",
      "parso                     0.5.1                      py_0  \r\n",
      "partd                     1.0.0                      py_0  \r\n",
      "path.py                   12.0.1                     py_0  \r\n",
      "pathlib2                  2.3.5                    py36_0  \r\n",
      "patsy                     0.5.1                    py36_0  \r\n",
      "pcre                      8.43                 h0a44026_0  \r\n",
      "pep8                      1.7.1                    py36_0  \r\n",
      "pexpect                   4.7.0                    py36_0  \r\n",
      "pickleshare               0.7.5                    py36_0  \r\n",
      "pillow                    6.2.0            py36hb68e598_0  \r\n",
      "pip                       19.3.1                   pypi_0    pypi\r\n",
      "pkginfo                   1.5.0.1                  py36_0  \r\n",
      "plotly                    4.5.2                    pypi_0    pypi\r\n",
      "pluggy                    0.13.0                   py36_0  \r\n",
      "ply                       3.11                     py36_0  \r\n",
      "prometheus_client         0.7.1                      py_0  \r\n",
      "prompt_toolkit            2.0.10                     py_0  \r\n",
      "protobuf                  3.10.0                   pypi_0    pypi\r\n",
      "psutil                    5.6.3            py36h1de35cc_0  \r\n",
      "ptyprocess                0.6.0                    py36_0  \r\n",
      "py                        1.8.0                    py36_0  \r\n",
      "py-lief                   0.9.0            py36h1413db1_2  \r\n",
      "pycodestyle               2.5.0                    py36_0  \r\n",
      "pycosat                   0.6.3            py36h1de35cc_0  \r\n",
      "pycparser                 2.19                     py36_0  \r\n",
      "pycrypto                  2.6.1            py36h1de35cc_9  \r\n",
      "pycurl                    7.43.0.3         py36ha12b0ac_0  \r\n",
      "pyflakes                  2.1.1                    py36_0  \r\n",
      "pygments                  2.4.2                      py_0  \r\n",
      "pylint                    2.4.2                    py36_0  \r\n",
      "pyodbc                    4.0.27           py36h0a44026_0  \r\n",
      "pyopenssl                 19.0.0                   py36_0  \r\n",
      "pyparsing                 2.4.2                      py_0  \r\n",
      "pyprind                   2.11.2                   pypi_0    pypi\r\n",
      "pyqt                      5.9.2            py36h655552a_2  \r\n",
      "pyrsistent                0.15.4           py36h1de35cc_0  \r\n",
      "pysocks                   1.7.1                    py36_0  \r\n",
      "pytables                  3.5.2            py36h5bccee9_1  \r\n",
      "pytest                    5.2.1                    py36_0  \r\n",
      "pytest-arraydiff          0.3              py36h39e3cac_0  \r\n",
      "pytest-astropy            0.5.0                    py36_0  \r\n",
      "pytest-doctestplus        0.4.0                      py_0  \r\n",
      "pytest-openfiles          0.4.0                      py_0  \r\n",
      "pytest-remotedata         0.3.2                    py36_0  \r\n",
      "python                    3.6.9                h359304d_0  \r\n",
      "python-dateutil           2.8.0                    py36_0  \r\n",
      "python-graphviz           0.13.2                   pypi_0    pypi\r\n",
      "python-libarchive-c       2.8                     py36_13  \r\n",
      "python.app                2                        py36_9  \r\n",
      "pytz                      2019.3                     py_0  \r\n",
      "pywavelets                1.0.3            py36h1d22016_1  \r\n",
      "pyyaml                    5.1.2            py36h1de35cc_0  \r\n",
      "pyzmq                     18.1.0           py36h0a44026_0  \r\n",
      "qt                        5.9.7                h468cd18_1  \r\n",
      "qtawesome                 0.6.0                      py_0  \r\n",
      "qtconsole                 4.5.5                      py_0  \r\n",
      "qtpy                      1.9.0                      py_0  \r\n",
      "readline                  7.0                  h1de35cc_5  \r\n",
      "requests                  2.22.0                   py36_0  \r\n",
      "retrying                  1.3.3                    pypi_0    pypi\r\n",
      "ripgrep                   0.10.0               hc07d326_0  \r\n",
      "rope                      0.14.0                     py_0  \r\n",
      "ruamel_yaml               0.15.46          py36h1de35cc_0  \r\n",
      "scikit-image              0.15.0           py36h0a44026_0  \r\n",
      "scikit-learn              0.21.3           py36h27c97d8_0  \r\n",
      "scipy                     1.3.1            py36h1410ff5_0  \r\n",
      "seaborn                   0.9.0                    py36_0  \r\n",
      "selenium                  3.141.0                  pypi_0    pypi\r\n",
      "send2trash                1.5.0                    py36_0  \r\n",
      "setuptools                41.4.0                   py36_0  \r\n",
      "simplegeneric             0.8.1                    py36_2  \r\n",
      "singledispatch            3.4.0.3          py36hf20db9d_0  \r\n",
      "sip                       4.19.8           py36h0a44026_0  \r\n",
      "six                       1.12.0                   py36_0  \r\n",
      "sklearn                   0.0                      pypi_0    pypi\r\n",
      "snappy                    1.1.7                he62c110_3  \r\n",
      "snowballstemmer           2.0.0                      py_0  \r\n",
      "sortedcollections         1.1.2                    py36_0  \r\n",
      "sortedcontainers          2.1.0                    py36_0  \r\n",
      "soupsieve                 1.9.3                    py36_0  \r\n",
      "sphinx                    2.2.0                      py_0  \r\n",
      "sphinxcontrib             1.0                      py36_1  \r\n",
      "sphinxcontrib-applehelp   1.0.1                      py_0  \r\n",
      "sphinxcontrib-devhelp     1.0.1                      py_0  \r\n",
      "sphinxcontrib-htmlhelp    1.0.2                      py_0  \r\n",
      "sphinxcontrib-jsmath      1.0.1                      py_0  \r\n",
      "sphinxcontrib-qthelp      1.0.2                      py_0  \r\n",
      "sphinxcontrib-serializinghtml 1.1.3                      py_0  \r\n",
      "sphinxcontrib-websupport  1.1.2                      py_0  \r\n",
      "spyder                    3.3.6                    py36_0  \r\n",
      "spyder-kernels            0.5.2                    py36_0  \r\n",
      "sqlalchemy                1.3.9            py36h1de35cc_0  \r\n",
      "sqlite                    3.30.0               ha441bb4_0  \r\n",
      "statsmodels               0.10.1           py36h1d22016_0  \r\n",
      "sympy                     1.4                      py36_0  \r\n",
      "tbb                       2019.8               h04f5b5a_0  \r\n",
      "tblib                     1.4.0                      py_0  \r\n",
      "tensorboard               1.15.0                   pypi_0    pypi\r\n",
      "tensorflow                1.15.0rc2                pypi_0    pypi\r\n",
      "tensorflow-estimator      1.15.1                   pypi_0    pypi\r\n",
      "termcolor                 1.1.0                    pypi_0    pypi\r\n",
      "terminado                 0.8.2                    py36_0  \r\n",
      "testpath                  0.4.2                    py36_0  \r\n",
      "tfgraphviz                0.0.7                    pypi_0    pypi\r\n",
      "tk                        8.6.8                ha441bb4_0  \r\n",
      "toolz                     0.10.0                     py_0  \r\n",
      "torch                     1.3.0.post2              pypi_0    pypi\r\n",
      "torchvision               0.4.1.post2              pypi_0    pypi\r\n",
      "tornado                   6.0.3            py36h1de35cc_0  \r\n",
      "tqdm                      4.36.1                     py_0  \r\n",
      "traitlets                 4.3.3                    py36_0  \r\n",
      "typed-ast                 1.4.0            py36h1de35cc_0  \r\n",
      "typing                    3.6.4                    py36_0  \r\n",
      "unicodecsv                0.14.1           py36he531d66_0  \r\n",
      "unixodbc                  2.3.7                h1de35cc_0  \r\n",
      "urllib3                   1.24.2                   py36_0  \r\n",
      "wcwidth                   0.1.7            py36h8c6ec74_0  \r\n",
      "webencodings              0.5.1                    py36_1  \r\n",
      "werkzeug                  0.16.0                     py_0  \r\n",
      "wheel                     0.33.6                   py36_0  \r\n",
      "widgetsnbextension        3.5.1                    py36_0  \r\n",
      "wrapt                     1.11.2           py36h1de35cc_0  \r\n",
      "wurlitzer                 1.0.3                    py36_0  \r\n",
      "xlrd                      1.2.0                    py36_0  \r\n",
      "xlsxwriter                1.2.1                      py_0  \r\n",
      "xlwings                   0.15.10                  py36_0  \r\n",
      "xlwt                      1.2.0            py36h5ad1178_0  \r\n"
     ]
    },
    {
     "name": "stdout",
     "output_type": "stream",
     "text": [
      "xz                        5.2.4                h1de35cc_4  \n",
      "yaml                      0.1.7                hc338f04_2  \n",
      "yfinance                  0.1.50                   pypi_0    pypi\n",
      "zeromq                    4.3.1                h0a44026_3  \n",
      "zict                      1.0.0                      py_0  \n",
      "zipp                      0.6.0                      py_0  \n",
      "zlib                      1.2.11               h1de35cc_3  \n",
      "zstd                      1.3.7                h5bba6e5_0  \n",
      "\n",
      "Note: you may need to restart the kernel to use updated packages.\n"
     ]
    }
   ],
   "source": [
    "conda list"
   ]
  },
  {
   "cell_type": "code",
   "execution_count": 12,
   "metadata": {},
   "outputs": [
    {
     "name": "stdout",
     "output_type": "stream",
     "text": [
      "0 Hello\n",
      "1 3.14\n",
      "2 7\n"
     ]
    }
   ],
   "source": [
    "for idx, item in enumerate([\"Hello\", 3.14, 7]):\n",
    "    print(idx, item)"
   ]
  },
  {
   "cell_type": "code",
   "execution_count": 28,
   "metadata": {
    "scrolled": true
   },
   "outputs": [
    {
     "name": "stdout",
     "output_type": "stream",
     "text": [
      "{'writing', 'civilians', 'could', 'palestinian', 'any', 'that', 'israelis', 'no', 'what', 'been', 'mr', 'feared', 'but', 'government', 'continued', 'recognized', 'and', 'about', 'anything', 'we', 'light', 'homes', 'murdered', 'if', 'reason', 'suffered', 'normal”', 'terrorism', 'under', 'israel', 'have', 'adds', 'would', 'for', 'in', '2002', 'elsewhere', 'only', 'public', 'isolation', 'there', 'basis', 'then', 'he', 'of', 'were', 'because', 'explained', 'to', 'still', 'demanding', 'action', 'logical', 'life', 'shehadeh', 'while', 'hundred', 'experiencing', 'at', 'it', 'a', 'population', 'its', 'from', 'history', 'on', 'suicide', 'argue', 'claims', 'greatest', 'outrageous', 'raja', 'loss', 'entering', 'is', 'had', 'four', 'square', 'bombs', 'their', 'by', 'leave', 'tough', 'thing', 'itself', 'palestinians', 'time', 'threat”', 'the', 'when', 'west', 'bank', 'enduring”', 'shutdown', 'one', 'not', 'indifferent', 'normal', 'was'}\n",
      "{'raja': 0, 'shehadeh': 1, 'in': 2, 'writing': 3, 'about': 4, 'palestinian': 5, 'isolation': 6, 'the': 7, 'west': 8, 'bank': 9, '2002': 10, 'claims': 11, 'that': 12, 'at': 13, 'a': 14, 'time': 15, 'when': 16, 'palestinians': 17, 'could': 18, 'not': 19, 'leave': 20, 'their': 21, 'homes': 22, 'only': 23, 'were': 24, 'under': 25, 'threat”': 26, 'he': 27, 'adds': 28, 'while': 29, 'we': 30, 'suffered': 31, 'normal': 32, 'life': 33, 'continued': 34, 'elsewhere': 35, 'indifferent': 36, 'to': 37, 'what': 38, 'enduring”': 39, 'israel': 40, 'was': 41, 'experiencing': 42, 'greatest': 43, 'loss': 44, 'of': 45, 'from': 46, 'terrorism': 47, 'its': 48, 'history': 49, 'four': 50, 'hundred': 51, 'civilians': 52, 'murdered': 53, 'by': 54, 'suicide': 55, 'bombs': 56, 'israelis': 57, 'feared': 58, 'entering': 59, 'any': 60, 'public': 61, 'square': 62, 'demanding': 63, 'government': 64, 'action': 65, 'anything': 66, 'but': 67, 'if': 68, 'mr': 69, 'had': 70, 'recognized': 71, 'there': 72, 'logical': 73, 'reason': 74, 'for': 75, 'shutdown': 76, 'light': 77, 'and': 78, 'then': 79, 'explained': 80, 'still': 81, 'it': 82, 'tough': 83, 'on': 84, 'population': 85, 'would': 86, 'have': 87, 'been': 88, 'one': 89, 'thing': 90, 'argue': 91, 'itself': 92, 'no': 93, 'basis': 94, 'because': 95, 'normal”': 96, 'is': 97, 'outrageous': 98}\n",
      "{0: 'raja', 1: 'shehadeh', 2: 'in', 3: 'writing', 4: 'about', 5: 'palestinian', 6: 'isolation', 7: 'the', 8: 'west', 9: 'bank', 10: '2002', 11: 'claims', 12: 'that', 13: 'at', 14: 'a', 15: 'time', 16: 'when', 17: 'palestinians', 18: 'could', 19: 'not', 20: 'leave', 21: 'their', 22: 'homes', 23: 'only', 24: 'were', 25: 'under', 26: 'threat”', 27: 'he', 28: 'adds', 29: 'while', 30: 'we', 31: 'suffered', 32: 'normal', 33: 'life', 34: 'continued', 35: 'elsewhere', 36: 'indifferent', 37: 'to', 38: 'what', 39: 'enduring”', 40: 'israel', 41: 'was', 42: 'experiencing', 43: 'greatest', 44: 'loss', 45: 'of', 46: 'from', 47: 'terrorism', 48: 'its', 49: 'history', 50: 'four', 51: 'hundred', 52: 'civilians', 53: 'murdered', 54: 'by', 55: 'suicide', 56: 'bombs', 57: 'israelis', 58: 'feared', 59: 'entering', 60: 'any', 61: 'public', 62: 'square', 63: 'demanding', 64: 'government', 65: 'action', 66: 'anything', 67: 'but', 68: 'if', 69: 'mr', 70: 'had', 71: 'recognized', 72: 'there', 73: 'logical', 74: 'reason', 75: 'for', 76: 'shutdown', 77: 'light', 78: 'and', 79: 'then', 80: 'explained', 81: 'still', 82: 'it', 83: 'tough', 84: 'on', 85: 'population', 86: 'would', 87: 'have', 88: 'been', 89: 'one', 90: 'thing', 91: 'argue', 92: 'itself', 93: 'no', 94: 'basis', 95: 'because', 96: 'normal”', 97: 'is', 98: 'outrageous'}\n"
     ]
    }
   ],
   "source": [
    "a = '''Raja Shehadeh, in writing about Palestinian isolation in the West Bank in 2002, claims that at a time when Palestinians could not leave their homes, “only Palestinians were under threat.” He adds, “While we suffered, normal life continued elsewhere, indifferent to what we were enduring.”\n",
    "\n",
    "Normal life elsewhere? Israel was experiencing the greatest loss of life from Palestinian terrorism in its history. Four hundred civilians were murdered by suicide bombs. Israelis feared entering any public square. The public was demanding government action. Life was anything but normal.\n",
    "\n",
    "If Mr. Shehadeh had recognized that there was a logical reason for the shutdown in light of the suicide bombs, and then explained that still it was tough on the Palestinian population, that would have been one thing.\n",
    "\n",
    "But to argue that the shutdown itself had no basis because life in Israel was “normal” is outrageous.'''\n",
    "#print(a)\n",
    "a = a.lower()\n",
    "#print(a)\n",
    "for i in [',', '?', '.', '“']:\n",
    "    a = a.replace(i, '')\n",
    "#print(a)\n",
    "a = a.split()\n",
    "#print(a)\n",
    "\n",
    "word_set = set()\n",
    "word_2_int = {}\n",
    "int_2_word = {}\n",
    "\n",
    "idx = 0\n",
    "for word in a:\n",
    "    if word not in word_set:\n",
    "        word_set.add(word)\n",
    "        word_2_int[word] = idx \n",
    "        int_2_word[idx] = word\n",
    "        idx += 1\n",
    "print(word_set)\n",
    "print(word_2_int)\n",
    "print(int_2_word)"
   ]
  },
  {
   "cell_type": "code",
   "execution_count": 25,
   "metadata": {},
   "outputs": [
    {
     "name": "stdout",
     "output_type": "stream",
     "text": [
      "palestinian terrorism in its \n"
     ]
    }
   ],
   "source": [
    "ints = [5, 48, 2, 49]\n",
    "s = ''\n",
    "for i in ints:\n",
    "    s += int_2_word[i] + ' '\n",
    "print(s)"
   ]
  },
  {
   "cell_type": "code",
   "execution_count": 27,
   "metadata": {},
   "outputs": [
    {
     "name": "stdout",
     "output_type": "stream",
     "text": [
      "[52, 53, 24, 54, 55, 56, 57, 58, 59, 60, 61, 62, 63, 7, 62, 42, 64, 65, 66, 33, 42, 67, 68, 69]\n"
     ]
    }
   ],
   "source": [
    "a = ' hundred civilians were murdered by suicide bombs. Israelis feared entering any public square. The public was demanding government action. Life was anything but normal.'\n",
    "\n",
    "def sentence_preprose(sentence):\n",
    "    a = sentence \n",
    "    a = a.lower()\n",
    "    for i in [',', '?', '.', '“']:\n",
    "        a = a.replace(',', '')\n",
    "    a = a.split()\n",
    "    ints = []\n",
    "    for word in a:\n",
    "        ints.append(word_2_int[word])\n",
    "    return ints\n",
    "\n",
    "print(sentence_preprose(a))    "
   ]
  },
  {
   "cell_type": "code",
   "execution_count": 3,
   "metadata": {},
   "outputs": [
    {
     "name": "stdout",
     "output_type": "stream",
     "text": [
      "{'now', 'teaching', 'am', 'hello', 'lee', 'i', 'sungchul'}\n",
      "{0: 'hello', 1: 'i', 2: 'am', 3: 'sungchul', 4: 'lee', 5: 'i', 6: 'am', 7: 'teaching', 8: 'now'}\n",
      "{'hello': 0, 'i': 5, 'am': 6, 'sungchul': 3, 'lee': 4, 'teaching': 7, 'now': 8}\n"
     ]
    }
   ],
   "source": [
    "a = 'Hello, I am Sungchul Lee. I am teaching now.'\n",
    "#print(a)\n",
    "a = a.lower()\n",
    "#print(a)\n",
    "a = a.replace(',', '')\n",
    "#print(a)\n",
    "a = a.replace('.', '')\n",
    "#print(a)\n",
    "a = a.split()\n",
    "#print(a)\n",
    "word_set = set()\n",
    "word_2_int = {}\n",
    "int_2_word = {}\n",
    "idx = 0\n",
    "for index, word in enumerate(a):\n",
    "    if i not in word_set:\n",
    "        word_set.add(word)\n",
    "        int_2_word[idx] = word\n",
    "        word_2_int[word] = idx\n",
    "        idx += 1\n",
    "print(word_set)\n",
    "print(int_2_word)\n",
    "print(word_2_int)"
   ]
  },
  {
   "cell_type": "code",
   "execution_count": 6,
   "metadata": {},
   "outputs": [
    {
     "name": "stdout",
     "output_type": "stream",
     "text": [
      "hello i am sungchul lee i am teaching now \n"
     ]
    }
   ],
   "source": [
    "sentence = [0,5,6,3,4,5,6,7,8]\n",
    "decodied_sentence = ''\n",
    "for integer_word in sentence:\n",
    "    decodied_sentence += int_2_word[integer_word] + ' '\n",
    "print(decodied_sentence)"
   ]
  },
  {
   "cell_type": "code",
   "execution_count": 7,
   "metadata": {},
   "outputs": [
    {
     "name": "stdout",
     "output_type": "stream",
     "text": [
      "[0, 5, 6, 3, 4]\n"
     ]
    }
   ],
   "source": [
    "string = 'Hello, I am Sungchul Lee.'\n",
    "def preprosess(string):\n",
    "    a = string\n",
    "    a = a.lower()\n",
    "    a = a.replace(',', '')\n",
    "    a = a.replace('.', '')\n",
    "    a = a.split()\n",
    "    list_to_return = []\n",
    "    for word in a:\n",
    "        list_to_return.append(word_2_int[word])\n",
    "    return list_to_return \n",
    "print(preprosess(string))        "
   ]
  },
  {
   "cell_type": "code",
   "execution_count": 33,
   "metadata": {},
   "outputs": [
    {
     "name": "stdout",
     "output_type": "stream",
     "text": [
      "local\n"
     ]
    },
    {
     "ename": "NameError",
     "evalue": "name 'b' is not defined",
     "output_type": "error",
     "traceback": [
      "\u001b[0;31m---------------------------------------------------------------------------\u001b[0m",
      "\u001b[0;31mNameError\u001b[0m                                 Traceback (most recent call last)",
      "\u001b[0;32m<ipython-input-33-f037b28c8e35>\u001b[0m in \u001b[0;36m<module>\u001b[0;34m\u001b[0m\n\u001b[1;32m      7\u001b[0m \u001b[0msome_function\u001b[0m\u001b[0;34m(\u001b[0m\u001b[0;34m)\u001b[0m\u001b[0;34m\u001b[0m\u001b[0;34m\u001b[0m\u001b[0m\n\u001b[1;32m      8\u001b[0m \u001b[0;34m\u001b[0m\u001b[0m\n\u001b[0;32m----> 9\u001b[0;31m \u001b[0mprint\u001b[0m\u001b[0;34m(\u001b[0m\u001b[0mb\u001b[0m\u001b[0;34m)\u001b[0m\u001b[0;34m\u001b[0m\u001b[0;34m\u001b[0m\u001b[0m\n\u001b[0m",
      "\u001b[0;31mNameError\u001b[0m: name 'b' is not defined"
     ]
    }
   ],
   "source": [
    "a = 'global'\n",
    "\n",
    "def some_function():\n",
    "    b = 'local'\n",
    "    print(b)\n",
    "\n",
    "some_function()\n",
    "\n",
    "print(b)"
   ]
  },
  {
   "cell_type": "code",
   "execution_count": 34,
   "metadata": {},
   "outputs": [
    {
     "name": "stdout",
     "output_type": "stream",
     "text": [
      "local\n",
      "enclosing\n",
      "None\n"
     ]
    }
   ],
   "source": [
    "a = 'global'\n",
    "\n",
    "def outer_function():\n",
    "    a = 'enclosing'\n",
    "    \n",
    "    def inner_function():\n",
    "        a = 'local'\n",
    "        print(a)\n",
    "        \n",
    "    inner_function()\n",
    "    print(a)\n",
    "    \n",
    "print(outer_function())"
   ]
  },
  {
   "cell_type": "code",
   "execution_count": null,
   "metadata": {},
   "outputs": [],
   "source": []
  }
 ],
 "metadata": {
  "kernelspec": {
   "display_name": "Python 3",
   "language": "python",
   "name": "python3"
  },
  "language_info": {
   "codemirror_mode": {
    "name": "ipython",
    "version": 3
   },
   "file_extension": ".py",
   "mimetype": "text/x-python",
   "name": "python",
   "nbconvert_exporter": "python",
   "pygments_lexer": "ipython3",
   "version": "3.6.9"
  }
 },
 "nbformat": 4,
 "nbformat_minor": 2
}
