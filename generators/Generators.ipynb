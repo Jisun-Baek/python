{
 "cells": [
  {
   "cell_type": "markdown",
   "metadata": {},
   "source": [
    "Corey_Schafer [youtube](https://www.youtube.com/watch?v=bD05uGo_sVI&list=PL-osiE80TeTt2d9bfVyTiXJA-UTHn6WwU&index=28) [github](https://github.com/CoreyMSchafer/code_snippets/tree/master/Generators)"
   ]
  },
  {
   "cell_type": "markdown",
   "metadata": {},
   "source": [
    "Generators are used when playing with data volumes that don't fit in memory. No one cares about execution time when using generators. It's about memory.\n",
    "\n",
    "https://www.youtube.com/watch?v=bD05uGo_sVI&list=PL-osiE80TeTt2d9bfVyTiXJA-UTHn6WwU&index=28"
   ]
  },
  {
   "cell_type": "markdown",
   "metadata": {},
   "source": [
    "<a href=\"#제너레이터\">제너레이터</a>\n",
    "\n",
    "<a href=\"#제너레이터는-한번에-하나씩-제너레이트한다\">제너레이터는 한번에 하나씩 제너레이트한다</a>\n",
    "\n",
    "<a href=\"#리스트-컴프리헨션과-제너레이터-컴프리헨션\">리스트 컴프리헨션과 제너레이터 컴프리헨션</a>\n",
    "\n",
    "<a href=\"#리스트나-제너레이터는-이터러블하다\">리스트나 제너레이터는 이터러블하다</a>\n",
    "\n",
    "<a href=\"#제너레이터를-리스트로-변환하기\">제너레이터를 리스트로 변환하기</a>\n",
    "\n",
    "<a href=\"#제너레이터는-메모리를-적게-사용한다\">제너레이터는 메모리를 적게 사용한다</a>\n",
    "\n",
    "<a href=\"#range-is-an-iterator\">range is an iterator</a>"
   ]
  },
  {
   "cell_type": "markdown",
   "metadata": {},
   "source": [
    "# 제너레이터"
   ]
  },
  {
   "cell_type": "markdown",
   "metadata": {},
   "source": [
    "다음 코드는 리스트 [1, 2, 3, 4, 5]을 받아 각각의 컴포넌트를 제곱하여 새로운 리스트를 만는다."
   ]
  },
  {
   "cell_type": "code",
   "execution_count": 6,
   "metadata": {},
   "outputs": [
    {
     "name": "stdout",
     "output_type": "stream",
     "text": [
      "[1, 4, 9, 16, 25]\n",
      "<class 'list'>\n"
     ]
    }
   ],
   "source": [
    "def square_numbers(nums):\n",
    "    result = []\n",
    "    for i in nums:\n",
    "        result.append(i*i)\n",
    "    return result\n",
    "\n",
    "my_nums = square_numbers([1,2,3,4,5])\n",
    "print(my_nums)\n",
    "print(type(my_nums))"
   ]
  },
  {
   "cell_type": "markdown",
   "metadata": {},
   "source": [
    "이 코드를 제너레이터를 만드는 코드로 수정해 보자."
   ]
  },
  {
   "cell_type": "code",
   "execution_count": 7,
   "metadata": {},
   "outputs": [
    {
     "name": "stdout",
     "output_type": "stream",
     "text": [
      "<generator object square_numbers_generator at 0x7fc0584f3bf8>\n",
      "<class 'generator'>\n"
     ]
    }
   ],
   "source": [
    "def square_numbers_generator(nums):\n",
    "    for i in nums:\n",
    "        yield i*i\n",
    "        \n",
    "my_nums = square_numbers_generator([1,2,3,4,5])\n",
    "print(my_nums)\n",
    "print(type(my_nums))"
   ]
  },
  {
   "cell_type": "code",
   "execution_count": 8,
   "metadata": {},
   "outputs": [
    {
     "name": "stdout",
     "output_type": "stream",
     "text": [
      "['__class__', '__del__', '__delattr__', '__dir__', '__doc__', '__eq__', '__format__', '__ge__', '__getattribute__', '__gt__', '__hash__', '__init__', '__init_subclass__', '__iter__', '__le__', '__lt__', '__name__', '__ne__', '__new__', '__next__', '__qualname__', '__reduce__', '__reduce_ex__', '__repr__', '__setattr__', '__sizeof__', '__str__', '__subclasshook__', 'close', 'gi_code', 'gi_frame', 'gi_running', 'gi_yieldfrom', 'send', 'throw']\n"
     ]
    }
   ],
   "source": [
    "print(dir(my_nums))"
   ]
  },
  {
   "cell_type": "code",
   "execution_count": 9,
   "metadata": {},
   "outputs": [
    {
     "name": "stdout",
     "output_type": "stream",
     "text": [
      "1\n",
      "4\n",
      "9\n",
      "16\n",
      "25\n"
     ]
    }
   ],
   "source": [
    "for i in my_nums:\n",
    "    print(i)"
   ]
  },
  {
   "cell_type": "markdown",
   "metadata": {},
   "source": [
    "[<a href=\"#Generators\">Back to top</a>]"
   ]
  },
  {
   "cell_type": "markdown",
   "metadata": {},
   "source": [
    "# 제너레이터는 한번에 하나씩 제너레이트한다"
   ]
  },
  {
   "cell_type": "markdown",
   "metadata": {},
   "source": [
    "리스트를 이용한 계산에서는 요구하는 계산을 다 해서 메모리에 저장한다.\n",
    "이에 반해\n",
    "제너레이터는 \n",
    "코드가 요구할 때마다 요구하는 계산을 해서 쏘아준다.\n",
    "요구하는 계산을 다 해서 한꺼번에 몽땅 메모리에 저장하지 않는다."
   ]
  },
  {
   "cell_type": "markdown",
   "metadata": {},
   "source": [
    "next함수를 이용하면 다음 항목을 제너레이트하도록 요구할 수 있다."
   ]
  },
  {
   "cell_type": "code",
   "execution_count": 10,
   "metadata": {},
   "outputs": [
    {
     "ename": "StopIteration",
     "evalue": "",
     "output_type": "error",
     "traceback": [
      "\u001b[0;31m---------------------------------------------------------------------------\u001b[0m",
      "\u001b[0;31mStopIteration\u001b[0m                             Traceback (most recent call last)",
      "\u001b[0;32m<ipython-input-10-4e623512cb5d>\u001b[0m in \u001b[0;36m<module>\u001b[0;34m\u001b[0m\n\u001b[0;32m----> 1\u001b[0;31m \u001b[0mprint\u001b[0m\u001b[0;34m(\u001b[0m\u001b[0mnext\u001b[0m\u001b[0;34m(\u001b[0m\u001b[0mmy_nums\u001b[0m\u001b[0;34m)\u001b[0m\u001b[0;34m)\u001b[0m \u001b[0;31m# 1\u001b[0m\u001b[0;34m\u001b[0m\u001b[0;34m\u001b[0m\u001b[0m\n\u001b[0m\u001b[1;32m      2\u001b[0m \u001b[0mprint\u001b[0m\u001b[0;34m(\u001b[0m\u001b[0mnext\u001b[0m\u001b[0;34m(\u001b[0m\u001b[0mmy_nums\u001b[0m\u001b[0;34m)\u001b[0m\u001b[0;34m)\u001b[0m \u001b[0;31m# 4\u001b[0m\u001b[0;34m\u001b[0m\u001b[0;34m\u001b[0m\u001b[0m\n\u001b[1;32m      3\u001b[0m \u001b[0mprint\u001b[0m\u001b[0;34m(\u001b[0m\u001b[0mnext\u001b[0m\u001b[0;34m(\u001b[0m\u001b[0mmy_nums\u001b[0m\u001b[0;34m)\u001b[0m\u001b[0;34m)\u001b[0m \u001b[0;31m# 9\u001b[0m\u001b[0;34m\u001b[0m\u001b[0;34m\u001b[0m\u001b[0m\n\u001b[1;32m      4\u001b[0m \u001b[0mprint\u001b[0m\u001b[0;34m(\u001b[0m\u001b[0mnext\u001b[0m\u001b[0;34m(\u001b[0m\u001b[0mmy_nums\u001b[0m\u001b[0;34m)\u001b[0m\u001b[0;34m)\u001b[0m \u001b[0;31m# 16\u001b[0m\u001b[0;34m\u001b[0m\u001b[0;34m\u001b[0m\u001b[0m\n\u001b[1;32m      5\u001b[0m \u001b[0mprint\u001b[0m\u001b[0;34m(\u001b[0m\u001b[0mnext\u001b[0m\u001b[0;34m(\u001b[0m\u001b[0mmy_nums\u001b[0m\u001b[0;34m)\u001b[0m\u001b[0;34m)\u001b[0m \u001b[0;31m# 25\u001b[0m\u001b[0;34m\u001b[0m\u001b[0;34m\u001b[0m\u001b[0m\n",
      "\u001b[0;31mStopIteration\u001b[0m: "
     ]
    }
   ],
   "source": [
    "print(next(my_nums)) # 1\n",
    "print(next(my_nums)) # 4 \n",
    "print(next(my_nums)) # 9\n",
    "print(next(my_nums)) # 16\n",
    "print(next(my_nums)) # 25\n",
    "try:\n",
    "    print(next(my_nums))\n",
    "except Exception as e:\n",
    "    print(e)"
   ]
  },
  {
   "cell_type": "code",
   "execution_count": 11,
   "metadata": {},
   "outputs": [
    {
     "name": "stdout",
     "output_type": "stream",
     "text": [
      "1\n",
      "4\n",
      "9\n",
      "16\n",
      "25\n",
      "\n"
     ]
    }
   ],
   "source": [
    "my_nums = square_numbers_generator([1,2,3,4,5])\n",
    "print(next(my_nums)) # 1\n",
    "print(next(my_nums)) # 4 \n",
    "print(next(my_nums)) # 9\n",
    "print(next(my_nums)) # 16\n",
    "print(next(my_nums)) # 25\n",
    "try:\n",
    "    print(next(my_nums))\n",
    "except Exception as e:\n",
    "    print(e)"
   ]
  },
  {
   "cell_type": "markdown",
   "metadata": {},
   "source": [
    "요구한 항목들을 차례대로 다 제너레이트한 후에,\n",
    "next함수가 또 새로운 항목을 요구하면 StopIteration 에러를 발생시킨다. "
   ]
  },
  {
   "cell_type": "markdown",
   "metadata": {},
   "source": [
    "[<a href=\"#Generators\">Back to top</a>]"
   ]
  },
  {
   "cell_type": "markdown",
   "metadata": {},
   "source": [
    "# 리스트 컴프리헨션과 제너레이터 컴프리헨션"
   ]
  },
  {
   "cell_type": "markdown",
   "metadata": {},
   "source": [
    "리스트 컴프리헨션을 보자.\n",
    "다음 코드는 리스트 [1, 2, 3, 4, 5]을 받아 각각의 컴포넌트를 제곱하여 새로운 리스트를 만는다."
   ]
  },
  {
   "cell_type": "code",
   "execution_count": 4,
   "metadata": {},
   "outputs": [
    {
     "name": "stdout",
     "output_type": "stream",
     "text": [
      "[1, 4, 9, 16, 25]\n",
      "<class 'list'>\n",
      "\n",
      "1\n",
      "4\n",
      "9\n",
      "16\n",
      "25\n"
     ]
    }
   ],
   "source": [
    "x = [i*i for i in [1,2,3,4,5]]\n",
    "print(x)\n",
    "print(type(x))"
   ]
  },
  {
   "cell_type": "markdown",
   "metadata": {},
   "source": [
    "이 코드를 제너레이터를 만드는 코드로 수정해 보자."
   ]
  },
  {
   "cell_type": "code",
   "execution_count": 5,
   "metadata": {},
   "outputs": [
    {
     "name": "stdout",
     "output_type": "stream",
     "text": [
      "<generator object <genexpr> at 0x10fc85200>\n",
      "<class 'generator'>\n",
      "\n",
      "1\n",
      "4\n",
      "9\n",
      "16\n",
      "25\n"
     ]
    }
   ],
   "source": [
    "x = (i*i for i in [1,2,3,4,5])\n",
    "print(x)\n",
    "print(type(x))"
   ]
  },
  {
   "cell_type": "markdown",
   "metadata": {},
   "source": [
    "[<a href=\"#Generators\">Back to top</a>]"
   ]
  },
  {
   "cell_type": "markdown",
   "metadata": {},
   "source": [
    "# 리스트나 제너레이터는 이터러블하다"
   ]
  },
  {
   "cell_type": "markdown",
   "metadata": {},
   "source": [
    "이렀게 만든 리스트나 제너레이터는 이터러블하다.\n",
    "사실 아래 코드와 같이 제너레이터는 for loop를 돌릴 때 많이 쓴다."
   ]
  },
  {
   "cell_type": "code",
   "execution_count": null,
   "metadata": {},
   "outputs": [],
   "source": [
    "x = [i*i for i in [1,2,3,4,5]]\n",
    "for i in x:\n",
    "    print(i)"
   ]
  },
  {
   "cell_type": "code",
   "execution_count": null,
   "metadata": {},
   "outputs": [],
   "source": [
    "x = (i*i for i in [1,2,3,4,5])\n",
    "for i in x:\n",
    "    print(i)"
   ]
  },
  {
   "cell_type": "markdown",
   "metadata": {},
   "source": [
    "[<a href=\"#Generators\">Back to top</a>]"
   ]
  },
  {
   "cell_type": "markdown",
   "metadata": {},
   "source": [
    "[<a href=\"#Generators\">Back to top</a>]"
   ]
  },
  {
   "cell_type": "markdown",
   "metadata": {},
   "source": [
    "# 제너레이터는 메모리를 절약한다"
   ]
  },
  {
   "cell_type": "markdown",
   "metadata": {},
   "source": [
    "데이타가 작으면 두 방법의 차이를 느끼지 못하지만,\n",
    "데이타가 큰 경우 제너레이터를 사용하면 메모리와 컴퓨팅시간을 절약할 수 있다."
   ]
  },
  {
   "cell_type": "markdown",
   "metadata": {},
   "source": [
    "먼저 메모리를 측정하는 모듈을 인스톨하자.\n",
    "\n",
    "```\n",
    "$ pip install memory_profiler\n",
    "$ pip install memory_profiler --upgrade\n",
    "```\n",
    "\n",
    "or\n",
    "\n",
    "```\n",
    "$ easy_install -U memory_profiler # pip install -U memory_profiler\n",
    "```\n",
    "\n",
    "https://github.com/fabianp/memory_profiler#ipython-integration"
   ]
  },
  {
   "cell_type": "markdown",
   "metadata": {},
   "source": [
    "### 많은 양의 데이타를 생성하는 함수를 만드는데, 하나는 리스트로 다른 하나는 제너레이터로 만들었다."
   ]
  },
  {
   "cell_type": "code",
   "execution_count": null,
   "metadata": {},
   "outputs": [],
   "source": [
    "names = ['John', 'Corey', 'Adam', 'Steve', 'Rick', 'Thomas']\n",
    "majors = ['Math', 'Engineering', 'CompSci', 'Arts', 'Business']"
   ]
  },
  {
   "cell_type": "code",
   "execution_count": 33,
   "metadata": {},
   "outputs": [
    {
     "name": "stdout",
     "output_type": "stream",
     "text": [
      "Memory (Before): 346.234375MB\n",
      "Memory (After) : 617.32421875MB\n",
      "Took 1.3802850000000007 Seconds\n"
     ]
    }
   ],
   "source": [
    "import memory_profiler as mem_profile\n",
    "import random\n",
    "import time\n",
    "\n",
    "print('Memory (Before): ' + str(mem_profile.memory_usage()[0]) + 'MB' )\n",
    "\n",
    "def people_list(num_people):\n",
    "    result = []\n",
    "    for i in range(num_people):\n",
    "        person = {\n",
    "                    'id': i,\n",
    "                    'name': random.choice(names),\n",
    "                    'major': random.choice(majors)\n",
    "                }\n",
    "        result.append(person)\n",
    "    return result\n",
    "\n",
    "t1 = time.clock()\n",
    "people = people_list(1000000)\n",
    "t2 = time.clock()\n",
    "\n",
    "print('Memory (After) : ' + str(mem_profile.memory_usage()[0]) + 'MB')\n",
    "\n",
    "print ('Took ' + str(t2-t1) + ' Seconds')"
   ]
  },
  {
   "cell_type": "code",
   "execution_count": 34,
   "metadata": {},
   "outputs": [
    {
     "name": "stdout",
     "output_type": "stream",
     "text": [
      "Memory (Before): 617.36328125MB\n",
      "Memory (After) : 617.1015625MB\n",
      "Took 0.0611290000000011 Seconds\n"
     ]
    }
   ],
   "source": [
    "import memory_profiler as mem_profile\n",
    "import random\n",
    "import time\n",
    "\n",
    "print('Memory (Before): ' + str(mem_profile.memory_usage()[0]) + 'MB' )\n",
    "\n",
    "def people_generator(num_people):\n",
    "    for i in range(num_people):\n",
    "        person = {\n",
    "                    'id': i,\n",
    "                    'name': random.choice(names),\n",
    "                    'major': random.choice(majors)\n",
    "                }\n",
    "        yield person\n",
    "\n",
    "t1 = time.clock()\n",
    "people = people_generator(1000000)\n",
    "t2 = time.clock()\n",
    "\n",
    "print('Memory (After) : ' + str(mem_profile.memory_usage()[0]) + 'MB')\n",
    "\n",
    "print ('Took ' + str(t2-t1) + ' Seconds')"
   ]
  },
  {
   "cell_type": "markdown",
   "metadata": {},
   "source": [
    "The mebibyte is a multiple of the unit byte for digital information.[1] The binary prefix mebi means 220; therefore one mebibyte is equal to 1048576bytes = 1024 kibibytes. The unit symbol for the mebibyte is MiB. Technically a megabyte (MB) is a power of ten, while a mebibyte (MiB) is a power of two, appropriate for binary machines.\n",
    "\n",
    "https://en.wikipedia.org/wiki/Mebibyte"
   ]
  },
  {
   "cell_type": "markdown",
   "metadata": {},
   "source": [
    "### 숫자들이 주어졌을때, 이들 숫자중 3의 배수가 몇개 있는가를 세는 문제를 생각하자."
   ]
  },
  {
   "cell_type": "code",
   "execution_count": 36,
   "metadata": {},
   "outputs": [
    {
     "name": "stdout",
     "output_type": "stream",
     "text": [
      "Memory (Before): 668.203125MB\n",
      "Memory (After) : 713.34375MB\n",
      "Took 0.512003 Seconds\n",
      "3333334\n"
     ]
    }
   ],
   "source": [
    "import memory_profiler as mem_profile\n",
    "import random\n",
    "import time\n",
    "\n",
    "print('Memory (Before): ' + str(mem_profile.memory_usage()[0]) + 'MB' )\n",
    "\n",
    "def divisible_by_three_list(numbers):\n",
    "    filtered = [n for n in numbers if n % 3 == 0]\n",
    "    return len(filtered)\n",
    "\n",
    "t1 = time.clock()\n",
    "n_divisible_by_three = divisible_by_three_list(range(10000000))\n",
    "t2 = time.clock()\n",
    "\n",
    "print('Memory (After) : ' + str(mem_profile.memory_usage()[0]) + 'MB')\n",
    "\n",
    "print ('Took ' + str(t2-t1) + ' Seconds')\n",
    "print(n_divisible_by_three)"
   ]
  },
  {
   "cell_type": "code",
   "execution_count": 38,
   "metadata": {},
   "outputs": [
    {
     "name": "stdout",
     "output_type": "stream",
     "text": [
      "Memory (Before): 713.34375MB\n",
      "Memory (After) : 713.34375MB\n",
      "Took 0.5609979999999979 Seconds\n",
      "3333334\n"
     ]
    }
   ],
   "source": [
    "import memory_profiler as mem_profile\n",
    "import random\n",
    "import time\n",
    "\n",
    "print('Memory (Before): ' + str(mem_profile.memory_usage()[0]) + 'MB' )\n",
    "\n",
    "def divisible_by_three_generator(numbers):\n",
    "    filtered = (1 for n in numbers if n % 3 == 0)\n",
    "    return sum(filtered) # The sum() function takes an iterable and returns the sum of items in it.\n",
    "\n",
    "t1 = time.clock()\n",
    "n_divisible_by_three = divisible_by_three_generator(range(10000000))\n",
    "t2 = time.clock()\n",
    "\n",
    "print('Memory (After) : ' + str(mem_profile.memory_usage()[0]) + 'MB')\n",
    "\n",
    "print ('Took ' + str(t2-t1) + ' Seconds')\n",
    "print(n_divisible_by_three)"
   ]
  },
  {
   "cell_type": "markdown",
   "metadata": {},
   "source": [
    "[<a href=\"#Generators\">Back to top</a>]"
   ]
  }
 ],
 "metadata": {
  "kernelspec": {
   "display_name": "Python 3",
   "language": "python",
   "name": "python3"
  },
  "language_info": {
   "codemirror_mode": {
    "name": "ipython",
    "version": 3
   },
   "file_extension": ".py",
   "mimetype": "text/x-python",
   "name": "python",
   "nbconvert_exporter": "python",
   "pygments_lexer": "ipython3",
   "version": "3.6.9"
  }
 },
 "nbformat": 4,
 "nbformat_minor": 2
}
