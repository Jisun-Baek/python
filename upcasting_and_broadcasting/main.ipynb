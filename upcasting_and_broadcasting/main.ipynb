{
 "cells": [
  {
   "cell_type": "code",
   "execution_count": 2,
   "metadata": {},
   "outputs": [
    {
     "name": "stdout",
     "output_type": "stream",
     "text": [
      "3.141592653589793\n",
      "2.7\n"
     ]
    }
   ],
   "source": [
    "import numpy as np\n",
    "print(np.pi) # built-in\n",
    "np.pi = 2.7  # local <---- NOT A GOOD PRACTICE\n",
    "print(np.pi) # local"
   ]
  },
  {
   "cell_type": "code",
   "execution_count": 4,
   "metadata": {},
   "outputs": [
    {
     "name": "stdout",
     "output_type": "stream",
     "text": [
      "[1, 2, 3, [4], '5']\n",
      "(1, 2, 3, [4], '5')\n",
      "{1, 2, 3, 4, '5'}\n",
      "{'one': 1, 'two': 2, 'three': 3, 'four': [4], 'five': '5'}\n"
     ]
    }
   ],
   "source": [
    "a = [1,2,3,[4],'5']\n",
    "b = (1,2,3,[4],'5')\n",
    "c = {1,2,3,4,'5'}\n",
    "d = {'one' : 1, 'two' : 2, 'three' : 3, 'four' : [4], 'five' : '5'}\n",
    "print(a)\n",
    "print(b)\n",
    "print(c)\n",
    "print(d)"
   ]
  },
  {
   "cell_type": "code",
   "execution_count": null,
   "metadata": {},
   "outputs": [],
   "source": [
    "import numpy as np\n",
    "a = [1,2,3,[4],'5']\n",
    "b = np.array([1,2,3,4,5])\n",
    "print(dir(a))\n",
    "print(dir(b))"
   ]
  },
  {
   "cell_type": "code",
   "execution_count": 7,
   "metadata": {},
   "outputs": [
    {
     "name": "stdout",
     "output_type": "stream",
     "text": [
      "['__add__', '__class__', '__contains__', '__delattr__', '__delitem__', '__dir__', '__doc__', '__eq__', '__format__', '__ge__', '__getattribute__', '__getitem__', '__gt__', '__hash__', '__iadd__', '__imul__', '__init__', '__init_subclass__', '__iter__', '__le__', '__len__', '__lt__', '__mul__', '__ne__', '__new__', '__reduce__', '__reduce_ex__', '__repr__', '__reversed__', '__rmul__', '__setattr__', '__setitem__', '__sizeof__', '__str__', '__subclasshook__', 'append', 'clear', 'copy', 'count', 'extend', 'index', 'insert', 'pop', 'remove', 'reverse', 'sort']\n",
      "['T', '__abs__', '__add__', '__and__', '__array__', '__array_finalize__', '__array_function__', '__array_interface__', '__array_prepare__', '__array_priority__', '__array_struct__', '__array_ufunc__', '__array_wrap__', '__bool__', '__class__', '__complex__', '__contains__', '__copy__', '__deepcopy__', '__delattr__', '__delitem__', '__dir__', '__divmod__', '__doc__', '__eq__', '__float__', '__floordiv__', '__format__', '__ge__', '__getattribute__', '__getitem__', '__gt__', '__hash__', '__iadd__', '__iand__', '__ifloordiv__', '__ilshift__', '__imatmul__', '__imod__', '__imul__', '__index__', '__init__', '__init_subclass__', '__int__', '__invert__', '__ior__', '__ipow__', '__irshift__', '__isub__', '__iter__', '__itruediv__', '__ixor__', '__le__', '__len__', '__lshift__', '__lt__', '__matmul__', '__mod__', '__mul__', '__ne__', '__neg__', '__new__', '__or__', '__pos__', '__pow__', '__radd__', '__rand__', '__rdivmod__', '__reduce__', '__reduce_ex__', '__repr__', '__rfloordiv__', '__rlshift__', '__rmatmul__', '__rmod__', '__rmul__', '__ror__', '__rpow__', '__rrshift__', '__rshift__', '__rsub__', '__rtruediv__', '__rxor__', '__setattr__', '__setitem__', '__setstate__', '__sizeof__', '__str__', '__sub__', '__subclasshook__', '__truediv__', '__xor__', 'all', 'any', 'argmax', 'argmin', 'argpartition', 'argsort', 'astype', 'base', 'byteswap', 'choose', 'clip', 'compress', 'conj', 'conjugate', 'copy', 'ctypes', 'cumprod', 'cumsum', 'data', 'diagonal', 'dot', 'dtype', 'dump', 'dumps', 'fill', 'flags', 'flat', 'flatten', 'getfield', 'imag', 'item', 'itemset', 'itemsize', 'max', 'mean', 'min', 'nbytes', 'ndim', 'newbyteorder', 'nonzero', 'partition', 'prod', 'ptp', 'put', 'ravel', 'real', 'repeat', 'reshape', 'resize', 'round', 'searchsorted', 'setfield', 'setflags', 'shape', 'size', 'sort', 'squeeze', 'std', 'strides', 'sum', 'swapaxes', 'take', 'tobytes', 'tofile', 'tolist', 'tostring', 'trace', 'transpose', 'var', 'view']\n"
     ]
    }
   ],
   "source": [
    "import numpy as np\n",
    "a = [1,2,3,4,5]\n",
    "b = np.array(a)\n",
    "print(dir(a))\n",
    "print(dir(b))"
   ]
  },
  {
   "cell_type": "code",
   "execution_count": 11,
   "metadata": {},
   "outputs": [
    {
     "name": "stdout",
     "output_type": "stream",
     "text": [
      "[1 2 3 4 5]\n",
      "[[1 2 3 4 5]]\n"
     ]
    }
   ],
   "source": [
    "import numpy as np\n",
    "a = [1,2,3,4,5]\n",
    "b = np.array([1,2,3,4,5])\n",
    "print(b)\n",
    "print(b.shape) # attribute\n",
    "print(b.reshape((1,5))) # method"
   ]
  },
  {
   "cell_type": "code",
   "execution_count": 37,
   "metadata": {},
   "outputs": [
    {
     "name": "stdout",
     "output_type": "stream",
     "text": [
      "(2, 3)\n",
      "(3, 4)\n",
      "[[ 9.07363675 11.08362645  7.39896098  7.2061956 ]\n",
      " [-4.06250553 -2.76485402 -1.99184406 -4.86058986]]\n",
      "[[ 9.07363675 11.08362645  7.39896098  7.2061956 ]\n",
      " [-4.06250553 -2.76485402 -1.99184406 -4.86058986]]\n",
      "[[ 9.07363675 11.08362645  7.39896098  7.2061956 ]\n",
      " [-4.06250553 -2.76485402 -1.99184406 -4.86058986]]\n",
      "[[ 9.07363675 11.08362645  7.39896098  7.2061956 ]\n",
      " [-4.06250553 -2.76485402 -1.99184406 -4.86058986]]\n"
     ]
    }
   ],
   "source": [
    "import numpy as np\n",
    "a = np.random.normal(scale=2.0, size=(2,3))\n",
    "b = np.random.normal(loc=3.0, size=(3,4))\n",
    "print(a.shape)\n",
    "print(b.shape)\n",
    "c1 = a @ b                  # dunder matmul method\n",
    "c1_dunder = a.__matmul__(b) # dunder matmul method\n",
    "c2 = np.matmul(a, b)        # numpy function\n",
    "c3 = a.dot(b)               # dot method\n",
    "print(c1)\n",
    "print(c1_dunder)\n",
    "print(c2)\n",
    "print(c3)"
   ]
  },
  {
   "cell_type": "code",
   "execution_count": 39,
   "metadata": {},
   "outputs": [
    {
     "name": "stdout",
     "output_type": "stream",
     "text": [
      "33.55973545400338\n",
      "3.048100702947443\n"
     ]
    }
   ],
   "source": [
    "import numpy as np\n",
    "a = np.random.normal(scale=2.0, size=(3,3))\n",
    "print(np.linalg.det(a))\n",
    "print(np.linalg.cond(a))"
   ]
  },
  {
   "cell_type": "code",
   "execution_count": 41,
   "metadata": {},
   "outputs": [
    {
     "name": "stdout",
     "output_type": "stream",
     "text": [
      "3.0\n",
      "<class 'float'>\n"
     ]
    }
   ],
   "source": [
    "a = 1.\n",
    "b = 2\n",
    "c = a + b # upcasting (int ---> float)\n",
    "print(c)\n",
    "print(type(c))"
   ]
  },
  {
   "cell_type": "code",
   "execution_count": 52,
   "metadata": {},
   "outputs": [
    {
     "name": "stdout",
     "output_type": "stream",
     "text": [
      "[3 3 3]\n",
      "int64\n"
     ]
    }
   ],
   "source": [
    "import numpy as np\n",
    "a = np.array([1.,1,1]).astype(np.int64) # a.dtype = np.float64\n",
    "b = np.array([2,2,2])                   # b.dtype = np.int64\n",
    "c = a + b              # upcasting (int ---> float)\n",
    "print(c)\n",
    "print(c.dtype)"
   ]
  },
  {
   "cell_type": "code",
   "execution_count": 55,
   "metadata": {},
   "outputs": [
    {
     "name": "stdout",
     "output_type": "stream",
     "text": [
      "[[1 1 1]\n",
      " [2 2 2]]\n",
      "[[1 1 1]]\n",
      "[[2 2 2]\n",
      " [3 3 3]]\n"
     ]
    }
   ],
   "source": [
    "import numpy as np\n",
    "a = np.array([[1,1,1],[2,2,2]])\n",
    "b = np.array([[1,1,1]])\n",
    "print(a)\n",
    "print(b)\n",
    "c = a + b # broadcasting\n",
    "print(c)\n",
    "# print(c.shape)"
   ]
  },
  {
   "cell_type": "code",
   "execution_count": 17,
   "metadata": {},
   "outputs": [
    {
     "data": {
      "image/png": "[encoded data removed]",
      "text/plain": [
       "<Figure size 432x288 with 1 Axes>"
      ]
     },
     "metadata": {
      "needs_background": "light"
     },
     "output_type": "display_data"
    },
    {
     "name": "stdout",
     "output_type": "stream",
     "text": [
      "0.0037933324253618564 1.8234982445024341\n"
     ]
    }
   ],
   "source": [
    "%matplotlib inline\n",
    "import numpy as np\n",
    "import matplotlib.pyplot as plt\n",
    "#x = np.random.normal(loc=3., scale=2.0, size=(10000,))\n",
    "#x = np.random.poisson(lam=7.0, size=(10000,))\n",
    "#x = np.random.chisquare(7, size=(10000,))\n",
    "#x = np.random.uniform(low=-1.0, high=1.0, size=(10000,))\n",
    "#x = np.random.binomial(10, 0.7, size=(10000,))\n",
    "x = np.random.logistic(size=(10000,))\n",
    "plt.hist(x, bins=100, density=True)\n",
    "plt.show()\n",
    "print(x.mean(), x.std(ddof=1))"
   ]
  },
  {
   "cell_type": "code",
   "execution_count": null,
   "metadata": {},
   "outputs": [],
   "source": []
  }
 ],
 "metadata": {
  "kernelspec": {
   "display_name": "Python 3",
   "language": "python",
   "name": "python3"
  },
  "language_info": {
   "codemirror_mode": {
    "name": "ipython",
    "version": 3
   },
   "file_extension": ".py",
   "mimetype": "text/x-python",
   "name": "python",
   "nbconvert_exporter": "python",
   "pygments_lexer": "ipython3",
   "version": "3.6.9"
  }
 },
 "nbformat": 4,
 "nbformat_minor": 2
}
