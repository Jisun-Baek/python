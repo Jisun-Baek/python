{
 "cells": [
  {
   "cell_type": "markdown",
   "metadata": {},
   "source": [
    "A callable is an object which can call data and do something with it like a function do. \n",
    "A callable looks and works like a function:\n",
    "\n",
    "- function\n",
    "\n",
    "- class\n",
    "\n",
    "- method\n",
    "\n",
    "- instance constructed by class with call\n",
    "\n",
    "- and more: See [Five Kinds of Python Functions - Steven Lott](https://www.youtube.com/watch?v=U4wT-55GqkM) [blog](https://hub.packtpub.com/five-kinds-python-functions-python-34-edition/)"
   ]
  },
  {
   "cell_type": "code",
   "execution_count": 1,
   "metadata": {},
   "outputs": [
    {
     "name": "stdout",
     "output_type": "stream",
     "text": [
      "8\n",
      "False\n"
     ]
    },
    {
     "ename": "TypeError",
     "evalue": "'int' object is not callable",
     "output_type": "error",
     "traceback": [
      "\u001b[0;31m---------------------------------------------------------------------------\u001b[0m",
      "\u001b[0;31mTypeError\u001b[0m                                 Traceback (most recent call last)",
      "\u001b[0;32m<ipython-input-1-43584b2ccd80>\u001b[0m in \u001b[0;36m<module>\u001b[0;34m\u001b[0m\n\u001b[1;32m      3\u001b[0m \u001b[0mprint\u001b[0m\u001b[0;34m(\u001b[0m\u001b[0mf\u001b[0m\u001b[0;34m)\u001b[0m\u001b[0;34m\u001b[0m\u001b[0;34m\u001b[0m\u001b[0m\n\u001b[1;32m      4\u001b[0m \u001b[0mprint\u001b[0m\u001b[0;34m(\u001b[0m\u001b[0mcallable\u001b[0m\u001b[0;34m(\u001b[0m\u001b[0mf\u001b[0m\u001b[0;34m)\u001b[0m\u001b[0;34m)\u001b[0m\u001b[0;34m\u001b[0m\u001b[0;34m\u001b[0m\u001b[0m\n\u001b[0;32m----> 5\u001b[0;31m \u001b[0mprint\u001b[0m\u001b[0;34m(\u001b[0m\u001b[0mf\u001b[0m\u001b[0;34m(\u001b[0m\u001b[0;36m7\u001b[0m\u001b[0;34m)\u001b[0m\u001b[0;34m)\u001b[0m\u001b[0;34m\u001b[0m\u001b[0;34m\u001b[0m\u001b[0m\n\u001b[0m",
      "\u001b[0;31mTypeError\u001b[0m: 'int' object is not callable"
     ]
    }
   ],
   "source": [
    "f = 8\n",
    "\n",
    "print(f)\n",
    "print(callable(f))\n",
    "print(f(7))"
   ]
  },
  {
   "cell_type": "markdown",
   "metadata": {},
   "source": [
    "# function"
   ]
  },
  {
   "cell_type": "code",
   "execution_count": 2,
   "metadata": {},
   "outputs": [
    {
     "name": "stdout",
     "output_type": "stream",
     "text": [
      "<function f at 0x7fc9290c5400>\n",
      "True\n",
      "8\n",
      "False\n"
     ]
    }
   ],
   "source": [
    "def f(x): \n",
    "    return x + 1\n",
    "\n",
    "print(f)\n",
    "print(callable(f))\n",
    "print(f(7))\n",
    "print(callable(f(7)))"
   ]
  },
  {
   "cell_type": "markdown",
   "metadata": {},
   "source": [
    "# lambda"
   ]
  },
  {
   "cell_type": "code",
   "execution_count": 3,
   "metadata": {},
   "outputs": [
    {
     "name": "stdout",
     "output_type": "stream",
     "text": [
      "<function <lambda> at 0x7fc91826a598>\n",
      "True\n",
      "8\n",
      "False\n"
     ]
    }
   ],
   "source": [
    "f = lambda x: x + 1\n",
    "\n",
    "print(f)\n",
    "print(callable(f))\n",
    "print(f(7))\n",
    "print(callable(f(7)))"
   ]
  },
  {
   "cell_type": "markdown",
   "metadata": {},
   "source": [
    "# higher-order function"
   ]
  },
  {
   "cell_type": "code",
   "execution_count": 4,
   "metadata": {},
   "outputs": [
    {
     "name": "stdout",
     "output_type": "stream",
     "text": [
      "<function <lambda> at 0x7fc91826a1e0>\n",
      "True\n",
      "[True, False, True, False]\n",
      "False\n"
     ]
    }
   ],
   "source": [
    "def odd(n):\n",
    "    \"\"\"odd(n) -> boolean, true if n is odd.\"\"\"\n",
    "    return n % 2 == 1\n",
    "\n",
    "f = lambda x: list(map(odd, x))\n",
    "\n",
    "print(f)\n",
    "print(callable(f))\n",
    "print(f([1,2,3,4]))\n",
    "print(callable(f([1,2,3,4])))"
   ]
  },
  {
   "cell_type": "markdown",
   "metadata": {},
   "source": [
    "# class"
   ]
  },
  {
   "cell_type": "code",
   "execution_count": 5,
   "metadata": {},
   "outputs": [
    {
     "name": "stdout",
     "output_type": "stream",
     "text": [
      "<class '__main__.AddSome'>\n",
      "True\n",
      "<__main__.AddSome object at 0x7fc918269048>\n",
      "False\n"
     ]
    }
   ],
   "source": [
    "class AddSome:\n",
    "    def __init__(self, x):\n",
    "        self.x = x\n",
    "        \n",
    "print(AddSome)\n",
    "print(callable(AddSome))\n",
    "print(AddSome(7))\n",
    "print(callable(AddSome(7)))"
   ]
  },
  {
   "cell_type": "markdown",
   "metadata": {},
   "source": [
    "# method"
   ]
  },
  {
   "cell_type": "code",
   "execution_count": 6,
   "metadata": {},
   "outputs": [
    {
     "name": "stdout",
     "output_type": "stream",
     "text": [
      "<bound method AddSome.f of <__main__.AddSome object at 0x7fc91826d470>>\n",
      "True\n",
      "8\n",
      "False\n"
     ]
    }
   ],
   "source": [
    "class AddSome:\n",
    "    def __init__(self, x):\n",
    "        self.x = x\n",
    "    def f(self, x):\n",
    "        return x + 1  \n",
    "    \n",
    "a = AddSome(7) \n",
    "print(a.f)\n",
    "print(callable(a.f))\n",
    "print(a.f(7))  \n",
    "print(callable(a.f(7)))"
   ]
  },
  {
   "cell_type": "markdown",
   "metadata": {},
   "source": [
    "# instance constructed by class with call"
   ]
  },
  {
   "cell_type": "code",
   "execution_count": 10,
   "metadata": {},
   "outputs": [
    {
     "name": "stdout",
     "output_type": "stream",
     "text": [
      "<__main__.AddSome object at 0x7fc91826d2b0>\n",
      "False\n"
     ]
    },
    {
     "ename": "TypeError",
     "evalue": "'AddSome' object is not callable",
     "output_type": "error",
     "traceback": [
      "\u001b[0;31m---------------------------------------------------------------------------\u001b[0m",
      "\u001b[0;31mTypeError\u001b[0m                                 Traceback (most recent call last)",
      "\u001b[0;32m<ipython-input-10-6e18c3805399>\u001b[0m in \u001b[0;36m<module>\u001b[0;34m\u001b[0m\n\u001b[1;32m      6\u001b[0m \u001b[0mprint\u001b[0m\u001b[0;34m(\u001b[0m\u001b[0ma\u001b[0m\u001b[0;34m)\u001b[0m\u001b[0;34m\u001b[0m\u001b[0;34m\u001b[0m\u001b[0m\n\u001b[1;32m      7\u001b[0m \u001b[0mprint\u001b[0m\u001b[0;34m(\u001b[0m\u001b[0mcallable\u001b[0m\u001b[0;34m(\u001b[0m\u001b[0ma\u001b[0m\u001b[0;34m)\u001b[0m\u001b[0;34m)\u001b[0m\u001b[0;34m\u001b[0m\u001b[0;34m\u001b[0m\u001b[0m\n\u001b[0;32m----> 8\u001b[0;31m \u001b[0mprint\u001b[0m\u001b[0;34m(\u001b[0m\u001b[0ma\u001b[0m\u001b[0;34m(\u001b[0m\u001b[0;36m7\u001b[0m\u001b[0;34m)\u001b[0m\u001b[0;34m)\u001b[0m\u001b[0;34m\u001b[0m\u001b[0;34m\u001b[0m\u001b[0m\n\u001b[0m\u001b[1;32m      9\u001b[0m \u001b[0mprint\u001b[0m\u001b[0;34m(\u001b[0m\u001b[0mcallable\u001b[0m\u001b[0;34m(\u001b[0m\u001b[0ma\u001b[0m\u001b[0;34m(\u001b[0m\u001b[0;36m7\u001b[0m\u001b[0;34m)\u001b[0m\u001b[0;34m)\u001b[0m\u001b[0;34m)\u001b[0m\u001b[0;34m\u001b[0m\u001b[0;34m\u001b[0m\u001b[0m\n",
      "\u001b[0;31mTypeError\u001b[0m: 'AddSome' object is not callable"
     ]
    }
   ],
   "source": [
    "class AddSome:\n",
    "    def __init__(self, x):\n",
    "        self.x = x\n",
    "    \n",
    "a = AddSome(7) \n",
    "print(a)\n",
    "print(callable(a))\n",
    "print(a(7)) \n",
    "print(callable(a(7)))"
   ]
  },
  {
   "cell_type": "code",
   "execution_count": 11,
   "metadata": {},
   "outputs": [
    {
     "name": "stdout",
     "output_type": "stream",
     "text": [
      "<__main__.AddSome object at 0x7fc91826d748>\n",
      "True\n",
      "14\n",
      "False\n"
     ]
    }
   ],
   "source": [
    "class AddSome:\n",
    "    def __init__(self, x):\n",
    "        self.x = x\n",
    "    def __call__(self, y):\n",
    "        self.x += y\n",
    "        return self.x \n",
    "    \n",
    "a = AddSome(7) \n",
    "print(a)\n",
    "print(callable(a))\n",
    "print(a(7)) \n",
    "print(callable(a(7)))"
   ]
  },
  {
   "cell_type": "code",
   "execution_count": 12,
   "metadata": {},
   "outputs": [
    {
     "name": "stdout",
     "output_type": "stream",
     "text": [
      "<bound method AddSome.__call__ of <__main__.AddSome object at 0x7fc91826dd30>>\n",
      "True\n",
      "14\n",
      "False\n"
     ]
    }
   ],
   "source": [
    "class AddSome:\n",
    "    def __init__(self, x):\n",
    "        self.x = x\n",
    "    def f(self, x):\n",
    "        return x + 1  \n",
    "    def __call__(self, y):\n",
    "        self.x += y\n",
    "        return self.x\n",
    "    \n",
    "a = AddSome(7) \n",
    "print(a.__call__)\n",
    "print(callable(a.__call__))\n",
    "print(a.__call__(7)) \n",
    "print(callable(a.__call__(7)))"
   ]
  },
  {
   "cell_type": "code",
   "execution_count": null,
   "metadata": {},
   "outputs": [],
   "source": []
  },
  {
   "cell_type": "code",
   "execution_count": null,
   "metadata": {},
   "outputs": [],
   "source": []
  },
  {
   "cell_type": "code",
   "execution_count": null,
   "metadata": {},
   "outputs": [],
   "source": []
  },
  {
   "cell_type": "code",
   "execution_count": null,
   "metadata": {},
   "outputs": [],
   "source": []
  },
  {
   "cell_type": "code",
   "execution_count": null,
   "metadata": {},
   "outputs": [],
   "source": []
  },
  {
   "cell_type": "code",
   "execution_count": null,
   "metadata": {},
   "outputs": [],
   "source": []
  },
  {
   "cell_type": "code",
   "execution_count": null,
   "metadata": {},
   "outputs": [],
   "source": []
  },
  {
   "cell_type": "code",
   "execution_count": null,
   "metadata": {},
   "outputs": [],
   "source": []
  }
 ],
 "metadata": {
  "kernelspec": {
   "display_name": "Python 3",
   "language": "python",
   "name": "python3"
  },
  "language_info": {
   "codemirror_mode": {
    "name": "ipython",
    "version": 3
   },
   "file_extension": ".py",
   "mimetype": "text/x-python",
   "name": "python",
   "nbconvert_exporter": "python",
   "pygments_lexer": "ipython3",
   "version": "3.6.9"
  }
 },
 "nbformat": 4,
 "nbformat_minor": 2
}
