{
 "cells": [
  {
   "cell_type": "markdown",
   "metadata": {},
   "source": [
    "# Don't Override Built-ins"
   ]
  },
  {
   "cell_type": "markdown",
   "metadata": {},
   "source": [
    "Corey_Schafer [youtube](https://www.youtube.com/watch?v=QVdf0LgmICw&index=17&list=PL-osiE80TeTt2d9bfVyTiXJA-UTHn6WwU)\n",
    "Telusko [youtube](https://www.youtube.com/watch?v=QYUbLevwgDQ)"
   ]
  },
  {
   "cell_type": "code",
   "execution_count": 1,
   "metadata": {},
   "outputs": [
    {
     "name": "stdout",
     "output_type": "stream",
     "text": [
      "1\n",
      "\n",
      "min() takes 0 positional arguments but 1 was given\n",
      "\n",
      "Don't Override Built-ins\n"
     ]
    }
   ],
   "source": [
    "m = min([5, 1, 4, 2, 3])\n",
    "print(m)\n",
    "print()\n",
    "\n",
    "def min():\n",
    "    print('Don\\'t Override Built-ins')\n",
    "    \n",
    "try:\n",
    "    m = min([5, 1, 4, 2, 3])\n",
    "except Exception as e:\n",
    "    print(e)\n",
    "print()\n",
    "    \n",
    "min()"
   ]
  },
  {
   "cell_type": "markdown",
   "metadata": {},
   "source": [
    "이름이 빌트인에 있는지 모르고 코드를 작성하였으면 코드는 돌아갑니다.\n",
    "LEGB 룰이 적용된 것이죠.\n",
    "하지만 이 이름을 아는 동료가 이 코드를 보면 헷갈립니다.\n",
    "헷갈리니까 쓰지 않는 것을 추천합니다."
   ]
  }
 ],
 "metadata": {
  "kernelspec": {
   "display_name": "Python 3",
   "language": "python",
   "name": "python3"
  },
  "language_info": {
   "codemirror_mode": {
    "name": "ipython",
    "version": 3
   },
   "file_extension": ".py",
   "mimetype": "text/x-python",
   "name": "python",
   "nbconvert_exporter": "python",
   "pygments_lexer": "ipython3",
   "version": "3.5.0"
  }
 },
 "nbformat": 4,
 "nbformat_minor": 2
}
