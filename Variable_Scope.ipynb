{
 "cells": [
  {
   "cell_type": "markdown",
   "metadata": {},
   "source": [
    "# Variable Scope "
   ]
  },
  {
   "cell_type": "markdown",
   "metadata": {},
   "source": [
    "Corey_Schafer [youtube](https://www.youtube.com/watch?v=QVdf0LgmICw&index=17&list=PL-osiE80TeTt2d9bfVyTiXJA-UTHn6WwU)\n",
    "Telusko [youtube](https://www.youtube.com/watch?v=QYUbLevwgDQ)"
   ]
  },
  {
   "cell_type": "markdown",
   "metadata": {},
   "source": [
    "# LEGB - Local, Enclosing, Global, Built-in"
   ]
  },
  {
   "cell_type": "markdown",
   "metadata": {},
   "source": [
    "# Local and Global Variables"
   ]
  },
  {
   "cell_type": "code",
   "execution_count": 1,
   "metadata": {},
   "outputs": [
    {
     "name": "stdout",
     "output_type": "stream",
     "text": [
      "local\n"
     ]
    }
   ],
   "source": [
    "a = 'global'\n",
    "\n",
    "def some_function():\n",
    "    a = 'local'\n",
    "    print(a)\n",
    "\n",
    "some_function()  "
   ]
  },
  {
   "cell_type": "code",
   "execution_count": 12,
   "metadata": {},
   "outputs": [
    {
     "name": "stdout",
     "output_type": "stream",
     "text": [
      "global\n"
     ]
    }
   ],
   "source": [
    "a = 'global'\n",
    "\n",
    "def some_function():\n",
    "    # a = 'local'\n",
    "    print(a)\n",
    "\n",
    "some_function()"
   ]
  },
  {
   "cell_type": "code",
   "execution_count": 13,
   "metadata": {},
   "outputs": [
    {
     "name": "stdout",
     "output_type": "stream",
     "text": [
      "name 'b' is not defined\n"
     ]
    }
   ],
   "source": [
    "a = 'global'\n",
    "\n",
    "def some_function():\n",
    "    b = 'local'\n",
    "\n",
    "some_function()\n",
    "\n",
    "try:\n",
    "    print(b)\n",
    "except Exception as e:\n",
    "    print(e)"
   ]
  },
  {
   "cell_type": "markdown",
   "metadata": {},
   "source": [
    "# Built-in Constants "
   ]
  },
  {
   "cell_type": "code",
   "execution_count": 4,
   "metadata": {},
   "outputs": [
    {
     "name": "stdout",
     "output_type": "stream",
     "text": [
      "2.718281828459045\n",
      "3.141592653589793\n"
     ]
    }
   ],
   "source": [
    "import numpy as np\n",
    "\n",
    "print(np.e)\n",
    "print(np.pi)"
   ]
  },
  {
   "cell_type": "markdown",
   "metadata": {},
   "source": [
    "# Enclosing Variables"
   ]
  },
  {
   "cell_type": "code",
   "execution_count": 5,
   "metadata": {},
   "outputs": [
    {
     "name": "stdout",
     "output_type": "stream",
     "text": [
      "local\n",
      "enclosing\n"
     ]
    }
   ],
   "source": [
    "a = 'global'\n",
    "\n",
    "def outer_function():\n",
    "    a = 'enclosing'\n",
    "    \n",
    "    def inner_function():\n",
    "        a = 'local'\n",
    "        print(a)\n",
    "        \n",
    "    inner_function()\n",
    "    print(a)\n",
    "    \n",
    "outer_function()      "
   ]
  },
  {
   "cell_type": "markdown",
   "metadata": {},
   "source": [
    "# global statement"
   ]
  },
  {
   "cell_type": "code",
   "execution_count": 6,
   "metadata": {},
   "outputs": [
    {
     "name": "stdout",
     "output_type": "stream",
     "text": [
      "local\n"
     ]
    }
   ],
   "source": [
    "a = 'global'\n",
    "\n",
    "def some_function():\n",
    "    a = 'local'\n",
    "    print(a)\n",
    "\n",
    "some_function()"
   ]
  },
  {
   "cell_type": "code",
   "execution_count": 7,
   "metadata": {},
   "outputs": [
    {
     "name": "stdout",
     "output_type": "stream",
     "text": [
      "local\n",
      "\n",
      "local\n"
     ]
    }
   ],
   "source": [
    "a = 'global'\n",
    "\n",
    "def some_function():\n",
    "    global a # this part is added\n",
    "    a = 'local'\n",
    "    print(a)\n",
    "\n",
    "some_function()\n",
    "print()\n",
    "\n",
    "print(a)"
   ]
  },
  {
   "cell_type": "markdown",
   "metadata": {},
   "source": [
    "하지만 헷갈리니까 쓰지 않는 것을 추천합니다."
   ]
  },
  {
   "cell_type": "markdown",
   "metadata": {},
   "source": [
    "# nonlocal statement"
   ]
  },
  {
   "cell_type": "code",
   "execution_count": 8,
   "metadata": {},
   "outputs": [
    {
     "name": "stdout",
     "output_type": "stream",
     "text": [
      "local\n",
      "enclosing\n"
     ]
    }
   ],
   "source": [
    "a = 'global'\n",
    "\n",
    "def outer_function():\n",
    "    a = 'enclosing'\n",
    "    \n",
    "    def inner_function():\n",
    "        a = 'local'\n",
    "        print(a)\n",
    "        \n",
    "    inner_function()\n",
    "    print(a)\n",
    "    \n",
    "outer_function()"
   ]
  },
  {
   "cell_type": "code",
   "execution_count": 9,
   "metadata": {},
   "outputs": [
    {
     "name": "stdout",
     "output_type": "stream",
     "text": [
      "local\n",
      "local\n",
      "\n",
      "global\n"
     ]
    }
   ],
   "source": [
    "a = 'global'\n",
    "\n",
    "def outer_function():\n",
    "    a = 'enclosing'\n",
    "    \n",
    "    def inner_function():\n",
    "        nonlocal a # this line is added\n",
    "        a = 'local'\n",
    "        print(a)\n",
    "        \n",
    "    inner_function()\n",
    "    print(a)\n",
    "    \n",
    "outer_function()\n",
    "print()\n",
    "\n",
    "print(a) "
   ]
  },
  {
   "cell_type": "markdown",
   "metadata": {},
   "source": [
    "global statement보다 nonlocal statement이 자주 쓰입니다.\n",
    "글로벌 변수들은 건들이지 않고 인크로징 변수들만을 건들기 때문이죠.\n",
    "특히, 데코레이터를 만들거나 함수를 크로즈할 때 많이 쓰입니다."
   ]
  }
 ],
 "metadata": {
  "kernelspec": {
   "display_name": "Python 3",
   "language": "python",
   "name": "python3"
  },
  "language_info": {
   "codemirror_mode": {
    "name": "ipython",
    "version": 3
   },
   "file_extension": ".py",
   "mimetype": "text/x-python",
   "name": "python",
   "nbconvert_exporter": "python",
   "pygments_lexer": "ipython3",
   "version": "3.5.0"
  }
 },
 "nbformat": 4,
 "nbformat_minor": 2
}
