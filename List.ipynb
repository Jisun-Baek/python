{
 "cells": [
  {
   "cell_type": "markdown",
   "metadata": {
    "collapsed": true
   },
   "source": [
    "# List"
   ]
  },
  {
   "cell_type": "markdown",
   "metadata": {},
   "source": [
    "Corey_Schafer \n",
    "[youtube](https://www.youtube.com/watch?v=W8KRzm-HUcc&index=4&list=PL-osiE80TeTt2d9bfVyTiXJA-UTHn6WwU)\n",
    "Joe_James \n",
    "[youtube](https://www.youtube.com/watch?v=R-HLU9Fl5ug&index=9&list=PLj8W7XIvO93qsmdxbaDpIvM1KCyNO1K_c) \n",
    "[github](https://github.com/joeyajames/Python)\n",
    "CS_Dojo \n",
    "[youtube](https://www.youtube.com/watch?v=tw7ror9x32s) \n",
    "[code](https://www.csdojo.io/python4)"
   ]
  },
  {
   "cell_type": "markdown",
   "metadata": {},
   "source": [
    "<a href=\"#리스트는-여러가지-다른-종류의-아이템을-담을-수-있다\">리스트는 여러가지 다른 종류의 아이템을 담을 수 있다</a>\n",
    "\n",
    "<a href=\"#append-method\">append method</a>\n",
    "\n",
    "<a href=\"#pop-method\">pop method</a>\n",
    "\n",
    "<a href=\"#list-constructor\">list constructor</a>"
   ]
  },
  {
   "cell_type": "markdown",
   "metadata": {},
   "source": [
    "# 리스트는 여러가지 다른 종류의 아이템을 담을 수 있다"
   ]
  },
  {
   "cell_type": "code",
   "execution_count": 1,
   "metadata": {},
   "outputs": [
    {
     "name": "stdout",
     "output_type": "stream",
     "text": [
      "[1, 2, 3, 4, 5]\n",
      "<class 'list'>\n"
     ]
    }
   ],
   "source": [
    "x = [1, 2, 3, 4, 5]\n",
    "\n",
    "print(x)\n",
    "print(type(x))"
   ]
  },
  {
   "cell_type": "code",
   "execution_count": 2,
   "metadata": {},
   "outputs": [
    {
     "name": "stdout",
     "output_type": "stream",
     "text": [
      "['a', ['b'], 'cat', 4, 5.5]\n",
      "<class 'list'>\n"
     ]
    }
   ],
   "source": [
    "x = ['a', ['b'], 'cat', 4, 5.5]\n",
    "\n",
    "print(x)\n",
    "print(type(x))"
   ]
  },
  {
   "cell_type": "code",
   "execution_count": 3,
   "metadata": {},
   "outputs": [
    {
     "name": "stdout",
     "output_type": "stream",
     "text": [
      "[]\n",
      "<class 'list'>\n"
     ]
    }
   ],
   "source": [
    "x = []\n",
    "\n",
    "print(x)\n",
    "print(type(x))   "
   ]
  },
  {
   "cell_type": "markdown",
   "metadata": {},
   "source": [
    "[<a href=\"#List\">Back to top</a>]"
   ]
  },
  {
   "cell_type": "markdown",
   "metadata": {},
   "source": [
    "# append method"
   ]
  },
  {
   "cell_type": "code",
   "execution_count": 14,
   "metadata": {},
   "outputs": [
    {
     "name": "stdout",
     "output_type": "stream",
     "text": [
      "['__add__', '__class__', '__contains__', '__delattr__', '__delitem__', '__dir__', '__doc__', '__eq__', '__format__', '__ge__', '__getattribute__', '__getitem__', '__gt__', '__hash__', '__iadd__', '__imul__', '__init__', '__iter__', '__le__', '__len__', '__lt__', '__mul__', '__ne__', '__new__', '__reduce__', '__reduce_ex__', '__repr__', '__reversed__', '__rmul__', '__setattr__', '__setitem__', '__sizeof__', '__str__', '__subclasshook__', 'append', 'clear', 'copy', 'count', 'extend', 'index', 'insert', 'pop', 'remove', 'reverse', 'sort']\n"
     ]
    }
   ],
   "source": [
    "print(dir(list))"
   ]
  },
  {
   "cell_type": "code",
   "execution_count": 4,
   "metadata": {},
   "outputs": [
    {
     "name": "stdout",
     "output_type": "stream",
     "text": [
      "[1]\n",
      "[1, 2]\n",
      "[1, 2, 3]\n",
      "[1, 2, 3, 4]\n",
      "[1, 2, 3, 4, 5]\n"
     ]
    }
   ],
   "source": [
    "x = []\n",
    "for i in range(1,6):\n",
    "    x.append(i)\n",
    "    print(x)"
   ]
  },
  {
   "cell_type": "code",
   "execution_count": 5,
   "metadata": {},
   "outputs": [
    {
     "name": "stdout",
     "output_type": "stream",
     "text": [
      "['H']\n",
      "['H', 'e']\n",
      "['H', 'e', 'l']\n",
      "['H', 'e', 'l', 'l']\n",
      "['H', 'e', 'l', 'l', 'o']\n",
      "['H', 'e', 'l', 'l', 'o', ' ']\n",
      "['H', 'e', 'l', 'l', 'o', ' ', 'W']\n",
      "['H', 'e', 'l', 'l', 'o', ' ', 'W', 'o']\n",
      "['H', 'e', 'l', 'l', 'o', ' ', 'W', 'o', 'r']\n",
      "['H', 'e', 'l', 'l', 'o', ' ', 'W', 'o', 'r', 'l']\n",
      "['H', 'e', 'l', 'l', 'o', ' ', 'W', 'o', 'r', 'l', 'd']\n",
      "['H', 'e', 'l', 'l', 'o', ' ', 'W', 'o', 'r', 'l', 'd', '!']\n"
     ]
    }
   ],
   "source": [
    "x = []\n",
    "for i in 'Hello World!':\n",
    "    x.append(i)\n",
    "    print(x)"
   ]
  },
  {
   "cell_type": "markdown",
   "metadata": {},
   "source": [
    "[<a href=\"#List\">Back to top</a>]"
   ]
  },
  {
   "cell_type": "markdown",
   "metadata": {},
   "source": [
    "# pop method"
   ]
  },
  {
   "cell_type": "markdown",
   "metadata": {},
   "source": [
    "The pop() method removes the last element (as default) from the list."
   ]
  },
  {
   "cell_type": "code",
   "execution_count": 6,
   "metadata": {},
   "outputs": [
    {
     "name": "stdout",
     "output_type": "stream",
     "text": [
      "[1, 2, 3, 4]\n",
      "[1, 2, 3]\n",
      "[1, 2]\n",
      "[1]\n",
      "[]\n"
     ]
    }
   ],
   "source": [
    "x = [1, 2, 3, 4, 5]\n",
    "for _ in range(len(x)):\n",
    "    x.pop()\n",
    "    print(x)"
   ]
  },
  {
   "cell_type": "markdown",
   "metadata": {},
   "source": [
    "The pop() method removes the last element (as default) from the list\n",
    "and returns the removed element."
   ]
  },
  {
   "cell_type": "code",
   "execution_count": 15,
   "metadata": {},
   "outputs": [
    {
     "name": "stdout",
     "output_type": "stream",
     "text": [
      "5 [1, 2, 3, 4]\n",
      "4 [1, 2, 3]\n",
      "3 [1, 2]\n",
      "2 [1]\n",
      "1 []\n"
     ]
    }
   ],
   "source": [
    "x = [1, 2, 3, 4, 5]\n",
    "for _ in range(len(x)):\n",
    "    item = x.pop()\n",
    "    print(item, x)"
   ]
  },
  {
   "cell_type": "markdown",
   "metadata": {},
   "source": [
    "More generally, the pop() method removes the element at the given index passed as an argument (default is -1) from the list and returns the removed element."
   ]
  },
  {
   "cell_type": "code",
   "execution_count": 8,
   "metadata": {},
   "outputs": [
    {
     "name": "stdout",
     "output_type": "stream",
     "text": [
      "[1, 2, 3, 4]\n",
      "[1, 2, 3]\n",
      "[1, 2]\n",
      "[1]\n",
      "[]\n"
     ]
    }
   ],
   "source": [
    "x = [1, 2, 3, 4, 5]\n",
    "for _ in range(len(x)):\n",
    "    x.pop(-1)\n",
    "    print(x)"
   ]
  },
  {
   "cell_type": "code",
   "execution_count": 9,
   "metadata": {},
   "outputs": [
    {
     "name": "stdout",
     "output_type": "stream",
     "text": [
      "5\n",
      "4\n",
      "3\n",
      "2\n",
      "1\n"
     ]
    }
   ],
   "source": [
    "x = [1, 2, 3, 4, 5]\n",
    "for _ in range(len(x)):\n",
    "    item = x.pop(-1)\n",
    "    print(item, x)"
   ]
  },
  {
   "cell_type": "code",
   "execution_count": 10,
   "metadata": {},
   "outputs": [
    {
     "name": "stdout",
     "output_type": "stream",
     "text": [
      "[2, 3, 4, 5]\n",
      "[3, 4, 5]\n",
      "[4, 5]\n",
      "[5]\n",
      "[]\n"
     ]
    }
   ],
   "source": [
    "x = [1, 2, 3, 4, 5]\n",
    "for _ in range(len(x)):\n",
    "    x.pop(0)\n",
    "    print(x)"
   ]
  },
  {
   "cell_type": "code",
   "execution_count": 16,
   "metadata": {},
   "outputs": [
    {
     "name": "stdout",
     "output_type": "stream",
     "text": [
      "1 [2, 3, 4, 5]\n",
      "2 [3, 4, 5]\n",
      "3 [4, 5]\n",
      "4 [5]\n",
      "5 []\n"
     ]
    }
   ],
   "source": [
    "x = [1, 2, 3, 4, 5]\n",
    "for _ in range(len(x)):\n",
    "    item = x.pop(0)\n",
    "    print(item, x)"
   ]
  },
  {
   "cell_type": "markdown",
   "metadata": {},
   "source": [
    "[<a href=\"#List\">Back to top</a>]"
   ]
  },
  {
   "cell_type": "markdown",
   "metadata": {},
   "source": [
    "# list constructor"
   ]
  },
  {
   "cell_type": "code",
   "execution_count": 12,
   "metadata": {},
   "outputs": [
    {
     "name": "stdout",
     "output_type": "stream",
     "text": [
      "['a', ['b'], 'cat', 4, 3.5]\n",
      "<class 'list'>\n",
      "5\n"
     ]
    }
   ],
   "source": [
    "if 0: \n",
    "    # add items to empty list \n",
    "    x = list()\n",
    "    x.append('a')\n",
    "    x.append(['b'])\n",
    "    x.append('cat')\n",
    "    x.append(4)\n",
    "    x.append(3.5)\n",
    "elif 1: \n",
    "    # add items to empty list\n",
    "    x = []\n",
    "    x.append('a')\n",
    "    x.append(['b'])\n",
    "    x.append('cat')\n",
    "    x.append(4)\n",
    "    x.append(3.5)\n",
    "elif 1: \n",
    "    # explicit construction\n",
    "    x = ['a', ['b'], 'cat', 4, 5.5]\n",
    "elif 1: \n",
    "    # tuple to list\n",
    "    temp = ('a', ['b'], 'cat', 4, 5.5)\n",
    "    x = list(temp)\n",
    "elif 1: \n",
    "    # list comprehension\n",
    "    x = [i**2 for i in range(1,6)]\n",
    "    \n",
    "print(x)\n",
    "print(type(x))\n",
    "print(len(x))"
   ]
  },
  {
   "cell_type": "markdown",
   "metadata": {},
   "source": [
    "[<a href=\"#List\">Back to top</a>]"
   ]
  },
  {
   "cell_type": "markdown",
   "metadata": {},
   "source": [
    "# FIFO"
   ]
  },
  {
   "cell_type": "code",
   "execution_count": 18,
   "metadata": {},
   "outputs": [
    {
     "name": "stdout",
     "output_type": "stream",
     "text": [
      "[0.780352616712286]\n",
      "[]\n",
      "[]\n",
      "[]\n",
      "[]\n",
      "[]\n",
      "[]\n",
      "[]\n",
      "[]\n",
      "[]\n",
      "[0.586799100080316]\n",
      "[0.586799100080316, 0.013295726675254693]\n",
      "[0.586799100080316, 0.013295726675254693, 0.32398951206607096]\n",
      "[0.013295726675254693, 0.32398951206607096]\n",
      "[0.013295726675254693, 0.32398951206607096, 0.34575251313091326]\n",
      "[0.32398951206607096, 0.34575251313091326]\n",
      "[0.34575251313091326]\n",
      "[]\n",
      "[]\n",
      "[0.5391321916537106]\n",
      "[]\n",
      "[]\n",
      "[]\n",
      "[0.34605710131692136]\n",
      "[]\n",
      "[]\n",
      "[]\n",
      "[]\n",
      "[0.4893995178086976]\n",
      "[]\n",
      "[0.2913830803716492]\n",
      "[0.2913830803716492, 0.0843732867011574]\n",
      "[0.2913830803716492, 0.0843732867011574, 0.9522162869830848]\n",
      "[0.0843732867011574, 0.9522162869830848, 0.3140866352961966]\n",
      "[0.9522162869830848, 0.3140866352961966]\n",
      "[0.9522162869830848, 0.3140866352961966, 0.10029713850756883]\n",
      "[0.3140866352961966, 0.10029713850756883]\n",
      "[0.3140866352961966, 0.10029713850756883, 0.6051003168942344]\n",
      "[0.10029713850756883, 0.6051003168942344, 0.7275427273011734]\n",
      "[0.6051003168942344, 0.7275427273011734, 0.9366007231431168]\n",
      "[0.7275427273011734, 0.9366007231431168, 0.6571775562847327]\n",
      "[0.9366007231431168, 0.6571775562847327, 0.5211031688407566]\n",
      "[0.6571775562847327, 0.5211031688407566]\n",
      "[0.5211031688407566]\n",
      "[0.5211031688407566, 0.59586003796008]\n",
      "[0.5211031688407566, 0.59586003796008, 0.21266702563980688]\n",
      "[0.59586003796008, 0.21266702563980688]\n",
      "[0.59586003796008, 0.21266702563980688, 0.06458382957000575]\n",
      "[0.21266702563980688, 0.06458382957000575, 0.15093472526203933]\n",
      "[0.06458382957000575, 0.15093472526203933, 0.87034747686734]\n",
      "[0.15093472526203933, 0.87034747686734, 0.8037444676708816]\n",
      "[0.87034747686734, 0.8037444676708816]\n",
      "[0.8037444676708816]\n",
      "[]\n",
      "[]\n",
      "[0.25363213576713983]\n",
      "[0.25363213576713983, 0.9317155064857278]\n",
      "[0.9317155064857278]\n",
      "[0.9317155064857278, 0.8854015484252693]\n",
      "[0.8854015484252693]\n",
      "[0.8854015484252693, 0.9978038209975694]\n",
      "[0.8854015484252693, 0.9978038209975694, 0.2541032141549926]\n",
      "[0.9978038209975694, 0.2541032141549926, 0.2079325708197559]\n",
      "[0.2541032141549926, 0.2079325708197559, 0.6557923735321648]\n",
      "[0.2079325708197559, 0.6557923735321648, 0.4121886406285319]\n",
      "[0.6557923735321648, 0.4121886406285319]\n",
      "[0.4121886406285319]\n",
      "[]\n",
      "[0.7940155601217477]\n",
      "[0.7940155601217477, 0.67157294301738]\n",
      "[0.7940155601217477, 0.67157294301738, 0.018649426471792352]\n",
      "[0.67157294301738, 0.018649426471792352]\n",
      "[0.018649426471792352]\n",
      "[0.018649426471792352, 0.8039321660398342]\n",
      "[0.8039321660398342]\n",
      "[0.8039321660398342, 0.8802632208289402]\n",
      "[0.8039321660398342, 0.8802632208289402, 0.27916893482310423]\n",
      "[0.8802632208289402, 0.27916893482310423, 0.8055970627986402]\n",
      "[0.27916893482310423, 0.8055970627986402]\n",
      "[0.8055970627986402]\n",
      "[]\n",
      "[]\n",
      "[0.25388471134761526]\n",
      "[]\n",
      "[]\n",
      "[]\n",
      "[]\n",
      "[]\n",
      "[0.2990276027624502]\n",
      "[]\n",
      "[0.3452761665495918]\n",
      "[]\n",
      "[]\n",
      "[]\n",
      "[]\n",
      "[]\n",
      "[]\n",
      "[0.8829732374159962]\n",
      "[0.8829732374159962, 0.9386353913869676]\n",
      "[0.9386353913869676]\n"
     ]
    }
   ],
   "source": [
    "# FIFO\n",
    "\n",
    "import numpy as np\n",
    "\n",
    "queue = []\n",
    "queue_capacity = 3\n",
    "\n",
    "for i in range(100):\n",
    "    \n",
    "    # if coin lands on head, new data comes in and join the queue\n",
    "    if np.random.uniform(0., 1., (1,))[0] > 0.5:\n",
    "        data_in = np.random.uniform(0., 1., (1,))[0]\n",
    "        \n",
    "        # if too many items in the queue, oldest data leaves the queue\n",
    "        if len(queue) == queue_capacity:\n",
    "            queue.pop(0)\n",
    "            \n",
    "        queue.append(data_in)\n",
    "            \n",
    "    # if coin lands on tail and if there is an item in the queue,\n",
    "    # oldest data leaves the queue\n",
    "    elif len(queue) >= 1:\n",
    "        queue.pop(0)\n",
    "        \n",
    "    # if coin lands on tail but if there is no item left,\n",
    "    # do nothing\n",
    "\n",
    "    print(queue)        "
   ]
  },
  {
   "cell_type": "code",
   "execution_count": null,
   "metadata": {},
   "outputs": [],
   "source": []
  }
 ],
 "metadata": {
  "kernelspec": {
   "display_name": "Python 3",
   "language": "python",
   "name": "python3"
  },
  "language_info": {
   "codemirror_mode": {
    "name": "ipython",
    "version": 3
   },
   "file_extension": ".py",
   "mimetype": "text/x-python",
   "name": "python",
   "nbconvert_exporter": "python",
   "pygments_lexer": "ipython3",
   "version": "3.5.0"
  }
 },
 "nbformat": 4,
 "nbformat_minor": 2
}
