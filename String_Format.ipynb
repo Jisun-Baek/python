{
 "cells": [
  {
   "cell_type": "markdown",
   "metadata": {},
   "source": [
    "# String Format"
   ]
  },
  {
   "cell_type": "markdown",
   "metadata": {},
   "source": [
    "Corey_Schafer [youtube](https://www.youtube.com/watch?v=vTX3IwquFkc&index=21&list=PL-osiE80TeTt2d9bfVyTiXJA-UTHn6WwU)"
   ]
  },
  {
   "cell_type": "markdown",
   "metadata": {},
   "source": [
    "<a href=\"#나쁜-방법\">나쁜 방법</a>\n",
    "\n",
    "<a href=\"#String-Formatting\">String Formatting</a>\n",
    "\n",
    "<a href=\"#Placeholder\">Placeholder</a>\n",
    "\n",
    "<a href=\"#Print-integer\">Print integer</a>\n",
    "\n",
    "<a href=\"#Print-float\">Print float</a>\n",
    "\n",
    "<a href=\"#Print-percentage\">Print percentage</a>\n",
    "\n",
    "<a href=\"#Print-large-number\">Print large number</a>\n",
    "\n",
    "<a href=\"#String Formatting with List\">String Formatting with List</a>\n",
    "\n",
    "<a href=\"#String Formatting with Dict\">String Formatting with Dict</a>\n",
    "\n",
    "<a href=\"#String Formatting with Class Object\">String Formatting with Class Object</a>\n",
    "\n",
    "<a href=\"#Print-date\">Print date</a>"
   ]
  },
  {
   "cell_type": "markdown",
   "metadata": {},
   "source": [
    "# 나쁜 방법"
   ]
  },
  {
   "cell_type": "code",
   "execution_count": 1,
   "metadata": {},
   "outputs": [
    {
     "name": "stdout",
     "output_type": "stream",
     "text": [
      "My name is Bob and I am 30 years old.\n"
     ]
    }
   ],
   "source": [
    "name = 'Bob'\n",
    "age = 30\n",
    "\n",
    "sentence = 'My name is ' + name + ' and I am ' + str(age) + ' years old.'\n",
    "print(sentence)"
   ]
  },
  {
   "cell_type": "markdown",
   "metadata": {},
   "source": [
    "[<a href=\"#String-Format\">Back to top</a>]"
   ]
  },
  {
   "cell_type": "markdown",
   "metadata": {},
   "source": [
    "# String Formatting"
   ]
  },
  {
   "cell_type": "code",
   "execution_count": 2,
   "metadata": {},
   "outputs": [
    {
     "name": "stdout",
     "output_type": "stream",
     "text": [
      "My name is Bob and I am 30 years old.\n"
     ]
    }
   ],
   "source": [
    "name = 'Bob'\n",
    "age = 30\n",
    "\n",
    "sentence = 'My name is {} and I am {} years old.'.format(name, age)\n",
    "print(sentence)"
   ]
  },
  {
   "cell_type": "markdown",
   "metadata": {},
   "source": [
    "[<a href=\"#String-Format\">Back to top</a>]"
   ]
  },
  {
   "cell_type": "markdown",
   "metadata": {},
   "source": [
    "# Placeholder"
   ]
  },
  {
   "cell_type": "code",
   "execution_count": 3,
   "metadata": {},
   "outputs": [
    {
     "name": "stdout",
     "output_type": "stream",
     "text": [
      "My name is Bob and I am 30 years old.\n"
     ]
    }
   ],
   "source": [
    "name = 'Bob'\n",
    "age = 30\n",
    "\n",
    "sentence = 'My name is {0} and I am {1} years old.'.format(name, age)\n",
    "print(sentence)"
   ]
  },
  {
   "cell_type": "code",
   "execution_count": 4,
   "metadata": {},
   "outputs": [
    {
     "name": "stdout",
     "output_type": "stream",
     "text": [
      "<h1>This is a headline</h1>\n"
     ]
    }
   ],
   "source": [
    "tag = 'h1'\n",
    "text = 'This is a headline'\n",
    "\n",
    "msg = '<{0}>{1}</{0}>'.format(tag, text)\n",
    "print(msg)"
   ]
  },
  {
   "cell_type": "markdown",
   "metadata": {},
   "source": [
    "[<a href=\"#String-Format\">Back to top</a>]"
   ]
  },
  {
   "cell_type": "markdown",
   "metadata": {},
   "source": [
    "# Print integer"
   ]
  },
  {
   "cell_type": "code",
   "execution_count": 5,
   "metadata": {},
   "outputs": [
    {
     "name": "stdout",
     "output_type": "stream",
     "text": [
      "The value is 1\n",
      "The value is 2\n",
      "The value is 3\n",
      "The value is 4\n",
      "The value is 5\n",
      "The value is 6\n",
      "The value is 7\n",
      "The value is 8\n",
      "The value is 9\n",
      "The value is 10\n"
     ]
    }
   ],
   "source": [
    "for i in range(1, 11):\n",
    "    sentence = 'The value is {}'.format(i)\n",
    "    print(sentence)"
   ]
  },
  {
   "cell_type": "code",
   "execution_count": 6,
   "metadata": {},
   "outputs": [
    {
     "name": "stdout",
     "output_type": "stream",
     "text": [
      "The value is  1\n",
      "The value is  2\n",
      "The value is  3\n",
      "The value is  4\n",
      "The value is  5\n",
      "The value is  6\n",
      "The value is  7\n",
      "The value is  8\n",
      "The value is  9\n",
      "The value is 10\n"
     ]
    }
   ],
   "source": [
    "for i in range(1, 11):\n",
    "    sentence = 'The value is {:2}'.format(i)\n",
    "    print(sentence)"
   ]
  },
  {
   "cell_type": "code",
   "execution_count": 7,
   "metadata": {},
   "outputs": [
    {
     "name": "stdout",
     "output_type": "stream",
     "text": [
      "The value is 01\n",
      "The value is 02\n",
      "The value is 03\n",
      "The value is 04\n",
      "The value is 05\n",
      "The value is 06\n",
      "The value is 07\n",
      "The value is 08\n",
      "The value is 09\n",
      "The value is 10\n"
     ]
    }
   ],
   "source": [
    "for i in range(1, 11):\n",
    "    sentence = 'The value is {:02}'.format(i)\n",
    "    print(sentence)"
   ]
  },
  {
   "cell_type": "code",
   "execution_count": 8,
   "metadata": {},
   "outputs": [
    {
     "name": "stdout",
     "output_type": "stream",
     "text": [
      "The value is   1\n",
      "The value is   2\n",
      "The value is   3\n",
      "The value is   4\n",
      "The value is   5\n",
      "The value is   6\n",
      "The value is   7\n",
      "The value is   8\n",
      "The value is   9\n",
      "The value is  10\n"
     ]
    }
   ],
   "source": [
    "for i in range(1, 11):\n",
    "    sentence = 'The value is {:3}'.format(i)\n",
    "    print(sentence)"
   ]
  },
  {
   "cell_type": "code",
   "execution_count": 9,
   "metadata": {},
   "outputs": [
    {
     "name": "stdout",
     "output_type": "stream",
     "text": [
      "The value is 001\n",
      "The value is 002\n",
      "The value is 003\n",
      "The value is 004\n",
      "The value is 005\n",
      "The value is 006\n",
      "The value is 007\n",
      "The value is 008\n",
      "The value is 009\n",
      "The value is 010\n"
     ]
    }
   ],
   "source": [
    "for i in range(1, 11):\n",
    "    sentence = 'The value is {:03}'.format(i)\n",
    "    print(sentence)"
   ]
  },
  {
   "cell_type": "markdown",
   "metadata": {},
   "source": [
    "[<a href=\"#String-Format\">Back to top</a>]"
   ]
  },
  {
   "cell_type": "markdown",
   "metadata": {},
   "source": [
    "# Print float"
   ]
  },
  {
   "cell_type": "code",
   "execution_count": 10,
   "metadata": {},
   "outputs": [
    {
     "name": "stdout",
     "output_type": "stream",
     "text": [
      "Pi is equal to 3.14159265\n"
     ]
    }
   ],
   "source": [
    "pi = 3.14159265\n",
    "\n",
    "sentence = 'Pi is equal to {}'.format(pi)\n",
    "print(sentence)"
   ]
  },
  {
   "cell_type": "code",
   "execution_count": 11,
   "metadata": {},
   "outputs": [
    {
     "name": "stdout",
     "output_type": "stream",
     "text": [
      "Pi is equal to 3.14\n"
     ]
    }
   ],
   "source": [
    "pi = 3.14159265\n",
    "\n",
    "sentence = 'Pi is equal to {:.2f}'.format(pi)\n",
    "print(sentence)"
   ]
  },
  {
   "cell_type": "code",
   "execution_count": 12,
   "metadata": {},
   "outputs": [
    {
     "name": "stdout",
     "output_type": "stream",
     "text": [
      "Pi is equal to 3.142\n"
     ]
    }
   ],
   "source": [
    "pi = 3.14159265\n",
    "\n",
    "sentence = 'Pi is equal to {:.3f}'.format(pi)\n",
    "print(sentence)"
   ]
  },
  {
   "cell_type": "markdown",
   "metadata": {},
   "source": [
    "[<a href=\"#String-Format\">Back to top</a>]"
   ]
  },
  {
   "cell_type": "markdown",
   "metadata": {},
   "source": [
    "# Print percentage"
   ]
  },
  {
   "cell_type": "code",
   "execution_count": 13,
   "metadata": {},
   "outputs": [
    {
     "name": "stdout",
     "output_type": "stream",
     "text": [
      "Yearly Return: 3.46%\n"
     ]
    }
   ],
   "source": [
    "yearly_return = 0.03457\n",
    "\n",
    "sentence = 'Yearly Return: {:.2%}'.format(yearly_return)\n",
    "print(sentence)"
   ]
  },
  {
   "cell_type": "markdown",
   "metadata": {},
   "source": [
    "[<a href=\"#String-Format\">Back to top</a>]"
   ]
  },
  {
   "cell_type": "markdown",
   "metadata": {},
   "source": [
    "# Print large number"
   ]
  },
  {
   "cell_type": "code",
   "execution_count": 14,
   "metadata": {},
   "outputs": [
    {
     "name": "stdout",
     "output_type": "stream",
     "text": [
      "1 MB is equal to 1000000 bytes\n"
     ]
    }
   ],
   "source": [
    "sentence = '1 MB is equal to {} bytes'.format(1000**2)\n",
    "print(sentence)"
   ]
  },
  {
   "cell_type": "code",
   "execution_count": 15,
   "metadata": {},
   "outputs": [
    {
     "name": "stdout",
     "output_type": "stream",
     "text": [
      "1 MB is equal to 1,000,000 bytes\n"
     ]
    }
   ],
   "source": [
    "sentence = '1 MB is equal to {:,} bytes'.format(1000**2)\n",
    "print(sentence)"
   ]
  },
  {
   "cell_type": "code",
   "execution_count": 16,
   "metadata": {},
   "outputs": [
    {
     "name": "stdout",
     "output_type": "stream",
     "text": [
      "1 MB is equal to 1,000,000.00 bytes\n"
     ]
    }
   ],
   "source": [
    "sentence = '1 MB is equal to {:,.2f} bytes'.format(1000**2)\n",
    "print(sentence)"
   ]
  },
  {
   "cell_type": "markdown",
   "metadata": {},
   "source": [
    "[<a href=\"#String-Format\">Back to top</a>]"
   ]
  },
  {
   "cell_type": "markdown",
   "metadata": {},
   "source": [
    "# String Formatting with List"
   ]
  },
  {
   "cell_type": "code",
   "execution_count": 17,
   "metadata": {},
   "outputs": [
    {
     "name": "stdout",
     "output_type": "stream",
     "text": [
      "My name is Bob and I am 30 years old.\n"
     ]
    }
   ],
   "source": [
    "person_list = ['Bob', 30]\n",
    "sentence = 'My name is {0[0]} and I am {0[1]} years old.'.format(person_list)\n",
    "print(sentence)"
   ]
  },
  {
   "cell_type": "markdown",
   "metadata": {},
   "source": [
    "[<a href=\"#String-Format\">Back to top</a>]"
   ]
  },
  {
   "cell_type": "markdown",
   "metadata": {},
   "source": [
    "# String Formatting with Dict"
   ]
  },
  {
   "cell_type": "code",
   "execution_count": 18,
   "metadata": {},
   "outputs": [
    {
     "name": "stdout",
     "output_type": "stream",
     "text": [
      "My name is Bob and I am 30 years old.\n"
     ]
    }
   ],
   "source": [
    "sentence = 'My name is {name} and I am {age} years old.'.format(name='Bob', age='30')\n",
    "print(sentence)"
   ]
  },
  {
   "cell_type": "code",
   "execution_count": 26,
   "metadata": {},
   "outputs": [
    {
     "name": "stdout",
     "output_type": "stream",
     "text": [
      "My name is Bob and I am 30 years old.\n"
     ]
    }
   ],
   "source": [
    "person = {'name': 'Bob', 'age': 30}\n",
    "sentence = 'My name is {0[name]} and I am {0[age]} years old.'.format(person)\n",
    "print(sentence)"
   ]
  },
  {
   "cell_type": "code",
   "execution_count": 20,
   "metadata": {},
   "outputs": [
    {
     "name": "stdout",
     "output_type": "stream",
     "text": [
      "My name is Bob and I am 30 years old.\n"
     ]
    }
   ],
   "source": [
    "person = {'name': 'Bob', 'age': 30}\n",
    "sentence = 'My name is {name} and I am {age} years old.'.format(**person)\n",
    "print(sentence)"
   ]
  },
  {
   "cell_type": "markdown",
   "metadata": {},
   "source": [
    "[<a href=\"#String-Format\">Back to top</a>]"
   ]
  },
  {
   "cell_type": "markdown",
   "metadata": {},
   "source": [
    "# String Formatting with Class Object"
   ]
  },
  {
   "cell_type": "code",
   "execution_count": 21,
   "metadata": {},
   "outputs": [
    {
     "name": "stdout",
     "output_type": "stream",
     "text": [
      "My name is Bob and I am 30 years old.\n"
     ]
    }
   ],
   "source": [
    "class Person():\n",
    "\n",
    "    def __init__(self, name, age):\n",
    "        self.name = name\n",
    "        self.age = age\n",
    "        \n",
    "Person_1 = Person('Bob', '30')\n",
    "\n",
    "sentence = 'My name is {0.name} and I am {0.age} years old.'.format(Person_1)\n",
    "print(sentence)"
   ]
  },
  {
   "cell_type": "markdown",
   "metadata": {},
   "source": [
    "[<a href=\"#String-Format\">Back to top</a>]"
   ]
  },
  {
   "cell_type": "markdown",
   "metadata": {},
   "source": [
    "# Print date"
   ]
  },
  {
   "cell_type": "code",
   "execution_count": 22,
   "metadata": {},
   "outputs": [
    {
     "name": "stdout",
     "output_type": "stream",
     "text": [
      "2016-09-24 12:30:45\n"
     ]
    }
   ],
   "source": [
    "import datetime\n",
    "\n",
    "my_date = datetime.datetime(2016, 9, 24, 12, 30, 45)\n",
    "print(my_date)"
   ]
  },
  {
   "cell_type": "code",
   "execution_count": 23,
   "metadata": {},
   "outputs": [
    {
     "name": "stdout",
     "output_type": "stream",
     "text": [
      "September 24, 2016\n"
     ]
    }
   ],
   "source": [
    "import datetime\n",
    "\n",
    "my_date = datetime.datetime(2016, 9, 24, 12, 30, 45)\n",
    "\n",
    "# Month : %B\n",
    "# Day of the month : %d\n",
    "# Year : %Y\n",
    "sentence = '{:%B %d, %Y}'.format(my_date)\n",
    "print(sentence)"
   ]
  },
  {
   "cell_type": "code",
   "execution_count": 24,
   "metadata": {},
   "outputs": [
    {
     "name": "stdout",
     "output_type": "stream",
     "text": [
      "\n",
      "September 24, 2016 fell on a Saturday and \n",
      "was the 268 day of the year\n",
      "\n"
     ]
    }
   ],
   "source": [
    "import datetime\n",
    "\n",
    "my_date = datetime.datetime(2016, 9, 24, 12, 30, 45)\n",
    "\n",
    "# Day of the week : %A\n",
    "# Day of year : %j\n",
    "sentence = \"\"\"\n",
    "{0:%B %d, %Y} fell on a {0:%A} and \n",
    "was the {0:%j} day of the year\n",
    "\"\"\".format(my_date)\n",
    "print(sentence)"
   ]
  },
  {
   "cell_type": "markdown",
   "metadata": {},
   "source": [
    "[<a href=\"#String-Format\">Back to top</a>]"
   ]
  }
 ],
 "metadata": {
  "kernelspec": {
   "display_name": "Python 3",
   "language": "python",
   "name": "python3"
  },
  "language_info": {
   "codemirror_mode": {
    "name": "ipython",
    "version": 3
   },
   "file_extension": ".py",
   "mimetype": "text/x-python",
   "name": "python",
   "nbconvert_exporter": "python",
   "pygments_lexer": "ipython3",
   "version": "3.5.0"
  }
 },
 "nbformat": 4,
 "nbformat_minor": 2
}
