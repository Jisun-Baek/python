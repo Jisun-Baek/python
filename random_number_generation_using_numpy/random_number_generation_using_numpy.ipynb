{
 "cells": [
  {
   "cell_type": "code",
   "execution_count": 23,
   "metadata": {},
   "outputs": [
    {
     "data": {
      "image/png": "[encoded data removed]",
      "text/plain": [
       "<Figure size 432x288 with 1 Axes>"
      ]
     },
     "metadata": {
      "needs_background": "light"
     },
     "output_type": "display_data"
    }
   ],
   "source": [
    "%matplotlib inline\n",
    "import numpy as np\n",
    "import matplotlib.pyplot as plt\n",
    "import scipy.special as special\n",
    "\n",
    "np.random.seed(337)\n",
    "\n",
    "n = 10000\n",
    "m = 3\n",
    "\n",
    "if 0:\n",
    "    x = np.random.normal(size=(n,))\n",
    "    x_ = np.linspace(-4,4,100)\n",
    "    y_ = np.exp(-x_**2/2) / np.sqrt(2*np.pi)\n",
    "elif 0:\n",
    "    la = 2.0\n",
    "    bt = 1 / la\n",
    "    x = np.random.exponential(scale=bt, size=(n,))\n",
    "    x_ = np.linspace(0,4,100)\n",
    "    y_ = np.exp(-la*x_) * la\n",
    "elif 0:\n",
    "    df = 10\n",
    "    x = np.random.chisquare(df, size=(n,))\n",
    "    x_ = np.linspace(0,40,100)\n",
    "    y_ = np.exp(-x_/2) * x_**((df/2)-1) / (2**(df/2) * special.gamma(df/2)) \n",
    "elif 1:\n",
    "    n_ = 100 \n",
    "    p_ = 0.6 \n",
    "    x = np.random.binomial(n_, p_, size=(n,))\n",
    "    x_ = np.arange(101)\n",
    "    y_ = p_**x_ * (1-p_)**(n_-x_) * special.factorial(n_) / (special.factorial(x_)*special.factorial(n_-x_)) \n",
    "\n",
    "# print(x)\n",
    "# print(type(x))\n",
    "# print(x.shape)\n",
    "# print(x.dtype)\n",
    "\n",
    "plt.plot(x_, y_, color='r')\n",
    "plt.hist(x, density=True, bins=np.arange(-1,102), color='b')\n",
    "plt.show()"
   ]
  },
  {
   "cell_type": "code",
   "execution_count": null,
   "metadata": {},
   "outputs": [],
   "source": []
  }
 ],
 "metadata": {
  "kernelspec": {
   "display_name": "Python 3",
   "language": "python",
   "name": "python3"
  },
  "language_info": {
   "codemirror_mode": {
    "name": "ipython",
    "version": 3
   },
   "file_extension": ".py",
   "mimetype": "text/x-python",
   "name": "python",
   "nbconvert_exporter": "python",
   "pygments_lexer": "ipython3",
   "version": "3.6.9"
  }
 },
 "nbformat": 4,
 "nbformat_minor": 2
}
