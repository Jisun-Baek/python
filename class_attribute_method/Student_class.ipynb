{
 "cells": [
  {
   "cell_type": "code",
   "execution_count": 30,
   "metadata": {},
   "outputs": [],
   "source": [
    "class Student:\n",
    "    \n",
    "    def __init__(self, name, class_year, subject):\n",
    "        self.name = name\n",
    "        self.class_year = class_year\n",
    "        self.subject = subject\n",
    "        \n",
    "    def drop(self, subject_list_to_drop):\n",
    "        for subject in subject_list_to_drop: \n",
    "            self.subject.remove(subject)\n",
    "            \n",
    "    def add(self, subject_list_to_add):\n",
    "        for subject in subject_list_to_add: \n",
    "            self.subject.append(subject)\n",
    "            \n",
    "    def __add__(self, other):\n",
    "        return '{} meets {}'.format(self.name, other.name)\n",
    "    \n",
    "    def __sub__(self, other):\n",
    "        return '{} meets {}'.format(other.name, self.name)\n",
    "    \n",
    "    def __mul__(self, other):\n",
    "        return '일 더하기 일은 귀요미'\n",
    "    \n",
    "    def __truediv__(self, other):\n",
    "        return '이 더하기 이도 귀요미'\n",
    "                    "
   ]
  },
  {
   "cell_type": "code",
   "execution_count": 31,
   "metadata": {},
   "outputs": [
    {
     "name": "stdout",
     "output_type": "stream",
     "text": [
      "H Yu meets K Park\n",
      "K Park meets H Yu\n",
      "일 더하기 일은 귀요미\n",
      "이 더하기 이도 귀요미\n"
     ]
    }
   ],
   "source": [
    "c = Student('H Yu', 2016, ['Math', 'Physics', 'CS'])\n",
    "d = Student('K Park', 2019, ['Math', 'Econ', 'Stat'])\n",
    "print(c + d)\n",
    "print(c - d)\n",
    "print(c * d)\n",
    "print(c / d)"
   ]
  },
  {
   "cell_type": "code",
   "execution_count": 4,
   "metadata": {},
   "outputs": [
    {
     "name": "stdout",
     "output_type": "stream",
     "text": [
      "['__add__', '__class__', '__contains__', '__delattr__', '__delitem__', '__dir__', '__doc__', '__eq__', '__format__', '__ge__', '__getattribute__', '__getitem__', '__gt__', '__hash__', '__iadd__', '__imul__', '__init__', '__init_subclass__', '__iter__', '__le__', '__len__', '__lt__', '__mul__', '__ne__', '__new__', '__reduce__', '__reduce_ex__', '__repr__', '__reversed__', '__rmul__', '__setattr__', '__setitem__', '__sizeof__', '__str__', '__subclasshook__', 'append', 'clear', 'copy', 'count', 'extend', 'index', 'insert', 'pop', 'remove', 'reverse', 'sort']\n"
     ]
    }
   ],
   "source": [
    "print(dir([]))"
   ]
  },
  {
   "cell_type": "code",
   "execution_count": 17,
   "metadata": {},
   "outputs": [
    {
     "name": "stdout",
     "output_type": "stream",
     "text": [
      "일더하기 일은 귀요미\n",
      "<class '__main__.OnePlusOne'> <class '__main__.OnePlusOne'> <class 'str'>\n"
     ]
    }
   ],
   "source": [
    "class OnePlusOne:\n",
    "    \n",
    "    def __init__(self, string):\n",
    "        self.string = string\n",
    "        \n",
    "    def __add__(self, other):\n",
    "        if (self.string=='1') and (other.string=='1'):\n",
    "            return '일더하기 일은 귀요미'\n",
    "        \n",
    "a = OnePlusOne('1')\n",
    "b = OnePlusOne('1')\n",
    "c = a + b\n",
    "\n",
    "print(c)\n",
    "print(type(a), type(b), type(c))"
   ]
  },
  {
   "cell_type": "code",
   "execution_count": null,
   "metadata": {},
   "outputs": [],
   "source": []
  }
 ],
 "metadata": {
  "kernelspec": {
   "display_name": "Python 3",
   "language": "python",
   "name": "python3"
  },
  "language_info": {
   "codemirror_mode": {
    "name": "ipython",
    "version": 3
   },
   "file_extension": ".py",
   "mimetype": "text/x-python",
   "name": "python",
   "nbconvert_exporter": "python",
   "pygments_lexer": "ipython3",
   "version": "3.6.9"
  }
 },
 "nbformat": 4,
 "nbformat_minor": 2
}
