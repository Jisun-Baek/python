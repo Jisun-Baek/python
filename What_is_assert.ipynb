{
 "cells": [
  {
   "cell_type": "markdown",
   "metadata": {},
   "source": [
    "# What_is_assert"
   ]
  },
  {
   "cell_type": "markdown",
   "metadata": {},
   "source": [
    "Assertions are simply boolean expressions that checks if the conditions return true or not. If it is true, the program does nothing and move to the next line of code. However, if it's false, the program stops and throws an error.\n",
    "\n",
    "It is also a debugging tool as it brings the program on halt as soon as any error is occurred and shows on which point of the program error has occurred.\n",
    "\n",
    "https://www.programiz.com/python-programming/assert-statement"
   ]
  },
  {
   "cell_type": "code",
   "execution_count": 9,
   "metadata": {},
   "outputs": [
    {
     "name": "stdout",
     "output_type": "stream",
     "text": [
      "True\n"
     ]
    }
   ],
   "source": [
    "c = 1.3\n",
    "d = c\n",
    "\n",
    "assert(c is d) \n",
    "print(c == d)"
   ]
  },
  {
   "cell_type": "code",
   "execution_count": 12,
   "metadata": {},
   "outputs": [
    {
     "name": "stdout",
     "output_type": "stream",
     "text": [
      "True\n",
      "4589880376 0x111940438\n",
      "4589879896 0x111940258\n"
     ]
    }
   ],
   "source": [
    "c = 1.3\n",
    "d = 1.3\n",
    "\n",
    "assert(c is not d) # check memory location\n",
    "print(c == d) # check data value\n",
    "\n",
    "# https://stackoverflow.com/questions/16408472/print-memory-address-of-python-variable\n",
    "# How do I print the memory address of a variable in Python 2.7? \n",
    "# I know id() returns the 'id' of a variable or object, \n",
    "# but this doesn't return the expected 0x3357e182 style \n",
    "# I was expecting to see for a memory address.\n",
    "print(id(c), hex(id(c)))\n",
    "print(id(d), hex(id(d)))"
   ]
  },
  {
   "cell_type": "code",
   "execution_count": null,
   "metadata": {},
   "outputs": [],
   "source": []
  }
 ],
 "metadata": {
  "kernelspec": {
   "display_name": "Python 3",
   "language": "python",
   "name": "python3"
  },
  "language_info": {
   "codemirror_mode": {
    "name": "ipython",
    "version": 3
   },
   "file_extension": ".py",
   "mimetype": "text/x-python",
   "name": "python",
   "nbconvert_exporter": "python",
   "pygments_lexer": "ipython3",
   "version": "3.5.0"
  }
 },
 "nbformat": 4,
 "nbformat_minor": 2
}
