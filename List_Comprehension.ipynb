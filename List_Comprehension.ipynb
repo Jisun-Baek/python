{
 "cells": [
  {
   "cell_type": "markdown",
   "metadata": {},
   "source": [
    "# List Comprehension"
   ]
  },
  {
   "cell_type": "markdown",
   "metadata": {},
   "source": [
    "CS_Dojo \n",
    "[youtube](https://www.youtube.com/watch?v=5K08WcjGV6c&index=12&list=PLBZBJbE_rGRWeh5mIBhD-hhDwSEDxogDg) \n",
    "[code](https://www.csdojo.io/python12)\n",
    "Joe_James \n",
    "[youtube](https://www.youtube.com/watch?v=XSTmAtoUWXo) \n",
    "[github](https://github.com/joeyajames/Python)"
   ]
  },
  {
   "cell_type": "markdown",
   "metadata": {},
   "source": [
    "리스트 컴프리헨션은 for loop를 이용하여 리스트를 만드는 것과 동일한 작업을 하는 리스트 컨스트럭터이다.\n",
    "하지만 for loop를 이용하는 것에 비하여 네가지 장점이 있다. \n",
    "\n",
    "> 4 Simple Syntax\n",
    "\n",
    "> 3 One Liners\n",
    "\n",
    "> 2 English-like Commands\n",
    "\n",
    "> 1 Fast"
   ]
  },
  {
   "cell_type": "code",
   "execution_count": 1,
   "metadata": {},
   "outputs": [],
   "source": [
    "a = [1,2,3,4,5,6,7,8,9,10]"
   ]
  },
  {
   "cell_type": "markdown",
   "metadata": {},
   "source": [
    "a에 있는 각각의 숫자에 2를 곱해서 새로운 리스트를 만들어 보죠."
   ]
  },
  {
   "cell_type": "markdown",
   "metadata": {},
   "source": [
    "# for loop 사용"
   ]
  },
  {
   "cell_type": "code",
   "execution_count": 20,
   "metadata": {},
   "outputs": [
    {
     "name": "stdout",
     "output_type": "stream",
     "text": [
      "[2, 4, 6, 8, 10, 12, 14, 16, 18, 20]\n"
     ]
    }
   ],
   "source": [
    "a = [1,2,3,4,5,6,7,8,9,10]\n",
    "\n",
    "b = []\n",
    "for i in a:\n",
    "    b.append(i*2)  \n",
    "    \n",
    "print(b)"
   ]
  },
  {
   "cell_type": "markdown",
   "metadata": {},
   "source": [
    "# list comprehension 이용"
   ]
  },
  {
   "cell_type": "code",
   "execution_count": 21,
   "metadata": {},
   "outputs": [
    {
     "name": "stdout",
     "output_type": "stream",
     "text": [
      "[2, 4, 6, 8, 10, 12, 14, 16, 18, 20]\n"
     ]
    }
   ],
   "source": [
    "a = [1,2,3,4,5,6,7,8,9,10]\n",
    "\n",
    "b = [i*2 for i in a]\n",
    "\n",
    "print(b)"
   ]
  },
  {
   "cell_type": "markdown",
   "metadata": {},
   "source": [
    "# numpy 이용"
   ]
  },
  {
   "cell_type": "code",
   "execution_count": 22,
   "metadata": {},
   "outputs": [
    {
     "name": "stdout",
     "output_type": "stream",
     "text": [
      "[1, 2, 3, 4, 5, 6, 7, 8, 9, 10]\n",
      "<class 'list'>\n",
      "\n",
      "[ 1  2  3  4  5  6  7  8  9 10]\n",
      "<class 'numpy.ndarray'>\n",
      "\n",
      "[ 2  4  6  8 10 12 14 16 18 20]\n",
      "<class 'numpy.ndarray'>\n"
     ]
    }
   ],
   "source": [
    "import numpy as np\n",
    "\n",
    "a = [1,2,3,4,5,6,7,8,9,10]\n",
    "print(a)\n",
    "print(type(a))\n",
    "print()\n",
    "\n",
    "a = np.array(a)\n",
    "print(a)\n",
    "print(type(a))\n",
    "print()\n",
    "\n",
    "b = a*2\n",
    "print(b)\n",
    "print(type(b))"
   ]
  },
  {
   "cell_type": "markdown",
   "metadata": {},
   "source": [
    "# 성능 비교 - 시간"
   ]
  },
  {
   "cell_type": "code",
   "execution_count": 23,
   "metadata": {},
   "outputs": [
    {
     "name": "stdout",
     "output_type": "stream",
     "text": [
      "Computing Time:  0.12253284454345703\n"
     ]
    }
   ],
   "source": [
    "import time\n",
    "\n",
    "a = []\n",
    "for i in range(1000000):\n",
    "    a.append(i)\n",
    "    \n",
    "tic = time.time()\n",
    "b = []\n",
    "for i in a:\n",
    "    b.append(i*2)\n",
    "toc = time.time()\n",
    "\n",
    "print(\"Computing Time: \", toc-tic)"
   ]
  },
  {
   "cell_type": "code",
   "execution_count": 24,
   "metadata": {},
   "outputs": [
    {
     "name": "stdout",
     "output_type": "stream",
     "text": [
      "Computing Time:  0.06773495674133301\n"
     ]
    }
   ],
   "source": [
    "import time\n",
    "\n",
    "a = []\n",
    "for i in range(1000000):\n",
    "    a.append(i)\n",
    "\n",
    "tic = time.time()\n",
    "b = [i*2 for i in a]\n",
    "toc = time.time()\n",
    "\n",
    "print(\"Computing Time: \", toc-tic)"
   ]
  },
  {
   "cell_type": "code",
   "execution_count": 25,
   "metadata": {},
   "outputs": [
    {
     "name": "stdout",
     "output_type": "stream",
     "text": [
      "Computing Time:  0.01575303077697754\n"
     ]
    }
   ],
   "source": [
    "import numpy as np\n",
    "import time\n",
    "\n",
    "a = []\n",
    "for i in range(1000000):\n",
    "    a.append(i)\n",
    "\n",
    "a = np.array(a)\n",
    "\n",
    "tic = time.time()\n",
    "b = a*2\n",
    "toc = time.time()\n",
    "\n",
    "\n",
    "print(\"Computing Time: \", toc-tic)"
   ]
  },
  {
   "cell_type": "markdown",
   "metadata": {},
   "source": [
    "# 성능 비교 - 메모리"
   ]
  },
  {
   "cell_type": "markdown",
   "metadata": {},
   "source": [
    "사용하는 메모리를 측정하기위하여, 우선 memory_profiler를 pip을 이용 설치하자.\n",
    "터미널을 열고 `pip install memory_profiler`이라고 치고 리턴 키를 누르면 된다."
   ]
  },
  {
   "cell_type": "code",
   "execution_count": 26,
   "metadata": {},
   "outputs": [
    {
     "name": "stdout",
     "output_type": "stream",
     "text": [
      "The memory_profiler extension is already loaded. To reload it, use:\n",
      "  %reload_ext memory_profiler\n",
      "peak memory: 153.54 MiB, increment: 30.33 MiB\n"
     ]
    }
   ],
   "source": [
    "# memory_profiler is package to measure memory usuage\n",
    "# using pip, install the package if you don't have \n",
    "# $ pip install memory_profiler\n",
    "\n",
    "# load memory_profiler\n",
    "%load_ext memory_profiler \n",
    "\n",
    "a = []\n",
    "for i in range(1000000):\n",
    "    a.append(i)\n",
    "\n",
    "def for_loop(a):\n",
    "    b = []\n",
    "    for i in a:\n",
    "        b.append(i*2)\n",
    "    return b\n",
    "\n",
    "%memit for_loop(a)"
   ]
  },
  {
   "cell_type": "markdown",
   "metadata": {},
   "source": [
    "Peak memory refers to the peak memory usage of your system (including memory usage of other processes) during the program runtime.\n",
    "\n",
    "Increment is the increment in memory usage relative to the memory usage just before the program is run (i.e. increment = peak memory - starting memory).\n",
    "\n",
    "So you'd report increment. Peak memory just helps you figure how close you are to using all your RAM during a program run.\n",
    "\n",
    "https://stackoverflow.com/questions/45318536/trying-to-understand-python-memory-profiler"
   ]
  },
  {
   "cell_type": "code",
   "execution_count": 27,
   "metadata": {},
   "outputs": [
    {
     "name": "stdout",
     "output_type": "stream",
     "text": [
      "peak memory: 154.37 MiB, increment: 29.95 MiB\n"
     ]
    }
   ],
   "source": [
    "# memory_profiler is package to measure memory usuage\n",
    "# using pip, install the package if you don't have \n",
    "# $ pip install memory_profiler\n",
    "\n",
    "# reload memory_profiler when we already load memory_profiler\n",
    "%reload_ext memory_profiler \n",
    "\n",
    "a = []\n",
    "for i in range(1000000):\n",
    "    a.append(i)\n",
    "    \n",
    "def list_comprehension(a):\n",
    "    b = [i*2 for i in a]\n",
    "    return b\n",
    "\n",
    "%memit list_comprehension(a)"
   ]
  },
  {
   "cell_type": "code",
   "execution_count": 28,
   "metadata": {},
   "outputs": [
    {
     "name": "stdout",
     "output_type": "stream",
     "text": [
      "peak memory: 103.59 MiB, increment: 7.38 MiB\n"
     ]
    }
   ],
   "source": [
    "# memory_profiler is package to measure memory usuage\n",
    "# using pip, install the package if you don't have \n",
    "# $ pip install memory_profiler\n",
    "\n",
    "import numpy as np\n",
    "\n",
    "# reload memory_profiler when we already load memory_profiler\n",
    "%reload_ext memory_profiler \n",
    "\n",
    "a = []\n",
    "for i in range(1000000):\n",
    "    a.append(i)\n",
    "a = np.array(a)\n",
    "    \n",
    "def np_method(a):\n",
    "    b = a*2\n",
    "    return b\n",
    "\n",
    "%memit np_method(a)"
   ]
  },
  {
   "cell_type": "markdown",
   "metadata": {},
   "source": [
    "# [transform sequence]"
   ]
  },
  {
   "cell_type": "markdown",
   "metadata": {},
   "source": [
    "$a=[1,2,3,4,5,6,7,8,9,10]$에 있는 각각의 숫자를 제곱해서 새로운 리스트를 만드시오."
   ]
  },
  {
   "cell_type": "code",
   "execution_count": 11,
   "metadata": {},
   "outputs": [
    {
     "name": "stdout",
     "output_type": "stream",
     "text": [
      "[1, 4, 9, 16, 25, 36, 49, 64, 81, 100]\n"
     ]
    }
   ],
   "source": [
    "a = [1,2,3,4,5,6,7,8,9,10]\n",
    "b = [i**2 for i in a]\n",
    "print(b)"
   ]
  },
  {
   "cell_type": "markdown",
   "metadata": {},
   "source": [
    "문제. $a=[1,2,3,4,5,6,7,8,9,10]$에 있는 각각의 숫자를 제곱하고 순서를 역으로 하여 새로운 리스트를 만드시오."
   ]
  },
  {
   "cell_type": "code",
   "execution_count": 12,
   "metadata": {},
   "outputs": [
    {
     "name": "stdout",
     "output_type": "stream",
     "text": [
      "[100, 81, 64, 49, 36, 25, 16, 9, 4, 1]\n"
     ]
    }
   ],
   "source": [
    "a = [1,2,3,4,5,6,7,8,9,10]\n",
    "b = [i**2 for i in a][::-1]\n",
    "print(b)"
   ]
  },
  {
   "cell_type": "markdown",
   "metadata": {},
   "source": [
    "# [transform sequence [filter]]"
   ]
  },
  {
   "cell_type": "markdown",
   "metadata": {},
   "source": [
    "$a=[1,2,3,4,5,6,7,8,9,10]$에 있는 각각의 숫자를 제곱해서 새로운 리스트를 만드는데, 짝수들만 모아서 리스트를 만드시오."
   ]
  },
  {
   "cell_type": "code",
   "execution_count": 13,
   "metadata": {},
   "outputs": [
    {
     "name": "stdout",
     "output_type": "stream",
     "text": [
      "[4, 16, 36, 64, 100]\n"
     ]
    }
   ],
   "source": [
    "a = [1,2,3,4,5,6,7,8,9,10]\n",
    "b = [i**2 for i in a if i%2 == 0]\n",
    "print(b)"
   ]
  },
  {
   "cell_type": "markdown",
   "metadata": {},
   "source": [
    "문제. I love 2 go to the caffe 7 times a week. 이라는 스트링에 들어있는 숫자들만 필터링하여 리스트를 만드시오."
   ]
  },
  {
   "cell_type": "code",
   "execution_count": 14,
   "metadata": {},
   "outputs": [
    {
     "name": "stdout",
     "output_type": "stream",
     "text": [
      "['2', '7']\n"
     ]
    }
   ],
   "source": [
    "s = 'I love 2 go to the caffe 7 times a week.'\n",
    "nums = [i for i in s if i.isnumeric()]    \n",
    "print(nums)"
   ]
  },
  {
   "cell_type": "markdown",
   "metadata": {},
   "source": [
    "문제. I love 2 go to the caffe 7 times a week. 이라는 스트링에서 e를 제거하여 새로운 스트링을 만드시오."
   ]
  },
  {
   "cell_type": "code",
   "execution_count": 15,
   "metadata": {},
   "outputs": [
    {
     "name": "stdout",
     "output_type": "stream",
     "text": [
      "I lov 2 go to th caff 7 tims a wk.\n"
     ]
    }
   ],
   "source": [
    "s = 'I love 2 go to the caffe 7 times a week.'\n",
    "\n",
    "list_without_e = [i for i in s if i != 'e'] \n",
    "\n",
    "s_without_e = ''\n",
    "for i in list_without_e:\n",
    "    s_without_e += i\n",
    "    \n",
    "print(s_without_e)"
   ]
  },
  {
   "cell_type": "markdown",
   "metadata": {},
   "source": [
    "문제. 주어진 리스트 Courses = ['Physics', 'Math', 'History', 'Physics', 'Music', 'Math', 'Math']에서 Math가 세곳에서 발견된다. 처음 발생하는 인덱스를 리포트하시오."
   ]
  },
  {
   "cell_type": "code",
   "execution_count": 16,
   "metadata": {},
   "outputs": [
    {
     "name": "stdout",
     "output_type": "stream",
     "text": [
      "1\n"
     ]
    }
   ],
   "source": [
    "Courses = ['Physics', 'Math', 'History', 'Physics', 'Music', 'Math', 'Math']\n",
    "idx = [i for i, subject in enumerate(Courses) if subject == 'Math']\n",
    "print(idx[0])"
   ]
  },
  {
   "cell_type": "markdown",
   "metadata": {},
   "source": [
    "# [transform [if-else-filter] sequence]"
   ]
  },
  {
   "cell_type": "markdown",
   "metadata": {},
   "source": [
    "$a=[1,2,3,4,5,6,7,8,9,10]$에 있는 각각의 숫자를 짝수면 제곱하고 홀수면 부호를 바꾸어 새로운 리스트를 만드시오."
   ]
  },
  {
   "cell_type": "code",
   "execution_count": 17,
   "metadata": {},
   "outputs": [
    {
     "name": "stdout",
     "output_type": "stream",
     "text": [
      "[-1, 4, -3, 16, -5, 36, -7, 64, -9, 100]\n"
     ]
    }
   ],
   "source": [
    "a = [1,2,3,4,5,6,7,8,9,10]\n",
    "b = [i**2 if i%2 == 0 else -i for i in a]\n",
    "print(b)"
   ]
  },
  {
   "cell_type": "markdown",
   "metadata": {},
   "source": [
    "# [transform sequence sequence]"
   ]
  },
  {
   "cell_type": "markdown",
   "metadata": {},
   "source": [
    "abc에 있는 각각의 스트링 letter과 012에 있는 각각의 숫자 num를 페어 (letter, num)로 묶어, 가능한 모든 페어를 모아 리스트를 만들자."
   ]
  },
  {
   "cell_type": "code",
   "execution_count": 18,
   "metadata": {},
   "outputs": [
    {
     "name": "stdout",
     "output_type": "stream",
     "text": [
      "[('a', 0), ('a', 1), ('a', 2), ('b', 0), ('b', 1), ('b', 2)]\n"
     ]
    }
   ],
   "source": [
    "x = [(letter, num) for letter in 'ab' for num in range(3)]\n",
    "print(x)"
   ]
  },
  {
   "cell_type": "code",
   "execution_count": 19,
   "metadata": {},
   "outputs": [
    {
     "name": "stdout",
     "output_type": "stream",
     "text": [
      "[('a', 0), ('a', 1), ('a', 2), ('b', 0), ('b', 1), ('b', 2)]\n"
     ]
    }
   ],
   "source": [
    "x = []\n",
    "for letter in 'ab':\n",
    "    for num in range(3):\n",
    "        x.append((letter,num))\n",
    "print(x)"
   ]
  }
 ],
 "metadata": {
  "kernelspec": {
   "display_name": "Python 3",
   "language": "python",
   "name": "python3"
  },
  "language_info": {
   "codemirror_mode": {
    "name": "ipython",
    "version": 3
   },
   "file_extension": ".py",
   "mimetype": "text/x-python",
   "name": "python",
   "nbconvert_exporter": "python",
   "pygments_lexer": "ipython3",
   "version": "3.5.0"
  }
 },
 "nbformat": 4,
 "nbformat_minor": 2
}
