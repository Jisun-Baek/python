{
 "cells": [
  {
   "cell_type": "code",
   "execution_count": 3,
   "metadata": {},
   "outputs": [
    {
     "name": "stdout",
     "output_type": "stream",
     "text": [
      "{'카카오', '네이버', '삼성전자'}\n",
      "<class 'set'>\n"
     ]
    }
   ],
   "source": [
    "x = {'삼성전자', '네이버', '카카오', '네이버', '카카오'}\n",
    "print(x)\n",
    "print(type(x))"
   ]
  },
  {
   "cell_type": "code",
   "execution_count": 16,
   "metadata": {},
   "outputs": [
    {
     "name": "stdout",
     "output_type": "stream",
     "text": [
      "035720\n"
     ]
    }
   ],
   "source": [
    "x = {'삼성전자' : '005930', \n",
    "     '네이버' : '035420', \n",
    "     '카카오' : '035720'} # {key (인덱스) : value (데이터), :  , :  , :  }\n",
    "print(x['카카오'])"
   ]
  },
  {
   "cell_type": "code",
   "execution_count": 11,
   "metadata": {},
   "outputs": [
    {
     "name": "stdout",
     "output_type": "stream",
     "text": [
      "035720\n"
     ]
    }
   ],
   "source": [
    "x = ['005930', '035420', '035720']\n",
    "print(x[2])"
   ]
  },
  {
   "cell_type": "code",
   "execution_count": 23,
   "metadata": {},
   "outputs": [
    {
     "data": {
      "text/plain": [
       "<matplotlib.axes._subplots.AxesSubplot at 0x7fec823edd90>"
      ]
     },
     "execution_count": 23,
     "metadata": {},
     "output_type": "execute_result"
    },
    {
     "name": "stderr",
     "output_type": "stream",
     "text": [
      "/Users/sungchullee/anaconda3/lib/python3.7/site-packages/matplotlib/backends/backend_agg.py:211: RuntimeWarning: Glyph 45348 missing from current font.\n",
      "  font.set_text(s, 0.0, flags=flags)\n",
      "/Users/sungchullee/anaconda3/lib/python3.7/site-packages/matplotlib/backends/backend_agg.py:211: RuntimeWarning: Glyph 51060 missing from current font.\n",
      "  font.set_text(s, 0.0, flags=flags)\n",
      "/Users/sungchullee/anaconda3/lib/python3.7/site-packages/matplotlib/backends/backend_agg.py:211: RuntimeWarning: Glyph 48260 missing from current font.\n",
      "  font.set_text(s, 0.0, flags=flags)\n",
      "/Users/sungchullee/anaconda3/lib/python3.7/site-packages/matplotlib/backends/backend_agg.py:180: RuntimeWarning: Glyph 45348 missing from current font.\n",
      "  font.set_text(s, 0, flags=flags)\n",
      "/Users/sungchullee/anaconda3/lib/python3.7/site-packages/matplotlib/backends/backend_agg.py:180: RuntimeWarning: Glyph 51060 missing from current font.\n",
      "  font.set_text(s, 0, flags=flags)\n",
      "/Users/sungchullee/anaconda3/lib/python3.7/site-packages/matplotlib/backends/backend_agg.py:180: RuntimeWarning: Glyph 48260 missing from current font.\n",
      "  font.set_text(s, 0, flags=flags)\n"
     ]
    },
    {
     "data": {
      "image/png": "[encoded data removed]",
      "text/plain": [
       "<Figure size 432x288 with 1 Axes>"
      ]
     },
     "metadata": {
      "needs_background": "light"
     },
     "output_type": "display_data"
    }
   ],
   "source": [
    "import yfinance \n",
    "stock = yfinance.Ticker(x['네이버'] + '.KS')\n",
    "data = stock.history(period='max')\n",
    "data.Close.plot(title='네이버')"
   ]
  },
  {
   "cell_type": "code",
   "execution_count": 24,
   "metadata": {},
   "outputs": [
    {
     "data": {
      "text/html": [
       "<div>\n",
       "<style scoped>\n",
       "    .dataframe tbody tr th:only-of-type {\n",
       "        vertical-align: middle;\n",
       "    }\n",
       "\n",
       "    .dataframe tbody tr th {\n",
       "        vertical-align: top;\n",
       "    }\n",
       "\n",
       "    .dataframe thead th {\n",
       "        text-align: right;\n",
       "    }\n",
       "</style>\n",
       "<table border=\"1\" class=\"dataframe\">\n",
       "  <thead>\n",
       "    <tr style=\"text-align: right;\">\n",
       "      <th></th>\n",
       "      <th>Open</th>\n",
       "      <th>High</th>\n",
       "      <th>Low</th>\n",
       "      <th>Close</th>\n",
       "      <th>Volume</th>\n",
       "      <th>Dividends</th>\n",
       "      <th>Stock Splits</th>\n",
       "    </tr>\n",
       "    <tr>\n",
       "      <th>Date</th>\n",
       "      <th></th>\n",
       "      <th></th>\n",
       "      <th></th>\n",
       "      <th></th>\n",
       "      <th></th>\n",
       "      <th></th>\n",
       "      <th></th>\n",
       "    </tr>\n",
       "  </thead>\n",
       "  <tbody>\n",
       "    <tr>\n",
       "      <th>2002-10-29</th>\n",
       "      <td>1695.22</td>\n",
       "      <td>1695.22</td>\n",
       "      <td>1695.22</td>\n",
       "      <td>1695.22</td>\n",
       "      <td>501745</td>\n",
       "      <td>0.0</td>\n",
       "      <td>0.0</td>\n",
       "    </tr>\n",
       "    <tr>\n",
       "      <th>2002-10-30</th>\n",
       "      <td>1897.50</td>\n",
       "      <td>1897.50</td>\n",
       "      <td>1876.30</td>\n",
       "      <td>1897.50</td>\n",
       "      <td>20892185</td>\n",
       "      <td>0.0</td>\n",
       "      <td>0.0</td>\n",
       "    </tr>\n",
       "    <tr>\n",
       "      <th>2002-10-31</th>\n",
       "      <td>1926.39</td>\n",
       "      <td>1972.63</td>\n",
       "      <td>1758.80</td>\n",
       "      <td>1803.11</td>\n",
       "      <td>32327083</td>\n",
       "      <td>0.0</td>\n",
       "      <td>0.0</td>\n",
       "    </tr>\n",
       "    <tr>\n",
       "      <th>2002-11-01</th>\n",
       "      <td>1849.33</td>\n",
       "      <td>1907.13</td>\n",
       "      <td>1625.87</td>\n",
       "      <td>1691.37</td>\n",
       "      <td>18373668</td>\n",
       "      <td>0.0</td>\n",
       "      <td>0.0</td>\n",
       "    </tr>\n",
       "    <tr>\n",
       "      <th>2002-11-04</th>\n",
       "      <td>1675.97</td>\n",
       "      <td>1687.52</td>\n",
       "      <td>1566.15</td>\n",
       "      <td>1606.61</td>\n",
       "      <td>16939411</td>\n",
       "      <td>0.0</td>\n",
       "      <td>0.0</td>\n",
       "    </tr>\n",
       "  </tbody>\n",
       "</table>\n",
       "</div>"
      ],
      "text/plain": [
       "               Open     High      Low    Close    Volume  Dividends  \\\n",
       "Date                                                                  \n",
       "2002-10-29  1695.22  1695.22  1695.22  1695.22    501745        0.0   \n",
       "2002-10-30  1897.50  1897.50  1876.30  1897.50  20892185        0.0   \n",
       "2002-10-31  1926.39  1972.63  1758.80  1803.11  32327083        0.0   \n",
       "2002-11-01  1849.33  1907.13  1625.87  1691.37  18373668        0.0   \n",
       "2002-11-04  1675.97  1687.52  1566.15  1606.61  16939411        0.0   \n",
       "\n",
       "            Stock Splits  \n",
       "Date                      \n",
       "2002-10-29           0.0  \n",
       "2002-10-30           0.0  \n",
       "2002-10-31           0.0  \n",
       "2002-11-01           0.0  \n",
       "2002-11-04           0.0  "
      ]
     },
     "execution_count": 24,
     "metadata": {},
     "output_type": "execute_result"
    }
   ],
   "source": [
    "data.head()"
   ]
  },
  {
   "cell_type": "code",
   "execution_count": 25,
   "metadata": {},
   "outputs": [
    {
     "data": {
      "text/html": [
       "<div>\n",
       "<style scoped>\n",
       "    .dataframe tbody tr th:only-of-type {\n",
       "        vertical-align: middle;\n",
       "    }\n",
       "\n",
       "    .dataframe tbody tr th {\n",
       "        vertical-align: top;\n",
       "    }\n",
       "\n",
       "    .dataframe thead th {\n",
       "        text-align: right;\n",
       "    }\n",
       "</style>\n",
       "<table border=\"1\" class=\"dataframe\">\n",
       "  <thead>\n",
       "    <tr style=\"text-align: right;\">\n",
       "      <th></th>\n",
       "      <th>Open</th>\n",
       "      <th>High</th>\n",
       "      <th>Low</th>\n",
       "      <th>Close</th>\n",
       "      <th>Volume</th>\n",
       "      <th>Dividends</th>\n",
       "      <th>Stock Splits</th>\n",
       "    </tr>\n",
       "    <tr>\n",
       "      <th>Date</th>\n",
       "      <th></th>\n",
       "      <th></th>\n",
       "      <th></th>\n",
       "      <th></th>\n",
       "      <th></th>\n",
       "      <th></th>\n",
       "      <th></th>\n",
       "    </tr>\n",
       "  </thead>\n",
       "  <tbody>\n",
       "    <tr>\n",
       "      <th>2020-09-02</th>\n",
       "      <td>332500.0</td>\n",
       "      <td>335500.0</td>\n",
       "      <td>327000.0</td>\n",
       "      <td>332500.0</td>\n",
       "      <td>808064</td>\n",
       "      <td>0.0</td>\n",
       "      <td>0.0</td>\n",
       "    </tr>\n",
       "    <tr>\n",
       "      <th>2020-09-03</th>\n",
       "      <td>333500.0</td>\n",
       "      <td>339500.0</td>\n",
       "      <td>329500.0</td>\n",
       "      <td>339000.0</td>\n",
       "      <td>776547</td>\n",
       "      <td>0.0</td>\n",
       "      <td>0.0</td>\n",
       "    </tr>\n",
       "    <tr>\n",
       "      <th>2020-09-04</th>\n",
       "      <td>322500.0</td>\n",
       "      <td>335000.0</td>\n",
       "      <td>322000.0</td>\n",
       "      <td>328500.0</td>\n",
       "      <td>1174337</td>\n",
       "      <td>0.0</td>\n",
       "      <td>0.0</td>\n",
       "    </tr>\n",
       "    <tr>\n",
       "      <th>2020-09-07</th>\n",
       "      <td>325500.0</td>\n",
       "      <td>325500.0</td>\n",
       "      <td>313500.0</td>\n",
       "      <td>314500.0</td>\n",
       "      <td>1308247</td>\n",
       "      <td>0.0</td>\n",
       "      <td>0.0</td>\n",
       "    </tr>\n",
       "    <tr>\n",
       "      <th>2020-09-08</th>\n",
       "      <td>316000.0</td>\n",
       "      <td>318000.0</td>\n",
       "      <td>305500.0</td>\n",
       "      <td>312000.0</td>\n",
       "      <td>774274</td>\n",
       "      <td>0.0</td>\n",
       "      <td>0.0</td>\n",
       "    </tr>\n",
       "  </tbody>\n",
       "</table>\n",
       "</div>"
      ],
      "text/plain": [
       "                Open      High       Low     Close   Volume  Dividends  \\\n",
       "Date                                                                     \n",
       "2020-09-02  332500.0  335500.0  327000.0  332500.0   808064        0.0   \n",
       "2020-09-03  333500.0  339500.0  329500.0  339000.0   776547        0.0   \n",
       "2020-09-04  322500.0  335000.0  322000.0  328500.0  1174337        0.0   \n",
       "2020-09-07  325500.0  325500.0  313500.0  314500.0  1308247        0.0   \n",
       "2020-09-08  316000.0  318000.0  305500.0  312000.0   774274        0.0   \n",
       "\n",
       "            Stock Splits  \n",
       "Date                      \n",
       "2020-09-02           0.0  \n",
       "2020-09-03           0.0  \n",
       "2020-09-04           0.0  \n",
       "2020-09-07           0.0  \n",
       "2020-09-08           0.0  "
      ]
     },
     "execution_count": 25,
     "metadata": {},
     "output_type": "execute_result"
    }
   ],
   "source": [
    "data.tail()"
   ]
  },
  {
   "cell_type": "code",
   "execution_count": null,
   "metadata": {},
   "outputs": [],
   "source": []
  }
 ],
 "metadata": {
  "kernelspec": {
   "display_name": "Python 3",
   "language": "python",
   "name": "python3"
  },
  "language_info": {
   "codemirror_mode": {
    "name": "ipython",
    "version": 3
   },
   "file_extension": ".py",
   "mimetype": "text/x-python",
   "name": "python",
   "nbconvert_exporter": "python",
   "pygments_lexer": "ipython3",
   "version": "3.7.7"
  }
 },
 "nbformat": 4,
 "nbformat_minor": 4
}
