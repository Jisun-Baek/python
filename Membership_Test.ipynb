{
 "cells": [
  {
   "cell_type": "markdown",
   "metadata": {},
   "source": [
    "# Membership Test"
   ]
  },
  {
   "cell_type": "markdown",
   "metadata": {},
   "source": [
    "CS_Dojo \n",
    "[youtube](https://www.youtube.com/watch?v=tw7ror9x32s) \n",
    "[code](https://www.csdojo.io/python4)\n",
    "[youtube](https://www.youtube.com/watch?v=r526yum0EYQ&index=11&list=PLBZBJbE_rGRWeh5mIBhD-hhDwSEDxogDg) \n",
    "[code](https://www.csdojo.io/python11)\n",
    "[youtube](https://www.youtube.com/watch?v=5K08WcjGV6c&index=12&list=PLBZBJbE_rGRWeh5mIBhD-hhDwSEDxogDg) [code](https://www.csdojo.io/python12)\n",
    "Corey_Schafer [youtube](https://www.youtube.com/watch?v=W8KRzm-HUcc&index=4&list=PL-osiE80TeTt2d9bfVyTiXJA-UTHn6WwU)\n",
    "Joe_James \n",
    "[youtube](https://www.youtube.com/watch?v=R-HLU9Fl5ug&index=9&list=PLj8W7XIvO93qsmdxbaDpIvM1KCyNO1K_c) \n",
    "[github](https://github.com/joeyajames/Python)"
   ]
  },
  {
   "cell_type": "code",
   "execution_count": 4,
   "metadata": {},
   "outputs": [
    {
     "name": "stdout",
     "output_type": "stream",
     "text": [
      "True\n",
      "False\n"
     ]
    }
   ],
   "source": [
    "if 0:\n",
    "    # List membership test\n",
    "    inventory = ['apples', 'grapes', 'bananas']\n",
    "elif 0:\n",
    "    # Tuple membership test\n",
    "    inventory = ('apples', 'grapes', 'bananas')\n",
    "elif 1:\n",
    "    # Dic membership test\n",
    "    # 딕션너리의 경우 키가 있는지 없는지 판단한다.\n",
    "    inventory = {'apples': 0, 'grapes': 100, 'bananas': 200}\n",
    "elif 1:\n",
    "    # Set membership test\n",
    "    inventory = {'apples', 'grapes', 'bananas'}\n",
    "\n",
    "print('apples' in inventory)\n",
    "print('apples' not in inventory)"
   ]
  },
  {
   "cell_type": "code",
   "execution_count": null,
   "metadata": {},
   "outputs": [],
   "source": []
  }
 ],
 "metadata": {
  "kernelspec": {
   "display_name": "Python 3",
   "language": "python",
   "name": "python3"
  },
  "language_info": {
   "codemirror_mode": {
    "name": "ipython",
    "version": 3
   },
   "file_extension": ".py",
   "mimetype": "text/x-python",
   "name": "python",
   "nbconvert_exporter": "python",
   "pygments_lexer": "ipython3",
   "version": "3.5.0"
  }
 },
 "nbformat": 4,
 "nbformat_minor": 2
}
