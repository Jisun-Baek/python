{
 "cells": [
  {
   "cell_type": "code",
   "execution_count": 4,
   "metadata": {},
   "outputs": [],
   "source": [
    "class One_Plus_One:\n",
    "    \n",
    "    def __init__(self, string):\n",
    "        self.string = string\n",
    "        \n",
    "    def __add__(self, other):\n",
    "        if (self.string=='1') and (other.string=='1'):\n",
    "            return '일더하기 일은 귀요미'"
   ]
  },
  {
   "cell_type": "code",
   "execution_count": 5,
   "metadata": {},
   "outputs": [
    {
     "name": "stdout",
     "output_type": "stream",
     "text": [
      "<class '__main__.One_Plus_One'>\n",
      "<class '__main__.One_Plus_One'>\n",
      "일더하기 일은 귀요미\n",
      "<class 'str'>\n"
     ]
    }
   ],
   "source": [
    "if 0:\n",
    "    a = 1 + 1\n",
    "elif 0:\n",
    "    a = '1' + '1'\n",
    "elif 1:\n",
    "    a1 = One_Plus_One('1')\n",
    "    a2 = One_Plus_One('1')\n",
    "    print(type(a1))\n",
    "    print(type(a2))\n",
    "    a = a1 + a2\n",
    "\n",
    "print(a)\n",
    "print(type(a))"
   ]
  },
  {
   "cell_type": "code",
   "execution_count": null,
   "metadata": {},
   "outputs": [],
   "source": []
  }
 ],
 "metadata": {
  "kernelspec": {
   "display_name": "Python 3",
   "language": "python",
   "name": "python3"
  },
  "language_info": {
   "codemirror_mode": {
    "name": "ipython",
    "version": 3
   },
   "file_extension": ".py",
   "mimetype": "text/x-python",
   "name": "python",
   "nbconvert_exporter": "python",
   "pygments_lexer": "ipython3",
   "version": "3.7.3"
  }
 },
 "nbformat": 4,
 "nbformat_minor": 2
}
