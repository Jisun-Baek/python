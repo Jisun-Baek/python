{
 "cells": [
  {
   "cell_type": "markdown",
   "metadata": {},
   "source": [
    "# Hello, John!"
   ]
  },
  {
   "cell_type": "code",
   "execution_count": 1,
   "metadata": {},
   "outputs": [
    {
     "name": "stdout",
     "output_type": "stream",
     "text": [
      "Hello, John!\n"
     ]
    }
   ],
   "source": [
    "print(\"Hello, John!\") # idiot's way"
   ]
  },
  {
   "cell_type": "code",
   "execution_count": 2,
   "metadata": {},
   "outputs": [
    {
     "name": "stdout",
     "output_type": "stream",
     "text": [
      "Hello, John!\n"
     ]
    }
   ],
   "source": [
    "name = 'John'\n",
    "print(\"Hello, \" + name + '!') # bad way"
   ]
  },
  {
   "cell_type": "code",
   "execution_count": 3,
   "metadata": {},
   "outputs": [
    {
     "name": "stdout",
     "output_type": "stream",
     "text": [
      "Hello, John!\n",
      "Hello, John!\n",
      "Hello, John!\n"
     ]
    }
   ],
   "source": [
    "name = 'John'\n",
    "print(\"Hello, {}!\".format(name)) # python style\n",
    "print(\"Hello, {:s}!\".format(name)) # python style\n",
    "print(\"Hello, %s!\" % name) # C style"
   ]
  },
  {
   "cell_type": "markdown",
   "metadata": {},
   "source": [
    "# John is 23 years old."
   ]
  },
  {
   "cell_type": "code",
   "execution_count": 4,
   "metadata": {},
   "outputs": [
    {
     "name": "stdout",
     "output_type": "stream",
     "text": [
      "John is 23 years old.\n"
     ]
    }
   ],
   "source": [
    "print('John is 23 years old.') # idiot's way"
   ]
  },
  {
   "cell_type": "code",
   "execution_count": 5,
   "metadata": {},
   "outputs": [
    {
     "name": "stdout",
     "output_type": "stream",
     "text": [
      "John is 23 years old\n"
     ]
    }
   ],
   "source": [
    "name = 'John'\n",
    "age = 23\n",
    "print(name + ' is ' + str(age) + ' years old') # bad way"
   ]
  },
  {
   "cell_type": "code",
   "execution_count": 6,
   "metadata": {},
   "outputs": [
    {
     "name": "stdout",
     "output_type": "stream",
     "text": [
      "John is 23 years old.\n",
      "John is 23 years old.\n",
      "John is 23 years old.\n"
     ]
    }
   ],
   "source": [
    "name = 'John'\n",
    "age = 23\n",
    "print(\"{} is {} years old.\".format(name, age)) # python style\n",
    "print(\"{:s} is {:d} years old.\".format(name, age)) # python style\n",
    "print(\"%s is %d years old.\" % (name, age)) # C style"
   ]
  },
  {
   "cell_type": "markdown",
   "metadata": {},
   "source": [
    "# pi is 3.14."
   ]
  },
  {
   "cell_type": "code",
   "execution_count": 7,
   "metadata": {},
   "outputs": [
    {
     "name": "stdout",
     "output_type": "stream",
     "text": [
      "pi is 3.14.\n"
     ]
    }
   ],
   "source": [
    "print('pi is 3.14.') # idiot's way"
   ]
  },
  {
   "cell_type": "code",
   "execution_count": 8,
   "metadata": {},
   "outputs": [
    {
     "name": "stdout",
     "output_type": "stream",
     "text": [
      "pi is 3.141592653589793.\n"
     ]
    }
   ],
   "source": [
    "import numpy as np\n",
    "pi = np.pi\n",
    "print('pi is ' + str(pi) + '.') # bad way"
   ]
  },
  {
   "cell_type": "code",
   "execution_count": 9,
   "metadata": {},
   "outputs": [
    {
     "name": "stdout",
     "output_type": "stream",
     "text": [
      "pi is 3.141592653589793.\n",
      "pi is 3.141592653589793.\n",
      "pi is 3.141592653589793.\n",
      "pi is 3.141593.\n"
     ]
    }
   ],
   "source": [
    "import numpy as np\n",
    "pi = np.pi\n",
    "print(\"pi is {}.\".format(pi)) # python style\n",
    "print(\"pi is {:.15f}.\".format(pi)) # python style\n",
    "print(\"pi is %.15f.\" % pi) # C style\n",
    "print(\"pi is %f.\" % pi) # C style"
   ]
  },
  {
   "cell_type": "markdown",
   "metadata": {},
   "source": [
    "# flag"
   ]
  },
  {
   "cell_type": "code",
   "execution_count": 10,
   "metadata": {},
   "outputs": [
    {
     "name": "stdout",
     "output_type": "stream",
     "text": [
      "pi is +3.14.\n",
      "pi is +3.14.\n",
      "pi is       3.14.\n",
      "pi is 3.14      .\n",
      "pi is 3.14      .\n",
      "pi is  3.14.\n",
      "pi is  3.14.\n",
      "pi is 0000003.14.\n",
      "pi is 0000003.14.\n"
     ]
    }
   ],
   "source": [
    "import numpy as np\n",
    "pi = np.pi\n",
    "print(\"pi is {:+.2f}.\".format(pi)) # python style\n",
    "print(\"pi is %+.2f.\" % pi) # C style\n",
    "print(\"pi is {:-10.2f}.\".format(pi)) # python style (not working properly)\n",
    "print(\"pi is {:<10.2f}.\".format(pi)) # python style (working properly)\n",
    "print(\"pi is %-10.2f.\" % pi) # C style\n",
    "print(\"pi is {: .2f}.\".format(pi)) # python style\n",
    "print(\"pi is % .2f.\" % pi) # C style\n",
    "print(\"pi is {:010.2f}.\".format(pi)) # python style\n",
    "print(\"pi is %010.2f.\" % pi) # C style"
   ]
  },
  {
   "cell_type": "markdown",
   "metadata": {},
   "source": [
    "# width"
   ]
  },
  {
   "cell_type": "code",
   "execution_count": 11,
   "metadata": {},
   "outputs": [
    {
     "name": "stdout",
     "output_type": "stream",
     "text": [
      "pi is 3.14.\n",
      "pi is 3.14.\n",
      "pi is 3.14.\n",
      "pi is 3.14.\n",
      "pi is  3.14.\n",
      "pi is  3.14.\n",
      "pi is   3.14.\n",
      "pi is   3.14.\n"
     ]
    }
   ],
   "source": [
    "import numpy as np\n",
    "pi = np.pi\n",
    "print(\"pi is {:.2f}.\".format(pi)) # python style\n",
    "print(\"pi is %.2f.\" % pi) # C style\n",
    "print(\"pi is {:4.2f}.\".format(pi)) # python style\n",
    "print(\"pi is %4.2f.\" % pi) # C style\n",
    "print(\"pi is {:5.2f}.\".format(pi)) # python style\n",
    "print(\"pi is %5.2f.\" % pi) # C style\n",
    "print(\"pi is {:6.2f}.\".format(pi)) # python style\n",
    "print(\"pi is %6.2f.\" % pi) # C style"
   ]
  },
  {
   "cell_type": "markdown",
   "metadata": {},
   "source": [
    "# length"
   ]
  },
  {
   "cell_type": "code",
   "execution_count": 12,
   "metadata": {},
   "outputs": [
    {
     "name": "stdout",
     "output_type": "stream",
     "text": [
      "pi is 3.14.\n",
      "pi is 3.14.\n",
      "pi is 3.142.\n",
      "pi is 3.142.\n",
      "pi is 3.1416.\n",
      "pi is 3.1416.\n",
      "pi is 3.14159.\n",
      "pi is 3.14159.\n"
     ]
    }
   ],
   "source": [
    "import numpy as np\n",
    "pi = np.pi\n",
    "print(\"pi is {:.2f}.\".format(pi)) # python style\n",
    "print(\"pi is %.2f.\" % pi) # C style\n",
    "print(\"pi is {:.3f}.\".format(pi)) # python style\n",
    "print(\"pi is %.3f.\" % pi) # C style\n",
    "print(\"pi is {:.4f}.\".format(pi)) # python style\n",
    "print(\"pi is %.4f.\" % pi) # C style\n",
    "print(\"pi is {:.5f}.\".format(pi)) # python style\n",
    "print(\"pi is %.5f.\" % pi) # C style"
   ]
  },
  {
   "cell_type": "markdown",
   "metadata": {},
   "source": [
    "# How to push Left or Right"
   ]
  },
  {
   "cell_type": "code",
   "execution_count": 13,
   "metadata": {},
   "outputs": [
    {
     "name": "stdout",
     "output_type": "stream",
     "text": [
      "DescribeResult(nobs=1000, minmax=(-3.544223523748798, 2.9841516021702437), mean=-0.01615306123385127, variance=1.080088965386489, skewness=-0.018530180112076945, kurtosis=0.0608290617452405)\n",
      "DescribeResult(nobs=1000, minmax=(-12.824184863964847, 11.919219859315149), mean=-0.030973994123549942, variance=2.9596259377350065, skewness=-0.8124999793756427, kurtosis=12.31808848276429)\n"
     ]
    }
   ],
   "source": [
    "import scipy.stats as stats\n",
    "x1 = stats.norm.rvs(size=(1000,))\n",
    "x2 = stats.t.rvs(3, size=(1000,))\n",
    "s1 = stats.describe(x1)\n",
    "s2 = stats.describe(x2)\n",
    "print(s1)\n",
    "print(s2)"
   ]
  },
  {
   "cell_type": "code",
   "execution_count": 14,
   "metadata": {},
   "outputs": [
    {
     "name": "stdout",
     "output_type": "stream",
     "text": [
      "        statistic     data set 1     data set 2\n",
      "------------------------------------------------\n",
      "             size       1000.000       1000.000\n",
      "              min         -3.544        -12.824\n",
      "              max          2.984         11.919\n",
      "             mean         -0.016         -0.031\n",
      "              std          1.039          1.720\n",
      "             skew         -0.019         -0.812\n",
      "(excess) kurtosis          0.061         12.318\n"
     ]
    }
   ],
   "source": [
    "print(\"%17s %14s %14s\" % ('statistic', 'data set 1', 'data set 2')) \n",
    "print(48 * \"-\")\n",
    "print(\"%17s %14.3f %14.3f\" % ('size', s1[0], s2[0])) \n",
    "print(\"%17s %14.3f %14.3f\" % ('min', s1[1][0], s2[1][0])) \n",
    "print(\"%17s %14.3f %14.3f\" % ('max', s1[1][1], s2[1][1])) \n",
    "print(\"%17s %14.3f %14.3f\" % ('mean', s1[2], s2[2]))\n",
    "print(\"%17s %14.3f %14.3f\" % ('std', np.sqrt(s1[3]), np.sqrt(s2[3])))\n",
    "print(\"%17s %14.3f %14.3f\" % ('skew', s1[4], s2[4])) \n",
    "print(\"%17s %14.3f %14.3f\" % ('(excess) kurtosis', s1[5], s2[5]))"
   ]
  },
  {
   "cell_type": "code",
   "execution_count": 15,
   "metadata": {},
   "outputs": [
    {
     "name": "stdout",
     "output_type": "stream",
     "text": [
      "statistic         data set 1     data set 2    \n",
      "------------------------------------------------\n",
      "size              1000.000       1000.000      \n",
      "min               -3.544         -12.824       \n",
      "max               2.984          11.919        \n",
      "mean              -0.016         -0.031        \n",
      "std               1.039          1.720         \n",
      "skew              -0.019         -0.812        \n",
      "(excess) kurtosis 0.061          12.318        \n"
     ]
    }
   ],
   "source": [
    "print(\"%-17s %-14s %-14s\" % ('statistic', 'data set 1', 'data set 2')) \n",
    "print(48 * \"-\")\n",
    "print(\"%-17s %-14.3f %-14.3f\" % ('size', s1[0], s2[0])) \n",
    "print(\"%-17s %-14.3f %-14.3f\" % ('min', s1[1][0], s2[1][0])) \n",
    "print(\"%-17s %-14.3f %-14.3f\" % ('max', s1[1][1], s2[1][1])) \n",
    "print(\"%-17s %-14.3f %-14.3f\" % ('mean', s1[2], s2[2]))\n",
    "print(\"%-17s %-14.3f %-14.3f\" % ('std', np.sqrt(s1[3]), np.sqrt(s2[3])))\n",
    "print(\"%-17s %-14.3f %-14.3f\" % ('skew', s1[4], s2[4])) \n",
    "print(\"%-17s %-14.3f %-14.3f\" % ('(excess) kurtosis', s1[5], s2[5]))"
   ]
  },
  {
   "cell_type": "code",
   "execution_count": 16,
   "metadata": {},
   "outputs": [
    {
     "name": "stdout",
     "output_type": "stream",
     "text": [
      "        statistic     data set 1     data set 2\n",
      "------------------------------------------------\n",
      "             size       1000.000       1000.000\n",
      "              min         -3.544        -12.824\n",
      "              max          2.984         11.919\n",
      "             mean         -0.016         -0.031\n",
      "              std          1.039          1.720\n",
      "             skew         -0.019         -0.812\n",
      "(excess) kurtosis          0.061         12.318\n"
     ]
    }
   ],
   "source": [
    "print(\"{:>17s} {:>14s} {:>14s}\".format('statistic', 'data set 1', 'data set 2')) \n",
    "print(48 * \"-\")\n",
    "print(\"{:>17s} {:>14.3f} {:>14.3f}\".format('size', s1[0], s2[0])) \n",
    "print(\"{:>17s} {:>14.3f} {:>14.3f}\".format('min', s1[1][0], s2[1][0])) \n",
    "print(\"{:>17s} {:>14.3f} {:>14.3f}\".format('max', s1[1][1], s2[1][1])) \n",
    "print(\"{:>17s} {:>14.3f} {:>14.3f}\".format('mean', s1[2], s2[2]))\n",
    "print(\"{:>17s} {:>14.3f} {:>14.3f}\".format('std', np.sqrt(s1[3]), np.sqrt(s2[3])))\n",
    "print(\"{:>17s} {:>14.3f} {:>14.3f}\".format('skew', s1[4], s2[4])) \n",
    "print(\"{:>17s} {:>14.3f} {:>14.3f}\".format('(excess) kurtosis', s1[5], s2[5]))"
   ]
  },
  {
   "cell_type": "code",
   "execution_count": 17,
   "metadata": {},
   "outputs": [
    {
     "name": "stdout",
     "output_type": "stream",
     "text": [
      "statistic         data set 1     data set 2    \n",
      "------------------------------------------------\n",
      "size              1000.000       1000.000      \n",
      "min               -3.544         -12.824       \n",
      "max               2.984          11.919        \n",
      "mean              -0.016         -0.031        \n",
      "std               1.039          1.720         \n",
      "skew              -0.019         -0.812        \n",
      "(excess) kurtosis 0.061          12.318        \n"
     ]
    }
   ],
   "source": [
    "print(\"{:<17s} {:<14s} {:<14s}\".format('statistic', 'data set 1', 'data set 2')) \n",
    "print(48 * \"-\")\n",
    "print(\"{:<17s} {:<14.3f} {:<14.3f}\".format('size', s1[0], s2[0])) \n",
    "print(\"{:<17s} {:<14.3f} {:<14.3f}\".format('min', s1[1][0], s2[1][0])) \n",
    "print(\"{:<17s} {:<14.3f} {:<14.3f}\".format('max', s1[1][1], s2[1][1])) \n",
    "print(\"{:<17s} {:<14.3f} {:<14.3f}\".format('mean', s1[2], s2[2]))\n",
    "print(\"{:<17s} {:<14.3f} {:<14.3f}\".format('std', np.sqrt(s1[3]), np.sqrt(s2[3])))\n",
    "print(\"{:<17s} {:<14.3f} {:<14.3f}\".format('skew', s1[4], s2[4])) \n",
    "print(\"{:<17s} {:<14.3f} {:<14.3f}\".format('(excess) kurtosis', s1[5], s2[5]))"
   ]
  },
  {
   "cell_type": "code",
   "execution_count": null,
   "metadata": {},
   "outputs": [],
   "source": []
  }
 ],
 "metadata": {
  "kernelspec": {
   "display_name": "Python 3",
   "language": "python",
   "name": "python3"
  },
  "language_info": {
   "codemirror_mode": {
    "name": "ipython",
    "version": 3
   },
   "file_extension": ".py",
   "mimetype": "text/x-python",
   "name": "python",
   "nbconvert_exporter": "python",
   "pygments_lexer": "ipython3",
   "version": "3.6.9"
  }
 },
 "nbformat": 4,
 "nbformat_minor": 2
}
