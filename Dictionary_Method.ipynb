{
 "cells": [
  {
   "cell_type": "markdown",
   "metadata": {},
   "source": [
    "# Dictionary Method"
   ]
  },
  {
   "cell_type": "markdown",
   "metadata": {},
   "source": [
    "Corey_Schafer [youtube](https://www.youtube.com/watch?v=daefaLgNkw0&index=5&list=PL-osiE80TeTt2d9bfVyTiXJA-UTHn6WwU)\n",
    "Joe_James \n",
    "[youtube](https://www.youtube.com/watch?v=R-HLU9Fl5ug&index=9&list=PLj8W7XIvO93qsmdxbaDpIvM1KCyNO1K_c) \n",
    "[github](https://github.com/joeyajames/Python)\n",
    "[youtube](https://www.youtube.com/watch?v=9HFbhPscPU0&list=PLj8W7XIvO93qsmdxbaDpIvM1KCyNO1K_c&index=7) \n",
    "[github](https://github.com/joeyajames/Python)\n",
    "CS_Dojo [youtube](https://www.youtube.com/watch?v=ZEZdys-fHDw&list=PLBZBJbE_rGRWeh5mIBhD-hhDwSEDxogDg&index=8) [code](https://www.csdojo.io/python8)"
   ]
  },
  {
   "cell_type": "markdown",
   "metadata": {},
   "source": [
    "<a href=\"get\">get</a>\n",
    "\n",
    "<a href=\"update\">update</a>\n",
    "\n",
    "<a href=\"pop,-del\">pop, del</a>"
   ]
  },
  {
   "cell_type": "code",
   "execution_count": 11,
   "metadata": {},
   "outputs": [
    {
     "name": "stdout",
     "output_type": "stream",
     "text": [
      "['__class__', '__contains__', '__delattr__', '__delitem__', '__dir__', '__doc__', '__eq__', '__format__', '__ge__', '__getattribute__', '__getitem__', '__gt__', '__hash__', '__init__', '__iter__', '__le__', '__len__', '__lt__', '__ne__', '__new__', '__reduce__', '__reduce_ex__', '__repr__', '__setattr__', '__setitem__', '__sizeof__', '__str__', '__subclasshook__', 'clear', 'copy', 'fromkeys', 'get', 'items', 'keys', 'pop', 'popitem', 'setdefault', 'update', 'values']\n"
     ]
    }
   ],
   "source": [
    "print(dir(dict))"
   ]
  },
  {
   "cell_type": "markdown",
   "metadata": {},
   "source": [
    "# get "
   ]
  },
  {
   "cell_type": "markdown",
   "metadata": {},
   "source": [
    "get method를 쓰면,\n",
    "```'horse'```이라는 키가 없음에도 불구하고\n",
    "```x.get('horse')```을 돌리면 에러가 발생하지 않아요."
   ]
  },
  {
   "cell_type": "code",
   "execution_count": 12,
   "metadata": {},
   "outputs": [
    {
     "name": "stdout",
     "output_type": "stream",
     "text": [
      "{'chicken': 22.7, 'beef': 33.8, 'pork': 25.3}\n",
      "\n",
      "'horse'\n"
     ]
    }
   ],
   "source": [
    "x = {'pork':25.3, 'beef':33.8, 'chicken':22.7}\n",
    "print(x)\n",
    "print()\n",
    "\n",
    "try:\n",
    "    print(x['horse'])\n",
    "except Exception as e:\n",
    "    print(e)"
   ]
  },
  {
   "cell_type": "code",
   "execution_count": 14,
   "metadata": {},
   "outputs": [
    {
     "name": "stdout",
     "output_type": "stream",
     "text": [
      "{'chicken': 22.7, 'beef': 33.8, 'pork': 25.3}\n",
      "\n",
      "25.3\n",
      "25.3\n"
     ]
    }
   ],
   "source": [
    "x = {'pork':25.3, 'beef':33.8, 'chicken':22.7}\n",
    "print(x)\n",
    "print()\n",
    "\n",
    "print(x['pork']) # same in this case\n",
    "print(x.get('pork')) # same in this case"
   ]
  },
  {
   "cell_type": "code",
   "execution_count": 16,
   "metadata": {},
   "outputs": [
    {
     "name": "stdout",
     "output_type": "stream",
     "text": [
      "{'chicken': 22.7, 'beef': 33.8, 'pork': 25.3}\n",
      "\n",
      "None\n"
     ]
    }
   ],
   "source": [
    "x = {'pork':25.3, 'beef':33.8, 'chicken':22.7}\n",
    "print(x)\n",
    "print()\n",
    "\n",
    "# print(x['horse']) # error\n",
    "print(x.get('horse'))"
   ]
  },
  {
   "cell_type": "code",
   "execution_count": 17,
   "metadata": {},
   "outputs": [
    {
     "name": "stdout",
     "output_type": "stream",
     "text": [
      "{'chicken': 22.7, 'beef': 33.8, 'pork': 25.3}\n",
      "\n",
      "Not_Avaiable\n"
     ]
    }
   ],
   "source": [
    "x = {'pork':25.3, 'beef':33.8, 'chicken':22.7}\n",
    "print(x)\n",
    "print()\n",
    "\n",
    "# print(x['horse']) # error\n",
    "print(x.get('horse', 'Not_Avaiable'))"
   ]
  },
  {
   "cell_type": "markdown",
   "metadata": {},
   "source": [
    "문제. 사람들의 이름이 리스트로 주어졌을 때 `names = ['John', 'Tom', 'Bob', 'Chuck', 'Bob', 'John','John']`, 각각의 이름에 대하여 count the number of people with given name."
   ]
  },
  {
   "cell_type": "code",
   "execution_count": 6,
   "metadata": {},
   "outputs": [
    {
     "name": "stdout",
     "output_type": "stream",
     "text": [
      "{'Tom': 1, 'Chuck': 1, 'Bob': 2, 'John': 3}\n"
     ]
    }
   ],
   "source": [
    "names = ['John', 'Tom', 'Bob', 'Chuck', 'Bob', 'John','John']\n",
    "name_counts = {}\n",
    "for name in names:\n",
    "    # name_counts.get(name, 0)\n",
    "    # Get the value assiged by key. \n",
    "    # Give 0 if key does not exist\n",
    "    name_counts[name] = name_counts.get(name, 0) + 1         \n",
    "print(name_counts) "
   ]
  },
  {
   "cell_type": "markdown",
   "metadata": {},
   "source": [
    "[<a href=\"#Dictionary-Method\">Back to top</a>]"
   ]
  },
  {
   "cell_type": "markdown",
   "metadata": {},
   "source": [
    "# update"
   ]
  },
  {
   "cell_type": "markdown",
   "metadata": {},
   "source": [
    "update method를 쓰면 여러개의 아이템을 동시에 업데이트 할 수 있어요."
   ]
  },
  {
   "cell_type": "code",
   "execution_count": 18,
   "metadata": {},
   "outputs": [
    {
     "name": "stdout",
     "output_type": "stream",
     "text": [
      "{'chicken': 22.7, 'beef': 33.8, 'pork': 25.3}\n",
      "\n",
      "{'horse': 33.3, 'chicken': 22.7, 'beef': 33.8, 'pork': 22.2}\n"
     ]
    }
   ],
   "source": [
    "x = {'pork':25.3, 'beef':33.8, 'chicken':22.7}\n",
    "print(x)\n",
    "print()\n",
    "\n",
    "x.update({'pork': 22.2, 'horse': 33.3})\n",
    "print(x)"
   ]
  },
  {
   "cell_type": "markdown",
   "metadata": {},
   "source": [
    "[<a href=\"#Dictionary-Method\">Back to top</a>]"
   ]
  },
  {
   "cell_type": "markdown",
   "metadata": {},
   "source": [
    "# pop, del "
   ]
  },
  {
   "cell_type": "code",
   "execution_count": 8,
   "metadata": {},
   "outputs": [
    {
     "name": "stdout",
     "output_type": "stream",
     "text": [
      "{'horse': 33.3, 'chicken': 22.7, 'beef': 33.8, 'pork': 25.3}\n",
      "\n",
      "{'chicken': 22.7, 'beef': 33.8, 'pork': 25.3}\n"
     ]
    }
   ],
   "source": [
    "x = {'pork':25.3, 'beef':33.8, 'chicken':22.7, 'horse': 33.3}\n",
    "print(x)\n",
    "print()\n",
    "\n",
    "del x['horse']\n",
    "print(x)"
   ]
  },
  {
   "cell_type": "code",
   "execution_count": 19,
   "metadata": {},
   "outputs": [
    {
     "name": "stdout",
     "output_type": "stream",
     "text": [
      "{'horse': 33.3, 'chicken': 22.7, 'beef': 33.8, 'pork': 25.3}\n",
      "\n",
      "{'chicken': 22.7, 'beef': 33.8, 'pork': 25.3}\n"
     ]
    }
   ],
   "source": [
    "x = {'pork':25.3, 'beef':33.8, 'chicken':22.7, 'horse': 33.3}\n",
    "print(x)\n",
    "print()\n",
    "\n",
    "x.pop('horse')\n",
    "print(x)"
   ]
  },
  {
   "cell_type": "code",
   "execution_count": 20,
   "metadata": {},
   "outputs": [
    {
     "name": "stdout",
     "output_type": "stream",
     "text": [
      "{'horse': 33.3, 'chicken': 22.7, 'beef': 33.8, 'pork': 25.3}\n",
      "\n",
      "{'chicken': 22.7, 'beef': 33.8, 'pork': 25.3}\n",
      "33.3\n"
     ]
    }
   ],
   "source": [
    "x = {'pork':25.3, 'beef':33.8, 'chicken':22.7, 'horse': 33.3}\n",
    "print(x)\n",
    "print()\n",
    "\n",
    "popped_item = x.pop('horse')\n",
    "print(x)\n",
    "print(popped_item)"
   ]
  },
  {
   "cell_type": "markdown",
   "metadata": {},
   "source": [
    "[<a href=\"#Dictionary-Method\">Back to top</a>]"
   ]
  }
 ],
 "metadata": {
  "kernelspec": {
   "display_name": "Python 3",
   "language": "python",
   "name": "python3"
  },
  "language_info": {
   "codemirror_mode": {
    "name": "ipython",
    "version": 3
   },
   "file_extension": ".py",
   "mimetype": "text/x-python",
   "name": "python",
   "nbconvert_exporter": "python",
   "pygments_lexer": "ipython3",
   "version": "3.5.0"
  }
 },
 "nbformat": 4,
 "nbformat_minor": 2
}
