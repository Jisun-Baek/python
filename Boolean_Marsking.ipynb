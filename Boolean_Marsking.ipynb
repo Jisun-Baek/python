{
 "cells": [
  {
   "cell_type": "markdown",
   "metadata": {},
   "source": [
    "# Boolean Marsking"
   ]
  },
  {
   "cell_type": "markdown",
   "metadata": {},
   "source": [
    "CS_Dojo [youtube](https://www.youtube.com/watch?v=r526yum0EYQ&index=11&list=PLBZBJbE_rGRWeh5mIBhD-hhDwSEDxogDg) [code](https://www.csdojo.io/python11)"
   ]
  },
  {
   "cell_type": "markdown",
   "metadata": {},
   "source": [
    "# np.ndarray comparison works componentwise"
   ]
  },
  {
   "cell_type": "code",
   "execution_count": 1,
   "metadata": {},
   "outputs": [
    {
     "name": "stdout",
     "output_type": "stream",
     "text": [
      "[ True False]\n",
      "[ True  True]\n",
      "[False False]\n",
      "[False  True]\n"
     ]
    }
   ],
   "source": [
    "import numpy as np\n",
    "\n",
    "print(np.array([3, 7]) < 5)       # [ True  False ]\n",
    "print(np.array([3, 7]) != 5)      # [ True  True  ]\n",
    "print(np.array([3, 7]) == 5)      # [ False False ]\n",
    "print(np.array([3, 7]) >= 5)      # [ False True  ]"
   ]
  },
  {
   "cell_type": "markdown",
   "metadata": {},
   "source": [
    "# how to change np.ndarray data type"
   ]
  },
  {
   "cell_type": "code",
   "execution_count": 2,
   "metadata": {},
   "outputs": [
    {
     "name": "stdout",
     "output_type": "stream",
     "text": [
      "3\n"
     ]
    }
   ],
   "source": [
    "print(int(3.14)) # int is for int type"
   ]
  },
  {
   "cell_type": "code",
   "execution_count": 3,
   "metadata": {},
   "outputs": [],
   "source": [
    "try:\n",
    "    print(int([3.14, 1.7])) # int is for int type, not list type\n",
    "except:\n",
    "    pass"
   ]
  },
  {
   "cell_type": "code",
   "execution_count": 4,
   "metadata": {},
   "outputs": [],
   "source": [
    "try:\n",
    "    print(int(np.array([3.14, 1.7]))) # int is for int type, not np.ndarray type\n",
    "except:\n",
    "    pass"
   ]
  },
  {
   "cell_type": "code",
   "execution_count": 5,
   "metadata": {},
   "outputs": [
    {
     "name": "stdout",
     "output_type": "stream",
     "text": [
      "[-0.44670457  0.38671228 -0.6046761   0.09101661 -1.53086331  0.25708252\n",
      " -1.1068968  -1.59140742  0.50642846 -0.69957044]\n",
      "\n",
      "[False  True False  True False  True False False  True False]\n",
      "<class 'numpy.ndarray'>\n",
      "\n",
      "[0 1 0 1 0 1 0 0 1 0]\n",
      "<class 'numpy.ndarray'>\n",
      "\n",
      "4\n"
     ]
    }
   ],
   "source": [
    "# count number of positive elements\n",
    "\n",
    "import numpy as np\n",
    "\n",
    "np.random.seed(337)\n",
    "\n",
    "a = np.random.normal(0.,1.,(10,))\n",
    "print(a)\n",
    "print()\n",
    "\n",
    "print(a>0)\n",
    "print(type(a>0))\n",
    "print()\n",
    "\n",
    "# print(int(a>0)) # not working - int is for int type, not np.ndarray type\n",
    "print((a>0).astype(np.int32))\n",
    "print(type((a>0).astype(np.int32)))\n",
    "print()\n",
    "\n",
    "print(np.sum((a>0).astype(np.int32)))"
   ]
  },
  {
   "cell_type": "code",
   "execution_count": 6,
   "metadata": {},
   "outputs": [
    {
     "name": "stdout",
     "output_type": "stream",
     "text": [
      "['T', '__abs__', '__add__', '__and__', '__array__', '__array_finalize__', '__array_interface__', '__array_prepare__', '__array_priority__', '__array_struct__', '__array_ufunc__', '__array_wrap__', '__bool__', '__class__', '__complex__', '__contains__', '__copy__', '__deepcopy__', '__delattr__', '__delitem__', '__dir__', '__divmod__', '__doc__', '__eq__', '__float__', '__floordiv__', '__format__', '__ge__', '__getattribute__', '__getitem__', '__gt__', '__hash__', '__iadd__', '__iand__', '__ifloordiv__', '__ilshift__', '__imatmul__', '__imod__', '__imul__', '__index__', '__init__', '__int__', '__invert__', '__ior__', '__ipow__', '__irshift__', '__isub__', '__iter__', '__itruediv__', '__ixor__', '__le__', '__len__', '__lshift__', '__lt__', '__matmul__', '__mod__', '__mul__', '__ne__', '__neg__', '__new__', '__or__', '__pos__', '__pow__', '__radd__', '__rand__', '__rdivmod__', '__reduce__', '__reduce_ex__', '__repr__', '__rfloordiv__', '__rlshift__', '__rmatmul__', '__rmod__', '__rmul__', '__ror__', '__rpow__', '__rrshift__', '__rshift__', '__rsub__', '__rtruediv__', '__rxor__', '__setattr__', '__setitem__', '__setstate__', '__sizeof__', '__str__', '__sub__', '__subclasshook__', '__truediv__', '__xor__', 'all', 'any', 'argmax', 'argmin', 'argpartition', 'argsort', 'astype', 'base', 'byteswap', 'choose', 'clip', 'compress', 'conj', 'conjugate', 'copy', 'ctypes', 'cumprod', 'cumsum', 'data', 'diagonal', 'dot', 'dtype', 'dump', 'dumps', 'fill', 'flags', 'flat', 'flatten', 'getfield', 'imag', 'item', 'itemset', 'itemsize', 'max', 'mean', 'min', 'nbytes', 'ndim', 'newbyteorder', 'nonzero', 'partition', 'prod', 'ptp', 'put', 'ravel', 'real', 'repeat', 'reshape', 'resize', 'round', 'searchsorted', 'setfield', 'setflags', 'shape', 'size', 'sort', 'squeeze', 'std', 'strides', 'sum', 'swapaxes', 'take', 'tobytes', 'tofile', 'tolist', 'tostring', 'trace', 'transpose', 'var', 'view']\n"
     ]
    }
   ],
   "source": [
    "import numpy as np\n",
    "\n",
    "print(dir(np.ndarray))"
   ]
  },
  {
   "cell_type": "markdown",
   "metadata": {},
   "source": [
    "# np.ndarray methods - sum, any, all"
   ]
  },
  {
   "cell_type": "code",
   "execution_count": 7,
   "metadata": {},
   "outputs": [
    {
     "name": "stdout",
     "output_type": "stream",
     "text": [
      "[-0.44670457  0.38671228 -0.6046761   0.09101661 -1.53086331  0.25708252\n",
      " -1.1068968  -1.59140742  0.50642846 -0.69957044]\n",
      "\n",
      "4\n",
      "True\n",
      "False\n"
     ]
    }
   ],
   "source": [
    "import numpy as np\n",
    "\n",
    "np.random.seed(337)\n",
    "\n",
    "a = np.random.normal(0.,1.,(10,))\n",
    "print(a)\n",
    "print()\n",
    "\n",
    "print((a > 0).sum())             # counts number of positive values\n",
    "print((a > 0).any())             # checks if any value is True\n",
    "print((a > 0).all())             # checks if all values are True"
   ]
  },
  {
   "cell_type": "markdown",
   "metadata": {},
   "source": [
    "# boolean marsking"
   ]
  },
  {
   "cell_type": "code",
   "execution_count": 8,
   "metadata": {},
   "outputs": [
    {
     "name": "stdout",
     "output_type": "stream",
     "text": [
      "[-0.44670457  0.38671228 -0.6046761   0.09101661 -1.53086331  0.25708252\n",
      " -1.1068968  -1.59140742  0.50642846 -0.69957044]\n",
      "\n",
      "[0.38671228 0.09101661 0.25708252 0.50642846]\n",
      "\n",
      "1.241239868100609\n"
     ]
    }
   ],
   "source": [
    "import numpy as np\n",
    "\n",
    "np.random.seed(337)\n",
    "\n",
    "a = np.random.normal(0.,1.,(10,))\n",
    "\n",
    "print(a)\n",
    "print()\n",
    "\n",
    "print(a[a>0])\n",
    "print()\n",
    "\n",
    "print(np.sum(a[a>0]))"
   ]
  },
  {
   "cell_type": "code",
   "execution_count": 9,
   "metadata": {},
   "outputs": [
    {
     "name": "stdout",
     "output_type": "stream",
     "text": [
      "[0.79990679 0.15356741 0.5677806  0.04969421 0.54533612 0.23003453\n",
      " 0.33956951 0.38841324 0.16388442 0.74331859]\n",
      "\n",
      "[0 0 0 0 0 0 0 0 0 0]\n",
      "\n",
      "[1 0 1 0 1 0 0 0 0 1]\n"
     ]
    }
   ],
   "source": [
    "# coin flip\n",
    "\n",
    "import numpy as np\n",
    "\n",
    "# fix the seed\n",
    "np.random.seed(337)\n",
    "\n",
    "# probability of head when we flip a coin\n",
    "p = 0.5\n",
    "\n",
    "# number of flips\n",
    "n = 10\n",
    "\n",
    "uniform_flip = np.random.uniform(0.,1.,(n,))\n",
    "print(uniform_flip)\n",
    "print()\n",
    "\n",
    "coin_flip = np.zeros_like(uniform_flip).astype(np.int32)\n",
    "print(coin_flip)\n",
    "print()\n",
    "\n",
    "coin_flip[uniform_flip>1-p] = 1        \n",
    "print(coin_flip)"
   ]
  }
 ],
 "metadata": {
  "kernelspec": {
   "display_name": "Python 3",
   "language": "python",
   "name": "python3"
  },
  "language_info": {
   "codemirror_mode": {
    "name": "ipython",
    "version": 3
   },
   "file_extension": ".py",
   "mimetype": "text/x-python",
   "name": "python",
   "nbconvert_exporter": "python",
   "pygments_lexer": "ipython3",
   "version": "3.5.0"
  }
 },
 "nbformat": 4,
 "nbformat_minor": 2
}
