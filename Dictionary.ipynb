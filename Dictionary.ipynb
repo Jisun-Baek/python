{
 "cells": [
  {
   "cell_type": "markdown",
   "metadata": {},
   "source": [
    "# Dictionary"
   ]
  },
  {
   "cell_type": "markdown",
   "metadata": {},
   "source": [
    "Corey_Schafer [youtube](https://www.youtube.com/watch?v=daefaLgNkw0&index=5&list=PL-osiE80TeTt2d9bfVyTiXJA-UTHn6WwU)\n",
    "Joe_James \n",
    "[youtube](https://www.youtube.com/watch?v=R-HLU9Fl5ug&index=9&list=PLj8W7XIvO93qsmdxbaDpIvM1KCyNO1K_c) \n",
    "[github](https://github.com/joeyajames/Python)\n",
    "[youtube](https://www.youtube.com/watch?v=9HFbhPscPU0&list=PLj8W7XIvO93qsmdxbaDpIvM1KCyNO1K_c&index=7) \n",
    "[github](https://github.com/joeyajames/Python)\n",
    "CS_Dojo [youtube](https://www.youtube.com/watch?v=ZEZdys-fHDw&list=PLBZBJbE_rGRWeh5mIBhD-hhDwSEDxogDg&index=8) [code](https://www.csdojo.io/python8)"
   ]
  },
  {
   "cell_type": "markdown",
   "metadata": {},
   "source": [
    "<a href=\"#Dict---Constructor\">Dict - Constructor</a>\n",
    "\n",
    "<a href=\"#Basic-Dict-Operations\">Basic Dict Operations</a>\n",
    "\n",
    "<a href=\"#키와-벨류\">키와 벨류</a>\n",
    "\n",
    "<a href=\"#키와-벨류에-접근하는-방법\">키와 벨류에 접근하는 방법</a>\n",
    "\n",
    "<a href=\"#Iteration-over-Dict\">Iteration over Dict</a>\n",
    "\n",
    "<a href=\"#Dictionaries-are-mutable,-but-keys-are-not\">Dictionaries are mutable, but keys are not</a>"
   ]
  },
  {
   "cell_type": "markdown",
   "metadata": {},
   "source": [
    "# Dict - Constructor"
   ]
  },
  {
   "cell_type": "markdown",
   "metadata": {},
   "source": [
    "딕션너리는 키와 벨류 페어로 이루어진 아이템을 담을 수 있는 유용한 용기이다.\n",
    "리스트는 인덱싱을 0, 1로 시작하는 정수를 사용하는데,\n",
    "딕션너리는 아이템을 딕션너리에 넣을 때 사용자가 지정하는 키라고 부르는 아이템을 이용 인덱싱을 한다.\n",
    "사용자 지정 인덱싱인 것이다."
   ]
  },
  {
   "cell_type": "code",
   "execution_count": 18,
   "metadata": {},
   "outputs": [
    {
     "name": "stdout",
     "output_type": "stream",
     "text": [
      "{'pork': 25.3, 'chicken': 22.7, 'beef': 33.8}\n",
      "<class 'dict'>\n",
      "\n",
      "3\n",
      "22.7\n"
     ]
    }
   ],
   "source": [
    "if 0: \n",
    "    # empty dict\n",
    "    x = dict()\n",
    "    x['pork'] = 25.3\n",
    "    x['beef'] = 33.8\n",
    "    x['chicken'] = 22.7\n",
    "elif 0: \n",
    "    # empty dict\n",
    "    x = {}\n",
    "    x['pork'] = 25.3\n",
    "    x['beef'] = 33.8\n",
    "    x['chicken'] = 22.7\n",
    "elif 0: \n",
    "    # explicit construction\n",
    "    x = {'pork':25.3, 'beef':33.8, 'chicken':22.7}\n",
    "elif 0: \n",
    "    # explicit construction\n",
    "    x = dict( [('pork',25.3), ('beef',33.8), ('chicken',22.7)] )\n",
    "elif 1: \n",
    "    # explicit construction\n",
    "    x = dict(pork=25.3, beef=33.8, chicken=22.7)\n",
    "\n",
    "print(x)\n",
    "print(type(x))\n",
    "print()\n",
    "\n",
    "print(len(x))\n",
    "print(x['chicken'])"
   ]
  },
  {
   "cell_type": "markdown",
   "metadata": {},
   "source": [
    "[<a href=\"#Dictionary\">Back to top</a>]"
   ]
  },
  {
   "cell_type": "markdown",
   "metadata": {},
   "source": [
    "# Basic Dict Operations"
   ]
  },
  {
   "cell_type": "markdown",
   "metadata": {},
   "source": [
    "<div align=\"center\"><img src=\"img/Screen Shot 2018-08-06 at 12.46.42 AM.png\" width=\"70%\"></div>\n",
    "\n",
    "Joe_James \n",
    "[youtube](https://www.youtube.com/watch?v=R-HLU9Fl5ug&index=9&list=PLj8W7XIvO93qsmdxbaDpIvM1KCyNO1K_c) \n",
    "[github](https://github.com/joeyajames/Python)"
   ]
  },
  {
   "cell_type": "code",
   "execution_count": 2,
   "metadata": {},
   "outputs": [
    {
     "name": "stdout",
     "output_type": "stream",
     "text": [
      "['__class__', '__contains__', '__delattr__', '__delitem__', '__dir__', '__doc__', '__eq__', '__format__', '__ge__', '__getattribute__', '__getitem__', '__gt__', '__hash__', '__init__', '__iter__', '__le__', '__len__', '__lt__', '__ne__', '__new__', '__reduce__', '__reduce_ex__', '__repr__', '__setattr__', '__setitem__', '__sizeof__', '__str__', '__subclasshook__', 'clear', 'copy', 'fromkeys', 'get', 'items', 'keys', 'pop', 'popitem', 'setdefault', 'update', 'values']\n"
     ]
    }
   ],
   "source": [
    "print(dir(dict))"
   ]
  },
  {
   "cell_type": "markdown",
   "metadata": {},
   "source": [
    "다음의 어싸인먼트를 통하여 새로운 아이템을 추가할 수도 있고,\n",
    "기존의 아이템의 벨류를 업데이트할 수도 있다."
   ]
  },
  {
   "cell_type": "code",
   "execution_count": 3,
   "metadata": {},
   "outputs": [
    {
     "name": "stdout",
     "output_type": "stream",
     "text": [
      "{'pork': 25.3, 'chicken': 22.7, 'beef': 33.8}\n",
      "\n",
      "{'pork': 25.3, 'horse': 25.5, 'chicken': 22.7, 'beef': 33.8}\n"
     ]
    }
   ],
   "source": [
    "x = {'pork':25.3, 'beef':33.8, 'chicken':22.7}\n",
    "print(x)\n",
    "print()\n",
    "\n",
    "x['horse'] = 25.50\n",
    "print(x)"
   ]
  },
  {
   "cell_type": "code",
   "execution_count": 4,
   "metadata": {},
   "outputs": [
    {
     "name": "stdout",
     "output_type": "stream",
     "text": [
      "{'pork': 25.3, 'chicken': 22.7, 'beef': 33.8}\n",
      "\n",
      "{'pork': 10.5, 'chicken': 22.7, 'beef': 33.8}\n"
     ]
    }
   ],
   "source": [
    "x = {'pork':25.3, 'beef':33.8, 'chicken':22.7}\n",
    "print(x)\n",
    "print()\n",
    "\n",
    "x['pork'] = 10.50\n",
    "print(x)"
   ]
  },
  {
   "cell_type": "markdown",
   "metadata": {},
   "source": [
    "문제. char = 'Super Bowl' 에 들어있는 문자들에 나오는 순서대로 인덱싱하여 char_dic = {'S': 0, 'u': 1, 'p': 2, 'e': 3, 'r': 4, ' ': 5, 'B': 6, ...} 을 만들어라."
   ]
  },
  {
   "cell_type": "code",
   "execution_count": 5,
   "metadata": {},
   "outputs": [
    {
     "name": "stdout",
     "output_type": "stream",
     "text": [
      "['S', 'u', 'p', 'e', 'r', ' ', 'B', 'o', 'w', 'l']\n",
      "{'l': 9, 'r': 4, 'S': 0, 'p': 2, 'o': 7, 'u': 1, 'e': 3, 'B': 6, ' ': 5, 'w': 8}\n"
     ]
    }
   ],
   "source": [
    "char = 'Super Bowl'\n",
    "char_list = list(char)\n",
    "char_dic = {w: i for i, w in enumerate(char_list)}\n",
    "\n",
    "print(char_list) \n",
    "print(char_dic) "
   ]
  },
  {
   "cell_type": "markdown",
   "metadata": {},
   "source": [
    "[<a href=\"#Dictionary\">Back to top</a>]"
   ]
  },
  {
   "cell_type": "markdown",
   "metadata": {},
   "source": [
    "# 키와 벨류"
   ]
  },
  {
   "cell_type": "markdown",
   "metadata": {},
   "source": [
    "딕션너리는 키와 벨류로 구성되어 있어요.\n",
    "키를 이용, 벨류를 부르는 것이죠."
   ]
  },
  {
   "cell_type": "code",
   "execution_count": 6,
   "metadata": {},
   "outputs": [
    {
     "name": "stdout",
     "output_type": "stream",
     "text": [
      "{'pork': 25.3, 'chicken': 22.7, 'beef': 33.8}\n",
      "\n",
      "25.3\n"
     ]
    }
   ],
   "source": [
    "x = {'pork':25.3, 'beef':33.8, 'chicken':22.7}\n",
    "print(x)\n",
    "print()\n",
    "\n",
    "print(x['pork'])"
   ]
  },
  {
   "cell_type": "markdown",
   "metadata": {},
   "source": [
    "하지만, `'horse'`이라는 키는 없어요.\n",
    "그래서 `x['horse']`을 돌리면 에러가 발생하죠."
   ]
  },
  {
   "cell_type": "code",
   "execution_count": 19,
   "metadata": {},
   "outputs": [
    {
     "name": "stdout",
     "output_type": "stream",
     "text": [
      "{'pork': 25.3, 'chicken': 22.7, 'beef': 33.8}\n",
      "\n",
      "'horse'\n"
     ]
    }
   ],
   "source": [
    "x = {'pork':25.3, 'beef':33.8, 'chicken':22.7}\n",
    "print(x)\n",
    "print()\n",
    "\n",
    "try:\n",
    "    print(x['horse'])\n",
    "except Exception as e:\n",
    "    print(e)"
   ]
  },
  {
   "cell_type": "markdown",
   "metadata": {},
   "source": [
    "[<a href=\"#Dictionary\">Back to top</a>]"
   ]
  },
  {
   "cell_type": "markdown",
   "metadata": {},
   "source": [
    "# 키와 벨류에 접근하는 방법"
   ]
  },
  {
   "cell_type": "code",
   "execution_count": 21,
   "metadata": {},
   "outputs": [
    {
     "name": "stdout",
     "output_type": "stream",
     "text": [
      "{'pork': 25.3, 'chicken': 22.7, 'beef': 33.8}\n",
      "<class 'dict'>\n",
      "\n",
      "dict_keys(['pork', 'chicken', 'beef'])\n",
      "<class 'dict_keys'>\n",
      "\n",
      "dict_values([25.3, 22.7, 33.8])\n",
      "<class 'dict_values'>\n",
      "\n",
      "dict_items([('pork', 25.3), ('chicken', 22.7), ('beef', 33.8)])\n",
      "<class 'dict_items'>\n"
     ]
    }
   ],
   "source": [
    "x = {'pork':25.3, 'beef':33.8, 'chicken':22.7}\n",
    "print(x)\n",
    "print(type(x))\n",
    "print()\n",
    "\n",
    "print(x.keys())\n",
    "print(type(x.keys()))\n",
    "print()\n",
    "\n",
    "print(x.values())\n",
    "print(type(x.values()))\n",
    "print()\n",
    "\n",
    "print(x.items())\n",
    "print(type(x.items()))"
   ]
  },
  {
   "cell_type": "markdown",
   "metadata": {},
   "source": [
    "[<a href=\"#Dictionary\">Back to top</a>]"
   ]
  },
  {
   "cell_type": "markdown",
   "metadata": {},
   "source": [
    "# Iteration over Dict"
   ]
  },
  {
   "cell_type": "markdown",
   "metadata": {},
   "source": [
    "순서는 랜덤하다."
   ]
  },
  {
   "cell_type": "code",
   "execution_count": 9,
   "metadata": {},
   "outputs": [
    {
     "name": "stdout",
     "output_type": "stream",
     "text": [
      "{'pork': 25.3, 'chicken': 22.7, 'beef': 33.8}\n",
      "\n",
      "pork\n",
      "chicken\n",
      "beef\n",
      "\n",
      "pork 25.3\n",
      "chicken 22.7\n",
      "beef 33.8\n",
      "\n",
      "pork 25.3\n",
      "chicken 22.7\n",
      "beef 33.8\n"
     ]
    }
   ],
   "source": [
    "x = {'pork':25.3, 'beef':33.8, 'chicken':22.7}\n",
    "print(x)\n",
    "print()\n",
    "\n",
    "for key in x:\n",
    "    print(key)\n",
    "print()\n",
    "\n",
    "for key in x:\n",
    "    print(key, x[key])\n",
    "print()\n",
    "    \n",
    "for key, value in x.items():\n",
    "    print(key, value)"
   ]
  },
  {
   "cell_type": "markdown",
   "metadata": {},
   "source": [
    "[<a href=\"#Dictionary\">Back to top</a>]"
   ]
  },
  {
   "cell_type": "markdown",
   "metadata": {},
   "source": [
    "# Dictionaries are mutable, but keys are not"
   ]
  },
  {
   "cell_type": "markdown",
   "metadata": {},
   "source": [
    "- Dictionaries are mutable\n",
    "\n",
    "- Keys are immutable. For example, you cannot use lists as keys"
   ]
  },
  {
   "cell_type": "code",
   "execution_count": 22,
   "metadata": {},
   "outputs": [
    {
     "name": "stdout",
     "output_type": "stream",
     "text": [
      "{'money': 12, 'candy': 3}\n",
      "\n",
      "{'money': 12, 'candy': 5}\n",
      "\n",
      "{'money': 12, 'candy': 5, 'cards': 3}\n"
     ]
    }
   ],
   "source": [
    "purse = {}\n",
    "purse['money'] = 12\n",
    "purse['candy'] = 3\n",
    "print(purse)\n",
    "print()\n",
    "\n",
    "purse['candy'] = purse['candy'] + 2\n",
    "print(purse)\n",
    "print()\n",
    "\n",
    "purse['cards'] = 3\n",
    "print(purse)"
   ]
  },
  {
   "cell_type": "markdown",
   "metadata": {},
   "source": [
    "Keys are immutable. For example, you cannot use lists as keys."
   ]
  },
  {
   "cell_type": "code",
   "execution_count": 23,
   "metadata": {},
   "outputs": [
    {
     "name": "stdout",
     "output_type": "stream",
     "text": [
      "unhashable type: 'list'\n"
     ]
    }
   ],
   "source": [
    "try:\n",
    "    d = {'first_middle': 'Johann Sebastian', 'last': 'Bach'}\n",
    "    d[[1 ,2]] = 'hi'\n",
    "except Exception as e:\n",
    "    print(e)"
   ]
  },
  {
   "cell_type": "code",
   "execution_count": 25,
   "metadata": {},
   "outputs": [
    {
     "name": "stdout",
     "output_type": "stream",
     "text": [
      "{'last': 'Bach', 'first_middle': 'Johann Sebastian'}\n",
      "\n",
      "{(1, 2): 'hi', 'last': 'Bach', 'first_middle': 'Johann Sebastian'}\n"
     ]
    }
   ],
   "source": [
    "d = {'first_middle': 'Johann Sebastian', 'last': 'Bach'}\n",
    "print(d)\n",
    "print()\n",
    "\n",
    "d[(1 ,2)] = 'hi'\n",
    "print(d) "
   ]
  },
  {
   "cell_type": "markdown",
   "metadata": {},
   "source": [
    "[<a href=\"#Dictionary\">Back to top</a>]"
   ]
  }
 ],
 "metadata": {
  "kernelspec": {
   "display_name": "Python 3",
   "language": "python",
   "name": "python3"
  },
  "language_info": {
   "codemirror_mode": {
    "name": "ipython",
    "version": 3
   },
   "file_extension": ".py",
   "mimetype": "text/x-python",
   "name": "python",
   "nbconvert_exporter": "python",
   "pygments_lexer": "ipython3",
   "version": "3.5.0"
  }
 },
 "nbformat": 4,
 "nbformat_minor": 2
}
