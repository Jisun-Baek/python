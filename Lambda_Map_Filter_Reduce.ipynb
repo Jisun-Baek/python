{
 "cells": [
  {
   "cell_type": "markdown",
   "metadata": {},
   "source": [
    "# Lambda, Map, Filter, Reduce"
   ]
  },
  {
   "cell_type": "markdown",
   "metadata": {},
   "source": [
    "Joe_James \n",
    "[youtube](https://www.youtube.com/watch?v=cKlnR-CB3tk) \n",
    "[github](https://github.com/joeyajames/Python)\n",
    "Telusko \n",
    "[youtube](https://www.youtube.com/watch?v=hYzwCsKGRrg&index=42&list=PLsyeobzWxl7poL9JTVyndKe62ieoN-MZ3)\n",
    "[youtube](https://www.youtube.com/watch?v=kj850Y8y8FI&index=43&list=PLsyeobzWxl7poL9JTVyndKe62ieoN-MZ3)"
   ]
  },
  {
   "cell_type": "markdown",
   "metadata": {},
   "source": [
    "# lambda"
   ]
  },
  {
   "cell_type": "markdown",
   "metadata": {},
   "source": [
    "> A simple 1-line function\n",
    "\n",
    "> Don't use `def` keyword\n",
    "\n",
    "> Don't use `return` keyword"
   ]
  },
  {
   "cell_type": "code",
   "execution_count": 1,
   "metadata": {},
   "outputs": [
    {
     "name": "stdout",
     "output_type": "stream",
     "text": [
      "6\n"
     ]
    }
   ],
   "source": [
    "if 1:\n",
    "    def f(x):\n",
    "        return 2*x\n",
    "elif 1:\n",
    "    f = lambda x: 2*x\n",
    "\n",
    "print(f(3))"
   ]
  },
  {
   "cell_type": "code",
   "execution_count": 3,
   "metadata": {},
   "outputs": [
    {
     "name": "stdout",
     "output_type": "stream",
     "text": [
      "4.0\n"
     ]
    }
   ],
   "source": [
    "if 1:\n",
    "    def g(x, y):\n",
    "        return x + y\n",
    "elif 1:\n",
    "    g = lambda x, y: x + y\n",
    "\n",
    "print(g(3, 1.0))"
   ]
  },
  {
   "cell_type": "code",
   "execution_count": 5,
   "metadata": {},
   "outputs": [
    {
     "name": "stdout",
     "output_type": "stream",
     "text": [
      "3\n"
     ]
    }
   ],
   "source": [
    "if 1: def my_max(x, y):\n",
    "        if x > y:\n",
    "            return x\n",
    "        else:\n",
    "            return y\n",
    "elif 1:\n",
    "    my_max = lambda x, y: x if x > y else y\n",
    "\n",
    "print(my_max(3, 1.0))"
   ]
  },
  {
   "cell_type": "markdown",
   "metadata": {},
   "source": [
    "# filter"
   ]
  },
  {
   "cell_type": "markdown",
   "metadata": {},
   "source": [
    "<div align=\"center\"><img src=\"img/Screen Shot 2018-08-16 at 12.52.28 AM.png\" width=\"50%\"></div>\n",
    "\n",
    "Joe_James \n",
    "[youtube](https://www.youtube.com/watch?v=cKlnR-CB3tk) \n",
    "[github](https://github.com/joeyajames/Python)"
   ]
  },
  {
   "cell_type": "code",
   "execution_count": null,
   "metadata": {},
   "outputs": [],
   "source": [
    "def f(x):\n",
    "    return (x > 2)\n",
    "\n",
    "n = [4,3,2,1]\n",
    "\n",
    "print(filter(f, n))\n",
    "print(list(filter(f, n)))"
   ]
  },
  {
   "cell_type": "code",
   "execution_count": 1,
   "metadata": {},
   "outputs": [
    {
     "name": "stdout",
     "output_type": "stream",
     "text": [
      "<filter object at 0x11305d7f0>\n",
      "[4, 3]\n"
     ]
    }
   ],
   "source": [
    "n = [4,3,2,1]\n",
    "\n",
    "print(filter(lambda x: x>2, n))\n",
    "print(list(filter(lambda x: x>2, n)))"
   ]
  },
  {
   "cell_type": "code",
   "execution_count": 3,
   "metadata": {},
   "outputs": [
    {
     "name": "stdout",
     "output_type": "stream",
     "text": [
      "[4, 3]\n"
     ]
    }
   ],
   "source": [
    "n = [4,3,2,1]\n",
    "print([x for x in n if x>2])"
   ]
  },
  {
   "cell_type": "markdown",
   "metadata": {},
   "source": [
    "# map"
   ]
  },
  {
   "cell_type": "markdown",
   "metadata": {},
   "source": [
    "<div align=\"center\"><img src=\"img/Screen Shot 2018-08-16 at 12.50.46 AM.png\" width=\"50%\"></div>\n",
    "\n",
    "Joe_James \n",
    "[youtube](https://www.youtube.com/watch?v=cKlnR-CB3tk) \n",
    "[github](https://github.com/joeyajames/Python)"
   ]
  },
  {
   "cell_type": "code",
   "execution_count": 7,
   "metadata": {},
   "outputs": [
    {
     "name": "stdout",
     "output_type": "stream",
     "text": [
      "[16, 9, 4, 1]\n"
     ]
    }
   ],
   "source": [
    "n = [4,3,2,1]\n",
    "\n",
    "m = []\n",
    "for i in n:\n",
    "    m.append(i**2)\n",
    "    \n",
    "print(m)    "
   ]
  },
  {
   "cell_type": "code",
   "execution_count": 8,
   "metadata": {},
   "outputs": [
    {
     "name": "stdout",
     "output_type": "stream",
     "text": [
      "[16, 9, 4, 1]\n"
     ]
    }
   ],
   "source": [
    "n = [4,3,2,1]\n",
    "\n",
    "def square_list(n):\n",
    "    m = []\n",
    "    for i in n:\n",
    "        m.append(i**2)\n",
    "    return m\n",
    "    \n",
    "print(square_list(n))  "
   ]
  },
  {
   "cell_type": "code",
   "execution_count": 9,
   "metadata": {},
   "outputs": [
    {
     "name": "stdout",
     "output_type": "stream",
     "text": [
      "<map object at 0x11037aeb8>\n",
      "[16, 9, 4, 1]\n"
     ]
    }
   ],
   "source": [
    "n = [4,3,2,1]\n",
    "\n",
    "print(map(lambda x: x**2, n))\n",
    "print(list(map(lambda x: x**2, n)))"
   ]
  },
  {
   "cell_type": "code",
   "execution_count": 10,
   "metadata": {},
   "outputs": [
    {
     "name": "stdout",
     "output_type": "stream",
     "text": [
      "<map object at 0x11068f518>\n",
      "[16, 9, 4, 1]\n"
     ]
    }
   ],
   "source": [
    "def square_function(x):\n",
    "    return x**2\n",
    "\n",
    "n = [4,3,2,1]\n",
    "\n",
    "print(map(square_function, n))\n",
    "print(list(map(square_function, n)))"
   ]
  },
  {
   "cell_type": "code",
   "execution_count": 11,
   "metadata": {},
   "outputs": [
    {
     "name": "stdout",
     "output_type": "stream",
     "text": [
      "[16, 9, 4, 1]\n"
     ]
    }
   ],
   "source": [
    "n = [4,3,2,1]\n",
    "print([x**2 for x in n])"
   ]
  },
  {
   "cell_type": "markdown",
   "metadata": {},
   "source": [
    "# reduce"
   ]
  },
  {
   "cell_type": "markdown",
   "metadata": {},
   "source": [
    "<div align=\"center\"><img src=\"img/Screen Shot 2018-08-16 at 12.52.53 AM.png\" width=\"50%\"></div>\n",
    "\n",
    "Joe_James \n",
    "[youtube](https://www.youtube.com/watch?v=cKlnR-CB3tk) \n",
    "[github](https://github.com/joeyajames/Python)"
   ]
  },
  {
   "cell_type": "markdown",
   "metadata": {},
   "source": [
    "NameError: name 'reduce' is not defined in Python:\n",
    "\n",
    "It was moved to functools.\n",
    "You can add\n",
    "\n",
    "```\n",
    "from functools import reduce\n",
    "```\n",
    "\n",
    "before you use the reduce.\n",
    "\n",
    "https://stackoverflow.com/questions/8689184/nameerror-name-reduce-is-not-defined-in-python"
   ]
  },
  {
   "cell_type": "code",
   "execution_count": 14,
   "metadata": {},
   "outputs": [
    {
     "name": "stdout",
     "output_type": "stream",
     "text": [
      "24\n"
     ]
    }
   ],
   "source": [
    "n = [4,3,2,1]\n",
    "\n",
    "m = 1\n",
    "for i in n:\n",
    "    m *= i\n",
    "    \n",
    "print(m) "
   ]
  },
  {
   "cell_type": "code",
   "execution_count": 3,
   "metadata": {},
   "outputs": [
    {
     "name": "stdout",
     "output_type": "stream",
     "text": [
      "24\n"
     ]
    }
   ],
   "source": [
    "from functools import reduce\n",
    "\n",
    "n = [4,3,2,1]\n",
    "print(reduce(lambda x, y: x*y, n))"
   ]
  }
 ],
 "metadata": {
  "kernelspec": {
   "display_name": "Python 3",
   "language": "python",
   "name": "python3"
  },
  "language_info": {
   "codemirror_mode": {
    "name": "ipython",
    "version": 3
   },
   "file_extension": ".py",
   "mimetype": "text/x-python",
   "name": "python",
   "nbconvert_exporter": "python",
   "pygments_lexer": "ipython3",
   "version": "3.5.0"
  }
 },
 "nbformat": 4,
 "nbformat_minor": 2
}
