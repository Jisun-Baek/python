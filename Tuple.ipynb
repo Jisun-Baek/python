{
 "cells": [
  {
   "cell_type": "markdown",
   "metadata": {},
   "source": [
    "# Tuples"
   ]
  },
  {
   "cell_type": "markdown",
   "metadata": {},
   "source": [
    "Corey_Schafer [youtube](https://www.youtube.com/watch?v=W8KRzm-HUcc&index=4&list=PL-osiE80TeTt2d9bfVyTiXJA-UTHn6WwU)\n",
    "Joe_James \n",
    "[youtube](https://www.youtube.com/watch?v=R-HLU9Fl5ug&index=9&list=PLj8W7XIvO93qsmdxbaDpIvM1KCyNO1K_c) \n",
    "[github](https://github.com/joeyajames/Python)"
   ]
  },
  {
   "cell_type": "markdown",
   "metadata": {},
   "source": [
    "<a href=\"#리스트와-투플은-여러가지-다른-종류의-아이템을-담을-수-있다\">리스트와 투플은 여러가지 다른 종류의 아이템을 담을 수 있다</a>\n",
    "\n",
    "<a href=\"#Lists-are-mutable,-whereas-strings-and-tuples-are-immutable\">Lists are mutable, whereas strings and tuples are immutable</a>\n",
    "\n",
    "<a href=\"#Tuple---Constructor\">Tuple - Constructor</a>\n",
    "\n",
    "<a href=\"#Tuple-Comprehension-as-Generator\">Tuple Comprehension as Generator</a>\n",
    "\n",
    "<a href=\"#Indexing-and-Slicing\">Indexing and Slicing</a>\n",
    "\n",
    "<a href=\"#Operations-on-Tuple\">Operations on Tuple</a>"
   ]
  },
  {
   "cell_type": "markdown",
   "metadata": {},
   "source": [
    "# 리스트와 투플은 여러가지 다른 종류의 아이템을 담을 수 있다"
   ]
  },
  {
   "cell_type": "code",
   "execution_count": 1,
   "metadata": {},
   "outputs": [
    {
     "name": "stdout",
     "output_type": "stream",
     "text": [
      "[1, 2, 3, 4, 5]\n",
      "<class 'list'>\n"
     ]
    }
   ],
   "source": [
    "a = [1,2,3,4,5]\n",
    "\n",
    "print(a)\n",
    "print(type(a))"
   ]
  },
  {
   "cell_type": "code",
   "execution_count": 2,
   "metadata": {},
   "outputs": [
    {
     "name": "stdout",
     "output_type": "stream",
     "text": [
      "(1, 2, 3, 4, 5)\n",
      "<class 'tuple'>\n"
     ]
    }
   ],
   "source": [
    "a = (1,2,3,4,5)\n",
    "\n",
    "print(a)\n",
    "print(type(a))"
   ]
  },
  {
   "cell_type": "code",
   "execution_count": 3,
   "metadata": {},
   "outputs": [
    {
     "name": "stdout",
     "output_type": "stream",
     "text": [
      "['a', 'b', 'c', 'd', 25, 'dog', 8.43]\n",
      "<class 'list'>\n"
     ]
    }
   ],
   "source": [
    "a = ['a', 'b', 'c', 'd', 25, 'dog', 8.43]\n",
    "\n",
    "print(a)\n",
    "print(type(a))"
   ]
  },
  {
   "cell_type": "code",
   "execution_count": 4,
   "metadata": {},
   "outputs": [
    {
     "name": "stdout",
     "output_type": "stream",
     "text": [
      "('a', 'b', 'c', 'd', 25, 'dog', 8.43)\n",
      "<class 'tuple'>\n"
     ]
    }
   ],
   "source": [
    "a = ('a', 'b', 'c', 'd', 25, 'dog', 8.43)\n",
    "\n",
    "print(a)\n",
    "print(type(a))"
   ]
  },
  {
   "cell_type": "code",
   "execution_count": 5,
   "metadata": {},
   "outputs": [
    {
     "name": "stdout",
     "output_type": "stream",
     "text": [
      "[]\n",
      "<class 'list'>\n"
     ]
    }
   ],
   "source": [
    "a = []\n",
    "\n",
    "print(a)\n",
    "print(type(a))  "
   ]
  },
  {
   "cell_type": "code",
   "execution_count": 6,
   "metadata": {},
   "outputs": [
    {
     "name": "stdout",
     "output_type": "stream",
     "text": [
      "()\n",
      "<class 'tuple'>\n"
     ]
    }
   ],
   "source": [
    "a = ()\n",
    "\n",
    "print(a)\n",
    "print(type(a))"
   ]
  },
  {
   "cell_type": "markdown",
   "metadata": {},
   "source": [
    "[<a href=\"#Tuples\">Back to top</a>]"
   ]
  },
  {
   "cell_type": "markdown",
   "metadata": {},
   "source": [
    "# Lists are mutable, whereas strings and tuples are immutable"
   ]
  },
  {
   "cell_type": "markdown",
   "metadata": {},
   "source": [
    "> list: mutable 멤버교체 가능\n",
    "\n",
    "> tuple: immutable 멤버교체 불가능\n",
    "\n",
    "> string: immutable 멤버교체 불가능"
   ]
  },
  {
   "cell_type": "code",
   "execution_count": 7,
   "metadata": {},
   "outputs": [
    {
     "name": "stdout",
     "output_type": "stream",
     "text": [
      "['History', 'Math', 'Physics', 'CompSci']\n",
      "\n",
      "['Art', 'Math', 'Physics', 'CompSci']\n"
     ]
    }
   ],
   "source": [
    "x = ['History', 'Math', 'Physics', 'CompSci']\n",
    "print(x)\n",
    "print()\n",
    "\n",
    "x[0] = 'Art'\n",
    "print(x)"
   ]
  },
  {
   "cell_type": "markdown",
   "metadata": {},
   "source": [
    "터플은 고칠 수없다. "
   ]
  },
  {
   "cell_type": "code",
   "execution_count": 8,
   "metadata": {},
   "outputs": [
    {
     "name": "stdout",
     "output_type": "stream",
     "text": [
      "'tuple' object does not support item assignment\n"
     ]
    }
   ],
   "source": [
    "try:\n",
    "    x = ('History', 'Math', 'Physics', 'CompSci')\n",
    "    x[0] = 'Art'\n",
    "    print(x)\n",
    "except Exception as e:\n",
    "    print(e)"
   ]
  },
  {
   "cell_type": "code",
   "execution_count": 19,
   "metadata": {},
   "outputs": [
    {
     "name": "stdout",
     "output_type": "stream",
     "text": [
      "'tuple' object doesn't support item deletion\n"
     ]
    }
   ],
   "source": [
    "try:\n",
    "    x = ('History', 'Math', 'Physics', 'CompSci')\n",
    "    del x[0]\n",
    "    print(x)\n",
    "except Exception as e:\n",
    "    print(e)"
   ]
  },
  {
   "cell_type": "markdown",
   "metadata": {},
   "source": [
    "터플은 고칠 수없다. 하지만 터플에 들어있는 아이템이 mutable하다면 아이템은 고칠 수있다."
   ]
  },
  {
   "cell_type": "code",
   "execution_count": 20,
   "metadata": {},
   "outputs": [
    {
     "name": "stdout",
     "output_type": "stream",
     "text": [
      "([1, 2], 3)\n",
      "\n",
      "([1], 3)\n"
     ]
    }
   ],
   "source": [
    "x = ([1,2], 3)\n",
    "print(x)\n",
    "print()\n",
    "\n",
    "del x[0][1]\n",
    "print(x)"
   ]
  },
  {
   "cell_type": "code",
   "execution_count": 21,
   "metadata": {},
   "outputs": [
    {
     "name": "stdout",
     "output_type": "stream",
     "text": [
      "'str' object does not support item assignment\n"
     ]
    }
   ],
   "source": [
    "try:\n",
    "    a = 'Hello Kitty'\n",
    "    a[0] = 'h'\n",
    "    print(a)\n",
    "except Exception as e:\n",
    "    print(e)"
   ]
  },
  {
   "cell_type": "code",
   "execution_count": 23,
   "metadata": {},
   "outputs": [
    {
     "name": "stdout",
     "output_type": "stream",
     "text": [
      "HELLO KITTY\n",
      "Hello Kitty\n"
     ]
    }
   ],
   "source": [
    "a = 'Hello Kitty'\n",
    "print(a.upper())\n",
    "print(a)"
   ]
  },
  {
   "cell_type": "code",
   "execution_count": 24,
   "metadata": {},
   "outputs": [
    {
     "name": "stdout",
     "output_type": "stream",
     "text": [
      "HELLO KITTY\n"
     ]
    }
   ],
   "source": [
    "a = 'Hello Kitty'\n",
    "a = a.upper()\n",
    "print(a)"
   ]
  },
  {
   "cell_type": "markdown",
   "metadata": {},
   "source": [
    "[<a href=\"#Tuples\">Back to top</a>]"
   ]
  },
  {
   "cell_type": "markdown",
   "metadata": {},
   "source": [
    "# Tuple - Constructor"
   ]
  },
  {
   "cell_type": "markdown",
   "metadata": {},
   "source": [
    "리스트와 투플은 여러가지 다른 종류의 아이템을 담을 수 있는 유용한 용기이다.\n",
    "리스트와 투플은 여러가지 면에서 비슷한데, 가장 큰 차이는\n",
    "리스트는 포함하고 있는 아이템을 고칠 수 있는데 비하여\n",
    "투플은 고칠 수 없다."
   ]
  },
  {
   "cell_type": "code",
   "execution_count": 32,
   "metadata": {},
   "outputs": [
    {
     "name": "stdout",
     "output_type": "stream",
     "text": [
      "(2,)\n",
      "<class 'tuple'>\n",
      "1\n"
     ]
    }
   ],
   "source": [
    "if 0: \n",
    "    # empty tuple\n",
    "    x = tuple()\n",
    "elif 0: \n",
    "    # empty tuple\n",
    "    x = ()\n",
    "elif 0: \n",
    "    # explicit construction\n",
    "    x = ('a', 25, 'dog', 8.43)\n",
    "elif 0: \n",
    "    # list to tuple\n",
    "    temp = ['a', 25, 'dog', 8.43]\n",
    "    x = tuple(temp)\n",
    "elif 0: \n",
    "    # packing\n",
    "    x = 1, 2, 3\n",
    "elif 1: \n",
    "    # packing\n",
    "    x = 2,\n",
    "    \n",
    "print(x)\n",
    "print(type(x))\n",
    "print(len(x))"
   ]
  },
  {
   "cell_type": "markdown",
   "metadata": {},
   "source": [
    "[<a href=\"#Tuples\">Back to top</a>]"
   ]
  },
  {
   "cell_type": "markdown",
   "metadata": {},
   "source": [
    "# Tuple Comprehension as Generator"
   ]
  },
  {
   "cell_type": "code",
   "execution_count": 15,
   "metadata": {},
   "outputs": [
    {
     "name": "stdout",
     "output_type": "stream",
     "text": [
      "[0, 1, 4, 9, 16, 25, 36, 49]\n",
      "<class 'list'>\n"
     ]
    }
   ],
   "source": [
    "# list comprehension - list\n",
    "x = [m**2 for m in range(8)]\n",
    "\n",
    "print(x)\n",
    "print(type(x))"
   ]
  },
  {
   "cell_type": "code",
   "execution_count": 34,
   "metadata": {},
   "outputs": [
    {
     "name": "stdout",
     "output_type": "stream",
     "text": [
      "<generator object <genexpr> at 0x10fd6c3b8>\n",
      "<class 'generator'>\n",
      "0\n",
      "1\n",
      "4\n",
      "9\n",
      "16\n",
      "25\n",
      "36\n",
      "49\n"
     ]
    }
   ],
   "source": [
    "# tuple comprehension - generator\n",
    "x = (m**2 for m in range(8))\n",
    "\n",
    "print(x)\n",
    "print(type(x))\n",
    "\n",
    "for i in x:\n",
    "    print(i)"
   ]
  },
  {
   "cell_type": "markdown",
   "metadata": {},
   "source": [
    "[<a href=\"#Tuples\">Back to top</a>]"
   ]
  },
  {
   "cell_type": "markdown",
   "metadata": {},
   "source": [
    "# Indexing and Slicing"
   ]
  },
  {
   "cell_type": "code",
   "execution_count": 17,
   "metadata": {},
   "outputs": [
    {
     "name": "stdout",
     "output_type": "stream",
     "text": [
      "3\n",
      "3\n",
      "1\n",
      "1\n",
      "('ab', 'cd')\n",
      "('b', ('ab', 'cd'))\n"
     ]
    }
   ],
   "source": [
    "t1 = (1, 2, 3)\n",
    "t2 = 1, 2, 3  # 괄호를 생략해도 무방하다\n",
    "t3 = (1, )    # 한 개의 요소 만을 갖는 터플은 t2 = (1, )처럼 한 개의 요소와 그 뒤에 콤마(‘,’)를 넣어야 한다.\n",
    "t4 = 1,       \n",
    "t5 = ('a', 'b', ('ab', 'cd'))\n",
    "\n",
    "print(t1[2])\n",
    "print(t2[2]) \n",
    "print(t3[0]) \n",
    "print(t4[0])\n",
    "print(t5[2])\n",
    "print(t5[1:]) "
   ]
  },
  {
   "cell_type": "markdown",
   "metadata": {},
   "source": [
    "[<a href=\"#Tuples\">Back to top</a>]"
   ]
  },
  {
   "cell_type": "markdown",
   "metadata": {},
   "source": [
    "# Operations on Tuple"
   ]
  },
  {
   "cell_type": "markdown",
   "metadata": {},
   "source": [
    "<div align=\"center\"><img src=\"img/Screen Shot 2018-08-06 at 12.13.21 AM.png\" width=\"70%\"></div>\n",
    "\n",
    "Joe_James \n",
    "[youtube](https://www.youtube.com/watch?v=R-HLU9Fl5ug&index=9&list=PLj8W7XIvO93qsmdxbaDpIvM1KCyNO1K_c) \n",
    "[github](https://github.com/joeyajames/Python)"
   ]
  },
  {
   "cell_type": "markdown",
   "metadata": {},
   "source": [
    "[<a href=\"#Tuples\">Back to top</a>]"
   ]
  }
 ],
 "metadata": {
  "kernelspec": {
   "display_name": "Python 3",
   "language": "python",
   "name": "python3"
  },
  "language_info": {
   "codemirror_mode": {
    "name": "ipython",
    "version": 3
   },
   "file_extension": ".py",
   "mimetype": "text/x-python",
   "name": "python",
   "nbconvert_exporter": "python",
   "pygments_lexer": "ipython3",
   "version": "3.5.0"
  }
 },
 "nbformat": 4,
 "nbformat_minor": 2
}
