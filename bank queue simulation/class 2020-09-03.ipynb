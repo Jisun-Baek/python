{
 "cells": [
  {
   "cell_type": "code",
   "execution_count": 4,
   "metadata": {},
   "outputs": [
    {
     "name": "stdout",
     "output_type": "stream",
     "text": [
      "[1, 1, 3] <class 'list'> ['__add__', '__class__', '__contains__', '__delattr__', '__delitem__', '__dir__', '__doc__', '__eq__', '__format__', '__ge__', '__getattribute__', '__getitem__', '__gt__', '__hash__', '__iadd__', '__imul__', '__init__', '__init_subclass__', '__iter__', '__le__', '__len__', '__lt__', '__mul__', '__ne__', '__new__', '__reduce__', '__reduce_ex__', '__repr__', '__reversed__', '__rmul__', '__setattr__', '__setitem__', '__sizeof__', '__str__', '__subclasshook__', 'append', 'clear', 'copy', 'count', 'extend', 'index', 'insert', 'pop', 'remove', 'reverse', 'sort']\n",
      "(1, 1, 3) <class 'tuple'> ['__add__', '__class__', '__contains__', '__delattr__', '__dir__', '__doc__', '__eq__', '__format__', '__ge__', '__getattribute__', '__getitem__', '__getnewargs__', '__gt__', '__hash__', '__init__', '__init_subclass__', '__iter__', '__le__', '__len__', '__lt__', '__mul__', '__ne__', '__new__', '__reduce__', '__reduce_ex__', '__repr__', '__rmul__', '__setattr__', '__sizeof__', '__str__', '__subclasshook__', 'count', 'index']\n",
      "{1, 3} <class 'set'> ['__and__', '__class__', '__contains__', '__delattr__', '__dir__', '__doc__', '__eq__', '__format__', '__ge__', '__getattribute__', '__gt__', '__hash__', '__iand__', '__init__', '__init_subclass__', '__ior__', '__isub__', '__iter__', '__ixor__', '__le__', '__len__', '__lt__', '__ne__', '__new__', '__or__', '__rand__', '__reduce__', '__reduce_ex__', '__repr__', '__ror__', '__rsub__', '__rxor__', '__setattr__', '__sizeof__', '__str__', '__sub__', '__subclasshook__', '__xor__', 'add', 'clear', 'copy', 'difference', 'difference_update', 'discard', 'intersection', 'intersection_update', 'isdisjoint', 'issubset', 'issuperset', 'pop', 'remove', 'symmetric_difference', 'symmetric_difference_update', 'union', 'update']\n",
      "{'one': 1, 'two': 1, 'three': 3} <class 'dict'> ['__class__', '__contains__', '__delattr__', '__delitem__', '__dir__', '__doc__', '__eq__', '__format__', '__ge__', '__getattribute__', '__getitem__', '__gt__', '__hash__', '__init__', '__init_subclass__', '__iter__', '__le__', '__len__', '__lt__', '__ne__', '__new__', '__reduce__', '__reduce_ex__', '__repr__', '__setattr__', '__setitem__', '__sizeof__', '__str__', '__subclasshook__', 'clear', 'copy', 'fromkeys', 'get', 'items', 'keys', 'pop', 'popitem', 'setdefault', 'update', 'values']\n"
     ]
    }
   ],
   "source": [
    "a = [1,1,3]\n",
    "b = (1,1,3)\n",
    "c = {1,1,3}\n",
    "d = {'one': 1,'two': 1,'three': 3}\n",
    "print(a, type(a), dir(a))\n",
    "print(b, type(b), dir(b))\n",
    "print(c, type(c), dir(c))\n",
    "print(d, type(d), dir(d))"
   ]
  },
  {
   "cell_type": "code",
   "execution_count": 36,
   "metadata": {},
   "outputs": [
    {
     "name": "stdout",
     "output_type": "stream",
     "text": [
      "대기열 []\n",
      "데스크 1 []\n",
      "데스크 2 []\n",
      "데스크 3 []\n",
      "\n",
      "대기열 []\n",
      "데스크 1 [101]\n",
      "데스크 2 []\n",
      "데스크 3 []\n",
      "\n",
      "대기열 []\n",
      "데스크 1 [101]\n",
      "데스크 2 [102]\n",
      "데스크 3 []\n",
      "\n",
      "대기열 []\n",
      "데스크 1 [101]\n",
      "데스크 2 [102]\n",
      "데스크 3 [103]\n",
      "\n",
      "대기열 [104]\n",
      "데스크 1 [101]\n",
      "데스크 2 [102]\n",
      "데스크 3 [103]\n",
      "\n",
      "대기열 [104, 105]\n",
      "데스크 1 [101]\n",
      "데스크 2 [102]\n",
      "데스크 3 [103]\n",
      "\n",
      "대기열 [104, 105, 106]\n",
      "데스크 1 [101]\n",
      "데스크 2 [102]\n",
      "데스크 3 [103]\n",
      "\n",
      "대기열 [104, 105, 106, 107]\n",
      "데스크 1 [101]\n",
      "데스크 2 [102]\n",
      "데스크 3 [103]\n",
      "\n",
      "대기열 [104, 105, 106, 107, 108]\n",
      "데스크 1 [101]\n",
      "데스크 2 [102]\n",
      "데스크 3 [103]\n",
      "\n",
      "대기열 [104, 105, 106, 107, 108, 109]\n",
      "데스크 1 [101]\n",
      "데스크 2 [102]\n",
      "데스크 3 [103]\n",
      "\n"
     ]
    }
   ],
   "source": [
    "q = []\n",
    "d1 = []\n",
    "d2 = []\n",
    "d3 = []\n",
    "\n",
    "print('대기열', q)\n",
    "print('데스크 1', d1)\n",
    "print('데스크 2', d2)\n",
    "print('데스크 3', d3)\n",
    "print()\n",
    "\n",
    "for i in range(101,109+1):\n",
    "    q.append(i)\n",
    "    if len(d1) == 0:\n",
    "        d1.append(q[0])\n",
    "        q.pop(0)\n",
    "    elif len(d2) == 0:\n",
    "        d2.append(q[0])\n",
    "        q.pop(0)\n",
    "    elif len(d3) == 0:\n",
    "        d3.append(q[0])\n",
    "        q.pop(0)\n",
    "    print('대기열', q)\n",
    "    print('데스크 1', d1)\n",
    "    print('데스크 2', d2)\n",
    "    print('데스크 3', d3)\n",
    "    print()"
   ]
  },
  {
   "cell_type": "code",
   "execution_count": 51,
   "metadata": {},
   "outputs": [
    {
     "name": "stdout",
     "output_type": "stream",
     "text": [
      "데스크 3 빔\n"
     ]
    }
   ],
   "source": [
    "import random\n",
    "a = ['데스크 1 빔', '데스크 2 빔', '데스크 3 빔', '손님', '손님', '손님', '손님', '손님']\n",
    "print(random.choice(a))"
   ]
  },
  {
   "cell_type": "code",
   "execution_count": null,
   "metadata": {},
   "outputs": [],
   "source": []
  }
 ],
 "metadata": {
  "kernelspec": {
   "display_name": "Python 3",
   "language": "python",
   "name": "python3"
  },
  "language_info": {
   "codemirror_mode": {
    "name": "ipython",
    "version": 3
   },
   "file_extension": ".py",
   "mimetype": "text/x-python",
   "name": "python",
   "nbconvert_exporter": "python",
   "pygments_lexer": "ipython3",
   "version": "3.7.7"
  }
 },
 "nbformat": 4,
 "nbformat_minor": 2
}
